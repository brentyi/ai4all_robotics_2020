{
 "cells": [
  {
   "cell_type": "markdown",
   "metadata": {},
   "source": [
    "<header style=\"padding: 4em 0 0em 0\">\n",
    "    <img src=\"https://ai4all.spcs.stanford.edu/sites/default/files/domain-logos/ai4all_spcs_stanford_edu/AI_1Ln_RGB.svg\" style=\"width: 30em; height: auto;\" />\n",
    "    <h3 style=\"margin: 1em 0 0 0;\">\n",
    "        <strong>Computer Vision I</strong>\n",
    "        <span style=\"color: #777\">\n",
    "        &nbsp;&blacksquare;&nbsp;\n",
    "        Robotics, Summer 2020</span>\n",
    "    </h3>\n",
    "</header>"
   ]
  },
  {
   "cell_type": "markdown",
   "metadata": {},
   "source": [
    "<hr style=\"border: 0.2em solid #eee;\" />\n",
    "\n",
    "Today, we'll kick off our Computer Vision unit by learning to work with images!\n",
    "\n",
    "Our core goals will be to:\n",
    "1. Get familiar with **NumPy**, a powerful library for working with numbers in Python\n",
    "2. Explore and visualize image representations: **Grayscale**, **RGB**, and **HSL**\n",
    "3. Use NumPy to implement some image processing algorithms: **cropping**, **resizing**, and **blurring**\n",
    "\n",
    "<hr style=\"border: 0.2em solid #eee;\" />"
   ]
  },
  {
   "cell_type": "markdown",
   "metadata": {},
   "source": [
    "## 1. Getting Started With NumPy"
   ]
  },
  {
   "cell_type": "markdown",
   "metadata": {},
   "source": [
    "Before we start using NumPy, we need to import it! Run the cell below to do just that:"
   ]
  },
  {
   "cell_type": "code",
   "execution_count": 219,
   "metadata": {},
   "outputs": [],
   "source": [
    "import numpy as np"
   ]
  },
  {
   "cell_type": "markdown",
   "metadata": {},
   "source": [
    "### a) Code Study\n",
    "\n",
    "The primary feature of NumPy is the **NumPy array** &mdash; a versatile way to work with collections of numbers in Python.\n",
    "\n",
    "In many ways, these are very similar to the native Python `list` collection, which we looked at last week. A big chunk of the syntax is actually identical! Let's walk through a couple of examples where this is true:\n"
   ]
  },
  {
   "cell_type": "code",
   "execution_count": 220,
   "metadata": {},
   "outputs": [
    {
     "name": "stdout",
     "output_type": "stream",
     "text": [
      "list_numbers = [1, 2, 3, 4]\n",
      "array_numbers = [1 2 3 4]\n",
      "\n",
      "list_numbers[0] = 1\n",
      "array_numbers[0] = 1\n",
      "\n",
      "list_numbers[1:3] = [2, 3]\n",
      "array_numbers[1:3] = [2 3]\n",
      "\n",
      "len(list_numbers) = 4\n",
      "len(array_numbers) = 4\n",
      "\n",
      "Iterating over list:\n",
      "> 1\n",
      "> 2\n",
      "> 3\n",
      "> 4\n",
      "Iterating over array:\n",
      "> 1\n",
      "> 2\n",
      "> 3\n",
      "> 4\n"
     ]
    }
   ],
   "source": [
    "# Create two sets of numbers: one as a native list, and the other as a NumPy array\n",
    "list_numbers = [1, 2, 3, 4]\n",
    "array_numbers = np.array([1, 2, 3, 4])\n",
    "\n",
    "# Print each set of numbers: they should look the same!\n",
    "print(\"list_numbers =\", list_numbers)\n",
    "print(\"array_numbers =\", array_numbers)\n",
    "print()\n",
    "\n",
    "# Index into each collection of numbers\n",
    "print(\"list_numbers[0] =\", list_numbers[0])\n",
    "print(\"array_numbers[0] =\", array_numbers[0])\n",
    "print()\n",
    "\n",
    "# Grab a \"slice\" of each collection of numbers\n",
    "print(\"list_numbers[1:3] =\", list_numbers[1:3])\n",
    "print(\"array_numbers[1:3] =\", array_numbers[1:3])\n",
    "print()\n",
    "\n",
    "# Get the lengths of each collection\n",
    "print(\"len(list_numbers) =\", len(list_numbers))\n",
    "print(\"len(array_numbers) =\", len(array_numbers))\n",
    "print()\n",
    "\n",
    "# Iterate over each collection\n",
    "print(\"Iterating over list:\")\n",
    "for number in list_numbers:\n",
    "    print(\">\", number)\n",
    "\n",
    "print(\"Iterating over array:\")\n",
    "for number in array_numbers:\n",
    "    print(\">\", number)"
   ]
  },
  {
   "cell_type": "markdown",
   "metadata": {},
   "source": [
    "---\n",
    "\n",
    "Okay &mdash; so if lists and arrays are so similar, why would we ever want to use arrays?\n",
    "\n",
    "Let's answer this question with a few code studies! Feel free to modify each code block as needed: change numbers, add print statements, anything you want."
   ]
  },
  {
   "cell_type": "markdown",
   "metadata": {},
   "source": [
    "<span style=\"color: #a00; font-weight: 800;\">Checkoff #1: Element-wise Square</span>"
   ]
  },
  {
   "cell_type": "code",
   "execution_count": 221,
   "metadata": {},
   "outputs": [],
   "source": [
    "a = np.array([1, 2, 3, 4])\n",
    "b = a ** 2"
   ]
  },
  {
   "cell_type": "markdown",
   "metadata": {},
   "source": [
    "What are the values of `a` and `b` after this block of code has been run?\n",
    "\n",
    "How would you implement this if `a` is instead defined as a native Python list?\n",
    "\n",
    "> *Your answer here!*"
   ]
  },
  {
   "cell_type": "markdown",
   "metadata": {},
   "source": [
    "<span style=\"color: #a00; font-weight: 800;\">Checkoff #2: Element-wise Summation</span>"
   ]
  },
  {
   "cell_type": "code",
   "execution_count": 222,
   "metadata": {},
   "outputs": [],
   "source": [
    "a = np.array([1, 2, 3, 4])\n",
    "b = np.array([0, 1, 0, 2])\n",
    "c = a + b\n",
    "d = c + 2"
   ]
  },
  {
   "cell_type": "markdown",
   "metadata": {},
   "source": [
    "\n",
    "What are the values of `a`, `b`, `c`, `d` after this block of code has been run?\n",
    "\n",
    "How would you implement this with native Python lists?\n",
    "\n",
    "> *Your answer here!*\n"
   ]
  },
  {
   "cell_type": "markdown",
   "metadata": {},
   "source": [
    "<span style=\"color: #a00; font-weight: 800;\">Checkoff #3: Multi-dimensional Arrays</span>"
   ]
  },
  {
   "cell_type": "code",
   "execution_count": 223,
   "metadata": {},
   "outputs": [],
   "source": [
    "a = np.zeros(shape=(5, 5))\n",
    "a[0:2, 0:2] = 1\n",
    "a[4, 4] = 2\n",
    "\n",
    "b = np.ones(shape=(2, 2, 3))\n",
    "\n",
    "c = np.sum(a)"
   ]
  },
  {
   "cell_type": "markdown",
   "metadata": {},
   "source": [
    "What are the values of `a`, `b`, and `c` after this block of code has been run?\n",
    "\n",
    "How many numbers do each hold?\n",
    "\n",
    "How would you implement this with native Python lists?\n",
    "\n",
    "> *Your answer here!*"
   ]
  },
  {
   "cell_type": "markdown",
   "metadata": {},
   "source": [
    "---\n",
    "\n",
    "### b) NumPy Exercise"
   ]
  },
  {
   "attachments": {
    "3404db1c-994d-4b0b-b9ea-8a4c680a3888.png": {
     "image/png": "[encoded data removed]"
    }
   },
   "cell_type": "markdown",
   "metadata": {},
   "source": [
    "To wrap up our overview of NumPy, let's implement something fun &mdash; a fast function for computing the Euclidean distance between two points!\n",
    "\n",
    "In the 2-dimensional case, computing the Euclidean distance is equivalent to solving the Pythagorean theorem $c = \\sqrt{a^2 + b^2}$:\n",
    "\n",
    "![image.png](attachment:3404db1c-994d-4b0b-b9ea-8a4c680a3888.png)\n",
    "\n",
    "Given two $n$-dimensional vectors, the Euclidean distance can be computed by:\n",
    "\n",
    "1. Performing an elementwise subtraction between the two vectors, to get $n$ difference values\n",
    "2. Squaring each of the $n$ difference values, and summing the squares\n",
    "4. Taking the square root of our sum\n",
    "\n",
    "In mathematical terms, the distance between length-$n$ vectors $u$ and $v$ can be written as:\n",
    "\n",
    "$\n",
    "\\quad\\textbf{distance}(u, v) = \\sqrt{\\sum_{i=1}^n (u_i - v_i)^2}\n",
    "$\n",
    "\n",
    "\n",
    "Try implementing this in `euclidean_distance_numpy()`!\n",
    "\n",
    "To evaluate your results, we've provided a distance computation function, `euclidean_distance_native()`, that runs on standard Python lists."
   ]
  },
  {
   "cell_type": "code",
   "execution_count": 224,
   "metadata": {},
   "outputs": [],
   "source": [
    "def euclidean_distance_native(u, v):\n",
    "    # First, run some checks:\n",
    "    assert isinstance(u, list)\n",
    "    assert isinstance(v, list)\n",
    "    assert len(u) == len(v)\n",
    "\n",
    "    # Compute the distance!\n",
    "    squared_distance = 0.0\n",
    "    for i in range(len(u)):\n",
    "        # Note that '**' is the exponent operator\n",
    "        difference = u[i] - v[i]\n",
    "        squared_distance += difference ** 2\n",
    "    return squared_distance ** 0.5"
   ]
  },
  {
   "cell_type": "code",
   "execution_count": 225,
   "metadata": {},
   "outputs": [],
   "source": [
    "def euclidean_distance_numpy(u, v):\n",
    "    # First, run some checks:\n",
    "    assert isinstance(u, np.ndarray)\n",
    "    assert isinstance(v, np.ndarray)\n",
    "    assert u.shape == v.shape\n",
    "\n",
    "    # Compute the distance!\n",
    "    # Note:\n",
    "    #  1) You shouldn't need any loops\n",
    "    #  2) Some functions that might be useful: np.sqrt(), np.sum()\n",
    "\n",
    "    # ~~START DELETE~~\n",
    "    return np.sqrt(np.sum((u - v) ** 2))\n",
    "    # ~~END DELETE~~"
   ]
  },
  {
   "cell_type": "markdown",
   "metadata": {},
   "source": [
    "---\n",
    "\n",
    "Once you've implemented this algorithm, let's check that it works!\n",
    "\n",
    "First, verify that your distance implementation gets the same results as ours:"
   ]
  },
  {
   "cell_type": "code",
   "execution_count": 226,
   "metadata": {},
   "outputs": [
    {
     "name": "stdout",
     "output_type": "stream",
     "text": [
      "Correct: 5.0\n",
      "Yours: 5.0\n",
      "\n",
      "Correct: 6.164414002968976\n",
      "Yours: 6.164414002968976\n",
      "\n"
     ]
    }
   ],
   "source": [
    "# Check 2D case\n",
    "a = [0.0, 0.0]\n",
    "b = [3.0, 4.0]\n",
    "a_array = np.array(a)\n",
    "b_array = np.array(b)\n",
    "\n",
    "print(\"Correct:\", euclidean_distance_native(a, b))\n",
    "print(\"Yours:\", euclidean_distance_numpy(a_array, b_array))\n",
    "print()\n",
    "\n",
    "# Check 3D case\n",
    "a = [1.0, 2.0, 3.0]\n",
    "b = [4.0, 7.0, 1.0]\n",
    "a_array = np.array(a)\n",
    "b_array = np.array(b)\n",
    "\n",
    "print(\"Correct:\", euclidean_distance_native(a, b))\n",
    "print(\"Yours:\", euclidean_distance_numpy(a_array, b_array))\n",
    "print()"
   ]
  },
  {
   "cell_type": "markdown",
   "metadata": {},
   "source": [
    "---\n",
    "Next, let's try timing it -- how do these two implementations compare in terms of runtime?"
   ]
  },
  {
   "cell_type": "code",
   "execution_count": 228,
   "metadata": {},
   "outputs": [
    {
     "name": "stdout",
     "output_type": "stream",
     "text": [
      "euclidean_distance_native runtime (milliseconds):  19.573211669921875\n",
      "euclidean_distance_numpy runtime (milliseconds):  20.931005477905273\n"
     ]
    }
   ],
   "source": [
    "n = 100\n",
    "\n",
    "# Create some n-dimensional arrays\n",
    "a = [0.0] * n\n",
    "b = [10.0] * n\n",
    "a_array = np.array(a)\n",
    "b_array = np.array(b)\n",
    "\n",
    "# Compute runtime for native implementation\n",
    "# Start by grabbing the current time in seconds\n",
    "start_time = time.time()\n",
    "for i in range(1000):\n",
    "    euclidean_distance_native(a, b)\n",
    "print(\n",
    "    \"euclidean_distance_native runtime (milliseconds): \",\n",
    "    (time.time() - start_time) * 1000.0,\n",
    ")\n",
    "\n",
    "# Compute runtime for numpy implementation\n",
    "# Start by grabbing the current time in seconds\n",
    "start_time = time.time()\n",
    "for i in range(1000):\n",
    "    euclidean_distance_numpy(a_array, b_array)\n",
    "print(\n",
    "    \"euclidean_distance_numpy runtime (milliseconds): \",\n",
    "    (time.time() - start_time) * 1000.0,\n",
    ")"
   ]
  },
  {
   "cell_type": "markdown",
   "metadata": {},
   "source": [
    "---"
   ]
  },
  {
   "cell_type": "code",
   "execution_count": null,
   "metadata": {},
   "outputs": [],
   "source": []
  },
  {
   "cell_type": "code",
   "execution_count": null,
   "metadata": {},
   "outputs": [],
   "source": []
  },
  {
   "cell_type": "code",
   "execution_count": null,
   "metadata": {},
   "outputs": [],
   "source": []
  }
 ],
 "metadata": {
  "kernelspec": {
   "display_name": "Python 3",
   "language": "python",
   "name": "python3"
  },
  "language_info": {
   "codemirror_mode": {
    "name": "ipython",
    "version": 3
   },
   "file_extension": ".py",
   "mimetype": "text/x-python",
   "name": "python",
   "nbconvert_exporter": "python",
   "pygments_lexer": "ipython3",
   "version": "3.7.6"
  }
 },
 "nbformat": 4,
 "nbformat_minor": 4
}
