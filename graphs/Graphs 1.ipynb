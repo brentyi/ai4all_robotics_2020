{
 "cells": [
  {
   "cell_type": "markdown",
   "metadata": {},
   "source": [
    "<header style=\"padding: 4em 0 0em 0\">\n",
    "    <img src=\"http://brentyi.github.io/filestore/ai4all_logo.svg\" style=\"width: 30em; height: auto; margin: 0;\" />\n",
    "    <h3 style=\"margin: 1em 0 0 0;\">\n",
    "        <strong>Graphs I</strong>\n",
    "        <span style=\"color: #777\">\n",
    "        &nbsp;&blacksquare;&nbsp;\n",
    "        Robotics, Summer 2020</span>\n",
    "    </h3>\n",
    "</header>"
   ]
  },
  {
   "cell_type": "markdown",
   "metadata": {},
   "source": [
    "<hr style=\"border-top: 0.4em solid #eee;\" />\n",
    "\n",
    "In this notebook, we'll take a whirlwind tour of graphs and graph search algorithms.\n",
    "\n",
    "Our core goals will be to:\n",
    "1. Understand how to go satelite images can correspond to 2D **NumPy** arrays.\n",
    "2. Understand how fly-zone constraints can induce a traversable graph on these maps.\n",
    "3. Implement the breadth-first-search algorithm to route drones.\n",
    "\n",
    "<hr style=\"border-top: 0.4em solid #eee;\" />"
   ]
  },
  {
   "cell_type": "code",
   "execution_count": 1,
   "metadata": {},
   "outputs": [],
   "source": [
    "import numpy as np\n",
    "from graph_helpers import visualize_adjacency, visualize_map, visualize_costs, visualize_path"
   ]
  },
  {
   "cell_type": "markdown",
   "metadata": {},
   "source": [
    "## 1. Map to Matrix"
   ]
  },
  {
   "cell_type": "markdown",
   "metadata": {},
   "source": [
    "<p>First, let's remember that we are taking a map like this:</p>\n",
    "<img src=\"graph_assets/stanford.png\" width=500 style=\"margin-left: 50px\" />\n",
    "<p>And we grid it up like this:</p>\n",
    "<img src=\"graph_assets/stanford_grid.png\" width=500 style=\"margin-left: 50px\" />"
   ]
  },
  {
   "cell_type": "markdown",
   "metadata": {},
   "source": [
    "This looks like a two dimensional array, right?\n",
    "\n",
    "Let's create a rectangular array with zeros."
   ]
  },
  {
   "cell_type": "code",
   "execution_count": 2,
   "metadata": {},
   "outputs": [
    {
     "data": {
      "image/png": "[encoded data removed]",
      "text/plain": [
       "<Figure size 432x288 with 1 Axes>"
      ]
     },
     "metadata": {
      "needs_background": "light"
     },
     "output_type": "display_data"
    }
   ],
   "source": [
    "a = np.zeros((15, 20))\n",
    "visualize_map(\"Empty Map\", a)"
   ]
  },
  {
   "cell_type": "markdown",
   "metadata": {},
   "source": [
    "Why is it red? Well, we want the value `a[i, j]` to encode something about that cell.\n",
    "\n",
    "When we were working with images, each cell had 3 numbers (in the case of RGB or HSL), but now it has one.\n",
    "\n",
    "We decide what that number means. Here we are saying, visualize 0 as red!"
   ]
  },
  {
   "cell_type": "markdown",
   "metadata": {},
   "source": [
    "Now let's see what color 1 is visualized as:"
   ]
  },
  {
   "cell_type": "code",
   "execution_count": 3,
   "metadata": {},
   "outputs": [],
   "source": [
    "b = np.zeros((15, 20))\n",
    "b[0, 0] = 1"
   ]
  },
  {
   "cell_type": "code",
   "execution_count": 4,
   "metadata": {},
   "outputs": [
    {
     "data": {
      "image/png": "[encoded data removed]",
      "text/plain": [
       "<Figure size 432x288 with 1 Axes>"
      ]
     },
     "metadata": {
      "needs_background": "light"
     },
     "output_type": "display_data"
    }
   ],
   "source": [
    "visualize_map(\"Empty Map with one green cell\", b)"
   ]
  },
  {
   "cell_type": "markdown",
   "metadata": {},
   "source": [
    "Here we are saying to visualize the number 1 as green!"
   ]
  },
  {
   "cell_type": "markdown",
   "metadata": {},
   "source": [
    "We can change the colors that are shown by the `visualize_map` function via the `cmap` named argument.\n",
    "\n",
    "Let's flip the colors:"
   ]
  },
  {
   "cell_type": "code",
   "execution_count": 5,
   "metadata": {},
   "outputs": [
    {
     "data": {
      "image/png": "[encoded data removed]",
      "text/plain": [
       "<Figure size 432x288 with 1 Axes>"
      ]
     },
     "metadata": {
      "needs_background": "light"
     },
     "output_type": "display_data"
    }
   ],
   "source": [
    "def flipped_cmap(x):\n",
    "    if x == 0:\n",
    "        return [0, 255, 0]\n",
    "    else:\n",
    "        return [255, 0, 0]\n",
    "\n",
    "visualize_map(\"Empty Map with one green cell\", b, cmap=flipped_cmap)"
   ]
  },
  {
   "cell_type": "markdown",
   "metadata": {},
   "source": [
    "Ok! So we have a \"map\" which is a numpy array and cells can be 0 or 1. We can visualize it.\n",
    "\n",
    "Now let's go back to green and red, and use these to visualize where we can fly.\n",
    "\n",
    "Think about green for grass and red for lava. We can walk on grass, but not on lava!"
   ]
  },
  {
   "cell_type": "markdown",
   "metadata": {},
   "source": [
    "## 2. Types of Cells\n",
    "\n",
    "<p>Suppose the following cells, indicated with a red dot are \"flyable\":</p>\n",
    "<img src=\"graph_assets/stanford_grid_flyable.png\" width=500 style=\"margin-left: 50px\" />\n"
   ]
  },
  {
   "cell_type": "markdown",
   "metadata": {},
   "source": [
    "Let's visualize this flyable zone as green, and the unflyable as red"
   ]
  },
  {
   "cell_type": "code",
   "execution_count": 6,
   "metadata": {},
   "outputs": [
    {
     "data": {
      "image/png": "[encoded data removed]",
      "text/plain": [
       "<Figure size 432x288 with 1 Axes>"
      ]
     },
     "metadata": {
      "needs_background": "light"
     },
     "output_type": "display_data"
    }
   ],
   "source": [
    "stanford_map = np.zeros((15, 20))\n",
    "stanford_map[0, 9:11] = 1\n",
    "stanford_map[1, 8:10] = 1\n",
    "stanford_map[2, 8:10] = 1\n",
    "stanford_map[3, 7:9] = 1\n",
    "stanford_map[4, 7:9] = 1\n",
    "stanford_map[5, 7:8] = 1\n",
    "stanford_map[6, 6:8] = 1\n",
    "stanford_map[7, 6:8] = 1\n",
    "stanford_map[8, 4:8] = 1\n",
    "visualize_map(\"Stanford Flyable Zones\", stanford_map)"
   ]
  },
  {
   "cell_type": "markdown",
   "metadata": {},
   "source": [
    "So now we have a representation for a map.\n",
    "\n",
    "Remember, we want to do search in this map, so now we will construct a graph."
   ]
  },
  {
   "cell_type": "markdown",
   "metadata": {},
   "source": [
    "## 3. Constructing the graph\n",
    "\n",
    "\n",
    "<p>Since we can only fly in between flyable cells, we are going cells we can fly in as connected, and that induces an undirected graph!<p>\n",
    "<img src=\"graph_assets/stanford_grid_flyable_connected.png\" width=500 style=\"margin-left: 50px\" />"
   ]
  },
  {
   "cell_type": "markdown",
   "metadata": {},
   "source": [
    "Let's get the adjacency matrix \n",
    "\n",
    "### a) Adjacency matrix review\n",
    "\n",
    "Remember, adjacency matrices are two-dimensional numpy arrays. They are always square!\n",
    "\n",
    "They have values which are either 0 or 1!\n",
    "\n",
    "If the entry `i,j` is 1 that means there is an edge from `i` to `j`.\n",
    "\n",
    "For undirected graphs, adjacency matrices are always symmetric! "
   ]
  },
  {
   "cell_type": "markdown",
   "metadata": {},
   "source": [
    "<div style=\"color: #a00; font-weight: 800; padding: 1em 0; border-top: 0.4em solid #eee;\">Checkoff: Adjacency Matrix Concept</div>\n",
    "\n",
    "What is an adjacency matrix?\n",
    "\n",
    " * How do `1`s and `0`s correspond to edges in an undirected graph?\n",
    " * If our map is `m` by `n`, what is the size of the adjacency matrix?\n",
    "\n",
    "> *Your response here!*"
   ]
  },
  {
   "cell_type": "markdown",
   "metadata": {},
   "source": [
    "### b) Indexing\n",
    "\n",
    "As the first piece, we need to think about how label the nodes of our graph. Since each cell in our `m` by `n` grid corresponds to a vertex, our graph has `mn` nodes!\n",
    "\n",
    "Let's index vertices from left to right, top to bottom. So the top left cell is vertex 0 and the cell below it is vertex `m`. The cell below and to the right of the top left cell is vertex `m+1`."
   ]
  },
  {
   "cell_type": "markdown",
   "metadata": {},
   "source": [
    "<div style=\"color: #a00; font-weight: 800; padding: 1em 0; border-top: 0.4em solid #eee;\">Checkoff: Vertices from Cells</div>\n",
    "Complete the following function, `vertex_of_cell`, which gets the vertex label from "
   ]
  },
  {
   "cell_type": "code",
   "execution_count": 7,
   "metadata": {},
   "outputs": [],
   "source": [
    "def vertex_of_cell(M, i, j):\n",
    "    \"\"\"Get the vertex of a cell\n",
    "\n",
    "    Args:\n",
    "        M (np.ndarray): the map we are working with.\n",
    "        i (int): the row index.\n",
    "        j (int): the column index.\n",
    "    \"\"\"\n",
    "    m, n = M.shape\n",
    "    # YOUR CODE HERE\n",
    "    # ~~START DELETE~~\n",
    "    return n * i + j\n",
    "    # ~~END DELETE~~"
   ]
  },
  {
   "cell_type": "markdown",
   "metadata": {},
   "source": [
    "<div style=\"color: #a00; font-weight: 800; padding: 1em 0; border-top: 0.4em solid #eee;\">Checkoff: Cells from Vertices</div>\n",
    "Now let's go the other direction, given a vertex let's get what indices it corresponds to in the map.\n",
    "\n",
    "Complete the function `cell_of_vertex` which maps the vertex index to the cell indices!"
   ]
  },
  {
   "cell_type": "code",
   "execution_count": 8,
   "metadata": {},
   "outputs": [],
   "source": [
    "def cell_of_vertex(M, k):\n",
    "    \"\"\"Get cell corresponding to the vertex.\n",
    "\n",
    "    Args:\n",
    "        M (np.ndarray): the map we are working with.\n",
    "        i (int): the row index.\n",
    "        j (int): the column index.\n",
    "    \"\"\"\n",
    "    m, n = M.shape\n",
    "    \n",
    "    # YOUR CODE HERE\n",
    "    # ~~START DELETE~~\n",
    "    return (k//n, k%n)\n",
    "    # ~~END DELETE~~"
   ]
  },
  {
   "cell_type": "markdown",
   "metadata": {},
   "source": [
    "### c) Implementation\n",
    "\n",
    "Now let's actually construct the adjacency matrix. Two vertices will be connected if they are each flyable!"
   ]
  },
  {
   "cell_type": "markdown",
   "metadata": {},
   "source": [
    "<div style=\"color: #a00; font-weight: 800; padding: 1em 0; border-top: 0.4em solid #eee;\">Checkoff: Constructing adjacency matrix from map</div>\n",
    "\n",
    "Complete the function `adjacency_matrix`"
   ]
  },
  {
   "cell_type": "code",
   "execution_count": 9,
   "metadata": {},
   "outputs": [],
   "source": [
    "def adjacency_matrix(M, flyable=1):\n",
    "    \"\"\"Visualize a 2D array using matplotlib.\n",
    "    All inputs values should be normalized 0.0-1.0.\n",
    "\n",
    "    Args:\n",
    "        M (np.ndarray): the map we are working with.\n",
    "        flyable (int): what number indicates a flyable cell; defauls to 1.\n",
    "    \"\"\"\n",
    "    # Size of map\n",
    "    m, n = M.shape\n",
    "    \n",
    "    # Number of vertices\n",
    "    o = m * n\n",
    "    \n",
    "    # A for *A*djacency matrix\n",
    "    A = np.zeros((o, o))\n",
    "    \n",
    "    # YOUR CODE HERE\n",
    "    # ~~START DELETE~~\n",
    "\n",
    "    for i in range(0, m):\n",
    "        for j in range(0, n):\n",
    "            \n",
    "            # check up\n",
    "            if i != 0 and M[i, j] == flyable and M[i-1, j] == flyable:\n",
    "                A[vertex_of_cell(M, i, j), vertex_of_cell(M, i-1, j)] = 1.\n",
    "                    \n",
    "            # check left\n",
    "            if j != 0 and M[i, j] == flyable and M[i, j-1] == flyable:\n",
    "                A[vertex_of_cell(M, i, j), vertex_of_cell(M, i, j-1)] = 1.\n",
    "            \n",
    "            # check down\n",
    "            if i != m-1 and M[i, j] == flyable and M[i+1, j] == flyable:\n",
    "                A[vertex_of_cell(M, i, j), vertex_of_cell(M, i+1, j)] = 1.\n",
    "               \n",
    "            # check right\n",
    "            if j != n-1 and M[i, j] == flyable and M[i, j+1] == flyable:\n",
    "                A[vertex_of_cell(M, i, j), vertex_of_cell(M, i, j+1)] = 1.\n",
    "                \n",
    "    # ~~END DELETE~~\n",
    "    \n",
    "    return A    "
   ]
  },
  {
   "cell_type": "code",
   "execution_count": 10,
   "metadata": {},
   "outputs": [],
   "source": [
    "stanford_adjacency = adjacency_matrix(stanford_map)"
   ]
  },
  {
   "cell_type": "markdown",
   "metadata": {},
   "source": [
    "<div style=\"color: #a00; font-weight: 800; padding: 1em 0; border-top: 0.4em solid #eee;\">Checkoff: Adjacency Matrix</div>\n",
    "\n",
    "Run the following code cell to visualize the entries, what do you see?\n",
    "\n",
    "> *Your response here!*"
   ]
  },
  {
   "cell_type": "code",
   "execution_count": 11,
   "metadata": {},
   "outputs": [
    {
     "data": {
      "text/plain": [
       "<matplotlib.image.AxesImage at 0x1118b8b50>"
      ]
     },
     "execution_count": 11,
     "metadata": {},
     "output_type": "execute_result"
    },
    {
     "data": {
      "image/png": "[encoded data removed]",
      "text/plain": [
       "<Figure size 504x504 with 1 Axes>"
      ]
     },
     "metadata": {
      "needs_background": "light"
     },
     "output_type": "display_data"
    }
   ],
   "source": [
    "import matplotlib.pyplot as plt\n",
    "plt.figure(figsize=(7, 7))\n",
    "plt.imshow(stanford_adjacency)"
   ]
  },
  {
   "cell_type": "markdown",
   "metadata": {},
   "source": [
    "<div style=\"color: #a00; font-weight: 800; padding: 1em 0; border-top: 0.4em solid #eee;\">Checkoff: Graph on map visualization</div>\n",
    "\n",
    "The `visualize_map` function can also take an adjacency matrix to visualize via the named `A` argument.\n",
    "\n",
    "Run the following code cell to visualize it, what do you see? Is this harder or easier to interpret than the adjacency matrix itself?\n",
    "\n",
    "> *Your response here!*"
   ]
  },
  {
   "cell_type": "code",
   "execution_count": 12,
   "metadata": {},
   "outputs": [
    {
     "data": {
      "image/png": "[encoded data removed]",
      "text/plain": [
       "<Figure size 432x288 with 1 Axes>"
      ]
     },
     "metadata": {
      "needs_background": "light"
     },
     "output_type": "display_data"
    }
   ],
   "source": [
    "visualize_map(\"Stanford Flyable Zones Connected\", stanford_map, A=stanford_adjacency)"
   ]
  },
  {
   "cell_type": "markdown",
   "metadata": {},
   "source": [
    "## 4. Finding Neighbors\n",
    "\n",
    "a) Neighbors\n",
    "\n",
    "The set neighbors of a node in an undirected graph are those nodes which are connected to it by an edge!\n",
    "\n",
    "Let's write a function that get's the neighbors of vertices"
   ]
  },
  {
   "cell_type": "markdown",
   "metadata": {},
   "source": [
    "<div style=\"color: #a00; font-weight: 800; padding: 1em 0; border-top: 0.4em solid #eee;\">Checkoff: Neighbors</div>\n",
    "\n",
    "Complete the following function to get the neighbors of vertex `k`"
   ]
  },
  {
   "cell_type": "code",
   "execution_count": 13,
   "metadata": {},
   "outputs": [],
   "source": [
    "def neighbors(A, k):\n",
    "    \"\"\"Get the neighbors of vertex `i`\n",
    "    \n",
    "    Args:\n",
    "        A (np.ndarray): Adjacency matrix\n",
    "        i (int): vertex we care about.\n",
    "    \"\"\"\n",
    "    assert len(A.shape) == 2\n",
    "    assert A.shape[0] == A.shape[1]\n",
    "    \n",
    "    # we have o vertices\n",
    "    o = A.shape[0]\n",
    "    assert k < o\n",
    "    \n",
    "    # ~~START DELETE~~\n",
    "    return [j for j in range(o) if A[k, j] == 1] \n",
    "    # ~~END DELETE~~"
   ]
  },
  {
   "cell_type": "markdown",
   "metadata": {},
   "source": [
    "Does vertex 0, the top left have any neighbors?"
   ]
  },
  {
   "cell_type": "code",
   "execution_count": 14,
   "metadata": {},
   "outputs": [],
   "source": [
    "assert neighbors(stanford_adjacency, 0) == []"
   ]
  },
  {
   "cell_type": "markdown",
   "metadata": {},
   "source": [
    "Does vertex 29?"
   ]
  },
  {
   "cell_type": "code",
   "execution_count": 15,
   "metadata": {},
   "outputs": [],
   "source": [
    "assert neighbors(stanford_adjacency, 29) == [9, 28, 49]"
   ]
  },
  {
   "cell_type": "markdown",
   "metadata": {},
   "source": [
    "## 5. Sidebar: Queues \n",
    "\n",
    "We are headed towards searcha algorithms! But a quick detour...we need to talk about queues!\n",
    "\n",
    "### a) Remembering Queues\n",
    "Remember, queues are useful for storing a list of elements, with the semantics FIFO or LIFO.\n",
    "\n",
    "* FIFO stands for first in first out; the item which was added to the queue earliest will be the next to be popped.\n",
    "* LIFO stands for last in first out; the item which was most recently added to the queue will be the next to be popped.\n",
    "\n",
    "People often call LIFO queues **stacks** and call FIFO queues just **queues**.\n",
    "\n",
    "And remember, popped is"
   ]
  },
  {
   "cell_type": "markdown",
   "metadata": {},
   "source": [
    "### b) Queues via lists"
   ]
  },
  {
   "cell_type": "markdown",
   "metadata": {},
   "source": [
    "For us, a queue is just a list:"
   ]
  },
  {
   "cell_type": "code",
   "execution_count": 16,
   "metadata": {},
   "outputs": [],
   "source": [
    "queue = []"
   ]
  },
  {
   "cell_type": "markdown",
   "metadata": {},
   "source": [
    "We can append (or push or add) to the queue"
   ]
  },
  {
   "cell_type": "code",
   "execution_count": 17,
   "metadata": {},
   "outputs": [
    {
     "data": {
      "text/plain": [
       "[1, 2]"
      ]
     },
     "execution_count": 17,
     "metadata": {},
     "output_type": "execute_result"
    }
   ],
   "source": [
    "queue.append(1)\n",
    "queue.append(2)\n",
    "queue"
   ]
  },
  {
   "cell_type": "markdown",
   "metadata": {},
   "source": [
    "We can remove (or pop or get) from the queue"
   ]
  },
  {
   "cell_type": "code",
   "execution_count": 18,
   "metadata": {},
   "outputs": [
    {
     "name": "stdout",
     "output_type": "stream",
     "text": [
      "popped 1 from queue which is now [2]\n"
     ]
    }
   ],
   "source": [
    "elem = queue[0]\n",
    "queue = queue[1:]\n",
    "print(f\"popped {elem} from queue which is now {queue}\")"
   ]
  },
  {
   "cell_type": "code",
   "execution_count": 19,
   "metadata": {},
   "outputs": [
    {
     "name": "stdout",
     "output_type": "stream",
     "text": [
      "popped 2 from queue which is now []\n"
     ]
    }
   ],
   "source": [
    "elem = queue[0]\n",
    "queue = queue[1:]\n",
    "print(f\"popped {elem} from queue which is now {queue}\")"
   ]
  },
  {
   "cell_type": "markdown",
   "metadata": {},
   "source": [
    "What happens if we pop from a queue when it's empty? Uncomment the next two lines to find out!"
   ]
  },
  {
   "cell_type": "code",
   "execution_count": 20,
   "metadata": {},
   "outputs": [],
   "source": [
    "#elem = queue[0]\n",
    "#queue = queue[1:]"
   ]
  },
  {
   "cell_type": "markdown",
   "metadata": {},
   "source": [
    "So in general, we might need to check\n",
    "\n"
   ]
  },
  {
   "cell_type": "code",
   "execution_count": 21,
   "metadata": {},
   "outputs": [
    {
     "name": "stdout",
     "output_type": "stream",
     "text": [
      "can't pop\n"
     ]
    }
   ],
   "source": [
    "if len(queue) > 0:\n",
    "    print(\"can pop\")\n",
    "else:\n",
    "    print(\"can't pop\")"
   ]
  },
  {
   "cell_type": "markdown",
   "metadata": {},
   "source": [
    "<div style=\"color: #a00; font-weight: 800; padding: 1em 0; border-top: 0.4em solid #eee;\">Checkoff: Queue Basics</div>\n",
    "\n",
    "Because of this let's write two functions: \n",
    "\n",
    "* one called `push` to add elements to a queue\n",
    "* one called `pop` to get an element and shorten the queue\n",
    "\n",
    "Hint: `push` is one line! `pop` requires an `if` statement!"
   ]
  },
  {
   "cell_type": "code",
   "execution_count": 22,
   "metadata": {},
   "outputs": [],
   "source": [
    "def push(q, elem):\n",
    "    \"\"\"Add an element to the queue\n",
    "    \n",
    "    Args:\n",
    "        q (list): the queue.\n",
    "        elem (Any): the element to add.\n",
    "    \"\"\"\n",
    "    # YOUR CODE HERE\n",
    "    # ~~START DELETE~~\n",
    "    q.append(elem)\n",
    "    # ~~END DELETE~~\n",
    "    \n",
    "def pop(q):\n",
    "    \"\"\"Get an element from a queue, if there are any.\n",
    "       Return the queue (updated) and the element.\n",
    "       If there is nothing in the queue, return the queue and the value None.\n",
    "    \n",
    "    Args:\n",
    "        q (list): the queue.\n",
    "    \"\"\"\n",
    "    \n",
    "    # YOUR CODE HERE\n",
    "    # ~~START DELETE~~\n",
    "    if len(q) > 0:\n",
    "        r = q[0]\n",
    "        return q[1:], r\n",
    "    else:\n",
    "        return q, None\n",
    "    # ~~END DELETE~~"
   ]
  },
  {
   "cell_type": "markdown",
   "metadata": {},
   "source": [
    "<div style=\"color: #a00; font-weight: 800; padding: 1em 0; border-top: 0.4em solid #eee;\">Checkoff: Using `push` and `pop`</div>\n",
    "\n",
    "In the following cell, create a queue. Push (1,2), (3,4), (5,6) to it, then pop from the queue twice, then push (11,12).\n",
    "\n",
    "What does the queue contain?\n",
    "> *Your response here!*"
   ]
  },
  {
   "cell_type": "code",
   "execution_count": 23,
   "metadata": {},
   "outputs": [
    {
     "name": "stdout",
     "output_type": "stream",
     "text": [
      "[(5, 6), (11, 12)]\n"
     ]
    }
   ],
   "source": [
    "queue = []\n",
    "# YOUR CODE HERE\n",
    "# ~~START DELETE~~\n",
    "push(queue, (1,2))\n",
    "push(queue, (3,4))\n",
    "push(queue, (5,6))\n",
    "queue, _ = pop(queue)\n",
    "queue, _ = pop(queue)\n",
    "push(queue, (11,12))\n",
    "# ~~END DELETE~~\n",
    "print(queue)"
   ]
  },
  {
   "cell_type": "markdown",
   "metadata": {},
   "source": [
    "That was our whole sidebar! We will use queues to keep track of our search in the graph!"
   ]
  },
  {
   "cell_type": "markdown",
   "metadata": {},
   "source": [
    "## 6. Search\n",
    "\n",
    "Remember we will be searching through the graph, and constructing a list of distances from our start node using Breadth First Search\n",
    "\n",
    "### a) Implementation"
   ]
  },
  {
   "cell_type": "markdown",
   "metadata": {},
   "source": [
    "<div style=\"color: #a00; font-weight: 800; padding: 1em 0; border-top: 0.4em solid #eee;\">Checkoff: Uniform Cost Search</div>\n",
    "\n",
    "Complete the implementation of the uniform cost search algorithm before. \n",
    "\n",
    "We have declared all the variables you will need, including\n",
    " * `costs` the vector of costs\n",
    " * `queue` the search queue\n",
    " * `seen` the dictionary of already-seen nodes"
   ]
  },
  {
   "cell_type": "code",
   "execution_count": 24,
   "metadata": {},
   "outputs": [],
   "source": [
    "def uniform_cost_search(A, start, goal):\n",
    "    \"\"\"Perform a breadth first search, returning distances from nodes.\n",
    "       If goal is specified, return costs once goal is found.\n",
    "    \n",
    "    Args:\n",
    "        A (np.ndarray): Adjacency matrix representing graph to search.\n",
    "        start (int): vertex to start search at.\n",
    "        goal (int): vertex indicating goal node.\n",
    "    \"\"\"\n",
    "    # o is the number of nodes\n",
    "    o = A.shape[0]\n",
    "    \n",
    "    # costs (or distances of path to node)\n",
    "    # inf represents that these nodes are not connected.\n",
    "    costs = np.inf * np.ones((o,))\n",
    "    \n",
    "    # Begin our search at start node start, which is distance 0\n",
    "    queue = [(start, 0)]\n",
    "    \n",
    "    # Dictionary of nodes we have already seen.\n",
    "    # keys are ints, and values are booleans.\n",
    "    seen = {}\n",
    "    \n",
    "    # YOUR CODE HERE\n",
    "    # ~~START DELETE~~\n",
    "\n",
    "    while len(queue) > 0:\n",
    "        #print(queue)\n",
    "        queue, (current, cost) = pop(queue)\n",
    "        seen[current] = True\n",
    "        costs[current] = cost\n",
    "        \n",
    "        if goal == current:\n",
    "            print(f\"Found goal!\")\n",
    "            return costs\n",
    "        \n",
    "        for neighbor in neighbors(A, current):\n",
    "            if neighbor in seen:\n",
    "                continue\n",
    "            \n",
    "            push(queue, (neighbor, cost+1))\n",
    "    # ~~END DELETE~~\n",
    "    return costs"
   ]
  },
  {
   "cell_type": "markdown",
   "metadata": {},
   "source": [
    "### b) A search\n",
    "\n",
    "Let's search for a path from cell [0, 10] to cell [8, 4]"
   ]
  },
  {
   "cell_type": "code",
   "execution_count": 25,
   "metadata": {},
   "outputs": [],
   "source": [
    "stanford_start = [0, 10]\n",
    "stanford_end = [8, 4]"
   ]
  },
  {
   "cell_type": "markdown",
   "metadata": {},
   "source": [
    "Let's visualize this."
   ]
  },
  {
   "cell_type": "code",
   "execution_count": 26,
   "metadata": {},
   "outputs": [
    {
     "data": {
      "image/png": "[encoded data removed]",
      "text/plain": [
       "<Figure size 432x288 with 1 Axes>"
      ]
     },
     "metadata": {
      "needs_background": "light"
     },
     "output_type": "display_data"
    }
   ],
   "source": [
    "visualize_map(\"Start to End\", stanford_map, start=stanford_start, end=stanford_end)"
   ]
  },
  {
   "cell_type": "markdown",
   "metadata": {},
   "source": [
    "We need these as vertices"
   ]
  },
  {
   "cell_type": "code",
   "execution_count": 27,
   "metadata": {},
   "outputs": [],
   "source": [
    "stanford_start_vertex = vertex_of_cell(stanford_map, stanford_start[0], stanford_start[1])\n",
    "stanford_end_vertex = vertex_of_cell(stanford_map, stanford_end[0], stanford_end[1])"
   ]
  },
  {
   "cell_type": "markdown",
   "metadata": {},
   "source": [
    "We can use our function!"
   ]
  },
  {
   "cell_type": "code",
   "execution_count": 28,
   "metadata": {},
   "outputs": [
    {
     "name": "stdout",
     "output_type": "stream",
     "text": [
      "Found goal!\n"
     ]
    }
   ],
   "source": [
    "stanford_costs = uniform_cost_search(\n",
    "    stanford_adjacency,\n",
    "    stanford_start_vertex,\n",
    "    stanford_end_vertex,\n",
    ")"
   ]
  },
  {
   "cell_type": "markdown",
   "metadata": {},
   "source": [
    "We can use a helper function to visualize the costs! Yellow is higher!"
   ]
  },
  {
   "cell_type": "code",
   "execution_count": 29,
   "metadata": {},
   "outputs": [
    {
     "data": {
      "image/png": "[encoded data removed]",
      "text/plain": [
       "<Figure size 432x288 with 2 Axes>"
      ]
     },
     "metadata": {
      "needs_background": "light"
     },
     "output_type": "display_data"
    }
   ],
   "source": [
    "visualize_costs(\n",
    "    \"Distances from Start on Stanford Map\", \n",
    "    stanford_map, \n",
    "    stanford_costs, \n",
    "    start=stanford_start,\n",
    "    end=stanford_end,\n",
    ")"
   ]
  },
  {
   "cell_type": "markdown",
   "metadata": {},
   "source": [
    "<div style=\"color: #a00; font-weight: 800; padding: 1em 0; border-top: 0.4em solid #eee;\">Checkoff: Cost Visualization</div>\n",
    "\n",
    "Which color corresponds to a high path from the goal?\n",
    "\n",
    "> *Your response here*"
   ]
  },
  {
   "cell_type": "markdown",
   "metadata": {},
   "source": [
    "### c) Path reconstruction\n",
    "\n",
    "Now that we have the shortest distances to each vertex, we need to construct the shortest path!"
   ]
  },
  {
   "cell_type": "markdown",
   "metadata": {},
   "source": [
    "<div style=\"color: #a00; font-weight: 800; padding: 1em 0; border-top: 0.4em solid #eee;\">Checkoff: Shortest Neighbor</div>\n",
    "\n",
    "Given a vertex `k` we want to find the neighbor of this vertex that has the smallest cost.\n",
    "\n",
    "Complete the `shortest_neighbor` function."
   ]
  },
  {
   "cell_type": "code",
   "execution_count": 30,
   "metadata": {},
   "outputs": [],
   "source": [
    "def shortest_neighbor(A, costs, k):\n",
    "    \"\"\"Find the neighbor to vertex `k` with the shortest distance.\n",
    "    \n",
    "    Args:\n",
    "        A (np.ndarray): Adjacency matrix representing graph.\n",
    "        costs (np.ndarray): costs to each vertex from some start node.\n",
    "        k (int): vertex whose neighbors we should consider\n",
    "    \"\"\"\n",
    "    # YOUR CODE HERE\n",
    "    # ~~START DELETE~~\n",
    "    best_neighbor = None\n",
    "    best_cost = np.inf\n",
    "    for neighbor in neighbors(A, k):\n",
    "        if costs[neighbor] < best_cost:\n",
    "            best_neighbor = neighbor\n",
    "            best_cost = costs[neighbor]\n",
    "    return best_neighbor\n",
    "    # ~~END DELETE~~"
   ]
  },
  {
   "cell_type": "markdown",
   "metadata": {},
   "source": [
    "<div style=\"color: #a00; font-weight: 800; padding: 1em 0; border-top: 0.4em solid #eee;\">Checkoff: Shortest Path</div>\n",
    "\n",
    "Complete the function `shortest_path`. You should use your `shortest_neighbor` function.\n",
    "\n",
    "Hint: Start at the goal, find the cheapest neighbor, then find the cheapest neighbor of that neighbor, and so on..."
   ]
  },
  {
   "cell_type": "code",
   "execution_count": 31,
   "metadata": {},
   "outputs": [],
   "source": [
    "def shortest_path(A, costs, start, goal):\n",
    "    \"\"\"Find the shortest_path to goal from start. Costs are distances from start.\n",
    "    \n",
    "    Args:\n",
    "        A (np.ndarray): Adjacency matrix representing graph.\n",
    "        costs (np.ndarray): costs (distances) to each vertex from `start`.\n",
    "        start (int): vertex to start at.\n",
    "        goal (int): vertex to reach.\n",
    "    \"\"\"\n",
    "    \n",
    "    # YOUR CODE HERE\n",
    "    # ~~START DELETE~~\n",
    "    \n",
    "    if goal == start:\n",
    "        return [goal]\n",
    "    \n",
    "    path = [goal]\n",
    "    \n",
    "    \n",
    "    best_neighbor = shortest_neighbor(A, costs, goal)\n",
    "    path.append(best_neighbor)\n",
    "    while best_neighbor != start:\n",
    "        best_neighbor = shortest_neighbor(A, costs, best_neighbor)\n",
    "        path.append(best_neighbor)\n",
    "\n",
    "    path.reverse()\n",
    "    return path\n",
    "    # ~~END DELETE~~"
   ]
  },
  {
   "cell_type": "markdown",
   "metadata": {},
   "source": [
    "Let's use this function to compute the path..."
   ]
  },
  {
   "cell_type": "code",
   "execution_count": 32,
   "metadata": {},
   "outputs": [
    {
     "name": "stdout",
     "output_type": "stream",
     "text": [
      "[10, 9, 29, 28, 48, 68, 67, 87, 107, 127, 126, 146, 166, 165, 164]\n"
     ]
    }
   ],
   "source": [
    "stanford_path = shortest_path(\n",
    "    stanford_adjacency, \n",
    "    stanford_costs, \n",
    "    stanford_start_vertex, \n",
    "    stanford_end_vertex,\n",
    ")\n",
    "print(stanford_path)"
   ]
  },
  {
   "cell_type": "markdown",
   "metadata": {},
   "source": [
    "We can use the helper `visualize_map` function with keyword argument `path` to visualize the path as well!"
   ]
  },
  {
   "cell_type": "code",
   "execution_count": 33,
   "metadata": {},
   "outputs": [
    {
     "data": {
      "image/png": "[encoded data removed]",
      "text/plain": [
       "<Figure size 432x288 with 1 Axes>"
      ]
     },
     "metadata": {
      "needs_background": "light"
     },
     "output_type": "display_data"
    }
   ],
   "source": [
    "visualize_map(\"Start to End\", stanford_map, start=stanford_start, end=stanford_end, path=stanford_path)"
   ]
  },
  {
   "cell_type": "markdown",
   "metadata": {},
   "source": [
    "Nice! But let's see the drone **fly**!"
   ]
  },
  {
   "cell_type": "code",
   "execution_count": 34,
   "metadata": {},
   "outputs": [
    {
     "name": "stdout",
     "output_type": "stream",
     "text": [
      "[10, 9, 29, 28, 48, 68, 67, 87, 107, 127, 126, 146, 166, 165, 164]\n"
     ]
    }
   ],
   "source": [
    "print(stanford_path)"
   ]
  },
  {
   "cell_type": "code",
   "execution_count": 35,
   "metadata": {},
   "outputs": [
    {
     "data": {
      "text/html": [
       "<video width=\"720\" height=\"720\" controls autoplay loop>\n",
       "  <source type=\"video/mp4\" src=\"data:video/mp4;base64,AAAAIGZ0eXBNNFYgAAACAE00ViBpc29taXNvMmF2YzEAAAAIZnJlZQAAUCNtZGF0AAACrgYF//+q\n",
       "3EXpvebZSLeWLNgg2SPu73gyNjQgLSBjb3JlIDE1OSByMjk5OSAyOTY0OTRhIC0gSC4yNjQvTVBF\n",
       "Ry00IEFWQyBjb2RlYyAtIENvcHlsZWZ0IDIwMDMtMjAyMCAtIGh0dHA6Ly93d3cudmlkZW9sYW4u\n",
       "b3JnL3gyNjQuaHRtbCAtIG9wdGlvbnM6IGNhYmFjPTEgcmVmPTMgZGVibG9jaz0xOjA6MCBhbmFs\n",
       "eXNlPTB4MzoweDExMyBtZT1oZXggc3VibWU9NyBwc3k9MSBwc3lfcmQ9MS4wMDowLjAwIG1peGVk\n",
       "X3JlZj0xIG1lX3JhbmdlPTE2IGNocm9tYV9tZT0xIHRyZWxsaXM9MSA4eDhkY3Q9MSBjcW09MCBk\n",
       "ZWFkem9uZT0yMSwxMSBmYXN0X3Bza2lwPTEgY2hyb21hX3FwX29mZnNldD0tMiB0aHJlYWRzPTYg\n",
       "bG9va2FoZWFkX3RocmVhZHM9MSBzbGljZWRfdGhyZWFkcz0wIG5yPTAgZGVjaW1hdGU9MSBpbnRl\n",
       "cmxhY2VkPTAgYmx1cmF5X2NvbXBhdD0wIGNvbnN0cmFpbmVkX2ludHJhPTAgYmZyYW1lcz0zIGJf\n",
       "cHlyYW1pZD0yIGJfYWRhcHQ9MSBiX2JpYXM9MCBkaXJlY3Q9MSB3ZWlnaHRiPTEgb3Blbl9nb3A9\n",
       "MCB3ZWlnaHRwPTIga2V5aW50PTI1MCBrZXlpbnRfbWluPTEwIHNjZW5lY3V0PTQwIGludHJhX3Jl\n",
       "ZnJlc2g9MCByY19sb29rYWhlYWQ9NDAgcmM9Y3JmIG1idHJlZT0xIGNyZj0yMy4wIHFjb21wPTAu\n",
       "NjAgcXBtaW49MCBxcG1heD02OSBxcHN0ZXA9NCBpcF9yYXRpbz0xLjQwIGFxPTE6MS4wMACAAAAb\n",
       "6WWIhAAR//73iB8yy2n5OtdyEeetLq0fUO5GcV6kvf4gAAADAAADAAADAzSyCkX1Rzvzg8AAAAMD\n",
       "PACDgThZP/oZ3evEAmYP1laGtmflNamO+yu8kxP9NJAjEbFnoQ1Euv0jpMlj35OGIfwy2zs+MqVY\n",
       "ZPnRtXnXkjV88RURqwZZvv3kGZAoFVx1BxpsjaC6a8BC+D1iK1DnTGGzmy3N69nLRDtSbAerAKVO\n",
       "8MYQ4NNQfp9Vu2NSTmx6wjRx0F8d0mR9z9+Y400Mq8oIT8aX7yQAMWSULmcVIDfJbDQW15A18/yH\n",
       "UkEAZxx/XNNSrAoneE0syTKZyRUVZpr1xNEjKqF8HztwAawrD7kvUIiMyco3e9V3s2wXB0hLRV2F\n",
       "kxL5iLzSbvq/4CxqoAKV81QBkbyxc7DDV/Lf9UqlMpqrWiqQipfOnuNZyyq4kk9PU3Z6YtJ15HGB\n",
       "0IMDq4xtMeQBWlWHCSNzEvo5RUPvmMFSb1pD5wDqP3t/fqbly5efpdfUdYVsBtUeNy3/WDjWdvZH\n",
       "jbhH+vBYtm4iyomfOW77p2NlIj+Fh8F7uXsOF9SOYrpJcC8x8mhY0L6kFb5cy6YAnf2OdyZ/6dkG\n",
       "yAAAwgIiGDnVBH0FZLWCBgjbaiLyzBGL+5+v/30seerH83NM9eaSSM9PTsFK09nN5e2L+4E8n13E\n",
       "SeAmAZ0xFMDhdIm9gCRrWpoVgFhqaWr6LUKD50f+z/bY28MaNMTa7TVD8a9+O/vNTKgFwVxziHKd\n",
       "RxqS+8ep8QxxKJT+2HAtGH7Bix95lszEQyYU6TjEsANo4TQYQXI0cYtf5n9vBc25lksBp1Z0JQzr\n",
       "d23APu57xUYdG8ATPAIlGUoP6oxsdgYdwj/pf7vfMtfDs35unxNz0NCOUZxl2an1GHnx3ylKzKB8\n",
       "iTaHiD7bbQAAZ/LKFJlLobPLjkphep7VTbeR5vKTNkCqJ5WdJwexABWzbWlutsCB09gIfTB/JV1L\n",
       "VuRfM+y1ibj8tCSwpBNYkYmKYJViQEIwBxB1Wx/urT78uddQZETJARO3h0GkU7QUZdX7QCMIArIk\n",
       "TrVrlQNlFg1VXgK6NRbiqFPswfkzzrR6LcJu2aeWC/9h9vdmVEwhMGshQHniHryNIWQncPiO58SU\n",
       "ey2WHEMG38aMRlmn2LuEfFk6IjYd/e24Hut7mv1BZx5kSk+oH48m9lzZ8JTET8xO2Z76PxHHusla\n",
       "n/lFj7Xd2ALJpmtRzvrwEmA/6N+OojmClxX3SvGsjnsEYWjYE2ER6QLOm6pVjhSbKmbQ1hj6i9Ld\n",
       "3BaNw3QWFW7qPTwRG3nefIGuwLkYKI5XF9Mb5UZCSNGB3OYcwkrrS5r1/TpxWMOrV9bLI492WTYB\n",
       "/e2TzRhTpJh2221Ul42nM9MvHLcsZZgErpEDfZpzppdL+lxTh2Wj7YNqCq2X7mbMOBZXzrirJS0W\n",
       "qE/7Q2l90+ys9LVxZLzhWHp1oJ/olHbvqq7wdl5odcesZJhOLvQDYyuQC/6zhbOt28QM8gWkREEz\n",
       "/Ny3rWmKFpHtJKWGpVei68JBB2Heljb2AEUxAip6PUJD8YX9YLhZzBIUEtuMI/X039IRyE9TuNc0\n",
       "WBIGTMYCu4qAVo0+sydMSyEJI3O4ALwX9yl7HwVRBLG/XROkS6kHkoNBVPx6kb6lsEbM1ZU8xGgb\n",
       "bQ5Ik7aks+e9eNH7bW8LOB5TrJkN5rRgQpDThapaZWt4wXy+luoNE9Upv0mVNe/oikdcwSUb2Frj\n",
       "MNvAH9dhvr80OeWfUbBgVLFfMUk+iOeWeyukcVeWhii4+DlCnW868yRZsk/AEX9cnqTlYuP8TwZF\n",
       "0roGyOXBAgmsaTkLjA1BrSf5RPzYbw84KUfEIUUOmnCLSfbkDEX48TkgIwusJCz2FwPCmSyyNhQk\n",
       "UOHSk6PI4paJvtKGQU/K4jtw0qWeRVqUNtw66VIb01w+TYRWIccSMh54ta9tKY1UYmL7hga9Wjio\n",
       "qBwenhHVC6k8AJ/9vMbwddz3zZ/8+MAzBMKs/Y3kUpNie11OBczSxiQE7YETsoIfE+/XG73v7//Y\n",
       "BGq/Y9d90RhWeMtco2AQQ+5zoEWLTe15QfmdZB0kjzHXIlavpBU8IwirqRy/ChPk10gSwyIOA81d\n",
       "t3AGzTnnOAYX2dRw4kqhhKDYgmKMArm38MorxOyqX6AlWcemOzIU6Fu3IvvPYNE/77RbGbYT1Hp0\n",
       "MlqQkEHvQ1FkjzKjasWkDdjLe1Nb+HSTbAviv6PETcIVvmWhdmFAjnGQEP//pvnNius1U4U0RzGB\n",
       "O2Qcs6lHFW80l0GuHtvb9aM0nP/3s/idu9Zzpax+nl3b8Tm8v40HWj8PEIfB7Js5s6FgwmeCigSK\n",
       "HdifqYLNCh/usuaFl5NBjvhtGbSCoHJVWu83d/Gid9XvEaxBSzJUQ6VCKHFEvccn3MKCMAQg32Wh\n",
       "xLYZIroon93NTHzLCTy8kltFzXUz6PaVpkVr5jJQ7T/6O/enQHnfJCHDaEPNgho/SR4CNWJVE9+9\n",
       "7pkiNlNoarbrwh/q+1W3DeWlDXNUYYzzprwidTxFyceM6QuLIN+eMJNX6tzqb+lFAiWouhisSyKv\n",
       "QgiUkQxr6EIcFmDRep39aeKHiui8N83sfLr0vxegVYOXt+YKWAzcy66+Zu8gcwuT9FIcE+75JXk0\n",
       "cd4pX9OMbrY+sVecX9sl5laCoW/jILXgWP1srilNaaDNcQ+yk6ogk0bSJvkpXkkNrP4IEYlkdz84\n",
       "bM4/fE+HjDnF0GsspPXgitUk7enTPDJrIVWOovgYOZbXr/dWFnPNHALjhRE+WvnaiBewhEs7Vr1d\n",
       "HOo+InsfOvOcV9uuijqD8/AjBZ05tx9Dol/Qii8SqrKzyFLH/VIovEy7EMUR5QRXKdfCD/xuo4mi\n",
       "YYg+MX5Kv8n7/iJn7Slmga/IrnPCKe0eAvaUSpLQUJUJKZUuI5pH8BvzeP4DCuIBy0gt9QdT/ZnZ\n",
       "O53Bnw6gLTwsaEM6/bSlnx1oA86feTXp/2mo6dKln7eZYh2bFDEAqYJVOGBPtHzFOgP0neucZP+1\n",
       "BX42KRrWqT6t1AD5YhABG9Ljg7rRsabAQzaObVNZxQBS951nT7LRCYR2GgV8+wXlORnGiPy8pqMS\n",
       "Lou6TbVjGoqs334ccb0WG8QnLHCSWI71K0QnDbVNoGCQXrnkVExbyA+4jjNs9KxTRnV0T64Cp4gG\n",
       "DZ4Yi1IsEuOpaKRXMPd1xWDtO/nrZPwycWrPI23MzLu48eOVCjcS5OHtGF7fzcvT1dMhpmobPXJW\n",
       "zimWwb9QZTZQgN8E00Z9EBhseqY/UIkWI5m9GU8WJMrM/HvgHm8Rv6IOTvnJZbVE6MBLQQwcqh23\n",
       "EzR0GDci7YVfpaUbA8wmLZt2kOzPZVhU3aDEeyNtkbqm+KGH4eX2sECjGPAj1OngZq8OdMbHzz5z\n",
       "yqYGHsy57LPT36gTWz/LHuSSnSDEtC01aQ6TPxTgtw5dSO2k4W8Kgoipdh4P5O/L507gdP8ppfVu\n",
       "zYji4bTDTGs+mJtXH8Youz04q3iGXYWgezZyC9EdeIOvHbvWgA6BEZ4g5h4a8+XeHh4FnoOEPDSj\n",
       "ggytW6SW3MQQRwcnDgJP++u6N0uIo2hWv4VJa3DxB5jDBB4pHuAWQBIf6if0jEVZRWrDJwwVeAx9\n",
       "x70tMg2u/yWV46Rb+8nCuiArYr3NJFgsBGrsHWlFZS2qEAkUU/rum99OjGxUi9MYkbBtcd2OAM1A\n",
       "qQ4lNY+qdOlfSKbgOmgVXI4+JMeb7zsLn6X8DxrkhDz+H7gF9B2uNjrgSmMLcRBzPO8tnjwkp2iU\n",
       "TSuCqJ7khvyUQBkVAgELT6qXs9I09MVO9N9/XSLqB4D6t/5d37e2yIWJFW2gPvzBa2d4pEEhp7wJ\n",
       "cwBInRteMrLiWLBp5f1cr6OWxYE42BSWcoHT8mSHd4OKVaIIK8ozaVe1l0Mcrxsy6R3RgJBHWj7W\n",
       "zG0ZfR61zcqyfOw/dVrGh/ShYPgAQlFC51BFJtBu4cbk0mKSG2WzkLuGYTe2EY43G4WQE9kHCq4Y\n",
       "Hkix7FnEwx878vln3z1MffG8/wjqgZrvbefu11Wf/2RddW4JPry3p9EIetJNe3as1BazAYfoYRL3\n",
       "QKTdOkVinf9O1JtFBlff8S0sBq19e33qGz9yQGQH0r69XlAtC2Im+yHg7TdqgXmKxz6+NBxkchAB\n",
       "geEvfJDKujt9s4Etf/7/oKutfpuvJo1eUnlZhqsY0hmQunOsyA8vWQfCnNq6zhw746412uXWhoLB\n",
       "LjF1BbxKIRBwXSzgg8EefH28KsJPsGiS5PYr0fWbZcaYl1V66QGJuXXKFg+1wRq8PJxYCmQMnch6\n",
       "G/JBfiPVNkkrjLxhVfeyPtTIMB8kLGaN8lQTdaB79vohChKp3LyVlUiKnJKn8FUpSvAo9l9d9pkS\n",
       "pI27yq0f7IuIySL9sTDD+gjUNCBZ9MGyuZbWCCXbcKEuLxbnyjnc54dWXasUdOYPnxbEFpLG2i54\n",
       "nE1zP1A1ZZtXyR1+Vex446yFxP1j4Ct6/g/dGUaHdfSM9keMkP+BY2cats8lUKyk7wGiH+fLgWOt\n",
       "f53MQIa7k0ggzx0hvwbjstdITxlqUevoQhUUCbyRSNHSZyuiwaPy5oBgEsWKOSlG/8teWMcqHodu\n",
       "+n8Jp+Z4N7avzj2XrIzrccA3escAgkoykNOz0S1bb8XKMcGgOwwbF8kqOhE3Ppi4q0/QlS2L13iw\n",
       "V/J2ZphPU2NEIx8cdyz1J4F6AZZo+WQ9ggKnQeCvuqzAvaOxC3lh4WTmujW+Zv5uJqrBptgOUZ9g\n",
       "w7ielaLmaZ5eDrNVDBn4SNvNbQ5BiECB05ImABvcrvJTxuoAKobzUzexoalm95P00yntdOFZAotw\n",
       "V5bnIY4ys02NZYWCOgUFmThvwEJLOgN2X7/A7RZym+g8B/ARGjaZHBNUsc0XgkUHIwcvNxohOLbf\n",
       "hR50jl56oFsuV+inK7dF1+P6se6VkuzGMtwJl/g8wNoYKRHo+vyB7m7sfIBw9/VA+Rza+PF33zDj\n",
       "jxYM4Ak22NIMRHD/QmPkPvmcJF1jdBr0FsZPRLvhEu+CIEfxN1QGscGFoLdZKqc3dxZep/NUahN8\n",
       "Lnn1Sc7XRkmVHuCkXyzJT+UbFECpqITv3uumrDMSV8Jl1CWH/LUeipHhIVkTvnt/ZrTm40Ej1GlQ\n",
       "qcXqhBydEl91EFX+0PevIUj9eB4do6or5ssaoTrGC4b+04IW8VzJK+/NE/7o5HGujQDZ4E5QaAm8\n",
       "TNtzlclz9ArcP5hm0UP0rt+tbKBo/IXNIrsd0Qv1d7Kr2JQ4Pm+sb+6Kc4V1GS0Z9FN9maQato8s\n",
       "lurBrK6kpIMYafrF5IOJMa7/odlYFiXZuwJLztpM4BzzBsEQVCOQEileLGa9OXaI5JRnGoau2y9c\n",
       "QUYtjYMdjFL1DCEMg79JRmohZy5yboJ25sMSr3okHPJfkOc5tjIjtEhAEtl3nfxm5nx2aqGE/MA3\n",
       "2EBRKMOllbrWZjBo24jkqRiSTGrrjFhjIj9DMtCGyhWp2mlGZ/xww0pVU2ozrEJZSZicoNtTEc/u\n",
       "dyfewIvzGGkLhJfNps+L/xZ5fjLfIWw6wSPjG1nmLPLvxmsUw7K15YWpWVkm+6as5QE/bAOdiy3B\n",
       "kBCvp7vj00oJauHSVgbjSLsLf2gCfwE0Loz/ZOV2cIPoKC5aYTzm09YZSNNrGSL6IJ0WakDWy4Uz\n",
       "mPCWvELfhrfhGd+7eKzRsh2W0fxvNId+HhE72wFu8DgnzozP+/2vWMzDC9zA4dzLEhz6tpB04nHJ\n",
       "iGI8rhviLtp1MUZzvOkfwmR3zeFP81jD0TQWU3oU+aLsPsgCcp/DgiItC92AN3LLvQ4y56VfVrok\n",
       "f0HAtJ3pKaK/NeOjLSYtiY/HOaE9ko9ExkVx6l7byc7cHSXvwEw1Nf09V8lEyM3/XvJ23bQZuQd7\n",
       "UPqChPcM1Yo9va7vFu1NiDfwZG9HyPlCi/lWiwJmARIh0J88zufGGg0HX9MBFujnX3iwnILtkP2r\n",
       "jpJl/uA2GMVfFYOUNrLSRjMpgvUn1OayC77hQiJf7ORIgwALJH5Pzrvx6WtoMag8c0U0ehCTsgLy\n",
       "O6CgpLVnta8C1Zfm7ZyY/DYqn7ng7RS7ZDhGsGdtyK13XTDnWxTU/Tk/YR/b8Oa9/BTw0hUPTCHN\n",
       "jaH88sAC1hMQ5UMj9t7OR+8IJSyTHl52II6r+S5CBnuu8mi5JeeAHxyley24DJzQfCTLMn8NX6E+\n",
       "rxt6EpexfsrON7YghO1vIbpzu8c5NJLFJ4iL0FNWx/a7aTRrIHUsPUnJreuBuV0dRy7TKnj1GShT\n",
       "3tP/69AAmP/Z9yzBz/aR1jTJFl/DA/XFVoaQherN/OSwrmUZc56/WXa0MCQyGYTtmvOiWQS9QZut\n",
       "G+gKZDc+OB1kipMIJcApFNiKm5Q9eNFVe3//P4b56f39N1BqieiKvN2VWiLhZ9d12FnaWicdoQGZ\n",
       "AEEXAAADAAhw5xdkNntiAO0S2fyZwGCnBjd3J3rK+XIQGVatX+bvyZKJE23rn8c4L2lUZQw7Jznj\n",
       "eq3xLFporHQfTYNclzoRDvkl6ld5XmXqh9tttyYKpwsY+MOLwnUXCJwy9vmHKkYxZxF3sn+gNtvQ\n",
       "5CBs3iHsQ/VBsG3AnXD029pddl2eeq8MTA0yKF8rnaUIYxhX4y3eky0Eh7Zp91OVQX2pht7Vk2fQ\n",
       "TRKXUPEqitWmbFLMIbSXVJTsWXqNqIwOGOvIviwOD8Q6tzu7xjOEDGcke2PeFKySYPkoAAU/VuUL\n",
       "6KyUAABp4VzABg1DdAAMIMRnfH/UpfqGxOVcJb/bOFKL/sugJ6svKTZN2DvbuR/dmZ1rWbNGokfZ\n",
       "jOyN8jlG7aSNBSegDZXFImzUPoUrkR1NDhM1zCJo9mo3cMwAF21vRDNRP2DPpl/WLKK84MMzla3c\n",
       "bmDvXgqq097LA6GZjvO9MtrjowywDRHDzP4/iV7wupEdCmPh4ZAFETSJy6Ar/RLljPjZT5Ivnyg7\n",
       "qZKRjO1RUpSt/Mm+AjY2zC83FvTS9V0AXnCoL+r4V/2w0A5NjZ9jeA4yG4De4lf8osAzjbUs/5Fg\n",
       "8KDYFMuTUADzNxi6yR84dIXQH/uTEP2f9O++le+fB1nADe/tX1jMAAADAPfv3GtOgTP509Bz4TJq\n",
       "74f92D0sYFzwh1v5jIvmDsVovsulSZlglmVI4iRzkHc36z06omSWFzuM0AAocSOHjOCrcMz3LOWG\n",
       "tYXg0xZquwN0mtvDv1OYIcK54ZRf9HLbzZD3WM4dTm1EcK/TeIsRBSeyRKO3iqkhbAISY7Z3aAIe\n",
       "ZBl+apz8jcy28DZvV4YgeX43Xt0UFb9u9hQA5fGNmsH3UTV9+DIrV+uF0LhGO3btf29laTGbdcXt\n",
       "0d7wk4V3Ukl9ZLBGLlyM//+SFprizH8hcsk6VEmS/XgAASKhTXwAt31GBstsY8K4G+5IGsKpk5YT\n",
       "EDlNBVhApXtdbt00Np+36SvwbIR2L0VU4I9CNmdwjP8bAVEgblarcI47kB/zPSjOZCnAxioI/oBQ\n",
       "ZHivTWmCJgobRBQ0ivjacMxXaHQ3QArhvKCN8eRUfnzdXEs52cbj0qkHEF5PvYqy9vwe/6SbkJlD\n",
       "0nOJyfskGOn/WWNTay/qyfOUk2V6H/a5D1Ftnk/e4GgP1c/1RFc9rAk688SflQISzH0gmZl4R50z\n",
       "glfqGcleD7q/IiUinWLOJjWBt6TrN/uvOcva7uYimCC9MBB90av//BGhPnGSkj0L0nYWN0ohcCzN\n",
       "1Lw4yFqf8eF5pMjyslh3Qchuyc5miV1n4DbnXimX7OVHoMy9pYeUi9ClMLx8ByKi7WhZg48NryGv\n",
       "2pL4F4W37rGWThE7i/LPKtVuZ8rPKkMxba4k0uXM9plpKE/YbdCrMtTcEtmdbTlM+aoU7GfYKN3w\n",
       "61CF+neq4/NvDB3pAMgolH3oMPWfEkH2JpQdRz1Vl4rxpJ2TmHnMUpN5wowzxambSiyJusCN9/V9\n",
       "U9ePCd2bgz1h+ne//6UjzDbgasl6JXhEJoSDM6sVzo2WpFqyqOMQk+Q/fSEm0vluYm4/jXAQJUCH\n",
       "uc4JuNB2Sws6c8rbjKtSd+ItBz8PdcIY9Z6Kjf5U3irfejSfBbaarOaDSp+/Hz1DxQcNIy3mMGIL\n",
       "cTeYa6cmn1vhLLQdoq2EHAhi6GVfELlsA/fflUhiSiPYpGrdtX0wBIAdVWfOFN8bjtpQjkyJjibg\n",
       "nOQncA1VooGUWT5HDJPorOd8n/nCros9fj8dVYgCaH9NcId3lTuq8ICXMitC33nYSoxsBEsnJcee\n",
       "H+bzc6Pojf/UL1pgVTVocBbgp6R5VYhOE/8yJm49ubPDqts40Wps5iyWs0eJdvkNQe8pMU1dQ1k4\n",
       "EvRpe5sdBYRzu0fQYL4nwC7caVuGhkVIwdTeldqtOPZcI3IrjVzOFZ2Aq9ehhpDshG1uDVUrb+P+\n",
       "JsL9HI3l08UzAK8fMXiqYO/sVTMYuxa++UZOzpUuPHRRz51LuK8hRJvP2+eSE2GDDlS8yHBwvkYl\n",
       "dP0Cjfp7RMG2iTUenKkl7ycgzIsxEoJa5rx5eylZV98B4BBc0yngiQO/gUKi0qgpm1I4zmxpsDE2\n",
       "hFSZZnQVGGOPCzzKe1+lk74EHf8A7TuX0oI49D7bDJX3LUZfRGSDPuLL/UDH/QeRzbrVZhV/HbVW\n",
       "f0gah19rjrIXm2lPUJEnu2gKUVZJLzCvO5t2jEO//Xlv7T70sqvfGZsltMNNHF0c9CK5kXChbhYG\n",
       "+Xm3emtxOYSMvc7Tw1WdWmaVZZw2/JOJ5koJGJkJH1hqvNsQlF/NtBk029Au/nBfLu22nWZyPQA2\n",
       "1JYvuBVrxJ1rmqH3FYIf1VCq/1YwSZEWqNff9rgNLHJdyZFRRB5l+3D+pE18Jo5V0jMCczZygxaw\n",
       "2UuS0t0ctsa44OH+isZR3ZEUxWk/C9wnAp491v9EvV8Sz/i86XmDE7H10soVXHmWd/YFIeDFIpsI\n",
       "ynXQUA4MC1afBeJF/Cy/8GweyKPUxqDk3TBnceXYlxClhi8PqvOX/0Zfuw/f/79dpJNWMuZeOxcZ\n",
       "mj2MMd3hKYNm2AAxtqvp46LxmM7mGaV506Hi2ueh7Yv4c7LZQrT50TXKrAIPZIGHa/wQI+7nYSbH\n",
       "llMiAbnUarbYElkzU6Huth32WulsFt63QkjSxKPr6QtadJh/I4fleL1Hr0pTLevIvaokgNlCt1r/\n",
       "HFSF3h73J/oQBOIbhkllubxLsb2Fttgc04I1t2un4k583xUVZfTpkZ3PMRqHjPLQaSjkh4MYoNeE\n",
       "nUZo7Z5xx8UDS9y6JLHQLMSDCU2eglcKe2DvZ5kIzZOJIeTgkVlx9Ke17/uzYKNfa422AcDOnro4\n",
       "32hkIwOxtvGIKOwIf0B9AYJva/0nZLJY13DEfV6Np4c9m/CER5CSSKDWCwJxidj+3HCE/QQMw9qc\n",
       "klZfyBZp1HW6LJlg6a6TpH8s2A7sdZrQKW8vY5m82hPAINeG0w2/FS2dOJcaO2xBI9+6n0S7hl6P\n",
       "1pvlcAAAbEOlUgAAAwAAAwAAAwJnAAACHUGaJGxBH/61KoAAre1JuQ15RAAL5thzouVNMYuODmvc\n",
       "gP0mBRq/aQAS6mQUL+cl9qUeC5KAVhhKvHvzgWWBHIlhX4/Aa+WpnPIJGdJMYUKuNXo97cVkPd0T\n",
       "zYwHIt2hgC5/KwNSozaF3yTtf/Kjd5IF0cOh03cHr97pEfzVwErlCa6i87LmucICIBEWhxoUNTH6\n",
       "hkKuUDx+SbRuF+DukCdxXS7rRYaLnUK2I+ZPkhaThT1lU/ivGJ76xw+My7y6HnYATbmpJ/r/McmS\n",
       "N9La5JQml6GFaWEtRF4yPhgr99QU2FTh4wT0IMUim8CpAuLC1sWOF4u/tJQjn70Tvbij/IIka/Xa\n",
       "t4FYk08m9cX90Z0rzOY3WTDAV6ZUBDOVBz9Q2feMio/jbYLSlszFRNWWRbcGu6ctNa/DP43c41h8\n",
       "k9q6CpQVhd845qqMNQjwJfVUcwdq4sDIH86DTreVyglSSIeBJIdiI6+sU67GwZvSE+fD+YhkVL4k\n",
       "XPxxMVx0xx+PhC9/DPU1RH820m29dIhPh+Ep2cyoeJHuRlsMcpWSorb8ALBszNKbsTTn20aC/h5W\n",
       "tzfXWN2EJ6ZaCH9f+ZHtTEcJXi+PgAGzmLFT2oKMuqmQpngx1uXAdVAtNegybOn2veFT3mlgAAAD\n",
       "AAADAAADAAADAAADAAADAABQKzkJXRqMsAKOlfw7S/b7u4eZ2s/RG1AUY470N0ImZqbJETAAAADr\n",
       "QZ5CeId/AAKdzsoe/S/JLgAujUMz19qmXJl8yYTg0ghlZL0Rr48eRk9xs+sKtKgfidQJyEsoQGZ/\n",
       "oy+sUdxQq43JSU2nCdhwNsdXQsufwxRDKzTXWOmZhLKkxsEPQryEC8icZHkruKm4iH/WHzMDH82F\n",
       "VUGxghd7oqTu1uXO9sO85x9BD0lyiE0/ekYOPE9Tib+uCGMlRxWgdcKL1A2pawZwxmS3caALs8iZ\n",
       "Fb7b4i6aqR4QlcnGRcysg+Sg05FW9gi/eyCAJ3BlH9KnMBpzBNcKGaQ6H9WD0aCAmgBe3wAAIMiA\n",
       "MYqi7ABLwQAAALgBnmF0Q38AA6o2cVVe/HkAIGqpcmKYi5ACZ12J99PI2ZdCHmm/5oniAztps56Y\n",
       "vQ6TJDoendVyfaUCw4hv1BoLtJmlQEzor8gHPDonSLEw2s+GgBADglGSOjS3+Hcdo5aX0R5OPEUf\n",
       "Vi9xUkkONceg6uqWCV2za+z+39OoVSH0djy9EwULCkx3+EGrt9IY/et3F37oVWDrRm5QnIN9/1/L\n",
       "SPBOOyQvHRfvrqNoAABmdwA4T9ALrQKmAAAAZgGeY2pDfwADqjZtQi8uAAQAMGnqeP147TGPS6hr\n",
       "5yfdvvShASYtE3YGezGVRzvZQWPCw53RvQ/lLFpnc3FESH1ut/40sGXbQJHYCNHqUDjt5m4mYqwo\n",
       "+I5MyEGjgAAAAwAAAwBBwQAAARZBmmhJqEFomUwII//+tSqAAK6Yfg8oABweyHqKqlvTRieFEV77\n",
       "Y98GWquII9ZRKRCfkl8uaJVXwDP4z5QP0SDYg3ZECQaayURL2vfkZ+jkXkfXQq+3dhCQtgMw3ClZ\n",
       "iMivesNGZqPgeGsC1ZSVJ8I6LXnq2VK7GdION99cZWvOsDof/1guP7W4uYnETptc6XPXu7Xjs1gy\n",
       "M1iy6rPDuteBTDkv0XTr7zgbE2k5VVUOTus/VUD0LigFdl+EA3I7yYVPIlqCE/aMX3qYFjRtFAnL\n",
       "7aQPqRQ2m6uNUJgrRvXNZKOs0u+nnWrZWCQGkw9rFC7rasFaJux512dvsoQFzFafhlkkP8mbOl1R\n",
       "XAAYwAAAAwAAAwAFpQAAAKpBnoZFESw7/wACndPBM3oIAGrWRhpgcNc5KZGHZxJPb2mMv52ubpOD\n",
       "pamCqouth26UvANbByKhzfhYrgHZkQa1SRV7PV5N9IBIuwaXVVgyC7QAY63XwYfaTBFP9LOqdxq2\n",
       "vxMWwk3o2ZLFNFwgp92HTCPKZonTyw3n8TMQadhIDXDpTgvSxJXZaSefEfJffNWUmsAFP4KHRjd4\n",
       "OZ+QjzNvsQAAAwAAAwACVwAAAEkBnqV0Q38AC/IUzjN50AG0Y1fbEW4cojFnmUiS+Lf/EPbAjDFf\n",
       "l20/+kgKF8uy49Z7JXmmZTkvMVycU78gEduwAAADAAADAAh5AAAAvwGep2pDfwAL8AU8v1bI+ClA\n",
       "BtGRnAGrj8NPyGNN+438c0/zQv0xAHY+mIb/0Hs/yN4wGEJz/5H3HvMj6Wu/+wPOCewm/kLh4Iex\n",
       "ySNTxIIdnyvfjRsvfsI6uE1zvU5Xy7YfBc5xaIuS8LPfW8bglEGJ/3obzlUfxMSAAVsfc4X7XZFg\n",
       "lkiDLfYRJqHQtpH+n/2oWcfskDI0mjRwnLcPotL3SrrhbY2diMi4GHRN3XtAr/QHzkDoAAADAAAD\n",
       "AAyoAAABYkGarEmoQWyZTAgj//61KoAAso5qFoATWvJFDPuJQmev2IGJKFbM9ftXomWUGTVsYa7z\n",
       "FabT++ExrlQd1hDOAGMtcYMw9tfIDHjSGufN0WCtzE5GvCem1xQPLD22mGDlZlSE968tg12+MJFF\n",
       "tMvdCcEolZI2PCjgZzGXtWE3h6dikt0zCViQ12UiAlLn9RCPEzrhy6xJES8pvtwGGzHjQg3nhLA1\n",
       "KjOzorzrTujp7UzBdfrkrPJW9FjIYjU23O9UgaITQdiy7QxO77PInNQlKCqsrOoHHt1tERoVHY5z\n",
       "zbUktPUOLYamm3TFfH5/OYDvYpZWi7P74FR2Sf4Ha6zl2BmZ18GfkOl/32I3N0cV84oEA4eCAKx9\n",
       "YJXiAzYpsGzr7Q4fKzT87pvl0hZeFVQ7tUbS9fuHxLRXcbLx+OI6xWuAAAOkm9gnqzhbFsKva6s2\n",
       "zFTPgHk4/Qlb+woeDgqZYAAu4AAAAN1BnspFFSw7/wAIRH9eppOeCZACIPhpW5B5ew0YV97ByJ+F\n",
       "Zb1/EXW9ZbbXIBwtP7H4UynYSsZ007Fx13vI/V49kTNUIqwFrSCGAGbg3gFaFpTKfzY3WNIkgBGT\n",
       "7z+Tlgbbsxkw+v7XTPZubaXcMLrjX9/1jiYAcMNDC430hsUJge/pUEcGG+Xqp1DLzTwrbWa+RIm7\n",
       "BvUawlSeNACGK/DP/7t6vKzd41KtBCIgIXd5Cwt9FFHLdwfEfeFdt/K8BhcVbPjdymmTVQQ01zzU\n",
       "lyqNxjQV0kAAAAMAAAMCDwAAAEkBnul0Q38AC/ITNi8c/bjKoQPAGE8AGq9AIapl6uvikm+QuV/b\n",
       "Nh8yp5ogO8WWDksAvxMSraCkIFQhnyrUauwgAAADAAADAJuAAAAAvgGe62pDfwAL8ppQZoICAEIC\n",
       "q4VzjcFH/Aybg1W2NeGtMtObBeGPBTnqXpvEEkppiqk2zUlp0BKKzRJJwrOGeT4FQrtCpsoog9ZN\n",
       "vWLIUzhqNlMcxOqrsj6YWneSBbZibppCgicF8OOKFsoZy6U/pRPk9oOcICfbf5sLzhNpOLkOkgCm\n",
       "JebytOyFB8+99uailmIRbni7JjY4W8b45n86Jy8AhhNECG1qdaiq2jZ6WbT/dIyDjJAAAAMAAAMA\n",
       "TcAAAAEPQZrwSahBbJlMCCP//rUqgACt9fIwAnbcNnko8zGgpYbPo5yS8UO05fn+p5OnH7oyk3vP\n",
       "+JtqYocCv8KMIf03jJe/qxOXxWiCjFb1I4CRyIZFTwkvXKZJbPVxUc9j0b7KvlP3u/+uC5+l5XBB\n",
       "MBnhGks4d1OXXz2KF5yX6PM/0riikKKJpgApIaWw9B0KyBKNZS34AGk+cVg+uE5uU7JHMlOGvUkH\n",
       "9brjxQ/FL8JsgIUypJ3IXjWV0QAOR3Kv3olMRDIX3y5pQ3Od1xvjm1dLvQ+q+z7WDWoSs7ju+tNW\n",
       "B+Npddy+UZyam4hwCJrEXhgAAAMAH61qE+CSfTY1bTJBO2bNOgwn7dDF8TyymWAGfQAAANlBnw5F\n",
       "FSw7/wAIRNoVMCo/ABzlzstISf+Qnq84WtMeOnubx7kPMADwjIg4CMAsmWtM4vVLpNx0UdLD6/xF\n",
       "8sC/iWvoKQyQDDGlaPOS0/eixcItJjWOnF8zknBCNxdZpqGEYtCBnit1eIvG7TqjZvFpQ+9MJWeS\n",
       "MTkRYxUV/ey9ANr9tTQQk5Wbv9ARr+JqU3+x4oP8NuqhYy9Gcb6dR8DqLq3RxVDpOCKGHstIgFez\n",
       "mydpbPsVy9km5VeLBSibIdEM4QDD+yFoRqcadVW6RhIIAAADAAADADphAAAArgGfLXRDfwALz3bh\n",
       "XE3cgAQ4gi3vY/inPERpY4KqiOHTy9hGKU0tC2mJR8Zh41yfy/JWiLUxOvLLtpzRSGR6jhW36zIU\n",
       "DTeBp0vRcxnooXrOU8ngCLl/Jr/cy5n2auSlQwE+d3AZGl3cjEsSkBPKmVAyWeIuzkQley1tTrFE\n",
       "bOb5rXZNRLyvPmjyRi3Gb675ksl0SfWjmtiehLTuhrUsoHnV9qp1OAAAAwAAAwAUkQAAAEcBny9q\n",
       "Q38AC8927mOsEGcgBCfxaHX9xw52PCjNXyYgH3JXd5lOunDxpnzkrueAx65iX7b+DgB5lIZHDcFu\n",
       "0AAAAwAAAwBgwAAAASdBmzRJqEFsmUwII//+tSqAAiP2bpTfh4AIftsOo8CyzhbHtJNL2F0bEcfp\n",
       "WCjMJ74YolYvteTz8Pz+MN3t2QDmfprl7BzKpXkp+uBrEemukYPqmhsNqqEVOVQpSFeRVHyqleGr\n",
       "scAX1s3Jfc3/7NR/97+zIYNd7pJslt5isQ7hHIzwLHxEpboS5JDEtRH+ZitUdPepnClDs4i5EdWD\n",
       "EiIHr59gADYqboJNn7LvxNelL+rL+S1V/3a0UGp9w9rEjf++JcVCvz8yZ/vQcql73gOsx2DtJ1hp\n",
       "SaxGhY+UY2R4uPAHBUEm53yPS7HmIP/cCKCbjikYpgrGHrOUrUdcgQkOj4yrGqtBQSIKs52/PAUl\n",
       "+wbCPq2nl3pAwXvUANVnGEAAAAMAAAh4AAAAykGfUkUVLDv/AAgsADsYBKOsAJq1DA5LPgMFiHbP\n",
       "Xho/liq9sxVaNlgIamHsFWWPyx35Oz7IPn3/uvCg8lMvD9+BOUfEPYfo6xIhat3GnJ3fo6G+fOds\n",
       "+ExccUvwZtHi0S11a0KudDBvFOv8Ao793IVC6T/V/lEykbQc4OMm+//dnBCFiajU0Q9vo/jGf88m\n",
       "Tp3br5QdrY63uHdFwIM+5+IMj0C2jzL6/4eQN4RwOzQTycGqXzU3iwAHSKqQHRFSFyIAAAMAAAMA\n",
       "JOEAAACrAZ9xdEN/AAvPdxyGSAEQe8zld6P0ELyavlm8qnkstlB6t5qq7JhksUXgjPY9a28S7Fu/\n",
       "s/Dp7VvdVz5x634E5yA3j5X+fZ380QKY5rYVna9eaGCFkjOtJd0wLxrzR9VC8aYXKj2KBaQxdCmf\n",
       "c5pzc00U21fGxQ9rd5HW5aiXetMNVl7C4olILPX4zQz8dls5/uWZw7UoHXkZbTDZ71WLhm7k4IAA\n",
       "AAMAAAu4AAAARgGfc2pDfwALz3cbo5yAEOImcrchAzDGEKEh0o6A6zScy4vCWZ5LJDreBh1ZDoKN\n",
       "Zt4SJnOgC7hny7qB1PcAAAMAAAMAJOAAAADdQZt4SahBbJlMCCP//rUqgACuFbFgBEH0rK1bK+jO\n",
       "p28jQV9Xf+v9o0JPeWyJerTsSOj2AFFcOEz5e0o0BXbgQ0Y6bCbDeVmE7CnHAyUTFvRyICe9t/t5\n",
       "stInlEB6BMI2AiSnJ2Q0yptGavJ2OvON2Okiwz735hlMnFhC0fMbh1VAXpqv+1hutjuAtDbsnLdk\n",
       "dwxYGpUZtdeJ/Q8QYZqn4dvuks0axecK9cbpEHFDDs0bFQP3krzi84LKm4K2N1mozbwqbeiSOPQE\n",
       "8UjjKpK4s16McPPGOAAAAwAABQUAAACpQZ+WRRUsO/8ACCwAVQpwAP6Bn5uQPWco3XRXvDWQ9Ovv\n",
       "tgEWR4wx3sXgo+h9FLTvMJEx7+QkboUyHsrplv4z+34BjBUxcUdo6VgER+8mpNBRxYrRcC0VbxAw\n",
       "bsKud4a+VTPwkEUQtC0rliPZZb35Qg33G2y/b6xxHuBS/SJHMLNrO/qbW/4SyLBXSACZqHyQ/vmh\n",
       "+BFoIGsz/vgVhDXu2WAAAAMAAAMCtgAAAKwBn7V0Q38AC893GyV9ABtVwTFn9VOujsggYsfCLdM7\n",
       "3sdUoVpklFKNlJvaQz2jvUr8jSo4JQrZW/AMXjc+rluogw+5/IzgKIoiiu4xak35gMbGbv1RIW2b\n",
       "v8w4s+tVFmxYcPeB9peb/UHonc+YgJZXdGn+fqEZgcVUBthxDEeHV3r50VPqQrzeMyPF0VEcmi++\n",
       "ZXlO3zlDeO5TQvldpI1N76NsAAADAAADAFNBAAAAfQGft2pDfwALz3cZN89sAIcRM5gDsOXLDEif\n",
       "vl+XfayC9+8X7sWC2/1FEO+ohW5e9rOqR8ADQgLznQWFIAyNAkSyKStBFxHqTTRItDfDAFIqBdyJ\n",
       "AktB9Y/ySb/T5ngS/hyJ14Ust/Y5KK/UnIttiOgqqBqH83gAAAMAABbRAAAA+EGbvEmoQWyZTAgj\n",
       "//61KoAArfqOLACID5BOSszcfehLQlkiUtfzFtYsyehw3nKWcPtuC3SDus8BGrbtkPmKsPtRaIWY\n",
       "W0ciB77Znw2MPscHMKRaNKgQnWqhL47Bl/1gNC4kwOMbPEjC+hDxlYGpUZ2sOrMJD2Q3yE30Boe6\n",
       "MuV1MevSeU+Bfj1QnNfqD45fJ136CBWk2tZD7V4nLHtdmqXHtpPbV3mI7TXv6eumXkkyNQgx/gb9\n",
       "S+q5JKDEWU4crNJ3Wb2tydkHPh1sc19i+AJsws0DpDhN2JnodZgIfQ8QEmpHJqalqLqqMYdReW72\n",
       "qAAAAwAAAwFTAAAA1EGf2kUVLDv/AAgsAE4iTcADao/Ppu6D3t5z7S9Uwt4n/lF7uGx0P30mfyx0\n",
       "gdXONomyK27HWczn58Hr/O8EdmStCkBNamuTSMZ1hO8XhbUuWj32iDMnWJhbu8dKhCiMtxb2BGeK\n",
       "Tz2cyCF0LtBTnzQGyrJWTR/E0QmHmP+7vy90UgVZqs0vToWjz2T6AXVjn0EwKJHWyq2t2bbOydfh\n",
       "DLYPAEdCzgKO2yoK2Id1EgN9Xu6GXekOMUnxtGJi9gjG5ZSWWkaOffk/SaZhdlwAAAMAAAi5AAAA\n",
       "UQGf+XRDfwALz3YwVD7B5ACINcfoRKDBgXY9IqkKIdXVCBZ6om6SPoy0gBDzwIpRWWwKA8/AQLPH\n",
       "/eLSsAL2/ABQo8NlLtY3xLwAAAMAAAMD5gAAALcBn/tqQ38AC892MFQcaYqgBCnvM5XZORUgCdXk\n",
       "sgoc+0imEwaeUO+m2Jgtu3aQ7UCejXd9WI416m7rNPVAb9hCkAILiGEndUHmmRYvjFrmyeXp4Oo7\n",
       "f0gfJnT0stfFyBtU4h4YiAlhhB48kq7VJwcjJ4DLsXPN9/kxOM4kRoUI2+EUd37+2VKs0t7unaPh\n",
       "tFtex4WCsI+6RbkRh1cwJV4AXlUkuQis3TJXUVr/uNcAAAMAAAMAqoEAAAEdQZvgSahBbJlMCCP/\n",
       "/rUqgACt71GxNx4ayOAEP22HT+CbNaBC0pD5GH49y3B5W1H4VQnsLp0JDEFVMC8pTeB8tYcXh6sa\n",
       "sziBpTQNfIC5iqYJiIXIQnaL1r9iskn6XSZXtVKr2ZKKZTfx/nGxNMhggo5EDyT658i9YyZIkRlg\n",
       "Rw8z1joBRphHim/qm8NCJeB94t0OCvLfuuzWUWi+i5oILo5q4EqYaVnv4A8yxaiERKI/u2P+8B8Q\n",
       "823808V8DKaUMNUg/RlgMbL+mAJn4Ri3AL188DihtkFFOOf6fgAK/D77ffmlczq8VuhLt6je/Jsw\n",
       "9S/9WbSrkpIMqa2nuv8AXWcDkwmXe4USTiNNP9035qqKgBGRLX5mQAAAAwHNAAAA3UGeHkUVLDv/\n",
       "AAgr/7tXWDpPOcDoAAXl6FI4dYZpJd35rZj7h1pe4G7Vyw4soiES5SB7yNZlBFLaQhP42FFSdZOR\n",
       "Ci6ADkHKCZ3I2Zc1govNvdvkaffsV1gYrUAAhm1nWfN5VqNh2xhFeLZr/kDOMJ09HFuBlmzOfKvR\n",
       "Mn5gyh6ZCvh9n9q3R0Vz6uQsIRJs+mgj3vJ3w3sow4aHuusbtIojwBi7ilq8fbJ1LL859Z05ubk1\n",
       "pJPj6PuLv7aZaEZCta7i3pI0UHQlIJAFqwNT+R3kiX+IKcAAAAMAALOAAAAASAGePXRDfwALhZci\n",
       "LQLsAIcRM5W5CBmGBhdF03ST60rScy4vFtnZB1bCLjS+Tgd7A/Qt19ygJH4kAC6G0NWGVBpAAAAD\n",
       "AACLgAAAAMYBnj9qQ38AC4WXIipNyAEN1p7wVYkEzeprvEdtVaMpNOsNl6sKLZTgK4GyjIvbD3VG\n",
       "MlqAr5fsABJfEsLjBfbICXlmPQdzsRP0ZMY5Jn22vzt8lpB6gS3MX8x8ZXjQD5MM5eFTp2D166/q\n",
       "se0f4dUiGXT/ykhsfVODQB9qxhkW/cc2o87FG7MHIiq4zoH+MWhFnXarqZ54fPYVf4KXf9rEk1Qn\n",
       "jiJhNTbhcM+kOG3W1oSmptxIHeBkDTgo4/B+QAAAAwAA9IEAAAEFQZokSahBbJlMCCP//rUqgACt\n",
       "9fIwAiDcNlwa0CSO/jwq0XgfhzfXvUJbDETCXNqoBtkU4TQR4cvL4UPjkjPVyG4zD6Tb+E4w1KkS\n",
       "2GR8DVfQAFtakfs6HsyfY2pA3UVl2LPOybPEgH/cTrlUDdQQRa6ha2rFSZsr9n176X9pVf8s1rbU\n",
       "4ORwVsi6eQWBkb+6KIv3N39uB9DU48u9wYlblg9G7Fc8pZbgDELD+gOh5Tw6rBlmij1Nh9zJJuPD\n",
       "UD2hh9lht8FwNnFGPqRpnEqN3IDmWALlzK6QpcCZzIppWQpJHgXSD7WguU27u5gg2Hudj6VUrD+5\n",
       "Z/fEAbzfIl/VAAADAFVAAAAA6UGeQkUVLDv/AAgr/7tJSVpABfXwlGsuwmk9Xm7QNDqNK2m/rHmB\n",
       "mZOj4xzfiS5xA1wrfnpfPY0D72lM3CETwd+XfgGCLZmG9RLWcqU1Rkw7g6AfveckMsBT8Nj8mpKv\n",
       "3YMTcaGIrpE8rRz43cCmSo88b7HNCws+Ucka7fOrYiEuct6JkYmuS8uocIqnFr5SPkooF/FxA9vT\n",
       "GT8XmXoZR5h72x2s0/Gfy+E0xkiMfsW/70sp6hQB4al1tQFISABefV/4gLo+kFoZN6dCO/+bL/DO\n",
       "aITJY5Nd7XkEx4hMLuGDIwAAAwAAAwMXAAAAjQGeYXRDfwALz3cbyLkAIcQbwEZv4pumFUpLa6Dm\n",
       "/GYw2pjV/8v5Dk6rnc65EgdBF38xd0Xm9DvwAUsXB0uWXdcA8pha9wZjdleGzo3IG9wyx6xq0Jhb\n",
       "rFh4ViAOZN8NCTGqL8oyxFm1gkLeIM1i5SQxFfEg3Gt5DavgJabP/T7oVQ/tSGVLAAADAAAF3AAA\n",
       "AEgBnmNqQ38AC893GZOdVQAhQwRCwqaEjBrQozV8mIB9yVbezTrpxCkgJdx0/E26d3KYApvYVL/X\n",
       "4ADQHqUP3jOkmAAAAwAAFXEAAAEoQZpoSahBbJlMCCP//rUqgAIT9oM+pXtAC8NABg9wxcUfgZeJ\n",
       "y7JLje47D9PLYLdXiqOnNwJnafzCP/67ISzdrLAXXV/He4d4SdHomZsy/sDbhL8pwGIWUlsSA7qt\n",
       "CAJX2I/OclpVu4Ii8e8VcaN/lHQgun1YXCfENofNv0WwdMkPrjwABw9eB+jSKgoiGJOOHgCt8hhM\n",
       "b1Fnb91sR8Qluh7aJuLtUpm6PQjbyrHj0VPy8x3bpzxfosaSHUCQeHiGPGTXge80QtGptLyIbnhJ\n",
       "9hl0wvmqTlTorAu6hWdXEDoM/N5/oiDwrR5ctNjjgz9Jast2EukmzslMrsmBcX/zfn/qcQEqVQ0D\n",
       "+xFGR/oCEUKrlP4HS8ITSFzMxc4yuvibC8AAAAMAA0cAAAC/QZ6GRRUsO/8ACCwAM922Bwh4ToAS\n",
       "qMmHBu8iuj6gLdl+39ZJY/MxBvdU/WE8uvPH8q+VJekOwjzhtACejTZM34BgjXcOVFs5Pt3sPAqG\n",
       "U8WNzgNWEPtEE9bhtgQy/rkjXZQfYUff94cVq+lBWb2L5AwCzY3R89lXpgvxDSB9wFLrpGnhDq/4\n",
       "zvu5puvcv+Z+9AWycdOHj2PoZyhXNQt23J7JXRPKzL6f3v4gn+YHnm7AN1ckGrOJfMAAAAMAGfEA\n",
       "AACBAZ6ldEN/AAuh3w9ctABtVyXdXHd0GUb3LWbyqeK9CH9G5dHwHQ/7rUCf88jpWVQ8O/j++HeO\n",
       "z7QAo+U4ACy6cSUdm4qos2biebUYq9/5LpHDdFAs+trdh7A2qfVEOH3C74zcmUuowaFBzdUjrsHc\n",
       "QyT7RsxzLOwuzPHIAAADAAEvAAAARgGep2pDfwADtlOSABDiJnK3IQMwxhChIdKOgOs0nMuLwlIx\n",
       "2Js6YtJNgA3UXRhaieHqdOQAR2tJWOIaRhoC6QAAAwAAFNAAAAD4QZqsSahBbJlMCCP//rUqgACu\n",
       "FbFgA7S9MmeIcHdfUrAIl3iHS0IFu79bROZYuOJ3gwcN6aQuObGgN1/2pNOcDBBuRBfzISoj7NBL\n",
       "UEnTqo9OXc4ou2GQAA3KsArqmwQuoRquoBPe8iReI1ETB2S62voyCE6zSLFLWmZnTtQKHRddEINQ\n",
       "Ta3bv3aIr+oDfjEHdhsO4p+/p1t/896aHUX2YQXLz1OS6zh12eCzgskuHHPVSXkfKu2TMuYWpfDf\n",
       "bthksMjmJr8nNPs1ARstxEB7oyjnMzWvS5IRKGuMpOpaad9t7TLkUKEno0cNE2HLoPwe6YwAAAMA\n",
       "BZwAAADBQZ7KRRUsO/8ACCwAN8ARo8AJq1DCQ12zlcBBjUn20HM4KlK97bx4qrESlBmT9wHwGayX\n",
       "fBGIHxjs6Py9TL+xp5ixEk6dAByDk9w+zdcnba0ihAMsF4QqU4b5+Se+1JRTaE/mK9zx4/HU2uOA\n",
       "AJNdQWtsWpci1ZQ6PdIIxJaDwpD4Zo/QM8kABF1aLHCbAOIuSvt2KLm1dQnDSuQzv70v+zC4mHBO\n",
       "wQiE4k98gyHUN+P5l8RdHCM8L8nrwAAAAwAGfQAAAIUBnul0Q38AC+9Xq58gAQ4iTtuOGC1W0LDL\n",
       "wAc6gPkgnJCERozkLwx0jB28VuW81ecO5xWlIAAgqRMuMkemzcb+cYYpr5Y3kIe9mxx6b0LBfr/K\n",
       "R/P9gWLHeZuiPDr5ucsHPe1+O+FXrfFUILGGWU1OdRWlP2yuv5XGKuCe1nMAAAMAAFXAAAAAawGe\n",
       "62pDfwAL8XSY8BECAEIII+SgRhp27gwRY+iyK5gQlK/huWgFHx4piq4whvloUF5BL2nPlCkAAFO+\n",
       "lUmZbnyDKpEfmAKczzlcfuXqSWv1Q6eaAj9mLxDoP5B7qdF55DSNygRAAAADADegAAAA10Ga8Emo\n",
       "QWyZTAgj//61KoAArfpfUABlSy7sN6fS86xxiTDZtd6SjMYCannSpFB/GVBug3G8DHZ+mS2VPm7T\n",
       "YcHoOjkQAAT/r+3wuugyJ6ByZhD971YELAty59W+qmU5Dpoc4JaGC1nHFCtb5HqdNhgGvKdDcpDa\n",
       "DcGWTJF392XJQDZ3Gv0Jd3S9z2E6DPBkphSocHkNfuR0mjGdorMrCdydM3YpshndSmo3TvmOAsv6\n",
       "laBE2CUnYRGyXJ4AF3/Hpy57tX//Y4voeK75PB8tSUfAAAADAHzBAAAA2EGfDkUVLDv/AAhFKeDP\n",
       "9wofACFNQv/yHKyZrr/+XveR0fd8dU3BRHHo31JrMrwkI1+wVIofstPsKixvkFbEdABx1l44b33C\n",
       "hb2ZmLcgETmyAehzakbyRMxeaUB0atxh28LBwSIOm2suG90QVDFT1AArFBl6Jz23dUIHebqIl390\n",
       "va4TrCQk08INr2OvnSZriVwuGY/A7OyF4zp6MsoSnFaRwtut9oBpg0XU/ZL4ZL9u5Adt3+O3h8Hg\n",
       "WmBpssBuTSIdM7yiLq/filgAD+VZJeaP5gAAAwAEXQAAAEwBny10Q38AC8924VxrXQAiDUBGW1AS\n",
       "bRq6AU1vLF8bJYuH+iRPZ130UumQbHIccqljNLu1kmfG/AAYvKt23O8urXXOmaiAAAADAOOBAAAA\n",
       "rwGfL2pDfwALo9CKfcbcABEHvM5SvIf6CkiCYbKb43PeRnhxrIo5ymSg6jiECOteNNyiRsXxUu6H\n",
       "/wZOqSEgAG6OCbVA5kCes+51/X/3V81kQ49ULVFqP/0QaVbZ+c/9QfW7zeFrGZziI/3LpJStK7bn\n",
       "hhjrHKglDBxCNKFFKUs/CP30dJwAx/zZ2OgdKiZHnVunS1Dc9qN5ZnrxToDTnZx3Gd1VRUXvyoAA\n",
       "AAMAVMAAAAD/QZs0SahBbJlMCCP//rUqgACt7ZyGmk8yCrM5gAQp87Ez5ecShA0u6UwsQL/ROwUg\n",
       "vWX0y7TiVCWs2dLWdvAl4f9x1Y5rJXvtOtaqocgZG6n2SjoBRPuOGcH0GFDKfvzu3snZzDG2+ADe\n",
       "p9sw2Mk0fkEBCcpl3LEXDi+SQaqaTJdELLRAAAEFSfU9EBE1RSacFnW5iVMAjqK+rMjsRJQF/6L6\n",
       "g+CosB2kHQhq8il14u0tyyBnRe6ew+zHlHNp0nrc7JN8FHjeJ9bLOIEbU2DZPAlBlkQ7equi/Nnx\n",
       "CJEAPoxPMmW2yvl5YbMRntkrT2SG3xZCHRMBoKcgAAADADKgAAAAx0GfUkUVLDv/AAgsADsYAAdY\n",
       "AQp8NJSu7qnylfkidkUchIvtWxvf3kay7diUE0YvpG2TfRlV5CnUj1SzQoUbBZd4oXR+AYH/hFJ4\n",
       "0BnnyCgg8/Yhf67QHwmmOPEr+c610rPoLaCmkDJ4oempu6ZWbmv0skY+w771nITFxoQXN8OPWNWb\n",
       "bQhkzyN3BlCH1halm7ofwxHp2AWCyvT9yE1WYvPpjCNtmBHMZvpU1rfEiWCGuDw4fix9hrPJFIHe\n",
       "UjW7TMAAAAMAbUEAAABHAZ9xdEN/AAvvVUvhs+gA2UEI1d6gjWhwTHh6ivlTchZHt+cA2PriojwJ\n",
       "iaxX7exibegf4xenQAA6RcG9Q0atYyAAAAMAOmAAAACOAZ9zakN/AAvxdJjuzdAAiCnGoOMN8AG9\n",
       "KsoVWW9yPaOKVcnzIDnqOVu2EeraED1E8hk7mixeAKQAJ8wR7q0Lhgpi4D5G0+PA0OrW/q0m1QK1\n",
       "jaROrHumW8fISOBnhMNvs5aT/sYMNYbK9a//9YXk19UjuQSvi7p8Zr/U7cZk9EsbQet1w8rSQAAA\n",
       "AwAUkAAAAQhBm3hJqEFsmUwII//+tSqAAK318jACINw2d8QSnQWA/b+aNIbCj/cUDo6R4APm0hIf\n",
       "jeNtOoX/Npc9YNdd2VGqyro83xKGsYyaQwu0MSwAa2GQAABztHZzjK9D4f7e1FaQSs8dxmXLSlXa\n",
       "Y9ChKBZFz88+Osf7QHF5ltywM5/apvaF1Wh3+4oROoLAzXBz1PHB4ajNWBfSgSllOHcMD5MP7bP7\n",
       "BZrkoS2XKlbWDgSH5HwGF09S9EEF2CW+zOo4pOmEB2Xo6/TVH0Ygsc0YnHWuMPte7FtSu9K2rSFc\n",
       "vQykSn7roc9/R7C/eK9YadSd+UTA7xd7/dgU2/6OYGQ2RgAQANe0lNpwImEAAADRQZ+WRRUsO/8A\n",
       "CEUp4NBAbeADnLoBe+4RUCpbCzc2jI33BaMHDK47hxZhK5iBtg3T+hYLI7BzcyfzSVBk1ebJyQYu\n",
       "VnwFICavsLoc8IfDe96BJyAJxmyRuGZJpu7n6TudyHPs1/WQQ3O00SgwtISKpzPwydkx2pDwJ3Vl\n",
       "n6Xg9t0dANbxXIidDOob/G9e9pGEFMOE7cHI5NQkCQqeRl56p9RJO/n/Lvod9eCDngpK6ajq+x3N\n",
       "q6MouY4IJnqLE+3bE2fwyBnXQztIXSdlIAAABJwAAAC+AZ+1dEN/AAvvVUvhs+gA2T/fxVQ/izvm\n",
       "SEsaYwLkEdb1uEjSfds8U8f0VWrReFf35OOzP3mt34AAArptW3Wo9RScWFp1S2iv82NrZUrfajIB\n",
       "JRji3j7kZvHaKuKytF3CWVkbGJYu+B85ruOpEqIOKeyknT/ZuJov+cbEZEh8HEqWNGSfspg/FNyG\n",
       "yZDuQaZLXz1oBtk6RimWvNLLnZzHnFNDL6DSwAhATXh8UAf0IGr7kfZZjgV/IEAAAAMCpwAAAEkB\n",
       "n7dqQ38AC/F0mOdJJlQAbTzuuPjHWSq2s65CwaO+hjIUh5I5koIthM4pwJIIUwP1wok2H16Vx+AA\n",
       "ADZzJzOd1xQQAAADALuBAAABOEGbvEmoQWyZTAgj//61KoAArewxcRa9QANpe13AXqdDWmq5RzSe\n",
       "H0X8Yx7NVxuHlv9Cs5wy7MTsHDJ8IjvefSY+qwAYgWtMdzJ4lCe+HFQfvi1axysBhoOBgBmy5D9b\n",
       "EUHwDqSsUX23XirC/y038zW6JZUoIAAAWH9+KjDCuEOqY32wVU8TnsMYU2n4y57xCQZEkh+EFlGG\n",
       "dvF9d98yhQzaqnZANeZnPGOTqtzgYXcRk7SLWjoQPqsbhM8fqo982ZQPNb1Z3ZXpXm5fZLb+jvNK\n",
       "vT5VnpUlzxRUqjBmySmpBNuA18wjUFdp0j97G5iKJTbozdVHu5M201qbjzxWnpgE80kDTefcspAi\n",
       "+ixSmDqn9DWHRHADZwpggQPa7n7FkwFmgzBvsjB9zikk6eRDyuqaaAAAAwCqgAAAANRBn9pFFSw7\n",
       "/wAIRSng0E8pwATVqDdiySP9lqoUjfbh+skFQH7Ys2OzA66WgORvi1QeVvK7yjQY9K9irfgGBhlG\n",
       "m2nEZ8YoY0MaInfN6dF/ROlCP5aFxH4XqaCVu2Ir9jdxulrTZPerFngdM0J/86r8kzidnWpnTMh9\n",
       "o7IcGUb/Qfi15XEhkRojJFRcb0LiESMfbp6c3Ppol+TwAb6+j5H/SzupaI/oU5MHAQdvCMQUv8ok\n",
       "rqiJdnLg6if6EHV0WDq791Gw4o5cr0Q+XFrsPrAAAAMDawAAAGMBn/l0Q38AC+9VS+VgYANquS7p\n",
       "/YIBB63hkL4KeVMd0VKF/COeyQcdgtNlOWhBV2AtKVwZgqcXffqVC48RSABPfPGXkHu0rsxuqUMF\n",
       "5f1ywteGpNMPzgTK3slCLnR6QAAAHTAAAABKAZ/7akN/AAvxdJjwEQIAQgh9FSEPOFwSYgFUcJ79\n",
       "uIsy5w4GT/KOCr0QmqRyrvbaPYgB7+9w+FIAE+OVyTUBWNGNVrAAAAMApIEAAAEXQZvgSahBbJlM\n",
       "CCH//qpVAAFb9ZmACIPnwNg+BoQBsbGrvcKMT+t26C2o4rU+PKK24kC3iBWBX/cqce4XNpTkew9T\n",
       "M3n5A4JQyqEBLGWiAAADAEe4f/8FFSoxq1tH3Lti9WpHviBSiDvXEmL860VQLLaE+oM5hYabIr5v\n",
       "Y64SqFSf6AIdp2DC2eV9+i3trutu24XxcFTLHH9FzLVDEjxkHHiL6D7+vg6lJZn+JlT2gX+kly3M\n",
       "wqpA113R7ML+D2hDFRZdGoVjQqJ1l/+WZPfpTDL5d55S7IhoDpumSJ+7nu/r2vP5aLTpqSil8igj\n",
       "G0oIwAAMQ5nX3lbEfuNzC3Y9B7QzY6dpu2x78JPjNSpJI21AAAADAC8hAAAAf0GeHkUVLDv/AAhF\n",
       "KeDQbg4AJq1DCQ12zlG66MUBMgQvcZ77YBFkeLWyFb9+JkbJIKUc05mUmz+8sR7Io9fO88vFICau\n",
       "TJxujxeTvtXS92tZ0XMIDsh2F5TXgdiGMwBGA+rM1Q8i8yvgXaZ+Du7WrPlzRSZBcq7zqvwAAAMA\n",
       "l4AAAACNAZ49dEN/AAvvVUvcOKgA2oIWoJ/Q93zcia7A8+wPNxUfa/K5R+LURVW0AtjmMDey0WL6\n",
       "VDc7xzoAAdIolL4lCqeraTGZhPoGXELjNTr17gfmwAkoSS/LDJy8hjpcaPNgnP56r8qVr/SSu74d\n",
       "l4ZEXif3dBIsvL4Haz/rfMX2K8uYjCtWC+JjBAAAAwI+AAAAWwGeP2pDfwAL8XSY8BECAEIIIreb\n",
       "LJE8RGljgq05i9hDLWQO0CklTfKbRpk3AbLFFfdQ53M0AAOjFgWtnW9ar8Qqr9cf2Z6elWjBvgb7\n",
       "GylQtq9uOcsAAAMAZcEAAAC6QZokSahBbJlMCHf//qmWAAVMX8OACdk2QNKXDlBH7IYPvmX5btxQ\n",
       "tQ5uvaDRpAIWTd32q75rvvwWsd857/yBkAAAJt2H0z+vXMcxvXCwukYb7WNf5sbrDsaoeNNZGOga\n",
       "a8Bn48w10/ZAOELdXr0lRHVJ+HXLJ0L6zjYZpdws4mJt3F5/QtZnZ4ngBq49HelLD9pSWiB77FnV\n",
       "9I2ct9x1sWcrzFkWSMDKj7xw+libF+w9hKLRiMAAAAScAAAAekGeQkUVLDv/AAhFKeDQL3jgAhTU\n",
       "MxwhGi/ixtpWnAC5h2AiJJYLpYw231kmwkeEpkTJwB8VDqfGzwx5B86ADjgqNwQ0jQ4A1U+bXkFk\n",
       "4amyRuYfPZKLXgSTvtsV8hSuEEZuPUzP29GQ01W/ZLTQdEjzbNPHUAAAAwJvAAAATgGeYXRDfwAL\n",
       "71VL3wkKAEKe8twSABHjt/gMQkrPzBkYd3sSCgQUanJn6ltzFFpG6AhJpSyzWuSbZ8AyUgAABc5L\n",
       "lpc9KPVGwYPAAAAF5AAAAGcBnmNqQ38AC/F0mOy0QaABEHvNRknDPoevBjZupKZRaRaLr4v+haEM\n",
       "m+GiSeQhu1ATPV+iepxx/J7QmgZEiwk8KQAAAwL8MHHC0bAGsikI7/KYbfmOhtZMyFrlAHmdi+Wd\n",
       "AAADABeRAAAAi0GaZUmoQWyZTAhv//6nhAAKftyQAIcRM5W5CzzboQoQw8lDvp6I3zGTYtgCe8x0\n",
       "N0MD/b4sfVxJhVqwMywt6OGAAADub/5bZeTACFPf/71WgolSSp7kDrr0jq4ul9ZwqZD1frNMjmjF\n",
       "/JMg6pmw8dsdLQk9L7j1MYQI2PFKrKGc5L7d5h0REnlgaXkAAAZ6bW9vdgAAAGxtdmhkAAAAAAAA\n",
       "AAAAAAAAAAAD6AAAG1gAAQAAAQAAAAAAAAAAAAAAAAEAAAAAAAAAAAAAAAAAAAABAAAAAAAAAAAA\n",
       "AAAAAABAAAAAAAAAAAAAAAAAAAAAAAAAAAAAAAAAAAAAAAAAAgAABaR0cmFrAAAAXHRraGQAAAAD\n",
       "AAAAAAAAAAAAAAABAAAAAAAAG1gAAAAAAAAAAAAAAAAAAAAAAAEAAAAAAAAAAAAAAAAAAAABAAAA\n",
       "AAAAAAAAAAAAAABAAAAAAtAAAALQAAAAAAAkZWR0cwAAABxlbHN0AAAAAAAAAAEAABtYAAAIAAAB\n",
       "AAAAAAUcbWRpYQAAACBtZGhkAAAAAAAAAAAAAAAAAAAoAAABGABVxAAAAAAALWhkbHIAAAAAAAAA\n",
       "AHZpZGUAAAAAAAAAAAAAAABWaWRlb0hhbmRsZXIAAAAEx21pbmYAAAAUdm1oZAAAAAEAAAAAAAAA\n",
       "AAAAACRkaW5mAAAAHGRyZWYAAAAAAAAAAQAAAAx1cmwgAAAAAQAABIdzdGJsAAAAt3N0c2QAAAAA\n",
       "AAAAAQAAAKdhdmMxAAAAAAAAAAEAAAAAAAAAAAAAAAAAAAAAAtAC0ABIAAAASAAAAAAAAAABAAAA\n",
       "AAAAAAAAAAAAAAAAAAAAAAAAAAAAAAAAAAAAAAAAGP//AAAANWF2Y0MBZAAf/+EAGGdkAB+s2UC0\n",
       "FuhAAAADAEAAAAUDxgxlgAEABmjr48siwP34+AAAAAAcdXVpZGtoQPJfJE/FujmlG88DI/MAAAAA\n",
       "AAAAGHN0dHMAAAAAAAAAAQAAAEYAAAQAAAAAFHN0c3MAAAAAAAAAAQAAAAEAAAJAY3R0cwAAAAAA\n",
       "AABGAAAAAQAACAAAAAABAAAUAAAAAAEAAAgAAAAAAQAAAAAAAAABAAAEAAAAAAEAABQAAAAAAQAA\n",
       "CAAAAAABAAAAAAAAAAEAAAQAAAAAAQAAFAAAAAABAAAIAAAAAAEAAAAAAAAAAQAABAAAAAABAAAU\n",
       "AAAAAAEAAAgAAAAAAQAAAAAAAAABAAAEAAAAAAEAABQAAAAAAQAACAAAAAABAAAAAAAAAAEAAAQA\n",
       "AAAAAQAAFAAAAAABAAAIAAAAAAEAAAAAAAAAAQAABAAAAAABAAAUAAAAAAEAAAgAAAAAAQAAAAAA\n",
       "AAABAAAEAAAAAAEAABQAAAAAAQAACAAAAAABAAAAAAAAAAEAAAQAAAAAAQAAFAAAAAABAAAIAAAA\n",
       "AAEAAAAAAAAAAQAABAAAAAABAAAUAAAAAAEAAAgAAAAAAQAAAAAAAAABAAAEAAAAAAEAABQAAAAA\n",
       "AQAACAAAAAABAAAAAAAAAAEAAAQAAAAAAQAAFAAAAAABAAAIAAAAAAEAAAAAAAAAAQAABAAAAAAB\n",
       "AAAUAAAAAAEAAAgAAAAAAQAAAAAAAAABAAAEAAAAAAEAABQAAAAAAQAACAAAAAABAAAAAAAAAAEA\n",
       "AAQAAAAAAQAAFAAAAAABAAAIAAAAAAEAAAAAAAAAAQAABAAAAAABAAAUAAAAAAEAAAgAAAAAAQAA\n",
       "AAAAAAABAAAEAAAAAAEAABQAAAAAAQAACAAAAAABAAAAAAAAAAEAAAQAAAAAAQAACAAAAAAcc3Rz\n",
       "YwAAAAAAAAABAAAAAQAAAEYAAAABAAABLHN0c3oAAAAAAAAAAAAAAEYAAB6fAAACIQAAAO8AAAC8\n",
       "AAAAagAAARoAAACuAAAATQAAAMMAAAFmAAAA4QAAAE0AAADCAAABEwAAAN0AAACyAAAASwAAASsA\n",
       "AADOAAAArwAAAEoAAADhAAAArQAAALAAAACBAAAA/AAAANgAAABVAAAAuwAAASEAAADhAAAATAAA\n",
       "AMoAAAEJAAAA7QAAAJEAAABMAAABLAAAAMMAAACFAAAASgAAAPwAAADFAAAAiQAAAG8AAADbAAAA\n",
       "3AAAAFAAAACzAAABAwAAAMsAAABLAAAAkgAAAQwAAADVAAAAwgAAAE0AAAE8AAAA2AAAAGcAAABO\n",
       "AAABGwAAAIMAAACRAAAAXwAAAL4AAAB+AAAAUgAAAGsAAACPAAAAFHN0Y28AAAAAAAAAAQAAADAA\n",
       "AABidWR0YQAAAFptZXRhAAAAAAAAACFoZGxyAAAAAAAAAABtZGlyYXBwbAAAAAAAAAAAAAAAAC1p\n",
       "bHN0AAAAJal0b28AAAAdZGF0YQAAAAEAAAAATGF2ZjU4LjQ1LjEwMA==\n",
       "\">\n",
       "  Your browser does not support the video tag.\n",
       "</video>"
      ],
      "text/plain": [
       "<IPython.core.display.HTML object>"
      ]
     },
     "execution_count": 35,
     "metadata": {},
     "output_type": "execute_result"
    }
   ],
   "source": [
    "visualize_path(stanford_map, stanford_path)"
   ]
  },
  {
   "cell_type": "markdown",
   "metadata": {},
   "source": [
    "For your project you can try this on much more complicated maps, or on maps constructed from satellite imagery. Additionally, you can try more sophisticated graph search algorithms!"
   ]
  },
  {
   "cell_type": "markdown",
   "metadata": {},
   "source": [
    "## 7. Mystery Map\n",
    "\n",
    "To see how all our code can work on any map, try out this mystery map!"
   ]
  },
  {
   "cell_type": "code",
   "execution_count": 36,
   "metadata": {},
   "outputs": [],
   "source": [
    "mystery_map = np.array([\n",
    "    [0, 0, 0, 0, 0,],\n",
    "    [1, 1, 1, 1, 1,],\n",
    "    [1, 0, 0, 1, 0,],\n",
    "    [1, 0, 1, 1, 0,],\n",
    "    [1, 1, 1, 1, 1],\n",
    "])\n",
    "mystery_start = [4, 0]\n",
    "mystery_end = [1, 4]"
   ]
  },
  {
   "cell_type": "markdown",
   "metadata": {},
   "source": [
    "<div style=\"color: #a00; font-weight: 800; padding: 1em 0; border-top: 0.4em solid #eee;\">Checkoff: Visualize Mystery Map and the Start/End</div>\n",
    "\n",
    "Write code to visualize the mystery map with start and end goals!"
   ]
  },
  {
   "cell_type": "code",
   "execution_count": 37,
   "metadata": {},
   "outputs": [
    {
     "data": {
      "image/png": "[encoded data removed]",
      "text/plain": [
       "<Figure size 432x288 with 1 Axes>"
      ]
     },
     "metadata": {
      "needs_background": "light"
     },
     "output_type": "display_data"
    }
   ],
   "source": [
    "# YOUR CODE HERE\n",
    "# ~~START DELETE~~\n",
    "visualize_map(\"Mystery Map\", mystery_map, start=mystery_start, end=mystery_end)\n",
    "# ~~END DELETE~~"
   ]
  },
  {
   "cell_type": "markdown",
   "metadata": {},
   "source": [
    "<div style=\"color: #a00; font-weight: 800; padding: 1em 0; border-top: 0.4em solid #eee;\">Checkoff: Find and Visualize Path on Mystery Map</div>\n",
    "\n",
    "Write code to visualize the mystery map with start and end goals!\n",
    "\n",
    "Hint: It involves several lines, but they are the same as what we did for the Stanford map!"
   ]
  },
  {
   "cell_type": "markdown",
   "metadata": {},
   "source": [
    "### a) compute and visualize costs"
   ]
  },
  {
   "cell_type": "code",
   "execution_count": 38,
   "metadata": {},
   "outputs": [
    {
     "name": "stdout",
     "output_type": "stream",
     "text": [
      "Found goal!\n"
     ]
    },
    {
     "data": {
      "image/png": "[encoded data removed]",
      "text/plain": [
       "<Figure size 432x288 with 2 Axes>"
      ]
     },
     "metadata": {
      "needs_background": "light"
     },
     "output_type": "display_data"
    }
   ],
   "source": [
    "# YOUR CODE HERE\n",
    "# ~~START DELETE~~\n",
    "\n",
    "mystery_A = adjacency_matrix(mystery_map)\n",
    "mystery_start_vertex = vertex_of_cell(mystery_map, mystery_start[0], mystery_start[1])\n",
    "mystery_end_vertex = vertex_of_cell(mystery_map, mystery_end[0], mystery_end[1])\n",
    "\n",
    "mystery_costs = uniform_cost_search(\n",
    "    mystery_A,\n",
    "    mystery_start_vertex,\n",
    "    mystery_end_vertex,\n",
    ")\n",
    "visualize_costs(\n",
    "    \"Distances from Start on Stanford Map\", \n",
    "    mystery_map, \n",
    "    mystery_costs, \n",
    "    start=mystery_start,\n",
    "    end=mystery_end,\n",
    ")\n",
    "# ~~END DELETE~~"
   ]
  },
  {
   "cell_type": "markdown",
   "metadata": {},
   "source": [
    "### b) compute and visualize shortest_path"
   ]
  },
  {
   "cell_type": "code",
   "execution_count": 39,
   "metadata": {},
   "outputs": [
    {
     "data": {
      "image/png": "[encoded data removed]",
      "text/plain": [
       "<Figure size 432x288 with 1 Axes>"
      ]
     },
     "metadata": {
      "needs_background": "light"
     },
     "output_type": "display_data"
    }
   ],
   "source": [
    "# YOUR CODE HERE\n",
    "# ~~START DELETE~~\n",
    "mystery_path = shortest_path(\n",
    "    mystery_A, \n",
    "    mystery_costs, \n",
    "    mystery_start_vertex, \n",
    "    mystery_end_vertex,\n",
    ")\n",
    "visualize_map(\n",
    "    \"Mystery Path\", mystery_map, start=mystery_start, end=mystery_end, path=mystery_path)\n",
    "# ~~END DELETE~~"
   ]
  },
  {
   "cell_type": "markdown",
   "metadata": {},
   "source": [
    "### c) use `visualize_path` to animate the flight"
   ]
  },
  {
   "cell_type": "code",
   "execution_count": 40,
   "metadata": {},
   "outputs": [
    {
     "data": {
      "text/html": [
       "<video width=\"720\" height=\"720\" controls autoplay loop>\n",
       "  <source type=\"video/mp4\" src=\"data:video/mp4;base64,AAAAIGZ0eXBNNFYgAAACAE00ViBpc29taXNvMmF2YzEAAAAIZnJlZQAAUAJtZGF0AAACrgYF//+q\n",
       "3EXpvebZSLeWLNgg2SPu73gyNjQgLSBjb3JlIDE1OSByMjk5OSAyOTY0OTRhIC0gSC4yNjQvTVBF\n",
       "Ry00IEFWQyBjb2RlYyAtIENvcHlsZWZ0IDIwMDMtMjAyMCAtIGh0dHA6Ly93d3cudmlkZW9sYW4u\n",
       "b3JnL3gyNjQuaHRtbCAtIG9wdGlvbnM6IGNhYmFjPTEgcmVmPTMgZGVibG9jaz0xOjA6MCBhbmFs\n",
       "eXNlPTB4MzoweDExMyBtZT1oZXggc3VibWU9NyBwc3k9MSBwc3lfcmQ9MS4wMDowLjAwIG1peGVk\n",
       "X3JlZj0xIG1lX3JhbmdlPTE2IGNocm9tYV9tZT0xIHRyZWxsaXM9MSA4eDhkY3Q9MSBjcW09MCBk\n",
       "ZWFkem9uZT0yMSwxMSBmYXN0X3Bza2lwPTEgY2hyb21hX3FwX29mZnNldD0tMiB0aHJlYWRzPTYg\n",
       "bG9va2FoZWFkX3RocmVhZHM9MSBzbGljZWRfdGhyZWFkcz0wIG5yPTAgZGVjaW1hdGU9MSBpbnRl\n",
       "cmxhY2VkPTAgYmx1cmF5X2NvbXBhdD0wIGNvbnN0cmFpbmVkX2ludHJhPTAgYmZyYW1lcz0zIGJf\n",
       "cHlyYW1pZD0yIGJfYWRhcHQ9MSBiX2JpYXM9MCBkaXJlY3Q9MSB3ZWlnaHRiPTEgb3Blbl9nb3A9\n",
       "MCB3ZWlnaHRwPTIga2V5aW50PTI1MCBrZXlpbnRfbWluPTEwIHNjZW5lY3V0PTQwIGludHJhX3Jl\n",
       "ZnJlc2g9MCByY19sb29rYWhlYWQ9NDAgcmM9Y3JmIG1idHJlZT0xIGNyZj0yMy4wIHFjb21wPTAu\n",
       "NjAgcXBtaW49MCBxcG1heD02OSBxcHN0ZXA9NCBpcF9yYXRpbz0xLjQwIGFxPTE6MS4wMACAAAAT\n",
       "b2WIhAAQ//73gb8yy18iuslx+ed9LKzPPOQ8cl2JrrjQAAADAAADAAADAfvAv4EgnM/WdCAAAAMD\n",
       "OgCQgThZK/Rn7k+ABPwXbXJ9n59ke7y6r+/dEqEaFEqVCvMdg75p7X1itwUHwUXJp/ALZLrWsrAL\n",
       "MqdN2d21VbH9W46If0lbZ99g++Ym7eFDhVNtDKxgX3k/bxb70v993+HZ/F5sDec9KKr+B9Y/0yJN\n",
       "MXmrKu9MA7DzurL9fvidfw1AUkdYCTVQM3tfRdC8JhY+MOlYy+cY3hgFazCsBosEMnWa7VPPPjpv\n",
       "2VSf2QCFER9h67d06O5uqVxJHG4q1iI2+EfNS1AC3MUay20Jxou10RIS5ZwTTmdsDIJyixH81nha\n",
       "hTxNIQRgcEICqeCxymXjFoImLb13qtkcFfhjX0EkzNFyjpnoS0HmiDtPUgtIqt5ei3aZBJn/UH2r\n",
       "pdYu84W7dWFjs0Ub7rjKvw4FVed/sAAAFQS7dsE742QBTJp4Y6RopfhNCdTz4U8zHtBAMrsxjUG0\n",
       "XsYaHb9DeWEpeBQZioSHaG7kNe0XgCJBKgKcZLVmm+tWYrC+DI4n0VKBwo8sZ1/a0m9LDT2RGWfJ\n",
       "c9dJse3mXwfeKbS5zxuHmwrdNQhCU0iXM/Xh2ggEjqRTO8SkPHwi8fwG6yGJzXoqWp7iYF1wU00p\n",
       "zNkILv32OuCAGXhERIA6UHi9xg1zH2X1nNtmhziyDFwAAVzvKGErP1tPJ+wV3+8AABjq+Bgj7Y88\n",
       "GHIKm5igy9xLXPAqpKI+WTYDyCqZNaJex4/woH5KDIHWBT80UgfNARQ1A5eMAAEb2ji6CdDQIgLg\n",
       "fkn1G44hbxfc5TijAnwqMpP4O8DrnfzcPI7D3x8jhRVCVFjSimFyyzUm1H4znKgWONv3LUSgrDbQ\n",
       "3Pq2hFR69tkYZj8Wz9fjUjPhznevSJoEUgDq7sOMi3THBbGBHNbxQjgD85cNEtV7DJNorwcHwBky\n",
       "zU2qfZMioaJgFvvfUAvVUDK1bui1O51ESgixUWg4FU+edkGzEcXvOW9pKumYPugcLcxCimUhqQod\n",
       "DLylUIAIa42ql5T/zn0DUCrgVknBxMZx3wP3qIE1RFmpHm2zbfrerekYBdxh1mD6A0nc58Rh15/b\n",
       "f4A4OjXye3jAEanYEnkOpioI2u7/DQ5zV3SZvhjTJRgbkW68OasA3jzvb/9LrHsFFubP+SzcSdNb\n",
       "Zihf29/MlEXoYnuLk4lX2W69OtTCKkA+gs32saQnjRXU+Wa2zUHD7xqMyxFkBiVBUcV21wlAezpC\n",
       "Ukf9MzCkvwO/j+IIl9PnoqXsBDUxmKVX+Ro3nm0iMbEKhS9hCsKunj09QjXdOULG3PBZ3o1KSoai\n",
       "dzz2O4C/CUH07QgTrXf1gNCZcdngA5ujlrn+rtlJ6CMTHrs0+dvgh0ysvZ2qZDPdr+wjedGGlFvJ\n",
       "5JWrRnySYgWuWvYN8XClv/MV29mgsDwwV4ogC6/pPIHZFcrNe9acOZVQHNq9Mf/8xUTFg82C7xJg\n",
       "jWmYeRrTQ6ptZtHM30E0hcUaAipM0RT6eEjKSdI+OY+1k/9dOkUbekbrwCOmm6xOs7WuVtrU6OUR\n",
       "4RfXNZxwCyndtZaD3vbDFjPvpDmnnxscSiXRqZMliok6CpVWvFG947VkgDujhikuHj5NdGyS4Cle\n",
       "WMqEzVdV7HQhXo2FTjcEIhWZyh/gcyMiawOdG/TeNaUw/oxeAGlmTR6zCHSBm6lRcvMCyHYTI/vb\n",
       "064S/ruq4HhtRusEOc3kIhUTML2g/73/h6/8U0I4UMSkannWy5wd/mGcuFy/gz33KQH4y+UXwVIF\n",
       "pqS/9biumUvXiV9+/yBWtDIgbGYlUns+2PpHV8dLHWbdXLrAE0UF2DVU7/vkj4bH5cI20hbNuW39\n",
       "olDGNI8uGWvYdlnGHi8lD52h+8rlyDtuGbj+aCfnmr+MB89F5Dug5XSOwN+bNVznrZpvX7pF9fut\n",
       "3QLdb9ur1DXZ5O9GDOcQa7qgjC4/krIdj+QdY6yz1xGAxOECIAmOA8orTTkVB6ycoE2lK6lwKZAM\n",
       "LbottcxMjLOrMaL3vckyMQzqVpP98IpOCE55TZg0atA1IogoCu97zUME5LGkhtKl+Snmrp7aXKUb\n",
       "gOBWsG/NBIG3lEulXOEwuZbYw4LTvXfHXNSJZoKa5mx6IkVfbQtk3r6sOXg8fu9rAt7zVDZR51wl\n",
       "ZwfhW0rUiWYSxyD+zAT3NmyPVpI1FYoFKbNeHhiEFNeR1kyIjJVAGIebBIk1s0unK8MaqVsfq51K\n",
       "6yhbzV6LNa3vvpAVNKLfCzjJhIhm6JrOz7jc+zM6JPrhIDUEPaEoyJ8sf27/ZgHTPCA62nt8BnQk\n",
       "eGCu2k6MmnH1RwzvRDZvZEVC6JtKY81pYY+vIlKNbkYpHnynafhZRGLrguaENaBi/kkrPU7Amfg6\n",
       "WrMU0czmk57OU/lbC/jXw29FHzYu798XDKBEdiW+c7Oh5taULxtu39j+BYSHFyQRagfAA7zM59YE\n",
       "uesOIeP9D9WtRWIrvYworWWbJleFiP1V9+K27PsMjw4MphjDXmOIk65MSA6FNGHgVHuY2m/dkNsr\n",
       "pR2Rj/M5n8RLomN+ZAr6/lWpc+wxY32o/lBo2gKy1ChgVWxOiZsPbNlbRtWnPTs3ROkJrj50bMlp\n",
       "RqBNlj2mSkF8fJuur4XbILwQFe8PRAIf0suKNJtjXgWcbTF1qoCs7ENAC3iRGp/3r279aoBfcMO5\n",
       "jr8FKMiap6L3xi6wHvPMOtJA2CELQOfb78/muRmkFsxn93t/i/+T//LX4+4H1DmI/JhhOZifdm7I\n",
       "oKdhH2P/97gqmRxak00aPS5WEb/P/6eZOqmF3J/msY3bkUK0qmdslWgiFjuDr7DxhenbE59BsQLW\n",
       "kpVd02YNQvVeILZRcODeVJ+I8RyToANOXSe4sBjat/BqXK2/F7dgHWSghVF6NfhhjVTtttRlNKTM\n",
       "S53zzByRyrmsjB/dBbS3YlxQLeJm99nAV7Z190c9w7x55Mjpht/tf///Qv//+izfqCR3Pfff/TjP\n",
       "QxpNmtAaeVM12jP52ax9IRm3oCnPpIFPBXI41IUTj1AtiLYCVjNc1CcOZROnehC9h3PeffbH0/e5\n",
       "1FyONqRuCSx6CCjlU8pfJBN5jL5AEVhE/zCOP5BSYCLJJrqO5J8s2JBuHcuNvOAQeKMYsxWEWJfO\n",
       "Jfq78Eyy17SwiNVhA5bMydqZMDbcnbwOO6JFsZcP51qNyCg5VXmnoDKuXqJdt0VoS54205DViEo3\n",
       "k5KI/CD7c5nOYBIwPCOEFI19m4Tx2t3wHIHS8uqhbXSIb0afihXcCebrBpv+8xzER3qm1AgSvaof\n",
       "Ei776+qc7G90ZWwMjAWSEV2ZrGRsJb4AiHHx8m0NNgQ6nF12s8cce583VjXWJxfc/wnNgzO84BRD\n",
       "mSD3T3xyHXlYR3okN/x4C7Y6iCrJMp10Tzrf3ujmVxEOO2e5n3MxaayDG0gqz7R/CMB592YyfrgV\n",
       "CWnh5NHRwrtHxS7j3QciH3BCHEEQASm7/8GJzU7C2KP6/SZLZFUpIemB2eQa/Gh7h2fH471NQgCJ\n",
       "ODqIddYKJZNP9mbnd0T+aiPJ1hrggwVvu/TglJdcB7JFOWf+n9Fb5EI79sD8Y8EhRDBkdrmZUzwx\n",
       "LQp+UlWGUag8LSkeWtl75L0iIXuXfkkm/b1NGn5USNhNG9Fwu/pIRGkUULfu3hDQWmziLXn5iZuX\n",
       "5yI5KeiWI+1oZzQuJ6CxQ7MJKkMnCVB+oZ1Mmoz/3lsaLE3HyYP9XoJLOCu6Ed/72lyXnqZEVSzp\n",
       "ZbKj1M/Y6NHbIOb+iWardoHXeJcaU7xa9nePMYkyXe4gBEY80dRDqAWP7S5cEN78paR/FvXSEK88\n",
       "6uJUnytair+ZpDx5AkIgJUuMR3yHg6sA1mEEK9ed2q4cR7wofdrza0Jtuq0vzqQREEdQr/4neUh4\n",
       "+iNg4CU7BkMTt28qc0UwN5/+FTPQvwxR4onQ67Sc9OeVLvb/q4CIb/BKFRwom6lpPA7VR8radDJz\n",
       "KqfmltsBQMjnGANCv0+cIC0eIeEMBHDZuR2fpHzQU63rPVuSUOb6QqnDVv6zHHjENkdjC5RQhWnk\n",
       "+5CY0CsUjcmzCb38L3EO4rl+f7+HSz4tSMLr2jXHQEVMafGciFju3qkJotD7MAU90GScd1BK3to8\n",
       "rI8JnO7WCuohicSlwyzNRwK3VzUyjUkPndQOYm6G0rbPSEhX4Qu1fJzBLxc7HEqXNB8TUBuhw0e+\n",
       "ujn7PfKhEhq5l3SPTG0tnZQMsTdjy+eUH6nj+V/WvlycxmhLYoI/vXLxPCv+U4IkpZIU1ezgtJU/\n",
       "wVIhXB+qQX3GEAY3Y6kAZriVw4n1oWB0j7YeAA3AV+qLXPO8TX+OkG33aUzCWuDuIqDZvBtDw0zD\n",
       "owTQv0Cq94O1C2yIWMqAqnU3J9R6yy7DuCElMXhA7/G3cCi4LW+VNwlv1Y12LQ2E0oXOrqyCrpD5\n",
       "IEFJntz7nvxPU5u+EY4Nu+jHbINfePdmKCfeYSiRGkedHhRicdHX7kVjs38kmcP/a5Hszn//Bd47\n",
       "sckF/zUf8HJ78CPfLBC2Jz9pwtBik8Ue8LvBCCti731bCp2nEQfyQHl/eJ+nVfllojvep+jirL5q\n",
       "Dq/0PdScbfgkkYge2a7d/bW+E72B/2jVWEFB61k56bN/YWiq2bXFDpIyga4k0AAIt1ON9KlsLq91\n",
       "94yoWfJsbWftHTbtRRo6CGjer6Nx/bisbH7Bh7rbml/9X9uj91QXhptlcpFw+xWaP3cjyfriuFjj\n",
       "8coYwSykqx3gEGoqg0YkrdR4u2Foz7pVzGEtZpmM89yZJ9eSSB/8b+ERbs/s/0VDodJvlEPDkDgS\n",
       "lWq5vlVi0uw0Y+nhs8qdTlo5KxJf/3XC0gyCxWgBPXrv2JzHW9Vts08/aVqqeuoov34SkshgemiQ\n",
       "mR2lj0SHB4YvpnCKNgl1Hz1sgDmvAC9KIdN93uXoPipr5g78VxKuidAXEeDo4NqY/4TaA1bmxOKY\n",
       "NtFI0a8UAiBSo8gGUvpVS+kLV5ezdKvoYUBzDqo+/2mCyApsX9LFn9zwg+AiwADTomM/9hpeukFi\n",
       "tkbL+REra8vAL3a+JdwCRZr/48l3oI3ZlkoDSTHm/846PAu+e4j+QcTbVV87Xhri+giE+/fPykNm\n",
       "CZ41W4Sbx0jXwlfnBFRsMIjVi9Ccm1t5wnAx3YRNnDipZeikYARUT+Uv8rhVs6ebd4jWoa0SBmfz\n",
       "cg73UjRQbffu93rAHZ3rDN5HkbGnDcTRZ6WA7yFSmoDNiuavc+revxHoHu5DsK1c7BYhyM26hE8A\n",
       "iOb5wlYAQsqsJLUZIaodWQH6ye92ODiHwPEJgWA/dgVUF4rh8DeCO0TDPC5h3bFJCSx72cdPxo6o\n",
       "td9RQ3vSZHWqq+b+oSOrgcDZBlzyQvyR1YkkHIUlPXV1RU/80LY6VNVLlzsoi387D21ymM+Pq+X3\n",
       "ZO389O4hrW/QaXAt+B6ekmTEEq9r68wbNl1K/4QC4d+30jZArwAZrIKGE/rDZ3siWXXdFv3yPlzv\n",
       "8VYXIXB+VuHFpSL/yDqz2pBBWkcTqF+dWOa1ojjS5RCNL7qgyw6JiWPBpdKabLZ40N0Glh8VbQCH\n",
       "sWdatn0xIDW4JerD8rWd/e45cE4WGqE6G6BYLE82j/A0AeLGBmPd0xQdjSFj3jvnmn+VvBFEwyw6\n",
       "7F6tQZXOkgW+EHnAAqSfDhnEVC9o8iG4iDwpIat/rT66kfJB9FWzXF8isliktY27EFLbwSTys+Pf\n",
       "s3tJQsG6/Gu1Z1pS1K25Lz2hXlWjSVnFIKPxYH9iTUzrX8fzcTct6KU+W+atZcxRrvfcmhL+jwXc\n",
       "hCEmJID6db9o+mfTITh9CqCqqD3ipOdeoQ9uMKWEf67w+a71MzOkyDNwLsA4gCy3TzoEVSlNNgOd\n",
       "L6/neHRuD500fdNoiSj+7q9wu6DRWNtAsA4HHM5Wn916DQvcVMooMVVwDNbsHbzqbBKDmLFxMZFy\n",
       "ej/6TOjH5gTTfDqs7H0iPElrjl+9tkE+5wvkEbDGhiudtzCRKqF57bL672Qdh2u1O4TiXBQOIf/w\n",
       "jLoCx5++nGmACnqhrgog2D3FFQL2Ubsbl4c035FLHfxmUqhfL8G/wMmwyqRl/3GVmnsTGRzY2rwL\n",
       "4uXXDjNEH9O20waQxan3DQz1gUZ0elNo9x7tKuSDZ3bmNMRnPJL9GBGNh0+Vfc22gDQy1q42+UGS\n",
       "v4z/JIr9oov0/O2S63Ni0AC0wKUZUicghdLYdHV+qHI+33bWyuxffeeyyF93CPL6cufcuaE7N94s\n",
       "xppjNQCMCLS5+1hD7b8w+AtbpLLCb0/aSzTJfBpmgDHcwOSAkABDvWidpti9kHR1v9lmbbHfm+CZ\n",
       "IOWHe/CmS2Xml4GowOgx4B+4QLDkKC8NMGBOyt25DU8Apty7k6/z0DyZuD26pjPt3eSF4nfhRp6R\n",
       "PFHNx8aY5X2OU7TrCNQLOD8JF5Lqo7oM+CCJKKMbQQT4oa1j/YcA2HP9qmh7hxIND7YdT2q5XSSj\n",
       "fiOH84WajRLRyAAAZULteIeiQD/bEgZHvJ1DKDxaLOYCIl37QAWIw1010mbw/q5xhilg0148Cxzx\n",
       "MnlTu2TygABzQIAAAAMAATUAAAFsQZohbEEf/rUqgACt7WKfSBgBOhbvbZzd3vBMS/4xMJUzR7Zx\n",
       "+j4+lRP0wah85x3NcfJj9ynCoKlnc7MPy+n6hWwA2PzUMiQ8TFe1u6eE+dWAkArDZpstVF+lWI5C\n",
       "3SSyLINtTwgK1UZ5HtDDeUNxeAAECoiELFCfvOewDcr4d2ISAi/gL9pRrGtzMYT+Cngyd0AsM/0g\n",
       "CcWBqVGa/E5a6B0EVV8nnD3Kg7Wcd4a41L4xUhMZFcYU+QdpB9quL/DBK56zVKzS+zp2Si3UqE50\n",
       "czs4EgI6f/3C3EDz2dNIFkadylLo2xXawLS+Wta9FpxaNEsCkdPfcNTWStEWYfABQ5iSbXh1zDtQ\n",
       "pPjAHH7RlOMwy/OtlT0MqctiNE5gbvhEu6hhpImnp8/V74pg7Uq7NwN6nRkIJSyGbqk3DjhPQy2+\n",
       "RcPB3teImpSBFk8RX4h53F/iHNbiZ9XyQjCkamWKQU+iS724xXo78rYM+AAAAm5BmkU8IZMphBD/\n",
       "/qpVAAFcfu1QAJZR7jTksygBPrDJxGEq6FsX5Fhi77dzIsY9doyabCfmK4GrLjfqe9tv2a9YzBBP\n",
       "b+hFnwO5bPWaPBJlqLXLRPvicIJN4JOAfNbKmz3ZdTVzSAWI+gnAEb/zF+8dam0YguyCe2qVQAAA\n",
       "AwPigv4Jwdg1rif6cGvqiyyl8u3tyjGBt1a1VQxrnNxvh63P6labdkiVVq4jch4h5odOPbQuGrfC\n",
       "pyRR8DP8bb6robKpPk+u+NIahDtYBeyDNT1Q2ycYPoB7ZjyE5ozWfdJJOG1OCK/iSFPHoS3LUGtt\n",
       "K95Zijy/qxTlvzoafz8FtbaKsE7jD1oIHA91ufZQTD1RydzVLWvfahT4yexgTSQuHB8WfcBYyr7e\n",
       "lFnxJ4fMv4NyU9Nz6eAwuB09n5pY5teabFGeZCORDb3dqDxnrhpQPtAxw2lhPpV6CN+a70P2Jzzc\n",
       "vyARygZR2vhHUnBST5p9LT0yE4X7JBZXm4bXWC8T8B16/mk2BGZFv5i9JfxPS8OCQCDxXhyNFzHC\n",
       "GIMK3jEwyYk3xbErvGpMaOxWM4+CnaY15Wh7Yk4R9OrAe+4A6j6LZ8fX93gjWhq2g1siG+CiQau/\n",
       "ksEozCveqqqYdCOlUn7NaqYYp6DZBn3qyQmFgvoZzqsKGal9vAhAjM1FzsHhXsV/qAIfv85K8mRV\n",
       "ZZmWtcah4abP5Tzj4NgrLvDJj3oVkFD5zi4niFbnPii3lHaDulLhw/53gX4XklQNsyBndwPwbqjE\n",
       "xbgnQ5lHgpJpP+uOkXXCh6T8kSePS/ek9APZo1f1CfUvw4KQ5wxgAM+BAAACG0GeY2pTw78AAp3m\n",
       "HuWAATjTI2YQUlTcKj1k0uzzxb0dB60rvtnFwCg6ZyIXecQ1pMLLWd2kMj4AAAMAABK5a1KoAAAD\n",
       "AGlCXW6ya5ektevhuHX4eGud3N7GAQypiHIFQ2qvvdkeIU0EMGRiybBlD0uqRHAyp6Z1X3sbrTh/\n",
       "BYH+n7DgOugLRX/oEqA/vGCQwdIZ4Jq/vMcv1uShKGMvPnXbNIvgosgtgawEBsyLKCzKIHhy+l4x\n",
       "mDLHN3SLKbnQAGOIUVkbDuKy1iRF2DnCvTprCaoLVeBm2whr2JSJ0jdS00UxFfJgreJk5fiQPREI\n",
       "xk/Yrsfx89JLhXyn89cDb5DmzYUWNKGh951r7nsF6IF9dJW/mfo6LbgoZhO0ODVo0WROevzS0vBz\n",
       "1i/LSW/TxTXpF9woYe/5pFjiaEr0po1UJsjV4QQaTlNpgJvWWcrOx5lCiyfJQ1G6kswIkHH4PurR\n",
       "ORWRR4KJpz4YMXWqB5Xh9BsHlqoDLfNpXhc9D9ylQqE9sgCGMsP48vI25IE9lWuA7L97lhP5coxC\n",
       "3n0bGSEK9onUssfK21Lfn749uDifmERRMc5XTEGkjhqA/2G/uVnPuL+MAOILWzLi7FJZuXZst7AS\n",
       "JnJtWteelIeQwY+MgpKbt73LepGZo3c+SusVSscmtXxTrxU106WcMRx3/SF8yPPL7I6mSkMpwo/k\n",
       "3fN3isHvwqZD8tbrYAdMAAAAwwGegnRDfwADsmFnsgBA0Eo0aU/+XWttd6U/CAjl/KOIUHkC90Jr\n",
       "6t5RgHdhRgzYbLecQ1hO8FI6gu/ZHWAAAAMAAEGlrUqgAAADAH6y3fVa83DVWnYGwHjYjPvgbaeE\n",
       "eRNaO6eujj4KFw4QTnbUxvxutp6D2Txrfu63KCfjrl54fOH7f7/2mEhCAjd86tSVk7wWElnwqwhA\n",
       "6nD3hF5amQxcKr83psh+iI+jL/RYci+W4VuR0kML7UBB9HYTbIV/rQgBKwAAAF4BnoRqQ38AA7IM\n",
       "aiYHdABtVxJcYXP3pNCUC2Wgrdi2GLell1ncnKqgwxdUPW1HtiHS8sWkl2dPStpFISATb5bwAAAD\n",
       "AF91JIVdgB+Y3c7aL/Bncln0WMIDijTaABWxAAACV0GahkmoQWiZTAgj//61KoAArm1mKwAulJYu\n",
       "KdJA3MGSleUBbMzHZCjuH/1pb1lY/bdhmwyAylYhIbqC56FI3cFsW4/B2mrCHj4GU/+kLKqXTgAA\n",
       "AwAJqJCMRdyfRSPck5vrqanBQTArmMhOCB5szXPiwdDZphwlzkACW7Cku98feYNLqsX0ipactfxr\n",
       "gxiFcAOd/OgjKCkq6eLlawAqrLETkmG9DYwFwxp0c9Bl8WaasUd1c3ZjNcLv4M1pFxLzwj/k62aa\n",
       "QLG5+ynX9GHfEXGbv8EgIKw9zPxfrsK2ZsriSpnc6gmffbLJ42Hm9RGE0+pJ4VD6dSvkv9uaujit\n",
       "jwBBj9ZzyJaN4h1Db8YNjRWpl6Yr761GwZ+8BoTfUfzffjPfmY4dPo0+/GNv2lUbTIF4PAIRrPOU\n",
       "l9cIErojsOhoqT9LR92jaLe0BMQNuo/ChzK6ncXnEgMwPp4WK+vTMRoQUsaVHuQmep1JSPBh8/vw\n",
       "pm+IYN8p3gFqlkqy0AtalWF0EmelGP/6fEdd86/A8jP8YAXJehH9jJehE6E/Mp5xS2txyrXfb4NV\n",
       "Mhl3PhpWK9LweHaGZKMfOFfb6iIGuSbkThWnO6gSVn/UL3vXqNp1Kp0q0FrtNBKTZBwa6jneI2Xt\n",
       "CbbpCyXwgrlGymhfUZUk+uk+VdmqIdiDy4bXH8/dW0h4NMFkTdx2U+iiQKtJL/ipQtAJ+RkbnF9c\n",
       "ywjJTQJY1CJGiMSKxO5UdpzaY+T+55NREdQ+cze3LDHStCn/YWKe3Q5bEDcweYoU0gDDYGLjdx1A\n",
       "AAF3AAACbUGaqknhClJlMCCP//61KoAAso5pde4lhgtfoO2z1gAnb51c8dBlj4x3haOb8zR/qzmr\n",
       "isEGpj/t5j7JutDpBgqUZiyQRwmWKvSosVl5R4VzFDmtXvBHYgWm5Nx9h0f5WkL2VgblsDo7tjfU\n",
       "z8nJs2YRGeZz/BKqnlhe5ayWGCZWSMLpIAxgABGfov/q8n3lsutpWjOkuAVrUdE5DPNab/2J0ZvY\n",
       "zukOuUBKhyXHFwn4baq7Nab1pCm7cQ+atUXjwQvn+tU9TfAlTP34YyOzmA0oa7vjrZ/8rVI/XbNW\n",
       "zbDs3wr1X4XylHYgrBuNcDse/s+oxfE1D6opSO8K9Q1AB1g5u7kSoL/vMhSvY1Arf5TFJt6//+TG\n",
       "p61WEeCya13DSepPmAEyp/N1fvv21TlXWhP79sesU1e5iq3vryvoywg+8SnaJimXsmgGM/ML4vJq\n",
       "my29rw3QVsHNYFTWg6OixlFkkTM/jvLgDtynGA54Vh7iUTrjgnMdy+680QGf3otHY7labOVrCCwW\n",
       "pncpl+5GMJ3FgLZpFlKwlYOKqR3CQZCnB0rBXfjhq0sleGzdiy2vcjll8Eqq8e7PV9QxLxVc9ttP\n",
       "5pkOX+gpvrP03GhrBF9B0j7bom2i3cEpiHiONByDkYIJr7zbh54S4X7If/refKMUwh8zJYDJU7mX\n",
       "rdxCte0deI6R9ExdFwYtqeFJqw9SxAdRpmQSMRXdTYT2j0KOvXOqkqyEbOq+KrgGHaKOj//ko2Ru\n",
       "bcxIHG8NigxzbWFDcFKCOXcP5nPk17Rs1j9tJnS3nzmMDiayvzq8jFSb/VVNAl247DcjLXo8F4AC\n",
       "FwAAAgVBnshFNEw7/wACuKsSe9UeoLgAlww6dvqqO/noLp7JZMPTO494xT9JeYYOl3eM2WeVP2a3\n",
       "Pz1GRzQAAGK0AlwkIVDgk2xtLHOTx4dE3KfzY3WOnZIPhVJ/3rsNiHLJNh/E4RNtkqPPYCHH8lb1\n",
       "HDSvhQ7VlKPPKU1ZsbdQFTHtjEUp68rOdAn/3zC2fn+tauz9c4imVwXteE4vfVSrzl9tjHHyVrOc\n",
       "vuhhg3neG9h4tvOouOFqcECpcgn7+hVAG/ud99v+MLmlQFCm6No5KxGPcSy3FFctre2atEI96ZNZ\n",
       "fI/w6VlLQ8efHfBkVmDLPMqPeQx3TfkJ1EvQZBwO4R6fdk6hvuWVQnAg9NSEC9OaNtB+Fao6fUVs\n",
       "OLK/WxowyF1vrZiBTl+QcllQVnGJEwj9lIrvi5zmhRnBUUOGRM/7mOqwWxu4VujqlZUklCZRZBSo\n",
       "YMtz5syzS3Bs1HeROeDCF/Q9Tx1No6Wfhj/CxP7H5S5FnAaWvWZZnSc9sFDdhYPbCfrOdo7Yh44u\n",
       "MqG8gPEPJ9C1KMhVSoT5Oz7ar7lexvSYbHHatXiAlfSHm+r4hyD1r+vJdUKVppDsAKw55sT2TqE4\n",
       "/9zD6K/jRaYYXdqkOdRCh21qjkOYPF3XDnVC6uV37FgGa78QNv9NUxMtY4fZgHiE0kFA0vedLXq+\n",
       "fzPXuKOggAekAAAAuAGe53RDfwADqjZe9jb1CA40AG0aFXLagJoO5dJcPQ44iSupLDKxKfhRaglt\n",
       "xrFDvT8ZvMatv4X+cAAAqE+x7SLrYTA5aa+Tp4SWEcMCU0rOrcWt5RcAcn3b4D5lneleehagqehd\n",
       "03hHjYbi6iO+e5oGLMU3A/Wfq50aX2WHJVgvFlH9oe14QPODovgX2Ayangx40/yVPHmaGH7YXVnG\n",
       "Jldt2nrIcQwpowpySMlAE6GYRYRb8xqAJeAAAABaAZ7pakN/AAPMTi3w2gt+xGl8AAfvyZU6Vtc/\n",
       "LHlGZ7H1uf78+5dCU/1OMIU3aGXa1NHVmoxe7lWAAAUtDqXaovRgjvMEB0Net6CRLub/9qFxX3IH\n",
       "4CgXQAEXAAACi0Ga7UmoQWiZTAgj//61KoAArhWxYAXVemTPnf8n2RrnQX6wIT2FOSJGY2w8AbmH\n",
       "rPgsWFQN+OQMM3jdNcI9tnyYB3PINmOUAYlQYGBO/aFQ/isj/YNUTRyIAVk3IS+4p+41xT26/3Zh\n",
       "mvxOWugdBDR2G0xrYG9ijFOF5TjPHxUR4IN0MErbouFFnXv5f+UT0G/LanBnorvfqy3of6RcotY6\n",
       "9qMUtAuIqUKE56fgq+Ng+gcBkTD7nW5D+v+/ldv0I2csmCbT7xBLeB5FS66Nc8V0WQSvPCLA+IE4\n",
       "LCNF8dm8qhez/YvAYyuMJIxRWk0+uV7mRjr5cT/6lgDdqdNppW9YdMoRIxxhkHZUWxYZc2pt5KWG\n",
       "af/A3uTgFQ7Bc340tz30FSHs1iBRQl/iObvl34Ec38i+bUhWPF0b93zdyit+DmUQA60xBc2wg4PQ\n",
       "j7WB/BJbS1sNmD0/ufsuCDI9k78YFXe88QgAh4iWiMfv/Lmyyc6Veb7iU+6k7Pr831d98tEnjGBq\n",
       "9qpNesbvAIzlmVPfFg6jzRZfKBJqtCNHyGw9TQq0MF8CP1BEtVQoSU/9nvpiOqctdYGjq04e9IOA\n",
       "6GvwL3b4iJ2pXxsf3UTk+E9pkRjGcrS8P8VFwH/OmtOOdHNaNCs2/P/h7CnClMNEClkWBboBIptG\n",
       "L3zcBsrujT8y17e0KxfFw3bjW+O6SnxS2CKvA/DOtAQbfnlIIZZ+2/zFfTgfxg5ayGpIlV43LJW7\n",
       "ei1PJEJeSr1NX6+3V5UhvCHymb/o2bjmhaPai4r+RGzoDm8xBwqzwu63UrlsiIR5a3TqnYSdgC5N\n",
       "6dJAzk6sTu4ItYxDQceWaXuvCyfP8vaPBMqrwg7G8ABCwAAAAMdBnwtFESw3/wADsn/qoAE7a6ar\n",
       "T2EKYch4X7yCVZHgvu5NyBXfwsydJAESdXiR1oqRcWsZR8zqpTpyH05AE1vdY4bDmrAs7lg6lQCQ\n",
       "/5MKMqny+ktFHwb49xR0VT3liKooFS6NiRBB0VPGXrEw+RolpoCxDOy4aOjnxEjrRsNy2XT8rfKq\n",
       "lFmgcuX95eiV8U02kxAIhDOgNR5FFBH2fX/EV4NYktJw1Zz42FxifupziFxxMNxV8+llLvAz6wDl\n",
       "xBrAm/THYAMCAAABAAGfLGpDfwADt/cgA2T1o62ydm5yI8TfxPcgcXrTZuIO2kKlW3FSbtkdn0lW\n",
       "5j4x2dFW+/zgEFemrm+1VoU+Sa+DoRxb3UE++hx+UdcbdKy2b140zmEiCtK1Ppl2H87j8iAsBNDb\n",
       "1+rmmFGDBKGZhbkH23NehBifdQkow153BfH00ySEHkv/kE4/08VODnHJ8irZMxs7EKwCaRSM7/UN\n",
       "lzml9QW0nbsoug5a/Yv3PMAbibEwzyPWbFmXDRfjWSTHHPkmHjjXQo0Zw5bhTpdc3PmPVLBs/jLH\n",
       "beAQfwTlu0BtBgCPd0P0whVYHJnFrTOrVkDxqFp/c8BdXITt1l5ABSUAAAIzQZsxSahBbJlMCCP/\n",
       "/rUqgACu1GsgAH9IqQorDDIK5LEi41wVZKrdM/0kK2IaGC/LJQOXyLxwOQgsiEb6U4KENHwCUrHv\n",
       "khRV2wyANPuf/DN22sNNbr4872cL67bm1hNpLQQmjiIm9ySa/Z/M7uVtuOwf81YvqU5D7zA6tr/z\n",
       "LZEyK3KqodRKycqN2Dsp73KN9NDK0d1Bt3QCtOZzNAZFeXYm/um0sZfN4+J1XzeYVAT5KqrJhsyO\n",
       "z3NyJcpJazbz86FcrDU1FtENafdwe+PGsB5rWnZdKIbAmkgOhtEQUgdBIsTlwbO5zXU8g3zZWmJI\n",
       "oIcNY9N6+qzcohP8cw6dSbrLh5LLTJgzAE9hRBnNzAXmNmZPpRNNprir/8nJlwtMBBdzNBWcs8bc\n",
       "kMSC5e7gCHxgV7omHiBEK/eoEUhl1km9aJv3ul6Tt8sMidd+NktkK/x7TeoVDV8nE1udFC4vwh7Y\n",
       "e/ZXLXLD8MLhzbLcwUiAJ8je/t7D8rdkKBE0GK1oh8nMVPxXdaoEnoZ37gv5KloakKcJvYAWcnDj\n",
       "2jhKjW+AnCshDY5hjY0ZBDgypcokBWm2VRQgHad4SILsBfH0T1JA4wFnyP1Wohk08wPTIuTMOqZd\n",
       "vN9lwLYR4mV7rPzsU6lqAnIOgoax99JWRsU4M25vpvKdbyXie+CIhckviJx/4Yaqp59UQhcqx3BR\n",
       "hLiVcuigw7XBJXjdWCRZ6n2DmAH3293MYtuBZDEI4AAAAwAAg4EAAADZQZ9PRRUsO/8AAqLJ17gA\n",
       "nXpV6W6eWW4pbQyF3VxuJzM+YiaqjK/K+X8oCvXKK8Gl424LyLWp67IH72TbTfWuWGYoiVgj90pB\n",
       "ZAOkmuzOQR3gEtMVi28dgJYADDxwqSIE5LChU/y+oVJsqOxROvKIuJrdAqyrCaWYlG5UG6ZkUPtI\n",
       "UHlG9nOoa1TL0ngc5r2uRahklGHQeVOwweGze3ctX/51pXhWmIY9STbfeKABNFu/ysDpjxzhA6DB\n",
       "2E0VFWfmjmYC2KpGfreqZWxaARR/ZeBArkNS3ABqQQAAAF4Bn250Q38AA7jHoANquS7HE7+MW3hG\n",
       "roxA/d0TVy156N4K5Igzv+WooW1GKysmql9WIGs7QH5Jufn4Df5wUdQWGBuuXoaAEW874iO0hO8t\n",
       "XhO0GIgBCQAiIMYAAHTAAAACHwGfcGpDfwADsn/qoAEQe8zlCpUAUC44WbjJMz8LnITExzARz9UB\n",
       "Y/qcYNigH/09SWosY8PWxhtvGnIF+Cw33JD09K06Z0sNjynuaqfrDK8oL8/pojno/q9ZVjaKufX9\n",
       "JVPW4xl4CgKvrPeF0bAlo6cKOw8dAf6z0pDynenoFohnyfkotPwvesLz+onPb+xebuVm3lf3bz+d\n",
       "IJfhzX0wLFuS+3ySqtRdXoFw/yql7sbMpKxf6sEBQPJ8lq5+F1NqVudEyd9199FlAwq9Y0fcb1wC\n",
       "0UViUw7KTVHmWVD+mFhEMAX/c79YSSyl8g4qWRemmEocnfYAhrEAhifeGAf404Fcc84sx+Pwij3m\n",
       "snh69mD24vsoawSlPHUw5KiwiOMKNQz4WsG20qUp7LN9JprqL8JtKNSOwj/EJNMZx4wGTHHPxzEa\n",
       "mthhR1rPdA2zwaRTrAmm94odDmj0cGDBf+gyo/lz5XdhLgtnSKG33q+quM9ncyKhq255NNeti2lA\n",
       "aeMCuNS1EvY620vThaRvmgufS/ZwJGjMdJ+fwuNuMiWnYciu+Oobyl0zdnxBGgR+vdicABei1m3N\n",
       "VevBSuh9E7qFzREvJ12/DDtme/6WTw0BjoQH1SJekKJ+YdULuYH27+Ox5M2IYQ/RJY0aqflxG0uT\n",
       "ds/VKsGrZyUETEHGsdbmo0p2NR1vaoxMGwerivASp+OjYxylajceDBAAywLeAAD2gAAAAl9Bm3VJ\n",
       "qEFsmUwII//+tSqAAK3sy/Zz5wAnMKUoCoaEuiVHkjY9l7KxEN2rVOkjfojPNtxihDiQUqKUoJyR\n",
       "O0i6+6LYDhli/vx6564GLG+FEwMReEhUZ8jq/hcnq2lmWQsSnik6DngTEd2TgfVgJga/h9qvsqXR\n",
       "upWwyANPyH1XhxeKoXExjInOocVx4IkdM6vTbDW4WGqyJJD98rSjDO0rCUUaJXNOpR1L3E3U3Gpq\n",
       "LwrILtsuC0K6S7iT7oByJraLdKVNFyW/gzoFWSBpCJyEg3Upt/sO8x+1JXs0tRU1+W7vNd0QYP/t\n",
       "7vctzNI0YY4TVZG5ueUlqxeKdJpIkcUf29MQCFrf+3kxmBXMZ/ZTo5w3xy1DLkKhUALX/B63fArT\n",
       "LEzvF+q15GhOrC/jJo7h02eQumqOhkWr2phc1KAO1SOMycJxu+W/hNGV17BOutskeP7WhJ0b4+6s\n",
       "W7+CyH7f864nPg+DBV1p+MvSYnLs0MlIsHdzkkvIuECPtzShUCm5ema0B/lXuqOorppnWXCVh7F2\n",
       "ZOFgelD382xMo5ZJ/iWLaNFyKpM46xnMiviVxrriJHWhaI6h4xsYCvTNMgX/ytTZnKhn/Pw/2KFZ\n",
       "Bie0EA+zvh2zNffIF0KwjLihOtgpaSs04BjyUvi+uKHHKNGWhoAwkOGEFY8oaVFhYS23YELOFr0E\n",
       "Hy3/7n5y4cAZK4r1XSzTxqb/RRPwuXUd9qBQXzKnyqnbSk5T+xFldwpbSf1E9msotCLTGYEAZkuY\n",
       "J6EqlW0orACFgkI6/eRrKJcWFDwlmAAAfQ+PSciQADUhAAACakGfk0UVLDv/AAKmsDcAD+kMSuKO\n",
       "S73Kju/0AIOZRDdy8DEfDBKP7uegs41xyi6EvPLFnvPwbr24rxzEMeoek1aGQcQLsgfw5Aleb5Om\n",
       "9RCWgXzUjPG8LFLlT1p9v9ILWpttYCghE8Kj/HJ3IXKK+yA6uSv/x1JHI7QVPZQ9LqO8oFvvJrwT\n",
       "BxFDM6MfIdxwRjf2IPTZNEfjVzXsxkz9PyjuRhBwvsv6LdjMEFQ6qN3Vnd88iz3VWGo+ARCuQLgA\n",
       "ujF7cimpHCYTHaio4ExMlLwgUH3OgRMXBpWjkLAkdbKT7ikhTqfg7/a166g0kE4SsZhTgLd++Aex\n",
       "hq36VO+3IjouIYKlZcf/7CxZ6Xqa6HBqpdv6UhRHeBIl4Lvh/I256hfUb+8QW6bE97zJDBz/5Xsa\n",
       "XmhjG5oC7q5bYWj2Vmw/tPweO2ByUNoAiXdWT8htrrG3MWrk6N685RJAjbdHa/2BFNNVl7CdLFOG\n",
       "8aG/n2hczclWCYBYeBWmSE7noUFFrSER0wCMLflp7S0k3msG2fMnm7IgIL788ca33njYbNxkypt5\n",
       "wfGhXOEkybY0lCJTM2AyLgbPnzPTQLk6PuN6bFwtzQdBn+vjq7OBuWQqRuPYwc1GyqIJFjbhmKU8\n",
       "1EmBQsFFdkpThpOj9pruuUFlHzECf0GvDZ79kgpRAsoLqGE7c37hVQcRwzaIenKqCzTt0N9aY+N2\n",
       "0FZbItIm0BlmTSVPsUC5h39PsaWzKPr3x8dz9+yEMLqAE+d1Uz4gZRFbd/jtPLQKbLoBY6Yb0U5J\n",
       "Vd276ffOFf7Bt+C1muuNqoat5oBHQsc5AAB6QAAAAgMBn7J0Q38AA7WqEgAQ4iZyvgE4cTqKETc0\n",
       "2njJuggILCsvhNVpVbY+A6lSsoNkrtU3w3XUyREVvdkD9tia4KrpQhmrxYwGuPWWJX5rGo29U/De\n",
       "5MPNFAW08LRRbNkrb/BSF1Rbs75HcNBH7tWnEgZ2POuVBFDY7fiovzS6UpLmZ8qUlPp1uztTgUcR\n",
       "YmCe5lBo5sXzTDItIzuarpq0ZeClAEBHM8fPOq47/R+RMtgB1L4IBT5W17Q0X0bQH74Wn8H08fyF\n",
       "eCWEGiPEgEEE3XwpAMj3d+ZIx21crcCm0rS523auHqvlUOirBxNEWEXzNRq9TsDIgZDM338BFqV1\n",
       "PnSHxkwdxsOOCquVGzlazD9lEzTKEbpodNP006rEWET2o6rBSVnV+7c6jOWm3CsOdHjivE4NL8YJ\n",
       "kJy3CAIQhergYFPFtRAMA7WpBcQO9sbsWW8CuKQaE4Ah8RvAuRmH1/fwsqVuztwfhgZ53LaFj/7y\n",
       "h2QzOollZrLS++FvgNFzC7FLX63hdFd0jUqV/GDzmQO/Vrpf0KB8OhcgGxkpgpxz7d7B4qw6jV4o\n",
       "oxxEfyST+U4BAHoCaxYfjRNl21xq/0TXKoh1jc/1nYJ9p51xSf25XiyRmtAmXZfOuLyt8da+2FL9\n",
       "yj3NgIUSo60ENrwtjFo31tCo1XaACMmdACKgA9QN8AAGzAAAAGsBn7RqQ38AA6nVfKyK9kAGygsu\n",
       "CizfQY5kIy/Zqze+m2aDmbQqh7NoR4Y/YCNWlflyUGD8mVZRCU5AsTxxrVNbqDJED8CMDvmzg9tr\n",
       "lZ4N0yPiaxvcPMULHF4wJhQoALfIgAzIAoQZUAAXsQAAAjNBm7lJqEFsmUwII//+tSqAAK4VsWAE\n",
       "QfSup78wBowDRCdEl8UiMmpiykqWKlGYhLokMyYSHboA7I+Bi+a19gkXVLf2Ign4zjza0hTV3sMg\n",
       "C69W94VEbKCWH7xDNIIKANNuxok5U2TERJSvXFoFpnQdCcHdRU3A3cZzbJdU2NlRYevGqM7easz3\n",
       "3WMZNP9MuKAEjE4Xm/Zru242b28pVDMhxW4ao6z+iOZk7gNXxE0JQanVgujSMH/xsc7rCtDzAOzF\n",
       "wUKM2uFlJXlkl9fNbEtBA3GGp1PrRX03qqlacy8SIEII+5w0JFSE6rlqhiJa5nIk1wu5cVKxma2e\n",
       "GCOJMcE69alcw1ToJM3ENmJBDrZ7v+HyWY63fMlIgmLJ6f0dvhdMPBZQqDoJu2fIGlB+MZb/zQoZ\n",
       "oVO8QhZnRNKJTzJE0AFVANhWEw63G5QT/7mmkzlhKiW7zDz8A+RioAgOPOF03UD/xICrDOr49/wn\n",
       "yTqFfSG9T6rIWNUgaSGyPqigm0ecSOzRG76fstf6/Sop/ygIF6dQSSWFEMkWXMl5JLBglcd2DZ1B\n",
       "21LVRe4Vd/iCPCVtCMyTaH4bYifo11alzcWWiwLNz/dS7CLKSeE5QmMIHbl/7q1D2B93CPmu/Xeh\n",
       "wg+uXbXEJFtEP6B3us6v+wf7Xx4TDQwRuLdMtilARfoh2CGW28zKcjNgbMGQ2TP+CfBYewm4l4Hd\n",
       "M+cXPiWlXCg5oHm+FxfyrnjYf3Q4AAADAAAyoAAAAixBn9dFFSw7/wACoeAMaAD85h5S/QnqGb9H\n",
       "lSUvkjFvRdsBrq1adEvNP/60EqECnZA/huUQSt3UmXp2VAl5Nzm9jfNl3nMFv68NpDs3X36xYoti\n",
       "FHOfUyc/80/aLWiSjPeuOt2izJht+On+J0Af9epHO3kndmu6rYeL1uiTTsAJnXGNgXhAhG2q4keO\n",
       "mp17yCNJr+VZharRHl7X4GM/5wKMGyYqRsEoKkKepBZmk5gSk/Q1qRbiAd65HOln7Gun2fDRVZeC\n",
       "RZjMMcbFUCQyhdzLsh9N/YyfI+MozLajbre9ipS+3aWhzenzwSLYEVhnQiWH2858W2DppznHpX06\n",
       "DGIcV6WSaKtbOzVEvvMiv394/e1QKW5yinQrjWBOs+UZluPeD8vti4olcgtTk4fVxF6LDKJRR8u9\n",
       "ebARijAHty9BJKYz7NhgrR6L63r9TBQol7+1QUKzSpNx6YcDQLFNbAzlBItUtFmcsD7D3ct6W8Pz\n",
       "Xe5GWrsCh1keWnDMEs+ujAOX6auGDVR72I51Szzs07uWY6ZKEAICw3U9lZHTIkQXgzMyzHeA9Cam\n",
       "qLwH+jVqyCiwySZqapGIVwPw579Il4zIRZx+tLRIWy/RLJ+BOKRV9iiCHXQ5EsjcOmznxXM+Pftk\n",
       "UzwxA5fVzaw5Dn8O92DIDYJpEz/utigMnKAIAO3dEJUyfzn+58FSPE9UAFqBOA5VR896/2P6qo3N\n",
       "5gAfblJvBC3z4AKWLnvAABExAAACJwGf9nRDfwADt/cgA2T1o62tMG5yIqy/igbbbei4AKp/Yu3T\n",
       "qEN1Kh+gTY4C8fcIYplwvXl2QP3KXpFAYO8hnV7xaHP5XL+LyGf7XCD2rxdXyQz16upASNEfUdBg\n",
       "oo0q1K7VwzGCoA8+G99rznI+71x3H91ZgwxEY7hfDXpSdJbOzwFROD+EZCrKXoJQhDG7t8YlBtzJ\n",
       "66R7YUcwvJTqR12vT+TvSC8PzlZjf72RFcVY3tPUCACqhFaEYG8/rOBad+mKSrs2iBsSe61yg7y4\n",
       "Of3d1314VtS9wdzHbIZmXfEonY0jtjN9YbkUUUsbgwux4MAmzDP7Dxj6fz+iZwNEwwSs9/e5P7KM\n",
       "wc1UXmpIGZZnzRvznzJcLTvhDh0bSovD4pM5zFsIwbytUAiozYIS2bT6UN2NDwr1cqENuAa14Pu2\n",
       "Jgoky5gL8awEF+4GVNUsxcbruGqCIKZLao7HT3UsM4PInhzrws1bUt9nUuTJ59EJofgFOc1E2+XN\n",
       "od+KTzjbofway34Crz1r2wH94bKOo6leszUKSbe+rXxIH/kf9komY7DhC0xBqx4a+z/Pk2/ywKx0\n",
       "o6HwXT+iMmoeUdpd66+ltxnfKRgL+YDDwfG2zhd2RKB62XGA5QbXsTMfQWzeDjhKSnkeaWRgdYZB\n",
       "sBRwztd9Zmq862vfRWVlcOORHnlzqLR7075en4chggZ6r0UwNU5TI65kR0c71cANorwAXgALMDjg\n",
       "ACPhAAAAcgGf+GpDfwADtll9ABtVyEoo5Q+01HhP8NJKuhBeLMjJvE8TXVLbZ3bMuFUfwRh2Ttbj\n",
       "pX4uh/M/zgltbBA0TJtaamL106FXBf9JPNFJSkbPiXnL8tCw1JWf0Pz1DJruaYIfugBAAvZJSCrW\n",
       "BVtdkAAR8AAAAnpBm/1JqEFsmUwIIf/+qlUAAVwcTUABfW5KdBFJk/b3qMb0UnENrFA4o4EXLjwm\n",
       "F4Ioa7/TC0RrrGpH/Us8jDeyddpJu2t/RyICXdh9/f205UWBAnjqT9v5WgNREW486HtaDIq8Nuf/\n",
       "BlpPxeizTcZLHf5XVhi8zvbgpr5NdLDea3WLme8TSiAnsGgBttlGpMNPyOmFnMboqUWJN1lZT+3O\n",
       "KooulC20ZmUvgMM4YJHQhXDbvuiAEjRJmeuLU0V6XEmVKuAUshfIcKN2ZI5u1AArt/Y38X1JWYU7\n",
       "g0r+7pLmMOEM0y7w8jCjDSKor9xjHEONz4UUUgmvc+Q47IAPifeW+EaQaeIexRp/S4rELtxgS60t\n",
       "nfSJbvZ+eKW9kx+xZvfF5c+zFcYicBy3YkIKGUiL8SalN/hjr0jtbDxhsTSOH+ZDsUSwv64PttlX\n",
       "UmO6CNv2+Q4PlItdMqJd2pLfgLGOXhfGv0xj3crOsqT0LfNs5ki3QV8dEfe1+Fv737EUWxJdoCaa\n",
       "2hnNjGqda6VdL/9xyGEMnNhr8nm5OByEnh3njSgpD9YFLAKSoHRTgmvL1y3xZwkFDbPl4uf6l+bv\n",
       "fQRYSDrjHeYM4hHjxTgTGPm37Y/iQmIo7l+MfZ410BNxgj4j8bIltOLjdjxqi2kQpjb1neXHlU3b\n",
       "V9TqG2AhsvFAfWzSWWr/B/fGoOjY3mQ/asjnBGStapQmwdq/NFltFdlif9zQU6nCauSER/Pwn+yX\n",
       "wgDRHevpsQHazZnMRByni7qJpEQGW72hXjCeIq5tZzeKEJAreHGSQKUyJM2Dub8VYovpAS07SFh2\n",
       "u9yLYWGIiS4H6NgAAAMAAFxBAAACIkGeG0UVLDv/AAKl4DMmgAvZK+DFdNVQ6dHwJIf2+foJroMz\n",
       "HSxNfSH/v0FPzBq+05AsULfk+v/hhb4HIqy5iD7aX6Mi/8NYrN3EdPed6Hz3bWJYATR/k5hR2Gi+\n",
       "gL7Oaavgkj4Q+WD12QNpzYxW0Zhj+N/PhQyOnIcZbCPNtRTT9KTrZ0qA6SxoXfUCdLO2MUMNtBDG\n",
       "p7BfY6zfq6p1Vt02qfRzAH7oZWN2J6qCQADli4T83lvEhX5qYWVrRkLVXNFxaYeQ//80/T7sKxJx\n",
       "blfQraxJA51K7YXvdt2cqE/xTA3tWBiXXiWetm18r0bcuvGuHgAnW63awZDFPMgJnk0l5wAaXTyU\n",
       "rbYHJ775KlilmdxVL/TaLFSng054HXy3dD59E87icUQMLssqEjqta87B8/JwLfb1VNAX19aAv2rX\n",
       "8x8ATZFjG0S93hA2gDoUpNK0/4md3PfqJKW9YmUyhfBg4wdf9fjnAtYm2jqKijaOtBvbBx08ukLn\n",
       "K6OQNRYTR7FVZxM6iyatH0ZgbVRkd7O9bfByVHVXCe2x0UVZQrGNQQFctbED7EfTCSkqgB5mKA6W\n",
       "UFYkEItKcN/26Vpb/lD7Yo+ygIl+ddeAN1cb2zlUsJ6DLxmtOlg5g5foQ1I9NSyWBrivATAHrGp3\n",
       "sFUP6pB/Fcvwa6Nh/nrmgSoy4d0dRX0Tt89FU8mKoPq9HlPhmwALgz8B5AEcO0AgIaOGAABMwAAA\n",
       "AioBnjp0Q38AA7YQjQAIg01yGmgPTexHIz6Mn5aKqWaIsclCneqDhmt2kVHOSxmiKA7bjLUjNt+2\n",
       "qWa1uyB+7FtCeKeMNR5Hk38WMBreVLic0YGYRQ0pYiAPxTRhevD2PF4l+JeZPY5U4OYMVxph66s1\n",
       "lgTME97r9KkQeYUaPrI2QRRY4t+WQ1ywPxWYWr7t6GUM50rWB++HQQ//f2szW+tZZuYvFSthDfbV\n",
       "bvS+7fLVC8OrCrCFtb9Ro+UG3fG4ExNSobO127L3hBblSSQV0b69y+W1gEppcIqd09elq06QZ9CK\n",
       "6M+iG34ZeGg0tV/HuMD5+tKRHZ65JLy2aadD8o8xf8mZEME9oK9lD0IW290MA4niK5Zxd8Xw7H3r\n",
       "1XPryl+6sdTPDUUnKdi4rh33pHru4iXimSMThzynRHUbLXmKDdmqZ35w8BwuDWCbEbDNeR12e6Lp\n",
       "QSNgSI/WEGq5Gd+NFs6Txy8a2egGDNkRyyfczi2wfJNPJuIIi31bO2mXw6vIYjEHNRBOwG/cb72w\n",
       "MmEu2eC88A/52yGjP0lhlSyJ+4amXn+XWv2h6/9AA09h9MZ4pVTexlOHb7INFI2WN5ZVOG0Ov8Ac\n",
       "xdGdqRUBPwPL/lcTOMtX7y3ilr4IVb9NPCnXQ1h76eVaPtZWTNYEY84fFBmaYRZSBFRjyEbS7iom\n",
       "5Nt3ZpNHHT4uQj3BY3AfA3t7JmCQ3XHgaR/3gzoDA9UGACugBhgxgAAj4QAAAjoBnjxqQ38AA7Xh\n",
       "JAAhxEzlfqjLsV2ltF/3SBJktpqaWf8nq6nr82UlSQoSHjTEiZMWAFvdhzMwnVdkD+CyNpAw+LuX\n",
       "2Ceg/vNrGRmBPUu5eZPanXS8U8R24QApu2NNNQL5lAfRf5ZumRrtlLzKortaycWM1jUaOZLzPSc1\n",
       "3wvQ1j/DWWp6HTTbM1etXj/WFpsHHh6aL4XdDSr2xPUYSkEXCnQ4dB5gO1ybO5oNumAcR0VwhEWc\n",
       "bmnzu5QdupRkIPkrRilHrND76yjh0HKGWIuw1m7otqftkIaAQIME3Nf67kvtot3qb07c20YsbFdF\n",
       "3F/U+78jNM0AOf/vChvDq3WoFz6zZ4lQxoJ4GcdiNNV7H312lY/WsgUPEThq3js1dWn1QThvcOBA\n",
       "y+z141KINcMFDFhvOhy19j4FKK+plguD73L0Zmy0jab1C/a97gSEFcKTBHJdBJ4Sq5LYTYQn6ADu\n",
       "xsfkhrxmgLXX1s9R+bojlHsxnq6o/0MaaTqNp2f6hVTz135SbgF4p7a4bk70SjrF6syERWFOrrC1\n",
       "5W+QoxmXIJzU9banJKdufSBxz2MGT9aw9ngxb5gAH2ysamr/GknPcl5c2wl3kbFrNSDb9s6vQGqy\n",
       "SFFUsib2xntV2vczjAGzaRfODTpze7iCxuqNLELUh7OPGnhHMT/H3efK9pJwGguVfYVN7KCtrEwA\n",
       "ty2c9kY71lsJcAoA7p5TyZ9cdkwtkGS0ynNa+M65YlkrSAdSEABKQAoQTEAAOOEAAAI8QZohSahB\n",
       "bJlMCHf//qmWAAVST3DjABD+mjDjVoOAgbfImku2FOE5jLavtOf4+ojbpjCbqxgv3fzO2Eelh22P\n",
       "H3nFIVWUHiH2fbCKVqRgVY6ezYuk6YOJ1nBYJRY9KCAKMz2ahuvMyisN+VdFwuyutJd2ikf43z5w\n",
       "XEKnuyMi74Z7KHkk9MNVeDa/N5N7wNFQi4k9bujA/RCanegb5HdQTe73FG2DaQZtUkfqxPoDA0mW\n",
       "Fr8+Fsf4IqZq5RsRDEtOQZ68Qmk9AZQTNTOQvbiFCIu/VGoQVEbLdQdn81JxOZMoqk7eQqdP2Ddx\n",
       "rBBoy9HfIMvS6SmZSnKd/BLdMD39rf42Rp7ZOSgDRsGoxzImk7qVGCauuHJxxcDcGF+zAwS+HSPO\n",
       "+p/g/u2a4V1SHX6yiIkvRi1bdwqF33+ZsmaHAKJtT9WCsOf9lge45SWO2+1S2LawsnDaVSavjJ3E\n",
       "FdEFaM16jNguqcVl4KzJWglhgwGStHqcBBgDQTgFGRw+UWMZVWdMvwVH0yI5gbgU7vUjQTZWtvMy\n",
       "FL3yjLvOew8FZ4xiBykZ+Z5TYqooce9WzL+caZCWYbwjIuQBGA+VwKkuPEBPcLRGu5X5i7AwjEpL\n",
       "46jvjs75Zu6sTU5SeumsQZeb0pPps0XdmjXU/6vTfGGDQL+NPg8316FsBFe9O/24zxnvXPE1gAYC\n",
       "QrJTeAEixG6xyk92ovIfaWE0oosvDLDglp0mtz3f7104fdVJBpi9CVf0CRb2w4AAAAMABDwAAAJe\n",
       "QZ5fRRUsO/8AAp3h8UO0AH5zEqIEh9DW/zuEAtuzWIyRSpqlIi6aKCtANHwYu/ZkWuYhRF9b8PJw\n",
       "JPpyBYoUiTFbqSygH+EjDi8VV5z66p6Y3lHar8T+NvgL1lEJoZn17DT5Fe+TWydV//kPSpy40kHd\n",
       "IQD2x38V5CsWYj4eByHp0t5TfaygtgUtEod65x0rpJEF1/zrEaZEX7bcD2OP/q8bMkVbtOqrltd5\n",
       "0hx5XH0B7+otu3JVltAAl7WVsYXtDhVRI6kbbv3vtL96HXCARTLOnDoKL4ffCfBvLruaPPR27KRI\n",
       "LBbtQFNcC5ewCArxCZFPwP2KRaPs/Sn2951MPnyD2H9DhYOtwTxxzFMLGgw2VTlF/D2z0LrgGYEn\n",
       "pzjd7eZ87druDjbY6pSqcTI34MT0pMCz4bv+IrnVYOkDpL21mJO6apDMi8k6RnRcoM4Of0uW2V51\n",
       "zZkTnVu8tRKkZp8QwgvT7XaTJDIaFGHmVsOX5z8jXjuiMTIOj1sBU//JSuPYUsCtfKwyKdtkowrn\n",
       "qyi9d1uGzrRjr8WufCztyHknvgdc56OszmnA8BvXePd5WPigDbahmTYKQyVaMggfiiTBr4peztVp\n",
       "CY+lohdXesbUstBT1hkUa5lBHYRvGn5ZPgEAejcItcjSEwjP+Sul+/PHLSjYPWl47mxF01x2q/zr\n",
       "wFUTkCBJxtYcLTE5wmDHeVGaVRZCsQXvYbqgwwC+XAwGa2F3v66sxJsPT/Ew2fbXn5Fbx0Tad/2m\n",
       "dlCY25LeRvzVU7gIOyi7VZROjQADqH8BvAHOdsBMRddoAAIeAAAAbAGefnRDfwADtGg0kAGygtCB\n",
       "lnIw+k9AoTL2URJ3NWLXS7loCdRjXZlOZY/2QU/97xc5DTkCxKBhJgxZVeirT4NNIlZO/+ZMjSZ/\n",
       "koDdxVzgtcFYfjwVOBp9XocXAcxCgErHFoOByI1eRAADKwAAAjYBnmBqQ38AA7f3IANk9apQtMG5\n",
       "yI8TfZ1cgcaC4CRdCt7dAwCpN4ccynrrZjMA4/d5/Lt+nIFiQfaoovEdyluRFD56WPoF81Hi/AEt\n",
       "aTLyQg/a//P1xfJDNzbrOkrX8Z6Rvr0WdfHUhZkVtUD/HPK/H7e8juqbtL2/P/2caAg122EoZJWx\n",
       "LdHkHhUfQ5eFBreO7XdYH11KiJnWnq3hBIN4PHkf3HaYehfmpruBGR+HVKOQsnXYcXBn+JpLtS+I\n",
       "YWZPRZ+9gmI2uKYPAuS/BFYkKXpiUIWJak2HIDVsGNSNPbOuAg/yvNmXJ5nCqyG1/PGtDNrNumJf\n",
       "HQnfZ3cBCbu2dP30LiDAgfPzNLA8n0MN7gYHwI3su8VQSXXqAxge3AEOLXjdOTM/OJXfZCZ3X+ne\n",
       "LlAeLrIEKP/vxf64hxL+6M9gjJvfubJkAUnOc9IcfMJv38urbjMknE1qKIEeDZ9X4Lp/lGizAEkZ\n",
       "Jcg3v6Qb5CtOW2iV2OT/L2GHCRfH8u2ljHSBBXwyEszpmow0UQmMBRV7T/A5G9fyrVpuwRWDraGy\n",
       "D/3QjaCWDOJQu99fhxGtwH04U17JDGDJIyVnFPzz1e0w0il43eQsZKc8ylPYWNuQFH3VREIZ7F4L\n",
       "7tOKiAEw+V2PCKWcH04Jzz4eribQZAPlc7w3dhb12eGZ0BbPh611W4F/5H25MMAgE0wbX22c4VDs\n",
       "wBufP+LmjeXAYFxws1qkUQwjAhL4AijwAEhADnB+gACbgAAAAhZBmmJJqEFsmUwIb//+p4QACn8L\n",
       "6ADarku2eif9i5KmScwYzUbS8Ejwye2Ej2oZM6hOi8QpECArFv6Qot5S5golMs+gDVb/5XZdktbn\n",
       "L7zK+td7VwiSXv74orJCPV6jMtj1lBj7anG3DESLyu0SDBE3TQdhvsYZBhzO3rjycZwTO3XFqSVV\n",
       "CuhyuxgwYs2Ha+lQobeA3Yvi7QDViCxmrUOyVwrFouSN8t12wz+rMfS/rwF5a/73pVgL8s61XGmv\n",
       "BaMeTzTOn1mrSVyXAo0jveKb14coYkenBMLYeTRwkV2zITgsKgR5p1aOYp66THORlWF0C/24egS3\n",
       "yHNlnyrslyNhs6JEHRxZC/OulbbR8wp9vbX8lyqhgKHVNGO0a5gYVIwpZxr37DZdrWaj6DUHi2q9\n",
       "JA6E44hBTVl4tlhprb49w4nQGJQdhmkpAUnaPAgsIo+JtnkuUGCGW1hMBrBDuP7VQhHEiir2vdlJ\n",
       "LSaMqfVZ2Y7t5DMktyq5s+TrhDzCvutJdY2cCCXd3+ZeV6P1UlOBHQaFlCi0sHlbphdTUPm73g1X\n",
       "hwg6toQwPifQC4fsrV5xepKR3v9sNUSGI4ViQeXZlKRs6f8IyDiKqRJ/63CoggTqrcmhakII+OaQ\n",
       "DIjvQJsQNtAOczAK3pjQOoN7X0zRaNA0foMXQgjSsbDmS4CCpX2kkxTCeP3ybpOUSnIuJQAAAwAA\n",
       "Bn0AAATGbW9vdgAAAGxtdmhkAAAAAAAAAAAAAAAAAAAD6AAADawAAQAAAQAAAAAAAAAAAAAAAAEA\n",
       "AAAAAAAAAAAAAAAAAAABAAAAAAAAAAAAAAAAAABAAAAAAAAAAAAAAAAAAAAAAAAAAAAAAAAAAAAA\n",
       "AAAAAgAAA/B0cmFrAAAAXHRraGQAAAADAAAAAAAAAAAAAAABAAAAAAAADawAAAAAAAAAAAAAAAAA\n",
       "AAAAAAEAAAAAAAAAAAAAAAAAAAABAAAAAAAAAAAAAAAAAABAAAAAAtAAAALQAAAAAAAkZWR0cwAA\n",
       "ABxlbHN0AAAAAAAAAAEAAA2sAAAIAAABAAAAAANobWRpYQAAACBtZGhkAAAAAAAAAAAAAAAAAAAo\n",
       "AAAAjABVxAAAAAAALWhkbHIAAAAAAAAAAHZpZGUAAAAAAAAAAAAAAABWaWRlb0hhbmRsZXIAAAAD\n",
       "E21pbmYAAAAUdm1oZAAAAAEAAAAAAAAAAAAAACRkaW5mAAAAHGRyZWYAAAAAAAAAAQAAAAx1cmwg\n",
       "AAAAAQAAAtNzdGJsAAAAt3N0c2QAAAAAAAAAAQAAAKdhdmMxAAAAAAAAAAEAAAAAAAAAAAAAAAAA\n",
       "AAAAAtAC0ABIAAAASAAAAAAAAAABAAAAAAAAAAAAAAAAAAAAAAAAAAAAAAAAAAAAAAAAAAAAGP//\n",
       "AAAANWF2Y0MBZAAf/+EAGGdkAB+s2UC0FuhAAAADAEAAAAUDxgxlgAEABmjr48siwP34+AAAAAAc\n",
       "dXVpZGtoQPJfJE/FujmlG88DI/MAAAAAAAAAGHN0dHMAAAAAAAAAAQAAACMAAAQAAAAAFHN0c3MA\n",
       "AAAAAAAAAQAAAAEAAAEYY3R0cwAAAAAAAAAhAAAAAgAACAAAAAABAAAUAAAAAAEAAAgAAAAAAQAA\n",
       "AAAAAAABAAAEAAAAAAEAAAgAAAAAAQAAFAAAAAABAAAIAAAAAAEAAAAAAAAAAQAABAAAAAABAAAQ\n",
       "AAAAAAIAAAQAAAAAAQAAFAAAAAABAAAIAAAAAAEAAAAAAAAAAQAABAAAAAABAAAUAAAAAAEAAAgA\n",
       "AAAAAQAAAAAAAAABAAAEAAAAAAEAABQAAAAAAQAACAAAAAABAAAAAAAAAAEAAAQAAAAAAQAAFAAA\n",
       "AAABAAAIAAAAAAEAAAAAAAAAAQAABAAAAAABAAAUAAAAAAEAAAgAAAAAAQAAAAAAAAABAAAEAAAA\n",
       "AAEAAAgAAAAAHHN0c2MAAAAAAAAAAQAAAAEAAAAjAAAAAQAAAKBzdHN6AAAAAAAAAAAAAAAjAAAW\n",
       "JQAAAXAAAAJyAAACHwAAAMcAAABiAAACWwAAAnEAAAIJAAAAvAAAAF4AAAKPAAAAywAAAQQAAAI3\n",
       "AAAA3QAAAGIAAAIjAAACYwAAAm4AAAIHAAAAbwAAAjcAAAIwAAACKwAAAHYAAAJ+AAACJgAAAi4A\n",
       "AAI+AAACQAAAAmIAAABwAAACOgAAAhoAAAAUc3RjbwAAAAAAAAABAAAAMAAAAGJ1ZHRhAAAAWm1l\n",
       "dGEAAAAAAAAAIWhkbHIAAAAAAAAAAG1kaXJhcHBsAAAAAAAAAAAAAAAALWlsc3QAAAAlqXRvbwAA\n",
       "AB1kYXRhAAAAAQAAAABMYXZmNTguNDUuMTAw\n",
       "\">\n",
       "  Your browser does not support the video tag.\n",
       "</video>"
      ],
      "text/plain": [
       "<IPython.core.display.HTML object>"
      ]
     },
     "execution_count": 40,
     "metadata": {},
     "output_type": "execute_result"
    }
   ],
   "source": [
    "visualize_path(mystery_map, mystery_path)"
   ]
  },
  {
   "cell_type": "markdown",
   "metadata": {},
   "source": [
    "Congratulations, you've completed a whirlwind tour of graphs and graph search algorithms!"
   ]
  }
 ],
 "metadata": {
  "kernelspec": {
   "display_name": "Python 3",
   "language": "python",
   "name": "python3"
  },
  "language_info": {
   "codemirror_mode": {
    "name": "ipython",
    "version": 3
   },
   "file_extension": ".py",
   "mimetype": "text/x-python",
   "name": "python",
   "nbconvert_exporter": "python",
   "pygments_lexer": "ipython3",
   "version": "3.7.7"
  }
 },
 "nbformat": 4,
 "nbformat_minor": 4
}
