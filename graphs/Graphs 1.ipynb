{
 "cells": [
  {
   "cell_type": "markdown",
   "metadata": {},
   "source": [
    "<header style=\"padding: 4em 0 0em 0\">\n",
    "    <img src=\"http://brentyi.github.io/filestore/ai4all_logo.svg\" style=\"width: 30em; height: auto; margin: 0;\" />\n",
    "    <h3 style=\"margin: 1em 0 0 0;\">\n",
    "        <strong>Graphs I</strong>\n",
    "        <span style=\"color: #777\">\n",
    "        &nbsp;&blacksquare;&nbsp;\n",
    "        Robotics, Summer 2020</span>\n",
    "    </h3>\n",
    "</header>"
   ]
  },
  {
   "cell_type": "markdown",
   "metadata": {},
   "source": [
    "<hr style=\"border-top: 0.4em solid #eee;\" />\n",
    "\n",
    "In this notebook, we'll take a whirlwind tour of graphs and graph search algorithms.\n",
    "\n",
    "Our core goals will be to:\n",
    "1. Go from satellite images to two-dimensional NumPyA arrays\n",
    "2. Think about the graph induced by cells we can visit.\n",
    "\n",
    "<hr style=\"border-top: 0.4em solid #eee;\" />"
   ]
  },
  {
   "cell_type": "code",
   "execution_count": 51,
   "metadata": {},
   "outputs": [],
   "source": [
    "import numpy as np\n",
    "from graph_helpers import visualize_single_channel, visualize_map"
   ]
  },
  {
   "cell_type": "markdown",
   "metadata": {},
   "source": [
    "### 1. Maps to Matrix"
   ]
  },
  {
   "cell_type": "markdown",
   "metadata": {},
   "source": [
    "<p>First, let's remember that we are taking a map like this:</p>\n",
    "<img src=\"graph_assets/stanford.png\" width=500 style=\"margin-left: 50px\" />\n",
    "<p>And we grid it up like this:</p>\n",
    "<img src=\"graph_assets/stanford_grid.png\" width=500 style=\"margin-left: 50px\" />"
   ]
  },
  {
   "cell_type": "markdown",
   "metadata": {},
   "source": [
    "This looks like a two dimensional array, right?\n",
    "\n",
    "Let's create a rectangular array with zeros."
   ]
  },
  {
   "cell_type": "code",
   "execution_count": 52,
   "metadata": {},
   "outputs": [
    {
     "data": {
      "image/png": "[encoded data removed]",
      "text/plain": [
       "<Figure size 432x288 with 1 Axes>"
      ]
     },
     "metadata": {
      "needs_background": "light"
     },
     "output_type": "display_data"
    }
   ],
   "source": [
    "a = np.zeros((15, 20))\n",
    "visualize_map(\"Empty Map\", a)"
   ]
  },
  {
   "cell_type": "markdown",
   "metadata": {},
   "source": [
    "Why is it red? Well, we want the value M[i, j] to encode something about that cell.\n",
    "\n",
    "When we were working with images, each cell had 3 numbers (in the case of RGB or HSL), but now it has one.\n",
    "\n",
    "We decide what that number means. Here we are saying, visualize that number as red!"
   ]
  },
  {
   "cell_type": "code",
   "execution_count": 53,
   "metadata": {},
   "outputs": [],
   "source": [
    "b = np.zeros((15, 20))\n",
    "b[0, 0] = 1"
   ]
  },
  {
   "cell_type": "code",
   "execution_count": 54,
   "metadata": {},
   "outputs": [
    {
     "data": {
      "image/png": "[encoded data removed]",
      "text/plain": [
       "<Figure size 432x288 with 1 Axes>"
      ]
     },
     "metadata": {
      "needs_background": "light"
     },
     "output_type": "display_data"
    }
   ],
   "source": [
    "visualize_map(\"Empty Map with one green cell\", b)"
   ]
  },
  {
   "cell_type": "markdown",
   "metadata": {},
   "source": [
    "Here we are saying to visualize the number 1 as green!"
   ]
  },
  {
   "cell_type": "markdown",
   "metadata": {},
   "source": [
    "The visualize map function takes an argument cmap which maps numbers to the colors we want to visualize them.\n",
    "\n",
    "In fact, let's write a function that flips the colors!\n",
    "  "
   ]
  },
  {
   "cell_type": "code",
   "execution_count": 55,
   "metadata": {},
   "outputs": [
    {
     "data": {
      "image/png": "[encoded data removed]",
      "text/plain": [
       "<Figure size 432x288 with 1 Axes>"
      ]
     },
     "metadata": {
      "needs_background": "light"
     },
     "output_type": "display_data"
    }
   ],
   "source": [
    "def flipped_cmap(x):\n",
    "    if x == 0:\n",
    "        return [0, 255, 0]\n",
    "    else:\n",
    "        return [255, 0, 0]\n",
    "\n",
    "visualize_map(\"Empty Map with one green cell\", b, cmap=flipped_cmap)"
   ]
  },
  {
   "cell_type": "markdown",
   "metadata": {},
   "source": [
    "But let's not use that, because we want red to mean BAD, or danger, and green to mean GOOD, or safe."
   ]
  },
  {
   "cell_type": "markdown",
   "metadata": {},
   "source": [
    "### 2. Types of Cells\n",
    "\n",
    "<p>Suppose the following cells, indicated with a red dot are \"flyable\":</p>\n",
    "<img src=\"graph_assets/stanford_grid_flyable.png\" width=500 style=\"margin-left: 50px\" />\n"
   ]
  },
  {
   "cell_type": "markdown",
   "metadata": {},
   "source": [
    "Let's visualize this flyable zone as green, and the unflyable as red"
   ]
  },
  {
   "cell_type": "code",
   "execution_count": 56,
   "metadata": {},
   "outputs": [
    {
     "data": {
      "image/png": "[encoded data removed]",
      "text/plain": [
       "<Figure size 432x288 with 1 Axes>"
      ]
     },
     "metadata": {
      "needs_background": "light"
     },
     "output_type": "display_data"
    }
   ],
   "source": [
    "c = np.zeros((15, 20))\n",
    "c[0, 9:11] = 1\n",
    "c[1, 8:10] = 1\n",
    "c[2, 8:10] = 1\n",
    "c[3, 7:9] = 1\n",
    "c[4, 7:9] = 1\n",
    "c[5, 7:8] = 1\n",
    "c[6, 6:8] = 1\n",
    "c[7, 6:8] = 1\n",
    "c[8, 4:8] = 1\n",
    "visualize_map(\"Stanford Flyable Zones\", c)"
   ]
  },
  {
   "cell_type": "markdown",
   "metadata": {},
   "source": [
    "### 3. Constructing the graph\n",
    "\n",
    "\n",
    "<p>Since we can only fly in between flyable cells, we are going to think about a graph!<p>\n",
    "<img src=\"graph_assets/stanford_grid_flyable_connected.png\" width=500 style=\"margin-left: 50px\" />"
   ]
  },
  {
   "cell_type": "markdown",
   "metadata": {},
   "source": [
    "Let's get the adjacency matrix "
   ]
  },
  {
   "cell_type": "code",
   "execution_count": 57,
   "metadata": {},
   "outputs": [],
   "source": [
    "def adjacency_matrix(M, flyable=1):\n",
    "    \"\"\"Visualize a 2D array using matplotlib.\n",
    "    All inputs values should be normalized 0.0-1.0.\n",
    "\n",
    "    Args:\n",
    "        title (str): Name of image we're visualizing.\n",
    "        image (np.ndarray): Image we're visualizing. Shape should be `(rows, cols)`.\n",
    "    \"\"\"\n",
    "    m, n = M.shape\n",
    "    k = m * n\n",
    "    A = np.zeros((k, k))\n",
    "    \n",
    "    def idx(i, j):\n",
    "        return i * m + j\n",
    "    \n",
    "    for i in range(0, m):\n",
    "        for j in range(0, n):\n",
    "            \n",
    "            # check up\n",
    "            if i != 0 and M[i, j] == flyable and M[i-1, j] == flyable:\n",
    "                A[idx(i, j), idx(i-1, j)] = 1.\n",
    "                    \n",
    "            # check left\n",
    "            if j != 0 and M[i, j] == flyable and M[i, j-1] == flyable:\n",
    "                A[idx(i, j), idx(i, j-1)] = 1.\n",
    "            \n",
    "            # check down\n",
    "            if i != m-1 and M[i, j] == flyable and M[i+1, j] == flyable:\n",
    "                A[idx(i, j), idx(i+1, j)] = 1.\n",
    "               \n",
    "            # check right\n",
    "            if j != n-1 and M[i, j] == flyable and M[i, j+1] == flyable:\n",
    "                A[idx(i, j), idx(i, j+1)] = 1.\n",
    "\n",
    "    return A    "
   ]
  },
  {
   "cell_type": "code",
   "execution_count": 58,
   "metadata": {},
   "outputs": [
    {
     "data": {
      "image/png": "[encoded data removed]",
      "text/plain": [
       "<Figure size 432x288 with 1 Axes>"
      ]
     },
     "metadata": {
      "needs_background": "light"
     },
     "output_type": "display_data"
    }
   ],
   "source": [
    "A = adjacency_matrix(c)\n",
    "visualize_map(\"Stanford Flyable Zones Connected\", c, A=A)"
   ]
  },
  {
   "cell_type": "markdown",
   "metadata": {},
   "source": [
    "We can also visualize the adjacency matrix itself as a black and white image; white is where there is a one. \n",
    "\n",
    "Let's use the cv_helpers `visualize_single_channel` function."
   ]
  },
  {
   "cell_type": "code",
   "execution_count": 11,
   "metadata": {},
   "outputs": [
    {
     "data": {
      "image/png": "[encoded data removed]",
      "text/plain": [
       "<Figure size 432x288 with 1 Axes>"
      ]
     },
     "metadata": {
      "needs_background": "light"
     },
     "output_type": "display_data"
    }
   ],
   "source": [
    "visualize_single_channel(\"Adjacency Matrix\", A)"
   ]
  },
  {
   "cell_type": "markdown",
   "metadata": {},
   "source": [
    "### 4. Finding Neighbors\n",
    "\n",
    "Now let's write a function that get's the neighbors of vertices"
   ]
  },
  {
   "cell_type": "code",
   "execution_count": 59,
   "metadata": {},
   "outputs": [],
   "source": [
    "def neighbors(A, i):\n",
    "    \"\"\"Get the neighbors of vertex `i`\n",
    "    \n",
    "    Args:\n",
    "        A (np.ndarray): Adjacency matrix\n",
    "        i (int): vertex we care about.\n",
    "    \"\"\"\n",
    "    assert len(A.shape) == 2\n",
    "    assert A.shape[0] == A.shape[1]\n",
    "    \n",
    "    # we have k vertices\n",
    "    k = A.shape[0]\n",
    "    \n",
    "    # ~~START DELETE~~\n",
    "    return [j for j in range(k) if A[i, j] == 1] \n",
    "    # ~~END DELETE~~"
   ]
  },
  {
   "cell_type": "markdown",
   "metadata": {},
   "source": [
    "Does vertex 0, the top left have any neighbors?"
   ]
  },
  {
   "cell_type": "code",
   "execution_count": 60,
   "metadata": {},
   "outputs": [
    {
     "data": {
      "text/plain": [
       "[]"
      ]
     },
     "execution_count": 60,
     "metadata": {},
     "output_type": "execute_result"
    }
   ],
   "source": [
    "neighbors(A, 0)"
   ]
  },
  {
   "cell_type": "markdown",
   "metadata": {},
   "source": [
    "Does vertex 24?"
   ]
  },
  {
   "cell_type": "code",
   "execution_count": 61,
   "metadata": {},
   "outputs": [
    {
     "data": {
      "text/plain": [
       "[9, 23, 39]"
      ]
     },
     "execution_count": 61,
     "metadata": {},
     "output_type": "execute_result"
    }
   ],
   "source": [
    "neighbors(A, 24)"
   ]
  },
  {
   "cell_type": "markdown",
   "metadata": {},
   "source": [
    "### 5. Let's talk about Queues"
   ]
  },
  {
   "cell_type": "markdown",
   "metadata": {},
   "source": [
    "For us, a queue is just a list:"
   ]
  },
  {
   "cell_type": "code",
   "execution_count": 62,
   "metadata": {},
   "outputs": [],
   "source": [
    "queue = []"
   ]
  },
  {
   "cell_type": "markdown",
   "metadata": {},
   "source": [
    "Append (or push) to the queue"
   ]
  },
  {
   "cell_type": "code",
   "execution_count": 63,
   "metadata": {},
   "outputs": [
    {
     "data": {
      "text/plain": [
       "[1, 2]"
      ]
     },
     "execution_count": 63,
     "metadata": {},
     "output_type": "execute_result"
    }
   ],
   "source": [
    "queue.append(1)\n",
    "queue.append(2)\n",
    "queue"
   ]
  },
  {
   "cell_type": "markdown",
   "metadata": {},
   "source": [
    "Remove (or pop) from the queue"
   ]
  },
  {
   "cell_type": "code",
   "execution_count": 64,
   "metadata": {},
   "outputs": [
    {
     "name": "stdout",
     "output_type": "stream",
     "text": [
      "popped 1 from queue which is now [2]\n"
     ]
    }
   ],
   "source": [
    "elem = queue[0]\n",
    "queue = queue[1:]\n",
    "print(f\"popped {elem} from queue which is now {queue}\")"
   ]
  },
  {
   "cell_type": "code",
   "execution_count": 65,
   "metadata": {},
   "outputs": [
    {
     "name": "stdout",
     "output_type": "stream",
     "text": [
      "popped 2 from queue which is now []\n"
     ]
    }
   ],
   "source": [
    "elem = queue[0]\n",
    "queue = queue[1:]\n",
    "print(f\"popped {elem} from queue which is now {queue}\")"
   ]
  },
  {
   "cell_type": "markdown",
   "metadata": {},
   "source": [
    "What happens if we pop from a queue when it's empty?"
   ]
  },
  {
   "cell_type": "code",
   "execution_count": 66,
   "metadata": {},
   "outputs": [
    {
     "ename": "IndexError",
     "evalue": "list index out of range",
     "output_type": "error",
     "traceback": [
      "\u001b[0;31m---------------------------------------------------------------------------\u001b[0m",
      "\u001b[0;31mIndexError\u001b[0m                                Traceback (most recent call last)",
      "\u001b[0;32m<ipython-input-66-eb4f37142bb0>\u001b[0m in \u001b[0;36m<module>\u001b[0;34m\u001b[0m\n\u001b[0;32m----> 1\u001b[0;31m \u001b[0melem\u001b[0m \u001b[0;34m=\u001b[0m \u001b[0mqueue\u001b[0m\u001b[0;34m[\u001b[0m\u001b[0;36m0\u001b[0m\u001b[0;34m]\u001b[0m\u001b[0;34m\u001b[0m\u001b[0;34m\u001b[0m\u001b[0m\n\u001b[0m\u001b[1;32m      2\u001b[0m \u001b[0mqueue\u001b[0m \u001b[0;34m=\u001b[0m \u001b[0mqueue\u001b[0m\u001b[0;34m[\u001b[0m\u001b[0;36m1\u001b[0m\u001b[0;34m:\u001b[0m\u001b[0;34m]\u001b[0m\u001b[0;34m\u001b[0m\u001b[0;34m\u001b[0m\u001b[0m\n",
      "\u001b[0;31mIndexError\u001b[0m: list index out of range"
     ]
    }
   ],
   "source": [
    "elem = queue[0]\n",
    "queue = queue[1:]"
   ]
  },
  {
   "cell_type": "markdown",
   "metadata": {},
   "source": [
    "So in general, we might need to check\n",
    "\n"
   ]
  },
  {
   "cell_type": "code",
   "execution_count": 67,
   "metadata": {},
   "outputs": [
    {
     "name": "stdout",
     "output_type": "stream",
     "text": [
      "can't pop\n"
     ]
    }
   ],
   "source": [
    "if len(queue) > 0:\n",
    "    print(\"can pop\")\n",
    "else:\n",
    "    print(\"can't pop\")"
   ]
  },
  {
   "cell_type": "markdown",
   "metadata": {},
   "source": [
    "### 6. Search"
   ]
  },
  {
   "cell_type": "code",
   "execution_count": 68,
   "metadata": {},
   "outputs": [],
   "source": [
    "def breadth_first_search(A, start, goal):\n",
    "    \n",
    "    # k is the number of nodes\n",
    "    k = A.shape[0]\n",
    "    # we will start our search at start\n",
    "    q = [start]\n",
    "\n",
    "    C = np.inf * np.ones((k, k))\n",
    "    seen = {}\n",
    "    \n",
    "        \n",
    "    def final_path(end):\n",
    "        p = [end]\n",
    "        nextt = froms[end]\n",
    "        p.append(nextt)\n",
    "        while nextt != start:\n",
    "            nextt = froms[nextt]\n",
    "            p.append(nextt)\n",
    "\n",
    "        p.reverse()\n",
    "        return p\n",
    "    \n",
    "    while len(q) > 0:\n",
    "        current = q[0]\n",
    "        seen[current] = True\n",
    "        q = q[1:]\n",
    "        \n",
    "        for n in neighbors(A, current):\n",
    "            if n not in seen:\n",
    "                q.append(n)\n",
    "                froms[n] = current\n",
    "                if n == goal:\n",
    "                    return final_path(n)\n",
    "                \n",
    "    raise Exception(\"no path to goal\")"
   ]
  },
  {
   "cell_type": "code",
   "execution_count": null,
   "metadata": {},
   "outputs": [],
   "source": []
  }
 ],
 "metadata": {
  "kernelspec": {
   "display_name": "Python 3",
   "language": "python",
   "name": "python3"
  },
  "language_info": {
   "codemirror_mode": {
    "name": "ipython",
    "version": 3
   },
   "file_extension": ".py",
   "mimetype": "text/x-python",
   "name": "python",
   "nbconvert_exporter": "python",
   "pygments_lexer": "ipython3",
   "version": "3.7.7"
  }
 },
 "nbformat": 4,
 "nbformat_minor": 4
}
