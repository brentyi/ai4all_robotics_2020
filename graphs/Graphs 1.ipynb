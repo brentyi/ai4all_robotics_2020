{
 "cells": [
  {
   "cell_type": "markdown",
   "metadata": {},
   "source": [
    "<header style=\"padding: 4em 0 0em 0\">\n",
    "    <img src=\"http://brentyi.github.io/filestore/ai4all_logo.svg\" style=\"width: 30em; height: auto; margin: 0;\" />\n",
    "    <h3 style=\"margin: 1em 0 0 0;\">\n",
    "        <strong>Graphs I</strong>\n",
    "        <span style=\"color: #777\">\n",
    "        &nbsp;&blacksquare;&nbsp;\n",
    "        Robotics, Summer 2020</span>\n",
    "    </h3>\n",
    "</header>"
   ]
  },
  {
   "cell_type": "markdown",
   "metadata": {},
   "source": [
    "<hr style=\"border-top: 0.4em solid #eee;\" />\n",
    "\n",
    "In this notebook, we'll take a whirlwind tour of graphs and graph search algorithms.\n",
    "\n",
    "Our core goals will be to:\n",
    "1. Understand how to go satelite images can correspond to 2D **NumPy** arrays.\n",
    "2. Understand how fly-zone constraints can induce a traversable graph on these maps.\n",
    "3. Implement the breadth-first-search algorithm to route drones.\n",
    "\n",
    "<hr style=\"border-top: 0.4em solid #eee;\" />"
   ]
  },
  {
   "cell_type": "code",
   "execution_count": 1,
   "metadata": {},
   "outputs": [],
   "source": [
    "import numpy as np\n",
    "from graph_helpers import visualize_adjacency, visualize_map, visualize_costs"
   ]
  },
  {
   "cell_type": "markdown",
   "metadata": {},
   "source": [
    "## 1. Maps to Matrix"
   ]
  },
  {
   "cell_type": "markdown",
   "metadata": {},
   "source": [
    "<p>First, let's remember that we are taking a map like this:</p>\n",
    "<img src=\"graph_assets/stanford.png\" width=500 style=\"margin-left: 50px\" />\n",
    "<p>And we grid it up like this:</p>\n",
    "<img src=\"graph_assets/stanford_grid.png\" width=500 style=\"margin-left: 50px\" />"
   ]
  },
  {
   "cell_type": "markdown",
   "metadata": {},
   "source": [
    "This looks like a two dimensional array, right?\n",
    "\n",
    "Let's create a rectangular array with zeros."
   ]
  },
  {
   "cell_type": "code",
   "execution_count": 2,
   "metadata": {},
   "outputs": [
    {
     "data": {
      "image/png": "[encoded data removed]",
      "text/plain": [
       "<Figure size 432x288 with 1 Axes>"
      ]
     },
     "metadata": {
      "needs_background": "light"
     },
     "output_type": "display_data"
    }
   ],
   "source": [
    "a = np.zeros((15, 20))\n",
    "visualize_map(\"Empty Map\", a)"
   ]
  },
  {
   "cell_type": "markdown",
   "metadata": {},
   "source": [
    "Why is it red? Well, we want the value `a[i, j]` to encode something about that cell.\n",
    "\n",
    "When we were working with images, each cell had 3 numbers (in the case of RGB or HSL), but now it has one.\n",
    "\n",
    "We decide what that number means. Here we are saying, visualize 0 as red!"
   ]
  },
  {
   "cell_type": "markdown",
   "metadata": {},
   "source": [
    "Now let's see what color 1 is visualized as:"
   ]
  },
  {
   "cell_type": "code",
   "execution_count": 3,
   "metadata": {},
   "outputs": [],
   "source": [
    "b = np.zeros((15, 20))\n",
    "b[0, 0] = 1"
   ]
  },
  {
   "cell_type": "code",
   "execution_count": 4,
   "metadata": {},
   "outputs": [
    {
     "data": {
      "image/png": "[encoded data removed]",
      "text/plain": [
       "<Figure size 432x288 with 1 Axes>"
      ]
     },
     "metadata": {
      "needs_background": "light"
     },
     "output_type": "display_data"
    }
   ],
   "source": [
    "visualize_map(\"Empty Map with one green cell\", b)"
   ]
  },
  {
   "cell_type": "markdown",
   "metadata": {},
   "source": [
    "Here we are saying to visualize the number 1 as green!"
   ]
  },
  {
   "cell_type": "markdown",
   "metadata": {},
   "source": [
    "We can change the colors that are shown by the `visualize_map` function via the `cmap` named argument.\n",
    "\n",
    "Let's flip the colors:"
   ]
  },
  {
   "cell_type": "code",
   "execution_count": 5,
   "metadata": {},
   "outputs": [
    {
     "data": {
      "image/png": "[encoded data removed]",
      "text/plain": [
       "<Figure size 432x288 with 1 Axes>"
      ]
     },
     "metadata": {
      "needs_background": "light"
     },
     "output_type": "display_data"
    }
   ],
   "source": [
    "def flipped_cmap(x):\n",
    "    if x == 0:\n",
    "        return [0, 255, 0]\n",
    "    else:\n",
    "        return [255, 0, 0]\n",
    "\n",
    "visualize_map(\"Empty Map with one green cell\", b, cmap=flipped_cmap)"
   ]
  },
  {
   "cell_type": "markdown",
   "metadata": {},
   "source": [
    "Ok! So we have a \"map\" which is a numpy array and cells can be 0 or 1. We can visualize it.\n",
    "\n",
    "Now let's go back to green and red, and use these to visualize where we can fly.\n",
    "\n",
    "Think about green for grass and red for lava. We can walk on grass, but not on lava!"
   ]
  },
  {
   "cell_type": "markdown",
   "metadata": {},
   "source": [
    "## 2. Types of Cells\n",
    "\n",
    "<p>Suppose the following cells, indicated with a red dot are \"flyable\":</p>\n",
    "<img src=\"graph_assets/stanford_grid_flyable.png\" width=500 style=\"margin-left: 50px\" />\n"
   ]
  },
  {
   "cell_type": "markdown",
   "metadata": {},
   "source": [
    "Let's visualize this flyable zone as green, and the unflyable as red"
   ]
  },
  {
   "cell_type": "code",
   "execution_count": 6,
   "metadata": {},
   "outputs": [
    {
     "data": {
      "image/png": "[encoded data removed]",
      "text/plain": [
       "<Figure size 432x288 with 1 Axes>"
      ]
     },
     "metadata": {
      "needs_background": "light"
     },
     "output_type": "display_data"
    }
   ],
   "source": [
    "stanford_map = np.zeros((15, 20))\n",
    "stanford_map[0, 9:11] = 1\n",
    "stanford_map[1, 8:10] = 1\n",
    "stanford_map[2, 8:10] = 1\n",
    "stanford_map[3, 7:9] = 1\n",
    "stanford_map[4, 7:9] = 1\n",
    "stanford_map[5, 7:8] = 1\n",
    "stanford_map[6, 6:8] = 1\n",
    "stanford_map[7, 6:8] = 1\n",
    "stanford_map[8, 4:8] = 1\n",
    "visualize_map(\"Stanford Flyable Zones\", stanford_map)"
   ]
  },
  {
   "cell_type": "markdown",
   "metadata": {},
   "source": [
    "So now we have a representation for a map.\n",
    "\n",
    "Remember, we want to do search in this map, so now we will construct a graph."
   ]
  },
  {
   "cell_type": "markdown",
   "metadata": {},
   "source": [
    "## 3. Constructing the graph\n",
    "\n",
    "\n",
    "<p>Since we can only fly in between flyable cells, we are going cells we can fly in as connected, and that induces an undirected graph!<p>\n",
    "<img src=\"graph_assets/stanford_grid_flyable_connected.png\" width=500 style=\"margin-left: 50px\" />"
   ]
  },
  {
   "cell_type": "markdown",
   "metadata": {},
   "source": [
    "Let's get the adjacency matrix \n",
    "\n",
    "### a) Adjacency matrix review\n",
    "\n",
    "Remember, adjacency matrices are two-dimensional numpy arrays. They are always square!\n",
    "\n",
    "They have values which are either 0 or 1!\n",
    "\n",
    "If the entry `i,j` is 1 that means there is an edge from `i` to `j`.\n",
    "\n",
    "For undirected graphs, adjacency matrices are always symmetric! "
   ]
  },
  {
   "cell_type": "markdown",
   "metadata": {},
   "source": [
    "<div style=\"color: #a00; font-weight: 800; padding: 1em 0; border-top: 0.4em solid #eee;\">Checkoff: Adjacency Matrix Concept</div>\n",
    "\n",
    "What is an adjacency matrix?\n",
    "\n",
    " * How do `1`s and `0`s correspond to edges in an undirected graph?\n",
    " * If our map is `m` by `n`, what is the size of the adjacency matrix?\n",
    "\n",
    "> *Your response here!*"
   ]
  },
  {
   "cell_type": "markdown",
   "metadata": {},
   "source": [
    "### b) Indexing\n",
    "\n",
    "As the first piece, we need to think about how label the nodes of our graph. Since each cell in our `m` by `n` grid corresponds to a vertex, our graph has `mn` nodes!\n",
    "\n",
    "Let's index vertices from left to right, top to bottom. So the top left cell is vertex 0 and the cell below it is vertex `m`. The cell below and to the right of the top left cell is vertex `m+1`."
   ]
  },
  {
   "cell_type": "markdown",
   "metadata": {},
   "source": [
    "<div style=\"color: #a00; font-weight: 800; padding: 1em 0; border-top: 0.4em solid #eee;\">Checkoff: Vertices from Cells</div>\n",
    "Complete the following function, `vertex_of_cell`, which gets the vertex label from "
   ]
  },
  {
   "cell_type": "code",
   "execution_count": 7,
   "metadata": {},
   "outputs": [],
   "source": [
    "def vertex_of_cell(M, i, j):\n",
    "    \"\"\"Get the vertex of a cell\n",
    "\n",
    "    Args:\n",
    "        M (np.ndarray): the map we are working with.\n",
    "        i (int): the row index.\n",
    "        j (int): the column index.\n",
    "    \"\"\"\n",
    "    m, n = M.shape\n",
    "    \n",
    "    # YOUR CODE HERE\n",
    "    # ~~START DELETE~~\n",
    "    return n * i + j\n",
    "    # ~~END DELETE~~"
   ]
  },
  {
   "cell_type": "markdown",
   "metadata": {},
   "source": [
    "<div style=\"color: #a00; font-weight: 800; padding: 1em 0; border-top: 0.4em solid #eee;\">Checkoff: Cells from Vertices</div>\n",
    "Now let's go the other direction, given a vertex let's get what indices it corresponds to in the map.\n",
    "\n",
    "Complete the function `cell_of_vertex` which maps the vertex index to the cell indices!"
   ]
  },
  {
   "cell_type": "code",
   "execution_count": 8,
   "metadata": {},
   "outputs": [],
   "source": [
    "def cell_of_vertex(M, k):\n",
    "    \"\"\"Get cell corresponding to the vertex.\n",
    "\n",
    "    Args:\n",
    "        M (np.ndarray): the map we are working with.\n",
    "        i (int): the row index.\n",
    "        j (int): the column index.\n",
    "    \"\"\"\n",
    "    m, n = M.shape\n",
    "    \n",
    "    # YOUR CODE HERE\n",
    "    # ~~START DELETE~~\n",
    "    return (k//n, k%n)\n",
    "    # ~~END DELETE~~"
   ]
  },
  {
   "cell_type": "markdown",
   "metadata": {},
   "source": [
    "### c) Implementation\n",
    "\n",
    "Now let's actually construct the adjacency matrix. Two vertices will be connected if they are each flyable!"
   ]
  },
  {
   "cell_type": "markdown",
   "metadata": {},
   "source": [
    "<div style=\"color: #a00; font-weight: 800; padding: 1em 0; border-top: 0.4em solid #eee;\">Checkoff: Constructing adjacency matrix from map</div>\n",
    "\n",
    "Complete the function `adjacency_matrix`"
   ]
  },
  {
   "cell_type": "code",
   "execution_count": 9,
   "metadata": {},
   "outputs": [],
   "source": [
    "def adjacency_matrix(M, flyable=1):\n",
    "    \"\"\"Visualize a 2D array using matplotlib.\n",
    "    All inputs values should be normalized 0.0-1.0.\n",
    "\n",
    "    Args:\n",
    "        M (np.ndarray): the map we are working with.\n",
    "        flyable (int): what number indicates a flyable cell; defauls to 1.\n",
    "    \"\"\"\n",
    "    # Size of map\n",
    "    m, n = M.shape\n",
    "    \n",
    "    # Number of vertices\n",
    "    o = m * n\n",
    "    \n",
    "    # A for *A*djacency matrix\n",
    "    A = np.zeros((o, o))\n",
    "    \n",
    "    # YOUR CODE HERE\n",
    "    # ~~START DELETE~~\n",
    "\n",
    "    for i in range(0, m):\n",
    "        for j in range(0, n):\n",
    "            \n",
    "            # check up\n",
    "            if i != 0 and M[i, j] == flyable and M[i-1, j] == flyable:\n",
    "                A[vertex_of_cell(M, i, j), vertex_of_cell(M, i-1, j)] = 1.\n",
    "                    \n",
    "            # check left\n",
    "            if j != 0 and M[i, j] == flyable and M[i, j-1] == flyable:\n",
    "                A[vertex_of_cell(M, i, j), vertex_of_cell(M, i, j-1)] = 1.\n",
    "            \n",
    "            # check down\n",
    "            if i != m-1 and M[i, j] == flyable and M[i+1, j] == flyable:\n",
    "                A[vertex_of_cell(M, i, j), vertex_of_cell(M, i+1, j)] = 1.\n",
    "               \n",
    "            # check right\n",
    "            if j != n-1 and M[i, j] == flyable and M[i, j+1] == flyable:\n",
    "                A[vertex_of_cell(M, i, j), vertex_of_cell(M, i, j+1)] = 1.\n",
    "                \n",
    "    # ~~END DELETE~~\n",
    "    \n",
    "    return A    "
   ]
  },
  {
   "cell_type": "code",
   "execution_count": 10,
   "metadata": {},
   "outputs": [],
   "source": [
    "stanford_adjacency = adjacency_matrix(stanford_map)"
   ]
  },
  {
   "cell_type": "markdown",
   "metadata": {},
   "source": [
    "<div style=\"color: #a00; font-weight: 800; padding: 1em 0; border-top: 0.4em solid #eee;\">Checkoff: Adjacency Matrix</div>\n",
    "\n",
    "Run the following code cell to visualize the entries, what do you see?\n",
    "\n",
    "> *Your response here!*"
   ]
  },
  {
   "cell_type": "code",
   "execution_count": 11,
   "metadata": {},
   "outputs": [
    {
     "data": {
      "text/plain": [
       "<matplotlib.image.AxesImage at 0x111ce3790>"
      ]
     },
     "execution_count": 11,
     "metadata": {},
     "output_type": "execute_result"
    },
    {
     "data": {
      "image/png": "[encoded data removed]",
      "text/plain": [
       "<Figure size 504x504 with 1 Axes>"
      ]
     },
     "metadata": {
      "needs_background": "light"
     },
     "output_type": "display_data"
    }
   ],
   "source": [
    "import matplotlib.pyplot as plt\n",
    "plt.figure(figsize=(7, 7))\n",
    "plt.imshow(stanford_adjacency)"
   ]
  },
  {
   "cell_type": "markdown",
   "metadata": {},
   "source": [
    "<div style=\"color: #a00; font-weight: 800; padding: 1em 0; border-top: 0.4em solid #eee;\">Checkoff: Graph on map visualization</div>\n",
    "\n",
    "The `visualize_map` function can also take an adjacency matrix to visualize via the named `A` argument.\n",
    "\n",
    "Run the following code cell to visualize it, what do you see? Is this harder or easier to interpret than the adjacency matrix itself?\n",
    "\n",
    "> *Your response here!*"
   ]
  },
  {
   "cell_type": "code",
   "execution_count": 12,
   "metadata": {},
   "outputs": [
    {
     "data": {
      "image/png": "[encoded data removed]",
      "text/plain": [
       "<Figure size 432x288 with 1 Axes>"
      ]
     },
     "metadata": {
      "needs_background": "light"
     },
     "output_type": "display_data"
    }
   ],
   "source": [
    "visualize_map(\"Stanford Flyable Zones Connected\", stanford_map, A=stanford_adjacency)"
   ]
  },
  {
   "cell_type": "markdown",
   "metadata": {},
   "source": [
    "## 4. Finding Neighbors\n",
    "\n",
    "a) Neighbors\n",
    "\n",
    "The set neighbors of a node in an undirected graph are those nodes which are connected to it by an edge!\n",
    "\n",
    "Let's write a function that get's the neighbors of vertices"
   ]
  },
  {
   "cell_type": "markdown",
   "metadata": {},
   "source": [
    "<div style=\"color: #a00; font-weight: 800; padding: 1em 0; border-top: 0.4em solid #eee;\">Checkoff: Neighbors</div>\n",
    "\n",
    "Complete the following function to get the neighbors of vertex `k`"
   ]
  },
  {
   "cell_type": "code",
   "execution_count": 13,
   "metadata": {},
   "outputs": [],
   "source": [
    "def neighbors(A, k):\n",
    "    \"\"\"Get the neighbors of vertex `i`\n",
    "    \n",
    "    Args:\n",
    "        A (np.ndarray): Adjacency matrix\n",
    "        i (int): vertex we care about.\n",
    "    \"\"\"\n",
    "    assert len(A.shape) == 2\n",
    "    assert A.shape[0] == A.shape[1]\n",
    "    \n",
    "    # we have o vertices\n",
    "    o = A.shape[0]\n",
    "    assert k < o\n",
    "    \n",
    "    # ~~START DELETE~~\n",
    "    return [j for j in range(o) if A[k, j] == 1] \n",
    "    # ~~END DELETE~~"
   ]
  },
  {
   "cell_type": "markdown",
   "metadata": {},
   "source": [
    "Does vertex 0, the top left have any neighbors?"
   ]
  },
  {
   "cell_type": "code",
   "execution_count": 14,
   "metadata": {},
   "outputs": [],
   "source": [
    "assert neighbors(stanford_adjacency, 0) == []"
   ]
  },
  {
   "cell_type": "markdown",
   "metadata": {},
   "source": [
    "Does vertex 29?"
   ]
  },
  {
   "cell_type": "code",
   "execution_count": 15,
   "metadata": {},
   "outputs": [],
   "source": [
    "assert neighbors(stanford_adjacency, 29) == [9, 28, 49]"
   ]
  },
  {
   "cell_type": "markdown",
   "metadata": {},
   "source": [
    "## 5. Sidebar: Queues \n",
    "\n",
    "We are headed towards searcha algorithms! But a quick detour...we need to talk about queues!\n",
    "\n",
    "### a) Remembering Queues\n",
    "Remember, queues are useful for storing a list of elements, with the semantics FIFO or LIFO.\n",
    "\n",
    "* FIFO stands for first in first out; the item which was added to the queue earliest will be the next to be popped.\n",
    "* LIFO stands for last in first out; the item which was most recently added to the queue will be the next to be popped.\n",
    "\n",
    "People often call LIFO queues **stacks** and call FIFO queues just **queues**.\n",
    "\n",
    "And remember, popped is"
   ]
  },
  {
   "cell_type": "markdown",
   "metadata": {},
   "source": [
    "### b) Queues via lists"
   ]
  },
  {
   "cell_type": "markdown",
   "metadata": {},
   "source": [
    "For us, a queue is just a list:"
   ]
  },
  {
   "cell_type": "code",
   "execution_count": 16,
   "metadata": {},
   "outputs": [],
   "source": [
    "queue = []"
   ]
  },
  {
   "cell_type": "markdown",
   "metadata": {},
   "source": [
    "We can append (or push or add) to the queue"
   ]
  },
  {
   "cell_type": "code",
   "execution_count": 17,
   "metadata": {},
   "outputs": [
    {
     "data": {
      "text/plain": [
       "[1, 2]"
      ]
     },
     "execution_count": 17,
     "metadata": {},
     "output_type": "execute_result"
    }
   ],
   "source": [
    "queue.append(1)\n",
    "queue.append(2)\n",
    "queue"
   ]
  },
  {
   "cell_type": "markdown",
   "metadata": {},
   "source": [
    "We can remove (or pop or get) from the queue"
   ]
  },
  {
   "cell_type": "code",
   "execution_count": 18,
   "metadata": {},
   "outputs": [
    {
     "name": "stdout",
     "output_type": "stream",
     "text": [
      "popped 1 from queue which is now [2]\n"
     ]
    }
   ],
   "source": [
    "elem = queue[0]\n",
    "queue = queue[1:]\n",
    "print(f\"popped {elem} from queue which is now {queue}\")"
   ]
  },
  {
   "cell_type": "code",
   "execution_count": 19,
   "metadata": {},
   "outputs": [
    {
     "name": "stdout",
     "output_type": "stream",
     "text": [
      "popped 2 from queue which is now []\n"
     ]
    }
   ],
   "source": [
    "elem = queue[0]\n",
    "queue = queue[1:]\n",
    "print(f\"popped {elem} from queue which is now {queue}\")"
   ]
  },
  {
   "cell_type": "markdown",
   "metadata": {},
   "source": [
    "What happens if we pop from a queue when it's empty? Uncomment the next two lines to find out!"
   ]
  },
  {
   "cell_type": "code",
   "execution_count": 20,
   "metadata": {},
   "outputs": [],
   "source": [
    "#elem = queue[0]\n",
    "#queue = queue[1:]"
   ]
  },
  {
   "cell_type": "markdown",
   "metadata": {},
   "source": [
    "So in general, we might need to check\n",
    "\n"
   ]
  },
  {
   "cell_type": "code",
   "execution_count": 21,
   "metadata": {},
   "outputs": [
    {
     "name": "stdout",
     "output_type": "stream",
     "text": [
      "can't pop\n"
     ]
    }
   ],
   "source": [
    "if len(queue) > 0:\n",
    "    print(\"can pop\")\n",
    "else:\n",
    "    print(\"can't pop\")"
   ]
  },
  {
   "cell_type": "markdown",
   "metadata": {},
   "source": [
    "<div style=\"color: #a00; font-weight: 800; padding: 1em 0; border-top: 0.4em solid #eee;\">Checkoff: Queue Basics</div>\n",
    "\n",
    "Because of this let's write two functions: \n",
    "\n",
    "* one called `push` to add elements to a queue\n",
    "* one called `pop` to get an element and shorten the queue\n",
    "\n",
    "Hint: `push` is one line! `pop` requires an `if` statement!"
   ]
  },
  {
   "cell_type": "code",
   "execution_count": 22,
   "metadata": {},
   "outputs": [],
   "source": [
    "def push(q, elem):\n",
    "    \"\"\"Add an element to the queue\n",
    "    \n",
    "    Args:\n",
    "        q (list): the queue.\n",
    "        elem (Any): the element to add.\n",
    "    \"\"\"\n",
    "    # YOUR CODE HERE\n",
    "    # ~~START DELETE~~\n",
    "    q.append(elem)\n",
    "    # ~~END DELETE~~\n",
    "    \n",
    "def pop(q):\n",
    "    \"\"\"Get an element from a queue, if there are any.\n",
    "       Return the queue (updated) and the element.\n",
    "       If there is nothing in the queue, return the queue and the value None.\n",
    "    \n",
    "    Args:\n",
    "        q (list): the queue.\n",
    "    \"\"\"\n",
    "    \n",
    "    # YOUR CODE HERE\n",
    "    # ~~START DELETE~~\n",
    "    if len(q) > 0:\n",
    "        r = q[0]\n",
    "        return q[1:], r\n",
    "    else:\n",
    "        return q, None\n",
    "    # ~~END DELETE~~"
   ]
  },
  {
   "cell_type": "markdown",
   "metadata": {},
   "source": [
    "<div style=\"color: #a00; font-weight: 800; padding: 1em 0; border-top: 0.4em solid #eee;\">Checkoff: Using `push` and `pop`</div>\n",
    "\n",
    "In the following cell, create a queue. Push (1,2), (3,4), (5,6) to it, then pop from the queue twice, then push (11,12).\n",
    "\n",
    "What does the queue contain?\n",
    "> *Your response here!*"
   ]
  },
  {
   "cell_type": "code",
   "execution_count": 23,
   "metadata": {},
   "outputs": [
    {
     "name": "stdout",
     "output_type": "stream",
     "text": [
      "[(5, 6), (11, 12)]\n"
     ]
    }
   ],
   "source": [
    "queue = []\n",
    "# YOUR CODE HERE\n",
    "# ~~START DELETE~~\n",
    "push(queue, (1,2))\n",
    "push(queue, (3,4))\n",
    "push(queue, (5,6))\n",
    "queue, _ = pop(queue)\n",
    "queue, _ = pop(queue)\n",
    "push(queue, (11,12))\n",
    "# ~~END DELETE~~\n",
    "print(queue)"
   ]
  },
  {
   "cell_type": "markdown",
   "metadata": {},
   "source": [
    "That was our whole sidebar! We will use queues to keep track of our search in the graph!"
   ]
  },
  {
   "cell_type": "markdown",
   "metadata": {},
   "source": [
    "## 6. Search\n",
    "\n",
    "Remember we will be searching through the graph, and constructing a matrix of distances from our start.\n",
    "\n",
    "We will terminate once we find the goal"
   ]
  },
  {
   "cell_type": "code",
   "execution_count": 43,
   "metadata": {},
   "outputs": [],
   "source": [
    "def uniform_cost_search(A, start, goal):\n",
    "    \"\"\"Perform a breadth first search, returning distances from nodes.\n",
    "       If goal is specified, quit early.\n",
    "    \n",
    "    Args:\n",
    "        A (np.ndarray): Adjacency matrix representing graph to search.\n",
    "        start (int): vertex to start search at.\n",
    "        goal (int): vertex indicating goal node.\n",
    "    \"\"\"\n",
    "    # o is the number of nodes\n",
    "    o = A.shape[0]\n",
    "    \n",
    "    # costs (or distances of path to node)\n",
    "    # inf represents that these nodes are not connected.\n",
    "    costs = np.inf * np.ones((o,))\n",
    "    \n",
    "    # Begin our search at start node start, which is distance 0\n",
    "    queue = [(start, 0)]\n",
    "    \n",
    "    # Dictionary of nodes we have already seen.\n",
    "    # keys are ints, and values are booleans.\n",
    "    seen = {}\n",
    "\n",
    "    while len(queue) > 0:\n",
    "        queue, (current, cost) = pop(queue)\n",
    "        seen[current] = True\n",
    "        costs[current] = cost\n",
    "        \n",
    "        if goal == current:\n",
    "            print(f\"Found goal!\")\n",
    "            return costs\n",
    "        \n",
    "        for neighbor in neighbors(A, current):\n",
    "            if neighbor in seen:\n",
    "                continue\n",
    "            \n",
    "            push(queue, (neighbor, cost+1))\n",
    "                \n",
    "    return costs"
   ]
  },
  {
   "cell_type": "code",
   "execution_count": 46,
   "metadata": {},
   "outputs": [
    {
     "name": "stdout",
     "output_type": "stream",
     "text": [
      "Found goal!\n"
     ]
    }
   ],
   "source": [
    "stanford_start = vertex_of_cell(stanford_map, 0, 10)\n",
    "stanford_end = vertex_of_cell(stanford_map, 8, 4)\n",
    "stanford_costs = uniform_cost_search(\n",
    "    stanford_adjacency,\n",
    "    stanford_start,\n",
    "    stanford_end,\n",
    ")"
   ]
  },
  {
   "cell_type": "code",
   "execution_count": 49,
   "metadata": {},
   "outputs": [
    {
     "data": {
      "image/png": "[encoded data removed]",
      "text/plain": [
       "<Figure size 432x288 with 1 Axes>"
      ]
     },
     "metadata": {
      "needs_background": "light"
     },
     "output_type": "display_data"
    }
   ],
   "source": [
    "visualize_costs(\n",
    "    \"Distances from Start on Stanford Map\", \n",
    "    stanford_map, \n",
    "    stanford_costs, \n",
    "    start=[0, 10],\n",
    "    end=[8,4],\n",
    ")"
   ]
  },
  {
   "cell_type": "code",
   "execution_count": 60,
   "metadata": {},
   "outputs": [],
   "source": [
    "def shortest_incoming(A, costs, k):\n",
    "    shortest_neighbor = None\n",
    "    smallest_cost = np.inf\n",
    "    for neighbor in neighbors(A, k):\n",
    "        if costs[neighbor] < smallest_cost:\n",
    "            shortest_neighbor = neighbor\n",
    "            smallest_cost = costs[neighbor]\n",
    "    return shortest_neighbor\n",
    "        \n",
    "\n",
    "def shortest_path(A, costs, start, goal):\n",
    "    if goal == start:\n",
    "        return [goal]\n",
    "    \n",
    "    \n",
    "    path = [goal]\n",
    "    \n",
    "    best_neighbor = shortest_incoming(A, costs, goal)\n",
    "    path.append(best_neighbor)\n",
    "    while best_neighbor != start:\n",
    "        print(path)\n",
    "        best_neighbor = shortest_incoming(A, costs, best_neighbor)\n",
    "        path.append(best_neighbor)\n",
    "\n",
    "    path.reverse()\n",
    "    return path"
   ]
  },
  {
   "cell_type": "code",
   "execution_count": 61,
   "metadata": {},
   "outputs": [
    {
     "name": "stdout",
     "output_type": "stream",
     "text": [
      "[164, 165]\n",
      "[164, 165, 166]\n",
      "[164, 165, 166, 146]\n",
      "[164, 165, 166, 146, 126]\n",
      "[164, 165, 166, 146, 126, 127]\n",
      "[164, 165, 166, 146, 126, 127, 107]\n",
      "[164, 165, 166, 146, 126, 127, 107, 87]\n",
      "[164, 165, 166, 146, 126, 127, 107, 87, 67]\n",
      "[164, 165, 166, 146, 126, 127, 107, 87, 67, 68]\n",
      "[164, 165, 166, 146, 126, 127, 107, 87, 67, 68, 48]\n",
      "[164, 165, 166, 146, 126, 127, 107, 87, 67, 68, 48, 28]\n",
      "[164, 165, 166, 146, 126, 127, 107, 87, 67, 68, 48, 28, 29]\n",
      "[164, 165, 166, 146, 126, 127, 107, 87, 67, 68, 48, 28, 29, 9]\n"
     ]
    }
   ],
   "source": [
    "stanford_path = shortest_path(\n",
    "    stanford_adjacency, \n",
    "    stanford_costs, \n",
    "    stanford_start, \n",
    "    stanford_end,\n",
    ")"
   ]
  },
  {
   "cell_type": "code",
   "execution_count": null,
   "metadata": {},
   "outputs": [],
   "source": []
  },
  {
   "cell_type": "code",
   "execution_count": null,
   "metadata": {},
   "outputs": [],
   "source": []
  }
 ],
 "metadata": {
  "kernelspec": {
   "display_name": "Python 3",
   "language": "python",
   "name": "python3"
  },
  "language_info": {
   "codemirror_mode": {
    "name": "ipython",
    "version": 3
   },
   "file_extension": ".py",
   "mimetype": "text/x-python",
   "name": "python",
   "nbconvert_exporter": "python",
   "pygments_lexer": "ipython3",
   "version": "3.7.7"
  }
 },
 "nbformat": 4,
 "nbformat_minor": 4
}
