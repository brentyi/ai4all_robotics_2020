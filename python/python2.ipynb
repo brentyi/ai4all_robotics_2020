{
 "cells": [
  {
   "cell_type": "markdown",
   "metadata": {},
   "source": [
    "<header style=\"padding: 4em 0 0em 0\">\n",
    "    <img src=\"http://brentyi.github.io/filestore/ai4all_logo.svg\" style=\"width: 30em; height: auto;\" />\n",
    "    <h3 style=\"margin: 1em 0 0 0;\">\n",
    "        <strong>Python 2</strong>\n",
    "        <span style=\"color: #777\">\n",
    "        &nbsp;&blacksquare;&nbsp;\n",
    "        Robotics, Summer 2020</span>\n",
    "    </h3>\n",
    "</header>"
   ]
  },
  {
   "cell_type": "markdown",
   "metadata": {},
   "source": [
    "<hr style=\"border-top: 0.4em solid #eee;\" />\n",
    "\n",
    "Today, we'll continue our whirlwind tour of Python by exploring some basic \"control flow\" and more advanced \"composite\" data types\n",
    "\n",
    "Our core goals will be to:\n",
    "\n",
    "1. Understand conditional statement (if/else)\n",
    "2. Learn a few container data types (lists, dictionaries)\n",
    "3. Understand iterative statements (loops)\n",
    "4. Practice with two exercises\n",
    "\n",
    "<hr style=\"border-top: 0.4em solid #eee;\" />"
   ]
  },
  {
   "cell_type": "markdown",
   "metadata": {},
   "source": [
    "Remember that we say last time (1) how to assign to a variable"
   ]
  },
  {
   "cell_type": "code",
   "execution_count": 29,
   "metadata": {},
   "outputs": [],
   "source": [
    "x = 10"
   ]
  },
  {
   "cell_type": "markdown",
   "metadata": {},
   "source": [
    "(2) print it"
   ]
  },
  {
   "cell_type": "code",
   "execution_count": 30,
   "metadata": {},
   "outputs": [
    {
     "name": "stdout",
     "output_type": "stream",
     "text": [
      "10\n"
     ]
    }
   ],
   "source": [
    "print(x)"
   ]
  },
  {
   "cell_type": "markdown",
   "metadata": {},
   "source": [
    "(3) do some arithmetic"
   ]
  },
  {
   "cell_type": "code",
   "execution_count": 31,
   "metadata": {},
   "outputs": [
    {
     "name": "stdout",
     "output_type": "stream",
     "text": [
      "20\n"
     ]
    }
   ],
   "source": [
    "y = x * 2\n",
    "print(y)"
   ]
  },
  {
   "cell_type": "markdown",
   "metadata": {},
   "source": [
    "(4) and accept user input"
   ]
  },
  {
   "cell_type": "code",
   "execution_count": null,
   "metadata": {},
   "outputs": [],
   "source": [
    "name = input(\"Who's there?\")\n",
    "print(f\"Hi {name}\")"
   ]
  },
  {
   "cell_type": "markdown",
   "metadata": {},
   "source": [
    "## 1. Conditionals (\"If\" statements)"
   ]
  },
  {
   "cell_type": "markdown",
   "metadata": {},
   "source": [
    "Today we will first see how a program change its behavior based on user input!\n",
    "\n",
    "We will make use of a language control structure called **conditionals**, which uses the idea that based on certain conditions (true/false) you do certain actions (run statements).\n",
    "\n",
    "Here's an example"
   ]
  },
  {
   "cell_type": "code",
   "execution_count": 12,
   "metadata": {},
   "outputs": [
    {
     "name": "stdout",
     "output_type": "stream",
     "text": [
      "x is less than 20\n"
     ]
    }
   ],
   "source": [
    "x = 10\n",
    "\n",
    "if x < 20:\n",
    "    print(\"x is less than 20\")"
   ]
  },
  {
   "cell_type": "markdown",
   "metadata": {},
   "source": [
    "Try changing x to see the print statment. What do you think the condition is?"
   ]
  },
  {
   "cell_type": "markdown",
   "metadata": {},
   "source": [
    "The format is `if <expression>:`, then we indent a new line and give a new list of statements"
   ]
  },
  {
   "cell_type": "markdown",
   "metadata": {},
   "source": [
    "Remember a program is just a list of instructions. So we here we say, only run this list of instruction (printing) if the condition is met.\n",
    "\n",
    "As you may expect, the expression after the `if` keyword needs to evaluate to a Boolean!"
   ]
  },
  {
   "cell_type": "markdown",
   "metadata": {},
   "source": [
    "That little bit `x < 20` is an expression which evaluates to True if x is indeed less than 20!"
   ]
  },
  {
   "cell_type": "markdown",
   "metadata": {},
   "source": [
    "For variables with primitive types like boolean, integer and float we have the following comparison operators:\n",
    "\n",
    "* `x < y`, True if x is smaller than y\n",
    "* `x > y`, True if x is larger than y\n",
    "* `x <= y`, True if x is smaller or equal to y\n",
    "* `x >= y`, True if x is larger or equal to y\n",
    "* `x == y`, True if x is equal to y\n",
    "* `x != y`, True if x is not equal to y\n",
    "\n",
    "Each of these is False otherwise! It's particularly important to note that if you are checking if something is equal, you must use `==` and not just a single `=`, because a single `=` in Python is interpretted as assigning a value to a variable.\n"
   ]
  },
  {
   "cell_type": "markdown",
   "metadata": {
    "colab_type": "text",
    "id": "b7iSRfpWQCmP"
   },
   "source": [
    "Ok, now what do you think this following line of code does? Once you have a guess, give it a run a few times, with different inputs:"
   ]
  },
  {
   "cell_type": "code",
   "execution_count": 15,
   "metadata": {
    "colab": {},
    "colab_type": "code",
    "id": "_eY16gH65Z7X"
   },
   "outputs": [
    {
     "name": "stdin",
     "output_type": "stream",
     "text": [
      "Input a number from 1 to 10:  1\n"
     ]
    }
   ],
   "source": [
    "num = int(input(\"Input a number from 1 to 10: \"))\n",
    "\n",
    "if num > 5:\n",
    "  print(\"This was a good number!\")"
   ]
  },
  {
   "cell_type": "markdown",
   "metadata": {
    "colab_type": "text",
    "id": "k4HhhrgI7r0a"
   },
   "source": [
    "The part where we do `int()` **casts** the string to an int. It tells python, I know this variable is a string, but try to interpret it as an integer. It needn't always work"
   ]
  },
  {
   "cell_type": "code",
   "execution_count": 16,
   "metadata": {},
   "outputs": [
    {
     "ename": "ValueError",
     "evalue": "invalid literal for int() with base 10: 'foo'",
     "output_type": "error",
     "traceback": [
      "\u001b[0;31m---------------------------------------------------------------------------\u001b[0m",
      "\u001b[0;31mValueError\u001b[0m                                Traceback (most recent call last)",
      "\u001b[0;32m<ipython-input-16-6c00556e7f8a>\u001b[0m in \u001b[0;36m<module>\u001b[0;34m\u001b[0m\n\u001b[0;32m----> 1\u001b[0;31m \u001b[0mint\u001b[0m\u001b[0;34m(\u001b[0m\u001b[0;34m\"foo\"\u001b[0m\u001b[0;34m)\u001b[0m\u001b[0;34m\u001b[0m\u001b[0;34m\u001b[0m\u001b[0m\n\u001b[0m",
      "\u001b[0;31mValueError\u001b[0m: invalid literal for int() with base 10: 'foo'"
     ]
    }
   ],
   "source": [
    "int(\"foo\")"
   ]
  },
  {
   "cell_type": "markdown",
   "metadata": {},
   "source": [
    "but mostly does, try predicting what will be printed before running the next blocks"
   ]
  },
  {
   "cell_type": "code",
   "execution_count": 20,
   "metadata": {},
   "outputs": [
    {
     "name": "stdout",
     "output_type": "stream",
     "text": [
      "5\n"
     ]
    }
   ],
   "source": [
    "print(int(\"0\") + 5)"
   ]
  },
  {
   "cell_type": "code",
   "execution_count": 21,
   "metadata": {},
   "outputs": [
    {
     "name": "stdout",
     "output_type": "stream",
     "text": [
      "13\n"
     ]
    }
   ],
   "source": [
    "print(int(\"3\") + 10)"
   ]
  },
  {
   "cell_type": "code",
   "execution_count": 22,
   "metadata": {},
   "outputs": [
    {
     "name": "stdout",
     "output_type": "stream",
     "text": [
      "20\n"
     ]
    }
   ],
   "source": [
    "print(int(\"10\") * 2)"
   ]
  },
  {
   "cell_type": "code",
   "execution_count": null,
   "metadata": {
    "colab": {},
    "colab_type": "code",
    "id": "ImWSfqzt9CS7"
   },
   "outputs": [],
   "source": [
    "num = int(input(\"Input a number from 1 to 10: \"))\n",
    "\n",
    "# Let's give it a try! Finish the following line so that \"You got it!\" only prints when num equals 3\n",
    "# ~~START DELETE~~\n",
    "if num == 3:\n",
    "# ~~END DELETE~~\n",
    "  print(\"You got it!\")"
   ]
  },
  {
   "cell_type": "markdown",
   "metadata": {
    "colab_type": "text",
    "id": "Gw6Q51KP9pnx"
   },
   "source": [
    "What if we wanted to print a different message if they got the number wrong? It would take a lot of time to write a condition for every single other option, so instead we can make use of a different piece of code:\n",
    "\n",
    "(Spoilers for the previous code block, so be sure to have finished that before looking at the following.)"
   ]
  },
  {
   "cell_type": "code",
   "execution_count": null,
   "metadata": {
    "colab": {
     "base_uri": "https://localhost:8080/",
     "height": 51
    },
    "colab_type": "code",
    "id": "rwKvZoVc94tO",
    "outputId": "09944e26-f233-4cca-a1dd-7fb5c4dce04a"
   },
   "outputs": [
    {
     "name": "stdout",
     "output_type": "stream",
     "text": [
      "Input a number from 1 to 103\n",
      "Try again!\n"
     ]
    }
   ],
   "source": [
    "num = int(input(\"Input a number from 1 to 10: \"))\n",
    "\n",
    "if num == 5:\n",
    "  print(\"You got it!\")\n",
    "else:\n",
    "  print(\"Try again!\")"
   ]
  },
  {
   "cell_type": "markdown",
   "metadata": {
    "colab_type": "text",
    "id": "owQaUNuH-NyG"
   },
   "source": [
    "We can also include some math in our if statement, to help check for specific conditions. For example, a very popular use of the modulo operator is to check if a number is even or odd, and we can combine this with an if statement:"
   ]
  },
  {
   "cell_type": "code",
   "execution_count": null,
   "metadata": {
    "colab": {
     "base_uri": "https://localhost:8080/",
     "height": 51
    },
    "colab_type": "code",
    "id": "iaTdt45N-kZC",
    "outputId": "5bef9b3c-0714-457f-f707-4467f6d371f2"
   },
   "outputs": [
    {
     "name": "stdout",
     "output_type": "stream",
     "text": [
      "Input a number from 1 to 10055\n",
      "You inputted an odd number.\n"
     ]
    }
   ],
   "source": [
    "num = int(input(\"Input a number from 1 to 100: \"))\n",
    "\n",
    "if num % 2 == 0:\n",
    "  print(\"You inputted an even number.\")\n",
    "else:\n",
    "  print(\"You inputted an odd number.\")"
   ]
  },
  {
   "cell_type": "markdown",
   "metadata": {
    "colab_type": "text",
    "id": "Hw0xFruG-wr5"
   },
   "source": [
    "So how does this work?\n",
    "\n",
    "Because modulo returns the remainder after dividing by 2, we know that all even numbers will have a remainder of 0 and all odd numbers will have a remainder of 1. Our if-statement checks to see that if after `num % 2` you get the result of 0, you know that `num` is an even number.\n",
    "\n",
    "There are many more uses of if-statements, and we'll see that this is one of the most useful fundamental concepts in programming that helps us create meaningful programs."
   ]
  },
  {
   "cell_type": "markdown",
   "metadata": {
    "colab_type": "text",
    "id": "4_VBcdGR_26X"
   },
   "source": [
    "### A Note on Indenting\n",
    "\n",
    "You may have noticed in all of the code examples above that there is a single indent for the line that comes after the if-statement condition. Why might that be?\n",
    "\n",
    "Try running the following code to see what happens:"
   ]
  },
  {
   "cell_type": "code",
   "execution_count": null,
   "metadata": {
    "colab": {},
    "colab_type": "code",
    "id": "ARmPnYh3AGc-"
   },
   "outputs": [],
   "source": [
    "x = 5\n",
    "\n",
    "if x < 2:\n",
    "  print(\"Well, we know this will not print...\")\n",
    "  print(\"But what about this?\")"
   ]
  },
  {
   "cell_type": "markdown",
   "metadata": {
    "colab_type": "text",
    "id": "ZJGrCiGQAO6z"
   },
   "source": [
    "Compare it with the following:"
   ]
  },
  {
   "cell_type": "code",
   "execution_count": null,
   "metadata": {
    "colab": {
     "base_uri": "https://localhost:8080/",
     "height": 34
    },
    "colab_type": "code",
    "id": "zvroZsG_AQSN",
    "outputId": "325360e5-f384-43d6-db7e-008efba514cc"
   },
   "outputs": [
    {
     "name": "stdout",
     "output_type": "stream",
     "text": [
      "But what about this?\n"
     ]
    }
   ],
   "source": [
    "x = 5\n",
    "\n",
    "if x < 2:\n",
    "  print(\"Well, we know this will not print...\")\n",
    "print(\"But what about this?\")"
   ]
  },
  {
   "cell_type": "markdown",
   "metadata": {
    "colab_type": "text",
    "id": "2ktpJ4NPAWG2"
   },
   "source": [
    "What do you notice is the difference between the two code blocks?"
   ]
  },
  {
   "cell_type": "markdown",
   "metadata": {
    "colab_type": "text",
    "id": "PmMDVxleAd1R"
   },
   "source": [
    "We use indenting to tell Python which block of code should be run as part of the conditional, and which part comes after the conditional. \n",
    "\n",
    "Not all programming languages use indentation for this -- for example, a different programming language called JavaScript uses the curly braces `{}` to tell the computer that everything inside the curly braces should be run if the condition is true, and everything afterwards will be run regardless of the conditional."
   ]
  },
  {
   "cell_type": "code",
   "execution_count": null,
   "metadata": {
    "colab": {
     "base_uri": "https://localhost:8080/",
     "height": 34
    },
    "colab_type": "code",
    "id": "H5URZNxgBDgx",
    "outputId": "e961ebdb-5340-4213-d68a-0c893a4866cf"
   },
   "outputs": [
    {
     "name": "stdout",
     "output_type": "stream",
     "text": [
      "Now will it print?\n"
     ]
    }
   ],
   "source": [
    "# One more example just to be clear!\n",
    "y = 100\n",
    "\n",
    "# Do you remember what this following comparison operator does?\n",
    "if y != 100:\n",
    "  print(\"Will this line print?\")\n",
    "  print(\"How about this line?\")\n",
    "  print(\"Let's add one more line just in case.\")\n",
    "print(\"Now will it print?\")"
   ]
  },
  {
   "cell_type": "markdown",
   "metadata": {},
   "source": [
    "So that's the basics on conditionals, we can have multiple different cases in the conditional using the `elif` keyword"
   ]
  },
  {
   "cell_type": "code",
   "execution_count": 28,
   "metadata": {},
   "outputs": [
    {
     "name": "stdin",
     "output_type": "stream",
     "text": [
      "input a number 12\n"
     ]
    },
    {
     "name": "stdout",
     "output_type": "stream",
     "text": [
      "12 is divisible by 3\n"
     ]
    }
   ],
   "source": [
    "x = int(input(\"input a number\"))\n",
    "\n",
    "if x % 3 == 0:\n",
    "    print(f\"{x} is divisible by 3\")\n",
    "elif x % 4 == 0:\n",
    "    print(f\"{x} is divisible by 4\")\n",
    "else:\n",
    "    print(f\"{x} is not divisible by 3 or 4\")"
   ]
  },
  {
   "cell_type": "markdown",
   "metadata": {},
   "source": [
    "Try running the above with a number divisible by 3 and 4! Notice that only the first of the blocks whose condition statement is true is run!"
   ]
  },
  {
   "cell_type": "code",
   "execution_count": null,
   "metadata": {},
   "outputs": [],
   "source": [
    "There are two other useful keywords for working with booleans, namely `and` and `or`"
   ]
  },
  {
   "cell_type": "markdown",
   "metadata": {},
   "source": [
    "They match the logical and and or\n",
    "\n",
    "* `P and Q` is True if P is True and Q is True\n",
    "* `P or Q` is True if P is True or Q is true\n",
    "\n",
    "With this knowledge try out the following block!"
   ]
  },
  {
   "cell_type": "code",
   "execution_count": null,
   "metadata": {},
   "outputs": [],
   "source": [
    "x = int(input(\"input a number\"))\n",
    "\n",
    "if x % 3 == 0:\n",
    "    print(f\"{x} is divisible by 3\")\n",
    "if x % 4 == 0:\n",
    "    print(f\"{x} is divisible by 4\")\n",
    "if x % 3 != 0 and x % 4 != 0:\n",
    "    print(f\"{x} is not divisible by 3 or 4\")"
   ]
  },
  {
   "cell_type": "markdown",
   "metadata": {},
   "source": [
    "## 2. Container Data Types"
   ]
  },
  {
   "cell_type": "markdown",
   "metadata": {},
   "source": [
    "### a) Lists"
   ]
  },
  {
   "cell_type": "markdown",
   "metadata": {
    "colab_type": "text",
    "id": "sSht1HzSQJdn"
   },
   "source": [
    "There are many ways in Python where we can store many different things in one single variable. Just like in the real world, we often want to be able to make lists in Python. Imagine these like to-do lists, shopping lists, or lists to keep track of a set of similar things.\n",
    "\n",
    "A list can contain any of the primitive types we have seen"
   ]
  },
  {
   "cell_type": "code",
   "execution_count": 38,
   "metadata": {},
   "outputs": [],
   "source": [
    "x = [1, True, 3.14, \"my string\"]"
   ]
  },
  {
   "cell_type": "markdown",
   "metadata": {},
   "source": [
    "Another example, a list of tasks say:"
   ]
  },
  {
   "cell_type": "code",
   "execution_count": null,
   "metadata": {
    "colab": {},
    "colab_type": "code",
    "id": "WUeq84uACcXv"
   },
   "outputs": [],
   "source": [
    "# The following is a list in Python:\n",
    "things_to_do = [\"water plants\", \"take out trash\", \"mow law\", \"prepare dinner\"]"
   ]
  },
  {
   "cell_type": "markdown",
   "metadata": {
    "colab_type": "text",
    "id": "YKWBRIoeC2EA"
   },
   "source": [
    "We use the square brackets `[]` to show that we're using a list in Python. Lists can be a mixture of different data types, like:"
   ]
  },
  {
   "cell_type": "code",
   "execution_count": null,
   "metadata": {
    "colab": {
     "base_uri": "https://localhost:8080/",
     "height": 34
    },
    "colab_type": "code",
    "id": "zT5HBPDtDAi6",
    "outputId": "6c58152c-15f0-4358-dbd8-1440f3ca950e"
   },
   "outputs": [
    {
     "name": "stdout",
     "output_type": "stream",
     "text": [
      "The number 5 is in this list!\n"
     ]
    }
   ],
   "source": [
    "some_random_list = [5, \"something\", True, 4.5, \"okay\"]\n",
    "\n",
    "# To test if something is in a list, we use the operator 'in'\n",
    "\n",
    "if 5 in some_random_list:\n",
    "  print(\"The number 5 is in this list!\")"
   ]
  },
  {
   "cell_type": "code",
   "execution_count": 39,
   "metadata": {
    "colab": {},
    "colab_type": "code",
    "id": "oyjb9WpgDb9z"
   },
   "outputs": [
    {
     "name": "stdout",
     "output_type": "stream",
     "text": [
      "The value of x was found in your list.\n"
     ]
    }
   ],
   "source": [
    "# Define the you_list variable so that the conditional will be true!\n",
    "# ~~START DELETE~~\n",
    "your_list = [42]\n",
    "# ~~END DELETE~~\n",
    "x = 42\n",
    "\n",
    "if x in your_list:\n",
    "  print(\"The value of x was found in your list.\")"
   ]
  },
  {
   "cell_type": "markdown",
   "metadata": {
    "colab_type": "text",
    "id": "4agTX3VRJ203"
   },
   "source": [
    "#### Indexing into a list\n",
    "\n",
    "What if we wanted to get a specific **element** of a list? We can do the following:"
   ]
  },
  {
   "cell_type": "code",
   "execution_count": 40,
   "metadata": {
    "colab": {},
    "colab_type": "code",
    "id": "wZwBL9fTKN-g"
   },
   "outputs": [
    {
     "name": "stdout",
     "output_type": "stream",
     "text": [
      "b\n"
     ]
    }
   ],
   "source": [
    "some_list = ['a', 'b', 'c']\n",
    "print(some_list[1])\n",
    "\n",
    "# What do you expect this to print?"
   ]
  },
  {
   "cell_type": "markdown",
   "metadata": {
    "colab_type": "text",
    "id": "rYah0sMUKSww"
   },
   "source": [
    "In Python, we actually start counting from 0, not 1. So the \"first\" element of the list would be `some_list[0]`. The number that we use is called the **index** of the element. (So element `a` would have the index of 0.)"
   ]
  },
  {
   "cell_type": "code",
   "execution_count": 41,
   "metadata": {
    "colab": {},
    "colab_type": "code",
    "id": "zM6ZxKl5Kdwe"
   },
   "outputs": [],
   "source": [
    "# Print the 'e' from the list using indexing\n",
    "random_list = [3, 5, 'blob', 'e']"
   ]
  },
  {
   "cell_type": "markdown",
   "metadata": {},
   "source": [
    "### b) Dictionaries"
   ]
  },
  {
   "cell_type": "markdown",
   "metadata": {},
   "source": [
    "Another container type is dictionaries, here we have a list of keys associated with values"
   ]
  },
  {
   "cell_type": "code",
   "execution_count": 45,
   "metadata": {},
   "outputs": [],
   "source": [
    "one_to_five = {\n",
    "    \"one\": 1,\n",
    "    \"two\": 2,\n",
    "    \"three\": 3,\n",
    "    \"four\": 4,\n",
    "    \"five\": 4\n",
    "}"
   ]
  },
  {
   "cell_type": "markdown",
   "metadata": {},
   "source": [
    "We check if a key is in a dictionary using the `in` keyword"
   ]
  },
  {
   "cell_type": "code",
   "execution_count": 47,
   "metadata": {},
   "outputs": [
    {
     "data": {
      "text/plain": [
       "True"
      ]
     },
     "execution_count": 47,
     "metadata": {},
     "output_type": "execute_result"
    }
   ],
   "source": [
    "\"one\" in one_to_five"
   ]
  },
  {
   "cell_type": "code",
   "execution_count": 48,
   "metadata": {},
   "outputs": [
    {
     "data": {
      "text/plain": [
       "False"
      ]
     },
     "execution_count": 48,
     "metadata": {},
     "output_type": "execute_result"
    }
   ],
   "source": [
    "\"seven\" in one_to_five"
   ]
  },
  {
   "cell_type": "markdown",
   "metadata": {},
   "source": [
    "We access elements using their keys"
   ]
  },
  {
   "cell_type": "code",
   "execution_count": 52,
   "metadata": {},
   "outputs": [
    {
     "data": {
      "text/plain": [
       "1"
      ]
     },
     "execution_count": 52,
     "metadata": {},
     "output_type": "execute_result"
    }
   ],
   "source": [
    "one_to_five[\"one\"]"
   ]
  },
  {
   "cell_type": "markdown",
   "metadata": {},
   "source": [
    "Keys of dictionaries must be primitive types, like strings, but the values can be lists!\n"
   ]
  },
  {
   "cell_type": "code",
   "execution_count": 53,
   "metadata": {},
   "outputs": [],
   "source": [
    "numbers = {\n",
    "    \"odds\": [1, 3, 5, 7, 9],\n",
    "    \"evens\": [2, 4, 6, 8, 10],\n",
    "}"
   ]
  },
  {
   "cell_type": "markdown",
   "metadata": {},
   "source": [
    "Did we mention, lists can have lists"
   ]
  },
  {
   "cell_type": "code",
   "execution_count": 54,
   "metadata": {},
   "outputs": [
    {
     "data": {
      "text/plain": [
       "[[1, 2], ['woah', 'cool']]"
      ]
     },
     "execution_count": 54,
     "metadata": {},
     "output_type": "execute_result"
    }
   ],
   "source": [
    "[[1, 2], [\"woah\", \"cool\"]]"
   ]
  },
  {
   "cell_type": "markdown",
   "metadata": {},
   "source": [
    "## 3. Loops"
   ]
  },
  {
   "cell_type": "markdown",
   "metadata": {},
   "source": [
    "Ok so now we have composite types like lists and dictionaries. What can we do with them, in particular how would we do something for every element in a list?\n",
    "\n",
    "That is, more generally, how do we repeat the same operation many times?\n",
    "\n",
    "For example. suppose we want to print all the multiples of 7 up to 100. How could we do this?"
   ]
  },
  {
   "cell_type": "markdown",
   "metadata": {
    "colab_type": "text",
    "id": "IDNz636mQKJq"
   },
   "source": [
    "One way is to manually calculate all of the multiples and write `print(7)`, then `print(14)`, and continue until we've printed all of them out. But this takes lots of time to calculate and type out, and we're likely to make errors in this way."
   ]
  },
  {
   "cell_type": "markdown",
   "metadata": {},
   "source": [
    "### a) While loop"
   ]
  },
  {
   "cell_type": "markdown",
   "metadata": {},
   "source": [
    "Instead, we can use something called a `while` loop:"
   ]
  },
  {
   "cell_type": "code",
   "execution_count": 56,
   "metadata": {
    "colab": {
     "base_uri": "https://localhost:8080/",
     "height": 255
    },
    "colab_type": "code",
    "id": "mQUIZgfoEVyA",
    "outputId": "d6c233c8-72bf-4909-b4d1-9136abd8536e"
   },
   "outputs": [
    {
     "name": "stdout",
     "output_type": "stream",
     "text": [
      "7\n",
      "14\n",
      "21\n",
      "28\n",
      "35\n",
      "42\n",
      "49\n",
      "56\n",
      "63\n",
      "70\n",
      "77\n",
      "84\n",
      "91\n",
      "98\n"
     ]
    }
   ],
   "source": [
    "num = 7\n",
    "while num < 100:\n",
    "  print(num)\n",
    "  num += 7"
   ]
  },
  {
   "cell_type": "markdown",
   "metadata": {
    "colab_type": "text",
    "id": "T7jnj-BhE8dX"
   },
   "source": [
    "On line 2 in the code above, we check to see if the variable `num` is less than 100. If it is, we will run the two indented lines of code, which print `num` and also increase it by 7. This will continue until `num` is greater than 100, and stop repeating, which we see from running the code.\n",
    "\n",
    "Loops are a very useful way to repeat the same task over and over, often with just a small thing changed on each **iteration**, which is what we call one cycle of the loop. If you feel like you're doing a lot of copying and pasting of code, this is often a sign that you can potentially replace things with a loop."
   ]
  },
  {
   "cell_type": "markdown",
   "metadata": {
    "colab_type": "text",
    "id": "rnRBRs2fFtWC"
   },
   "source": [
    "### b) For Loops"
   ]
  },
  {
   "cell_type": "markdown",
   "metadata": {},
   "source": [
    "The other type of loop in Python is the `for` loop. It has many uses, such as with lists"
   ]
  },
  {
   "cell_type": "code",
   "execution_count": 57,
   "metadata": {
    "colab": {
     "base_uri": "https://localhost:8080/",
     "height": 85
    },
    "colab_type": "code",
    "id": "azpbfV1ZF1Pz",
    "outputId": "63731cef-9dbb-4a50-efef-7105896c4140"
   },
   "outputs": [
    {
     "name": "stdout",
     "output_type": "stream",
     "text": [
      "Now doing: water plants\n",
      "Now doing: take out trash\n",
      "Now doing: mow law\n",
      "Now doing: prepare dinner\n"
     ]
    }
   ],
   "source": [
    "things_to_do = [\"water plants\", \"take out trash\", \"mow law\", \"prepare dinner\"]\n",
    "\n",
    "for task in things_to_do:\n",
    "  print(\"Now doing:\", task)"
   ]
  },
  {
   "cell_type": "markdown",
   "metadata": {
    "colab_type": "text",
    "id": "jIDdokoOGAl6"
   },
   "source": [
    "Notice that in order to print out each element of the list one-by-one, we need to use a for loop. We cannot do the following:"
   ]
  },
  {
   "cell_type": "code",
   "execution_count": 58,
   "metadata": {
    "colab": {
     "base_uri": "https://localhost:8080/",
     "height": 34
    },
    "colab_type": "code",
    "id": "ZTsl1w5SGGuN",
    "outputId": "b9ebab03-3c5f-48da-cf68-a168c1069757"
   },
   "outputs": [
    {
     "name": "stdout",
     "output_type": "stream",
     "text": [
      "['water plants', 'take out trash', 'mow law', 'prepare dinner']\n"
     ]
    }
   ],
   "source": [
    "# This would just print the entire list at once\n",
    "things_to_do = [\"water plants\", \"take out trash\", \"mow law\", \"prepare dinner\"]\n",
    "print(things_to_do)"
   ]
  },
  {
   "cell_type": "markdown",
   "metadata": {
    "colab_type": "text",
    "id": "u53rfwj6GPKf"
   },
   "source": [
    "Say we want to loop through a list of numbers and count how many times we see an even number. We could do that by combining for loops and if statements:"
   ]
  },
  {
   "cell_type": "code",
   "execution_count": 59,
   "metadata": {
    "colab": {},
    "colab_type": "code",
    "id": "_wj_WJcbGOpX"
   },
   "outputs": [
    {
     "name": "stdout",
     "output_type": "stream",
     "text": [
      "3\n"
     ]
    }
   ],
   "source": [
    "list_of_no = [1,2,99,24,45,76]\n",
    "\n",
    "count = 0\n",
    "\n",
    "for number in list_of_no:\n",
    "  if number % 2 == 0:\n",
    "    count += 1\n",
    "    \n",
    "print(count)"
   ]
  },
  {
   "cell_type": "markdown",
   "metadata": {
    "colab_type": "text",
    "id": "GZXRxYgjG8lm"
   },
   "source": [
    "Take your time to read the code example above. We've combined many of the different things that we've learned in the lesson so far to accomplish this task. Try to read through each line of code to understand what it does, especially within the for loop. Notice that the if-statement condition is indented once, and the `count += 1` line is indented twice."
   ]
  },
  {
   "cell_type": "markdown",
   "metadata": {
    "colab_type": "text",
    "id": "TmR8AMRuQLiB"
   },
   "source": [
    "### c) The `range` keyword\n",
    "\n",
    "In addition to using a for loop with a list, we can use a for loop with a range of numbers. Say we wanted to count up from 1 to 100 and print each number:"
   ]
  },
  {
   "cell_type": "code",
   "execution_count": null,
   "metadata": {
    "colab": {
     "base_uri": "https://localhost:8080/",
     "height": 1717
    },
    "colab_type": "code",
    "id": "-_phUnfIH3IH",
    "outputId": "b835c24e-8938-4be9-f5ff-0a7b659b1e51"
   },
   "outputs": [
    {
     "name": "stdout",
     "output_type": "stream",
     "text": [
      "0\n",
      "1\n",
      "2\n",
      "3\n",
      "4\n",
      "5\n",
      "6\n",
      "7\n",
      "8\n",
      "9\n",
      "10\n",
      "11\n",
      "12\n",
      "13\n",
      "14\n",
      "15\n",
      "16\n",
      "17\n",
      "18\n",
      "19\n",
      "20\n",
      "21\n",
      "22\n",
      "23\n",
      "24\n",
      "25\n",
      "26\n",
      "27\n",
      "28\n",
      "29\n",
      "30\n",
      "31\n",
      "32\n",
      "33\n",
      "34\n",
      "35\n",
      "36\n",
      "37\n",
      "38\n",
      "39\n",
      "40\n",
      "41\n",
      "42\n",
      "43\n",
      "44\n",
      "45\n",
      "46\n",
      "47\n",
      "48\n",
      "49\n",
      "50\n",
      "51\n",
      "52\n",
      "53\n",
      "54\n",
      "55\n",
      "56\n",
      "57\n",
      "58\n",
      "59\n",
      "60\n",
      "61\n",
      "62\n",
      "63\n",
      "64\n",
      "65\n",
      "66\n",
      "67\n",
      "68\n",
      "69\n",
      "70\n",
      "71\n",
      "72\n",
      "73\n",
      "74\n",
      "75\n",
      "76\n",
      "77\n",
      "78\n",
      "79\n",
      "80\n",
      "81\n",
      "82\n",
      "83\n",
      "84\n",
      "85\n",
      "86\n",
      "87\n",
      "88\n",
      "89\n",
      "90\n",
      "91\n",
      "92\n",
      "93\n",
      "94\n",
      "95\n",
      "96\n",
      "97\n",
      "98\n",
      "99\n"
     ]
    }
   ],
   "source": [
    "for number in range(100):\n",
    "  print(number)"
   ]
  },
  {
   "cell_type": "markdown",
   "metadata": {
    "colab_type": "text",
    "id": "sUi3K9q9H7TZ"
   },
   "source": [
    "**What is the first number that's printed?**\n",
    "\n",
    "0! Remember that in Python, we typically start counting from 0, not 1.\n",
    "\n",
    "**What is the final number that's printed?**\n",
    "\n",
    "You'll notice that the number we specify in `range()` is the number we count _up to_, but don't actually get to.\n",
    "\n",
    "**How can we correct this to print the numbers 1 to 100 instead of 0 to 99?**"
   ]
  },
  {
   "cell_type": "code",
   "execution_count": null,
   "metadata": {
    "colab": {
     "base_uri": "https://localhost:8080/",
     "height": 1717
    },
    "colab_type": "code",
    "id": "7Psf3t8aIW5d",
    "outputId": "6e89d691-7a4b-40b4-b67f-cf7f0a62a95b"
   },
   "outputs": [
    {
     "name": "stdout",
     "output_type": "stream",
     "text": [
      "1\n",
      "2\n",
      "3\n",
      "4\n",
      "5\n",
      "6\n",
      "7\n",
      "8\n",
      "9\n",
      "10\n",
      "11\n",
      "12\n",
      "13\n",
      "14\n",
      "15\n",
      "16\n",
      "17\n",
      "18\n",
      "19\n",
      "20\n",
      "21\n",
      "22\n",
      "23\n",
      "24\n",
      "25\n",
      "26\n",
      "27\n",
      "28\n",
      "29\n",
      "30\n",
      "31\n",
      "32\n",
      "33\n",
      "34\n",
      "35\n",
      "36\n",
      "37\n",
      "38\n",
      "39\n",
      "40\n",
      "41\n",
      "42\n",
      "43\n",
      "44\n",
      "45\n",
      "46\n",
      "47\n",
      "48\n",
      "49\n",
      "50\n",
      "51\n",
      "52\n",
      "53\n",
      "54\n",
      "55\n",
      "56\n",
      "57\n",
      "58\n",
      "59\n",
      "60\n",
      "61\n",
      "62\n",
      "63\n",
      "64\n",
      "65\n",
      "66\n",
      "67\n",
      "68\n",
      "69\n",
      "70\n",
      "71\n",
      "72\n",
      "73\n",
      "74\n",
      "75\n",
      "76\n",
      "77\n",
      "78\n",
      "79\n",
      "80\n",
      "81\n",
      "82\n",
      "83\n",
      "84\n",
      "85\n",
      "86\n",
      "87\n",
      "88\n",
      "89\n",
      "90\n",
      "91\n",
      "92\n",
      "93\n",
      "94\n",
      "95\n",
      "96\n",
      "97\n",
      "98\n",
      "99\n",
      "100\n"
     ]
    }
   ],
   "source": [
    "# One approach:\n",
    "for number in range(100):\n",
    "  print(number + 1)"
   ]
  },
  {
   "cell_type": "markdown",
   "metadata": {
    "colab_type": "text",
    "id": "r-tZ57aoIeSM"
   },
   "source": [
    "Often we'll find multiple ways to do the same thing in Python."
   ]
  },
  {
   "cell_type": "code",
   "execution_count": null,
   "metadata": {
    "colab": {
     "base_uri": "https://localhost:8080/",
     "height": 1717
    },
    "colab_type": "code",
    "id": "Q91Y5tghIiZF",
    "outputId": "6ea8aa27-258b-40f2-8c5d-0b8ddbe1ebc2"
   },
   "outputs": [
    {
     "name": "stdout",
     "output_type": "stream",
     "text": [
      "1\n",
      "2\n",
      "3\n",
      "4\n",
      "5\n",
      "6\n",
      "7\n",
      "8\n",
      "9\n",
      "10\n",
      "11\n",
      "12\n",
      "13\n",
      "14\n",
      "15\n",
      "16\n",
      "17\n",
      "18\n",
      "19\n",
      "20\n",
      "21\n",
      "22\n",
      "23\n",
      "24\n",
      "25\n",
      "26\n",
      "27\n",
      "28\n",
      "29\n",
      "30\n",
      "31\n",
      "32\n",
      "33\n",
      "34\n",
      "35\n",
      "36\n",
      "37\n",
      "38\n",
      "39\n",
      "40\n",
      "41\n",
      "42\n",
      "43\n",
      "44\n",
      "45\n",
      "46\n",
      "47\n",
      "48\n",
      "49\n",
      "50\n",
      "51\n",
      "52\n",
      "53\n",
      "54\n",
      "55\n",
      "56\n",
      "57\n",
      "58\n",
      "59\n",
      "60\n",
      "61\n",
      "62\n",
      "63\n",
      "64\n",
      "65\n",
      "66\n",
      "67\n",
      "68\n",
      "69\n",
      "70\n",
      "71\n",
      "72\n",
      "73\n",
      "74\n",
      "75\n",
      "76\n",
      "77\n",
      "78\n",
      "79\n",
      "80\n",
      "81\n",
      "82\n",
      "83\n",
      "84\n",
      "85\n",
      "86\n",
      "87\n",
      "88\n",
      "89\n",
      "90\n",
      "91\n",
      "92\n",
      "93\n",
      "94\n",
      "95\n",
      "96\n",
      "97\n",
      "98\n",
      "99\n",
      "100\n"
     ]
    }
   ],
   "source": [
    "# Another approach:\n",
    "for number in range(1, 101):\n",
    "  print(number)"
   ]
  },
  {
   "cell_type": "markdown",
   "metadata": {
    "colab_type": "text",
    "id": "jUD_tPfNInVY"
   },
   "source": [
    "Both are valid approaches that have pros and cons."
   ]
  },
  {
   "cell_type": "markdown",
   "metadata": {
    "colab_type": "text",
    "id": "BpDOerE7IufB"
   },
   "source": [
    "Notice that in the for loop, we mention the variable `number`, but never initialize it beforehand. Typically you'd expect this to return an error, like you see below:"
   ]
  },
  {
   "cell_type": "code",
   "execution_count": null,
   "metadata": {
    "colab": {
     "base_uri": "https://localhost:8080/",
     "height": 164
    },
    "colab_type": "code",
    "id": "PMIif1WEI5sj",
    "outputId": "4f0e90b9-4faf-4686-d1c4-17095b38b1a0"
   },
   "outputs": [
    {
     "ename": "NameError",
     "evalue": "ignored",
     "output_type": "error",
     "traceback": [
      "\u001b[0;31m---------------------------------------------------------------------------\u001b[0m",
      "\u001b[0;31mNameError\u001b[0m                                 Traceback (most recent call last)",
      "\u001b[0;32m<ipython-input-52-d0b17b7621be>\u001b[0m in \u001b[0;36m<module>\u001b[0;34m()\u001b[0m\n\u001b[0;32m----> 1\u001b[0;31m \u001b[0mprint\u001b[0m\u001b[0;34m(\u001b[0m\u001b[0msome_random_new_variable\u001b[0m\u001b[0;34m)\u001b[0m\u001b[0;34m\u001b[0m\u001b[0;34m\u001b[0m\u001b[0m\n\u001b[0m",
      "\u001b[0;31mNameError\u001b[0m: name 'some_random_new_variable' is not defined"
     ]
    }
   ],
   "source": [
    "# An example of a variable we've never initialized before being used\n",
    "print(some_random_new_variable)"
   ]
  },
  {
   "cell_type": "markdown",
   "metadata": {
    "colab_type": "text",
    "id": "ZblZ4V6dJAPp"
   },
   "source": [
    "However, in the first line of a for loop, Python understands that we are using a placeholder variable that is updated each time the for loop runs. In the following example, `num` is a placeholder variable that's assigned the value 2 the first time the for loop runs, and incremented by 1 each time the loop repeats:"
   ]
  },
  {
   "cell_type": "code",
   "execution_count": null,
   "metadata": {
    "colab": {
     "base_uri": "https://localhost:8080/",
     "height": 153
    },
    "colab_type": "code",
    "id": "Gs4rV2quJc7M",
    "outputId": "d7cd3092-c6e2-4ba2-8913-7f23f262b166"
   },
   "outputs": [
    {
     "name": "stdout",
     "output_type": "stream",
     "text": [
      "2\n",
      "3\n",
      "4\n",
      "5\n",
      "6\n",
      "7\n",
      "8\n",
      "9\n"
     ]
    }
   ],
   "source": [
    "for num in range(2, 10):\n",
    "  print(num)"
   ]
  },
  {
   "cell_type": "markdown",
   "metadata": {
    "colab_type": "text",
    "id": "lvYdmKAXK_cP"
   },
   "source": [
    "## 4. Practice with an exercise\n",
    "\n",
    "### a) Print Multiples of 3\n",
    "\n",
    "Let's try to put a few of the things that we've learned to the test!\n",
    "\n",
    "In this exercise, write a program that counts from 1 to 100, but will only print the word \"Fizz\" on every multiple of three, along with the number itself. For example, the start of your output should look like:\n",
    "\n",
    "> Fizz 3\n",
    "\n",
    "> Fizz 6\n",
    "\n",
    "> Fizz 9\n",
    "\n",
    "> Fizz 12\n",
    "\n",
    "> ...\n",
    "\n",
    "There are many ways to accomplish this exercise with what we have learned!"
   ]
  },
  {
   "cell_type": "code",
   "execution_count": 62,
   "metadata": {
    "colab": {},
    "colab_type": "code",
    "id": "Vy8PhrbXMIX6"
   },
   "outputs": [
    {
     "name": "stdout",
     "output_type": "stream",
     "text": [
      "Fizz 3\n",
      "Fizz 6\n",
      "Fizz 9\n",
      "Fizz 12\n",
      "Fizz 15\n",
      "Fizz 18\n",
      "Fizz 21\n",
      "Fizz 24\n",
      "Fizz 27\n",
      "Fizz 30\n",
      "Fizz 33\n",
      "Fizz 36\n",
      "Fizz 39\n",
      "Fizz 42\n",
      "Fizz 45\n",
      "Fizz 48\n",
      "Fizz 51\n",
      "Fizz 54\n",
      "Fizz 57\n",
      "Fizz 60\n",
      "Fizz 63\n",
      "Fizz 66\n",
      "Fizz 69\n",
      "Fizz 72\n",
      "Fizz 75\n",
      "Fizz 78\n",
      "Fizz 81\n",
      "Fizz 84\n",
      "Fizz 87\n",
      "Fizz 90\n",
      "Fizz 93\n",
      "Fizz 96\n",
      "Fizz 99\n"
     ]
    }
   ],
   "source": [
    "# Write your code here\n",
    "# ~~START DELETE~~\n",
    "for num in range(1, 101):\n",
    "    if (num % 3) == 0:\n",
    "        print(f\"Fizz {num}\")\n",
    "# ~~END DELETE~~"
   ]
  },
  {
   "cell_type": "markdown",
   "metadata": {
    "colab_type": "text",
    "id": "u1aoFYtBMLsW"
   },
   "source": [
    "### b) Multiples of 3 and 5\n",
    "\n",
    "Here's a second coding question that you can answer with just the concepts we've learned in this lesson. This one is slightly trickier, but you've got this!\n",
    "\n",
    "Write a program that prints the numbers from 1 to 100, but on multiples of 3 will print \"fizz\", on multiples of 5 will print \"buzz\", and on multiples of both 3 and 5 will print \"fizzbuzz\". For example, the start of your output should look like:\n",
    "\n",
    "> 1:\n",
    "\n",
    "> 2:\n",
    "\n",
    "> 3: fizz\n",
    "\n",
    "> 4:\n",
    "\n",
    "> 5: buzz\n",
    "\n",
    "> 6: fizz\n",
    "\n",
    "> 7: \n",
    "\n",
    "> 8:\n",
    "\n",
    "> 9: fizz\n",
    "\n",
    "> 10: buzz\n",
    "\n",
    "> 11:\n",
    "\n",
    "> 12: fizz\n",
    "\n",
    "> 13:\n",
    "\n",
    "> 14:\n",
    "\n",
    "> 15: fizzbuzz\n",
    "\n",
    "> 16:\n",
    "\n",
    "> ...\n",
    "\n",
    "Feel free to work with others and ask questions on this challenge exercise!"
   ]
  },
  {
   "cell_type": "code",
   "execution_count": 63,
   "metadata": {
    "colab": {},
    "colab_type": "code",
    "id": "dFyWQQomMLLk"
   },
   "outputs": [
    {
     "name": "stdout",
     "output_type": "stream",
     "text": [
      "1:\n",
      "2:\n",
      "3: fizz\n",
      "4:\n",
      "5: buzz\n",
      "6: fizz\n",
      "7:\n",
      "8:\n",
      "9: fizz\n",
      "10: buzz\n",
      "11:\n",
      "12: fizz\n",
      "13:\n",
      "14:\n",
      "15: fizzbuzz\n",
      "16:\n",
      "17:\n",
      "18: fizz\n",
      "19:\n",
      "20: buzz\n",
      "21: fizz\n",
      "22:\n",
      "23:\n",
      "24: fizz\n",
      "25: buzz\n",
      "26:\n",
      "27: fizz\n",
      "28:\n",
      "29:\n",
      "30: fizzbuzz\n",
      "31:\n",
      "32:\n",
      "33: fizz\n",
      "34:\n",
      "35: buzz\n",
      "36: fizz\n",
      "37:\n",
      "38:\n",
      "39: fizz\n",
      "40: buzz\n",
      "41:\n",
      "42: fizz\n",
      "43:\n",
      "44:\n",
      "45: fizzbuzz\n",
      "46:\n",
      "47:\n",
      "48: fizz\n",
      "49:\n",
      "50: buzz\n",
      "51: fizz\n",
      "52:\n",
      "53:\n",
      "54: fizz\n",
      "55: buzz\n",
      "56:\n",
      "57: fizz\n",
      "58:\n",
      "59:\n",
      "60: fizzbuzz\n",
      "61:\n",
      "62:\n",
      "63: fizz\n",
      "64:\n",
      "65: buzz\n",
      "66: fizz\n",
      "67:\n",
      "68:\n",
      "69: fizz\n",
      "70: buzz\n",
      "71:\n",
      "72: fizz\n",
      "73:\n",
      "74:\n",
      "75: fizzbuzz\n",
      "76:\n",
      "77:\n",
      "78: fizz\n",
      "79:\n",
      "80: buzz\n",
      "81: fizz\n",
      "82:\n",
      "83:\n",
      "84: fizz\n",
      "85: buzz\n",
      "86:\n",
      "87: fizz\n",
      "88:\n",
      "89:\n",
      "90: fizzbuzz\n",
      "91:\n",
      "92:\n",
      "93: fizz\n",
      "94:\n",
      "95: buzz\n",
      "96: fizz\n",
      "97:\n",
      "98:\n",
      "99: fizz\n",
      "100: buzz\n"
     ]
    }
   ],
   "source": [
    "# Write your code here\n",
    "# ~~START DELETE~~\n",
    "for num in range(1, 101):\n",
    "    if (num % 3) == 0 and (num % 5 == 0):\n",
    "        print(f\"{num}: fizzbuzz\")\n",
    "    elif (num % 3) == 0:\n",
    "        print(f\"{num}: fizz\")\n",
    "    elif (num % 5) == 0:\n",
    "        print(f\"{num}: buzz\")\n",
    "    else:\n",
    "        print(f\"{num}:\")\n",
    "# ~~END DELETE~~"
   ]
  },
  {
   "cell_type": "markdown",
   "metadata": {
    "colab_type": "text",
    "id": "YK9DA_IVNuSu"
   },
   "source": [
    "Phew! That's the end of the second part of our python whirlwind! Congraulations you're doing great!\n",
    "\n",
    "We have been making out way through a very condensed sprint through some fundamental Python concepts. \n",
    "\n",
    "Remember, it takes time and practice to get the hang of programming, so no sweat if you need to review some of the concepts in this lesson. Take this time to really congratulate yourself on all your work coding today!"
   ]
  }
 ],
 "metadata": {
  "kernelspec": {
   "display_name": "Python 3",
   "language": "python",
   "name": "python3"
  },
  "language_info": {
   "codemirror_mode": {
    "name": "ipython",
    "version": 3
   },
   "file_extension": ".py",
   "mimetype": "text/x-python",
   "name": "python",
   "nbconvert_exporter": "python",
   "pygments_lexer": "ipython3",
   "version": "3.7.7"
  }
 },
 "nbformat": 4,
 "nbformat_minor": 4
}
