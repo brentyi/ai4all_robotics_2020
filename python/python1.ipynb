{
 "cells": [
  {
   "cell_type": "markdown",
   "metadata": {},
   "source": [
    "<header style=\"padding: 4em 0 0em 0\">\n",
    "    <img src=\"http://brentyi.github.io/filestore/ai4all_logo.svg\" style=\"width: 30em; height: auto;\" />\n",
    "    <h3 style=\"margin: 1em 0 0 0;\">\n",
    "        <strong>Python 1</strong>\n",
    "        <span style=\"color: #777\">\n",
    "        &nbsp;&blacksquare;&nbsp;\n",
    "        Robotics, Summer 2020</span>\n",
    "    </h3>\n",
    "</header>"
   ]
  },
  {
   "cell_type": "markdown",
   "metadata": {},
   "source": [
    "<hr style=\"border-top: 0.4em solid #eee;\" />\n",
    "\n",
    "Today, we'll kick off our Python unit by exploring the basics of the language.\n",
    "\n",
    "Our core goals will be to:\n",
    "\n",
    "1. Introduce Python and Notebooks\n",
    "2. Understand storing variables, primitive data types, comments, naming\n",
    "3. Use basic arithmetic operations in Python\n",
    "4. Accept basic user input\n",
    "\n",
    "<hr style=\"border-top: 0.4em solid #eee;\" />"
   ]
  },
  {
   "cell_type": "markdown",
   "metadata": {},
   "source": [
    "## 1. Introduction"
   ]
  },
  {
   "cell_type": "markdown",
   "metadata": {},
   "source": [
    "### a) What is programming, again?"
   ]
  },
  {
   "cell_type": "markdown",
   "metadata": {
    "colab_type": "text",
    "id": "bd59jn7NFC9Y"
   },
   "source": [
    "**Programming:** writing instructions for a computer.\n",
    "\n",
    "It's like a recipe: do A then B then mix A and B to form C and bake.\n",
    "\n",
    "Everything a computer does is by using a computer program, and you may already be familiar with many of these! The first programs broke secret codes during World War II. The operating system you are currently running is a program. So are many apps you know, such as Google Maps, Siri, Photoshop.\n",
    "\n",
    "Just as humans communicate with different languages, there are also different languages to communicate to computers with. These are called **programming languages**, and there are hundreds of them, each with their own styles and uses."
   ]
  },
  {
   "cell_type": "markdown",
   "metadata": {},
   "source": [
    "### b) Why python?"
   ]
  },
  {
   "cell_type": "markdown",
   "metadata": {},
   "source": [
    "*   It's fast and easy to _write_ code\n",
    "*   Many great open-source **libraries**\n",
    "*   Active and growing community of people who write Python\n",
    "\n",
    "A programming library is a collection of code that someone else has written, that you can then use (so you don't have to reinvent the wheel). Many libraries are private and owned by specific companies, but other libraries are open-source, meaning that they can be freely and publicly used and contributed to. Python has a very large community of people who build and maintain open-source libraries.\n",
    "\n",
    "We'll learn more about libraries in Python throughout the summer, and you may frequently see the use of one particular library called **NumPy**. This library and **TensorFlow** are two of the most popular for programming artificial intelligence.\n",
    "\n",
    "As an additional note, programming languages have different version numbers which may affect how they're read and written. (Think of this like the difference between Ancient Greek and Modern Greek, and how a language changes over time.) For this and the following lessons, we will be specifically using **Python 3**."
   ]
  },
  {
   "cell_type": "markdown",
   "metadata": {
    "colab_type": "text",
    "id": "Dx2VX_zGT211"
   },
   "source": [
    "### c) A First Program\n",
    "\n",
    "Now let's jump in!\n",
    "\n",
    "Click on the programming block below, and a play button will appear on the left. Click on the play button to run the line of Python code. If you had to guess, what do you think this line of code will do?"
   ]
  },
  {
   "cell_type": "markdown",
   "metadata": {},
   "source": [
    "<div style=\"color: #a00; font-weight: 800; padding: 1em 0; border-top: 0.4em solid #eee;\">Program #1: Hello world!</div>"
   ]
  },
  {
   "cell_type": "code",
   "execution_count": 16,
   "metadata": {},
   "outputs": [
    {
     "name": "stdout",
     "output_type": "stream",
     "text": [
      "Hello world!\n"
     ]
    }
   ],
   "source": [
    "print(\"Hello world!\")"
   ]
  },
  {
   "cell_type": "markdown",
   "metadata": {},
   "source": [
    "The \"hello world\" program is often the first program we write in a language. It should us some basic constructs and how to print output!"
   ]
  },
  {
   "cell_type": "markdown",
   "metadata": {},
   "source": [
    "<div style=\"color: #a00; font-weight: 800; padding: 1em 0; border-top: 0.4em solid #eee;\">Program #2: I'm here!</div>"
   ]
  },
  {
   "cell_type": "markdown",
   "metadata": {},
   "source": [
    "We can also print other things!"
   ]
  },
  {
   "cell_type": "code",
   "execution_count": 17,
   "metadata": {
    "colab": {
     "base_uri": "https://localhost:8080/",
     "height": 34
    },
    "colab_type": "code",
    "id": "SIzLXK_4EoS8",
    "outputId": "5631aa0b-38dd-46d7-d657-b5f25c9d60e4"
   },
   "outputs": [
    {
     "name": "stdout",
     "output_type": "stream",
     "text": [
      "I'm here! I'm coding!\n"
     ]
    }
   ],
   "source": [
    "print(\"I'm here! I'm coding!\")"
   ]
  },
  {
   "cell_type": "markdown",
   "metadata": {},
   "source": [
    "Congratulations! Before continuing let's talk about this notebook format."
   ]
  },
  {
   "cell_type": "markdown",
   "metadata": {
    "colab_type": "text",
    "id": "aizuciOFSRZ0"
   },
   "source": [
    "### d) This Notebook\n",
    "\n",
    "Typically, to run Python code, you have to run it on your computer, using either the command line or a specific type of program called an IDE (integrated development environment). \n",
    "\n",
    "Instead, right now we're using a tool called **Jupyter Notebooks**, which in the past few years has been extremely popular in the data science and artificial intelligence communities to write and run code. "
   ]
  },
  {
   "cell_type": "markdown",
   "metadata": {},
   "source": [
    "Why? \n",
    "\n",
    "* Easy to write new code\n",
    "* Easy to plot and visualize output in line\n",
    "* Easy to add non-code descriptive cells, like this one!"
   ]
  },
  {
   "cell_type": "markdown",
   "metadata": {},
   "source": [
    "\n",
    "In addition, Google has created a software called **Colaboratory** (Colabs for short), which allows us to run our Notebooks in Google Drive, just like with Google Docs or Google Sheets.\n",
    "\n",
    "**Let's try out Google Colabs by adding a _code block_ under this text. Click this text, and then on the top left of the web page, click the \"+ Code\" button.**"
   ]
  },
  {
   "cell_type": "markdown",
   "metadata": {
    "colab_type": "text",
    "id": "nAtVLq5GRUpi"
   },
   "source": [
    "\n",
    "\n",
    "---\n",
    "\n",
    "You can write new Python code in any of the code blocks within this Notebook. When you want to run the code that you've written, make sure you have the code block selected, and hit the Play button on the left side of the block.\n",
    "\n",
    "If you want to delete a code block, select it, and then click on the three dots on the right side of the block to show the \"Delete Cell\" option.\n",
    "\n",
    "Python code persists between code blocks within this Notebook. That means that if you write some code in one code block, it can affect future code blocks. When we talk about variables next, this means that if you declare a variable in one code block, you can still call it in a different code block afterwards.\n",
    "\n",
    "\n"
   ]
  },
  {
   "cell_type": "markdown",
   "metadata": {},
   "source": [
    "You'll notice as you work more in Google Colabs over this program, you may use other functions, such as adding text blocks, rearranging cells, and maybe even learning some **Markdown**, which is a language used to help style text blocks."
   ]
  },
  {
   "cell_type": "markdown",
   "metadata": {
    "colab_type": "text",
    "id": "A145dPi1FUiI"
   },
   "source": [
    "## 2. Variables & Primitive Types\n",
    "\n",
    "In programming, we use a concept called a **variable**. Remember, a variable is a _named_ container for a *value.*"
   ]
  },
  {
   "cell_type": "markdown",
   "metadata": {},
   "source": [
    "There are a few basic data types in python, including\n",
    "\n",
    "* a) integers; e.g., `1`\n",
    "* b) strings, e.g., `\"asdf\"`\n",
    "* c) decimal numbers; e.g., `3.14`\n",
    "* d) booleans; e.g., `True` or `False`\n",
    "\n",
    "We will see each of these in turn, and we will also see how to print outputs of our program as we go.\n",
    "\n",
    "Finally, we will talk about variable naming (e)"
   ]
  },
  {
   "cell_type": "markdown",
   "metadata": {},
   "source": [
    "### a) Declaring and printing integers"
   ]
  },
  {
   "cell_type": "markdown",
   "metadata": {},
   "source": [
    "Let's declare an integer named $x$"
   ]
  },
  {
   "cell_type": "markdown",
   "metadata": {},
   "source": [
    "<div style=\"color: #a00; font-weight: 800; padding: 1em 0; border-top: 0.4em solid #eee;\">Program #3: Assignment</div>"
   ]
  },
  {
   "cell_type": "code",
   "execution_count": 116,
   "metadata": {
    "colab": {},
    "colab_type": "code",
    "id": "Z8FlcLOPFxJe"
   },
   "outputs": [],
   "source": [
    "x = 100"
   ]
  },
  {
   "cell_type": "markdown",
   "metadata": {
    "colab_type": "text",
    "id": "5zKC-Rb2TsRm"
   },
   "source": [
    "When you run the cell above, you've **initialized** (created) a variable named `x` that you have **assigned** the value of 100. \n",
    "\n",
    "The next time you refer to `x` in your code, it will remember that it has been assigned 100. \n",
    "\n",
    "Variables are extremely useful in programming, and we'll see lots and lots of them moving forward!"
   ]
  },
  {
   "cell_type": "markdown",
   "metadata": {},
   "source": [
    "But first, let's try printing that variable x"
   ]
  },
  {
   "cell_type": "markdown",
   "metadata": {},
   "source": [
    "\n",
    "When we run a Python program, the user will only see what we decide to print to the screen. \n",
    "\n",
    "Notice that when we set `x = 100` earlier, nothing was printed back out. How can we make sure that the value we assign to a variable is correct? We can print it!"
   ]
  },
  {
   "cell_type": "markdown",
   "metadata": {},
   "source": [
    "<div style=\"color: #a00; font-weight: 800; padding: 1em 0; border-top: 0.4em solid #eee;\">Program #4: Printing a Variable</div>"
   ]
  },
  {
   "cell_type": "code",
   "execution_count": 117,
   "metadata": {},
   "outputs": [
    {
     "name": "stdout",
     "output_type": "stream",
     "text": [
      "100\n"
     ]
    }
   ],
   "source": [
    "print(x)"
   ]
  },
  {
   "cell_type": "markdown",
   "metadata": {},
   "source": [
    "We can change x by assigning it to a different value"
   ]
  },
  {
   "cell_type": "markdown",
   "metadata": {},
   "source": [
    "<div style=\"color: #a00; font-weight: 800; padding: 1em 0; border-top: 0.4em solid #eee;\">Program #4: Changing a Variable</div>"
   ]
  },
  {
   "cell_type": "code",
   "execution_count": 118,
   "metadata": {},
   "outputs": [
    {
     "name": "stdout",
     "output_type": "stream",
     "text": [
      "300\n"
     ]
    }
   ],
   "source": [
    "x = 300\n",
    "print(x)"
   ]
  },
  {
   "cell_type": "markdown",
   "metadata": {
    "colab_type": "text",
    "id": "EhVneCRuF-qw"
   },
   "source": [
    "And we can define a different variable too! Try defining a variable named `y`"
   ]
  },
  {
   "cell_type": "markdown",
   "metadata": {},
   "source": [
    "<div style=\"color: #a00; font-weight: 800; padding: 1em 0; border-top: 0.4em solid #eee;\">Program #5: Declaring a new variable</div>"
   ]
  },
  {
   "cell_type": "code",
   "execution_count": 119,
   "metadata": {
    "colab": {
     "base_uri": "https://localhost:8080/",
     "height": 34
    },
    "colab_type": "code",
    "id": "SGboEhmDGLkQ",
    "outputId": "ac8b32f0-237f-4f86-d4e2-d284a6cf4b8c"
   },
   "outputs": [],
   "source": [
    "# ~~START DELETE~~\n",
    "y = 200\n",
    "# ~~END DELETE~~"
   ]
  },
  {
   "cell_type": "markdown",
   "metadata": {},
   "source": [
    "Now we can print it!"
   ]
  },
  {
   "cell_type": "markdown",
   "metadata": {},
   "source": [
    "<div style=\"color: #a00; font-weight: 800; padding: 1em 0; border-top: 0.4em solid #eee;\">Program ... we won't label them from now on!</div>"
   ]
  },
  {
   "cell_type": "code",
   "execution_count": 120,
   "metadata": {},
   "outputs": [
    {
     "name": "stdout",
     "output_type": "stream",
     "text": [
      "200\n"
     ]
    }
   ],
   "source": [
    "print(y)"
   ]
  },
  {
   "cell_type": "markdown",
   "metadata": {
    "colab_type": "text",
    "id": "agl-HIjaUch0"
   },
   "source": [
    "Try it out yourself! Add a line to the following code block to print the value of `z`."
   ]
  },
  {
   "cell_type": "code",
   "execution_count": 121,
   "metadata": {
    "colab": {},
    "colab_type": "code",
    "id": "CZzE--8kUgMI"
   },
   "outputs": [
    {
     "name": "stdout",
     "output_type": "stream",
     "text": [
      "1300\n"
     ]
    }
   ],
   "source": [
    "z = 1300\n",
    "# Add your line of code here & don't forget to hit Run when you're done!\n",
    "\n",
    "# ~~START DELETE~~\n",
    "print(z)\n",
    "# ~~END DELETE~~"
   ]
  },
  {
   "cell_type": "code",
   "execution_count": 122,
   "metadata": {},
   "outputs": [],
   "source": [
    "# By the way, when you add a hashtag to the front of your line, this tells\n",
    "# the coding environment to treat that line as a comment, so that you can\n",
    "# type out helpful notes for yourself. Great programmers leave comments on\n",
    "# their code to communicate information with other programmers!"
   ]
  },
  {
   "cell_type": "markdown",
   "metadata": {},
   "source": [
    "### b) String Literals"
   ]
  },
  {
   "cell_type": "markdown",
   "metadata": {},
   "source": [
    "When we had the statement `x = 100`, the right hand side was an integer literal. We earlier saw string literals as well, these are anything you type in between two quotes for example, earlier we saw the \"Hellow world!\" string"
   ]
  },
  {
   "cell_type": "markdown",
   "metadata": {
    "colab_type": "text",
    "id": "fLAAGvkuWLjW"
   },
   "source": [
    "If we have multiple print commands in a row, they will print each on a separate line by default."
   ]
  },
  {
   "cell_type": "code",
   "execution_count": 123,
   "metadata": {
    "colab": {
     "base_uri": "https://localhost:8080/",
     "height": 51
    },
    "colab_type": "code",
    "id": "dIX2pxeOWSU4",
    "outputId": "f02a9d8a-8381-46be-a6a8-d0a17aea62c3"
   },
   "outputs": [
    {
     "name": "stdout",
     "output_type": "stream",
     "text": [
      "Hello there!\n",
      "This message will show up to the user.\n"
     ]
    }
   ],
   "source": [
    "print(\"Hello there!\")\n",
    "print(\"This message will show up to the user.\")"
   ]
  },
  {
   "cell_type": "markdown",
   "metadata": {},
   "source": [
    "Those are two different string literals, but we could also first assign to a variable"
   ]
  },
  {
   "cell_type": "code",
   "execution_count": 124,
   "metadata": {},
   "outputs": [
    {
     "name": "stdout",
     "output_type": "stream",
     "text": [
      "Hello World\n"
     ]
    }
   ],
   "source": [
    "x = \"Hello World\"\n",
    "print(x)"
   ]
  },
  {
   "cell_type": "markdown",
   "metadata": {
    "colab_type": "text",
    "id": "BVY7e1QGWa4x"
   },
   "source": [
    "One thing that you will find useful is to be able to print out a message but also include the value of a variable in that message. For example:"
   ]
  },
  {
   "cell_type": "code",
   "execution_count": 125,
   "metadata": {
    "colab": {
     "base_uri": "https://localhost:8080/",
     "height": 34
    },
    "colab_type": "code",
    "id": "6TqMtz5fWsL-",
    "outputId": "77a8ff98-09c4-4da8-944f-e5028428db65"
   },
   "outputs": [
    {
     "name": "stdout",
     "output_type": "stream",
     "text": [
      "I have 5 apples.\n"
     ]
    }
   ],
   "source": [
    "num_apples = 5\n",
    "print(\"I have\", num_apples, \"apples.\")"
   ]
  },
  {
   "cell_type": "markdown",
   "metadata": {
    "colab_type": "text",
    "id": "rYzhW61_W7-p"
   },
   "source": [
    "Notice that spaces were added between \"have\", \"5\", and \"flowers\" when we used the commas.\n",
    "\n",
    "In Python, there are many, many ways to format your print statements, and different programmers have different preferences for how they like to work with printing.\n",
    "\n",
    "One advanced way to format your print statements is as follows:"
   ]
  },
  {
   "cell_type": "code",
   "execution_count": 126,
   "metadata": {
    "colab": {
     "base_uri": "https://localhost:8080/",
     "height": 34
    },
    "colab_type": "code",
    "id": "J9qnv9eDXR7L",
    "outputId": "a2b53f8b-acad-42dc-dd8d-29ab89844540"
   },
   "outputs": [
    {
     "name": "stdout",
     "output_type": "stream",
     "text": [
      "I have 10 apples.\n"
     ]
    }
   ],
   "source": [
    "num_apples = 10\n",
    "print(f\"I have {num_apples} apples.\")"
   ]
  },
  {
   "cell_type": "markdown",
   "metadata": {
    "colab_type": "text",
    "id": "K2u4DoJ9XddC"
   },
   "source": [
    "Here we have used the `f` character in front of the quotes to tell python this string needs to be programmatically formated. Inside the braces we can put any Python expression, as we have seen before. Here we just tell python to evaluate the variable `num_apples`"
   ]
  },
  {
   "cell_type": "markdown",
   "metadata": {},
   "source": [
    "What if we forgot the f? well then we'd just see"
   ]
  },
  {
   "cell_type": "code",
   "execution_count": 156,
   "metadata": {},
   "outputs": [
    {
     "name": "stdout",
     "output_type": "stream",
     "text": [
      "I have {num_apples} apples.\n"
     ]
    }
   ],
   "source": [
    "num_apples = 10\n",
    "print(\"I have {num_apples} apples.\")"
   ]
  },
  {
   "cell_type": "markdown",
   "metadata": {},
   "source": [
    "A bug (something wrong) but easy to fix!"
   ]
  },
  {
   "cell_type": "code",
   "execution_count": 157,
   "metadata": {
    "colab": {},
    "colab_type": "code",
    "id": "OmJzbbHYz30m"
   },
   "outputs": [
    {
     "name": "stdout",
     "output_type": "stream",
     "text": [
      "I own 100 books\n"
     ]
    }
   ],
   "source": [
    "num_books = 100\n",
    "\n",
    "# Write a print statement below to say \"I own 100 books\", \n",
    "# using the variable num_books\n",
    "\n",
    "# ~~START DELETE~~\n",
    "print(f\"I own {num_books} books\")\n",
    "# ~~END DELETE~~"
   ]
  },
  {
   "cell_type": "markdown",
   "metadata": {},
   "source": [
    "We can also embed names. In the cell below, declare a variable `name` which holds the string of your first name"
   ]
  },
  {
   "cell_type": "code",
   "execution_count": 158,
   "metadata": {},
   "outputs": [],
   "source": [
    "# ~~START DELETE~~\n",
    "name = \"Nick\"\n",
    "# ~~END DELETE~~"
   ]
  },
  {
   "cell_type": "code",
   "execution_count": 159,
   "metadata": {},
   "outputs": [
    {
     "name": "stdout",
     "output_type": "stream",
     "text": [
      "Hello Nick!\n"
     ]
    }
   ],
   "source": [
    "print(f\"Hello {name}!\")"
   ]
  },
  {
   "cell_type": "markdown",
   "metadata": {},
   "source": [
    "### c) Decimal (Float Literals)"
   ]
  },
  {
   "cell_type": "markdown",
   "metadata": {},
   "source": [
    "Python can also handle decimal numbers, which are called floating point numbers. \n",
    "\n",
    "To learn more about floating point numbers you can read the wikipedia page <a href=\"https://en.wikipedia.org/wiki/Floating-point_arithmetic\">here</a>\n",
    "\n",
    "We will extensively use floating point numbers in later sections of this program"
   ]
  },
  {
   "cell_type": "code",
   "execution_count": 160,
   "metadata": {},
   "outputs": [],
   "source": [
    "about_pi = 3.14"
   ]
  },
  {
   "cell_type": "code",
   "execution_count": 131,
   "metadata": {},
   "outputs": [
    {
     "name": "stdout",
     "output_type": "stream",
     "text": [
      "pi is approximately 3.14\n"
     ]
    }
   ],
   "source": [
    "print(f\"pi is approximately {about_pi}\")"
   ]
  },
  {
   "cell_type": "markdown",
   "metadata": {},
   "source": [
    "### d) Booleans"
   ]
  },
  {
   "cell_type": "markdown",
   "metadata": {},
   "source": [
    "A final variable type we will look at is booleans, these variables can take on either `True` or `False`"
   ]
  },
  {
   "cell_type": "code",
   "execution_count": 132,
   "metadata": {},
   "outputs": [],
   "source": [
    "boolean1 = True\n",
    "boolea2 = False"
   ]
  },
  {
   "cell_type": "markdown",
   "metadata": {
    "colab_type": "text",
    "id": "aW9avmXMGIk1"
   },
   "source": [
    "So far we have seen a few types of variables!\n",
    "\n",
    "For example:"
   ]
  },
  {
   "cell_type": "code",
   "execution_count": 115,
   "metadata": {
    "colab": {
     "base_uri": "https://localhost:8080/",
     "height": 51
    },
    "colab_type": "code",
    "id": "JXHccv5bF0R3",
    "outputId": "05026b68-0ec9-450a-9f2d-29bd81b29431"
   },
   "outputs": [
    {
     "name": "stdout",
     "output_type": "stream",
     "text": [
      "Practice adding some print statements below to print the other variables!\n",
      "This type of data is called a string!\n"
     ]
    }
   ],
   "source": [
    "some_string = \"This type of data is called a string!\"\n",
    "some_string_2 = 'This is also a string; notice we can use both quote marks and apostrophes'\n",
    "\n",
    "# We can also assign numbers with decimal points to our variables\n",
    "some_number = 13.45\n",
    "\n",
    "# Another type of variable is called a boolean, which only holds the value of True or False\n",
    "# We'll talk more about these as we get to conditionals, in a later section\n",
    "some_bool = True\n",
    "\n",
    "print(\"Practice adding some print statements below to print the other variables!\")\n",
    "print(some_string)"
   ]
  },
  {
   "cell_type": "markdown",
   "metadata": {
    "colab_type": "text",
    "id": "Qlk179SBGShj"
   },
   "source": [
    "### e) Variable Naming Rules\n",
    "\n",
    "Variables are case-sensitive. That means a variable named `thing` and one named `Thing` are different! Let's see why this matters by running the following code:"
   ]
  },
  {
   "cell_type": "code",
   "execution_count": 113,
   "metadata": {
    "colab": {
     "base_uri": "https://localhost:8080/",
     "height": 181
    },
    "colab_type": "code",
    "id": "Ii_G-7RhVYqN",
    "outputId": "210f6416-eda3-4009-92ba-619a0ee12b82"
   },
   "outputs": [
    {
     "ename": "NameError",
     "evalue": "name 'Thing' is not defined",
     "output_type": "error",
     "traceback": [
      "\u001b[0;31m---------------------------------------------------------------------------\u001b[0m",
      "\u001b[0;31mNameError\u001b[0m                                 Traceback (most recent call last)",
      "\u001b[0;32m<ipython-input-113-b46ab614426e>\u001b[0m in \u001b[0;36m<module>\u001b[0;34m\u001b[0m\n\u001b[1;32m      1\u001b[0m \u001b[0mthing\u001b[0m \u001b[0;34m=\u001b[0m \u001b[0;36m1\u001b[0m\u001b[0;34m\u001b[0m\u001b[0;34m\u001b[0m\u001b[0m\n\u001b[0;32m----> 2\u001b[0;31m \u001b[0mprint\u001b[0m\u001b[0;34m(\u001b[0m\u001b[0mThing\u001b[0m\u001b[0;34m)\u001b[0m\u001b[0;34m\u001b[0m\u001b[0;34m\u001b[0m\u001b[0m\n\u001b[0m",
      "\u001b[0;31mNameError\u001b[0m: name 'Thing' is not defined"
     ]
    }
   ],
   "source": [
    "thing = 1\n",
    "print(Thing)"
   ]
  },
  {
   "cell_type": "markdown",
   "metadata": {
    "colab_type": "text",
    "id": "5MrWMUhlVekt"
   },
   "source": [
    "What happens when you run that code block? You'll see a `NameError` pop up, saying that `'Thing' is not defined`. This happens because we initialized a variable named `thing` but not one named `Thing` with the uppercase T.\n",
    "\n",
    "As you have seen in earlier examples, variables also can have letters, numbers, and underscores included in them, but with certain restrictions.\n",
    "\n",
    "Run the following code blocks to see if they work or if they raise errors:"
   ]
  },
  {
   "cell_type": "code",
   "execution_count": 133,
   "metadata": {
    "colab": {},
    "colab_type": "code",
    "id": "FrJUU4k4WFgi"
   },
   "outputs": [],
   "source": [
    "thing_2 = 5"
   ]
  },
  {
   "cell_type": "code",
   "execution_count": 134,
   "metadata": {
    "colab": {
     "base_uri": "https://localhost:8080/",
     "height": 130
    },
    "colab_type": "code",
    "id": "bj-VX0k8WRmd",
    "outputId": "5be2b847-534b-46fc-8ff1-4cacce30b001"
   },
   "outputs": [
    {
     "ename": "SyntaxError",
     "evalue": "can't assign to operator (<ipython-input-134-cfe80068f3a2>, line 1)",
     "output_type": "error",
     "traceback": [
      "\u001b[0;36m  File \u001b[0;32m\"<ipython-input-134-cfe80068f3a2>\"\u001b[0;36m, line \u001b[0;32m1\u001b[0m\n\u001b[0;31m    thing-2 = 5\u001b[0m\n\u001b[0m               ^\u001b[0m\n\u001b[0;31mSyntaxError\u001b[0m\u001b[0;31m:\u001b[0m can't assign to operator\n"
     ]
    }
   ],
   "source": [
    "thing-2 = 5"
   ]
  },
  {
   "cell_type": "code",
   "execution_count": 135,
   "metadata": {
    "colab": {
     "base_uri": "https://localhost:8080/",
     "height": 130
    },
    "colab_type": "code",
    "id": "9pGaJumiWTX9",
    "outputId": "2296acad-8505-488d-c2e9-ec949c4f2f54"
   },
   "outputs": [
    {
     "ename": "SyntaxError",
     "evalue": "invalid token (<ipython-input-135-5c288ad0de83>, line 1)",
     "output_type": "error",
     "traceback": [
      "\u001b[0;36m  File \u001b[0;32m\"<ipython-input-135-5c288ad0de83>\"\u001b[0;36m, line \u001b[0;32m1\u001b[0m\n\u001b[0;31m    2_thing = 5\u001b[0m\n\u001b[0m     ^\u001b[0m\n\u001b[0;31mSyntaxError\u001b[0m\u001b[0;31m:\u001b[0m invalid token\n"
     ]
    }
   ],
   "source": [
    "2_thing = 5"
   ]
  },
  {
   "cell_type": "code",
   "execution_count": 136,
   "metadata": {
    "colab": {
     "base_uri": "https://localhost:8080/",
     "height": 130
    },
    "colab_type": "code",
    "id": "2T4xn5M6WWZg",
    "outputId": "3daa6411-f538-4b74-d25b-08bf32e8563a"
   },
   "outputs": [
    {
     "ename": "SyntaxError",
     "evalue": "invalid syntax (<ipython-input-136-bbc8e825cf71>, line 1)",
     "output_type": "error",
     "traceback": [
      "\u001b[0;36m  File \u001b[0;32m\"<ipython-input-136-bbc8e825cf71>\"\u001b[0;36m, line \u001b[0;32m1\u001b[0m\n\u001b[0;31m    some variable = 5\u001b[0m\n\u001b[0m                ^\u001b[0m\n\u001b[0;31mSyntaxError\u001b[0m\u001b[0;31m:\u001b[0m invalid syntax\n"
     ]
    }
   ],
   "source": [
    "some variable = 5"
   ]
  },
  {
   "cell_type": "markdown",
   "metadata": {
    "colab_type": "text",
    "id": "4z3D17hHWiDk"
   },
   "source": [
    "After running the above code blocks, you should see that you:\n",
    "\n",
    "\n",
    "*   Can only start a variable name with a letter or underscore (no numbers)\n",
    "*   Can't include a space in a variable name\n",
    "*   Can't use any special characters (like `-` or `+`) or punctuation (like `.` or `,`)\n",
    "\n",
    "Finally, you cannot use \"reserved keywords\" as variable names. \"Reserved keywords\" are special words in the Python language that do specific things in your code. For example, one reserved keyword is `True`. Notice how it's colored purple in the code block below:"
   ]
  },
  {
   "cell_type": "code",
   "execution_count": 137,
   "metadata": {
    "colab": {
     "base_uri": "https://localhost:8080/",
     "height": 130
    },
    "colab_type": "code",
    "id": "y9i_XQ2UXS10",
    "outputId": "9d2db7b0-2e4c-4d09-ff95-dd6afec12c59"
   },
   "outputs": [
    {
     "ename": "SyntaxError",
     "evalue": "can't assign to keyword (<ipython-input-137-398a5163d1af>, line 1)",
     "output_type": "error",
     "traceback": [
      "\u001b[0;36m  File \u001b[0;32m\"<ipython-input-137-398a5163d1af>\"\u001b[0;36m, line \u001b[0;32m1\u001b[0m\n\u001b[0;31m    True = 10\u001b[0m\n\u001b[0m             ^\u001b[0m\n\u001b[0;31mSyntaxError\u001b[0m\u001b[0;31m:\u001b[0m can't assign to keyword\n"
     ]
    }
   ],
   "source": [
    "True = 10"
   ]
  },
  {
   "cell_type": "markdown",
   "metadata": {
    "colab_type": "text",
    "id": "lSJQWGgUXYXV"
   },
   "source": [
    "If you run the above code block, it will raise an error as expected."
   ]
  },
  {
   "cell_type": "code",
   "execution_count": 138,
   "metadata": {
    "colab": {},
    "colab_type": "code",
    "id": "274hJJg-0Xzc"
   },
   "outputs": [],
   "source": [
    "# Initialize your own variable below (give it any valid name) and assign it the value \"Hello!\"\n",
    "\n",
    "# ~~START DELETE~~\n",
    "my_variable = \"Hello!\"\n",
    "# ~~END DELETE~~"
   ]
  },
  {
   "cell_type": "markdown",
   "metadata": {
    "colab_type": "text",
    "id": "cl4H_EeSGTw9"
   },
   "source": [
    "## 3. Arithmetic\n",
    "\n",
    "Python also makes it _very_ easy to do math without calculating it ourselves. Part of using computers is to compute so many things that we couldn't possibly do so by hand! This is where programming really helps us out, so that we're not left feeling like:\n",
    "For example, if someone asks us to multiply 35 and 67, we could type it right into Python:\n",
    "\n",
    "We'll see\n",
    "\n",
    "* a) Math operations (including a modulo)\n",
    "* b) Order of operations\n",
    "* c) In place variable modification"
   ]
  },
  {
   "cell_type": "code",
   "execution_count": 150,
   "metadata": {
    "colab": {
     "base_uri": "https://localhost:8080/",
     "height": 34
    },
    "colab_type": "code",
    "id": "5b6juVn90xbc",
    "outputId": "46b2ce2a-1b84-4f71-fd4a-247a2075f357"
   },
   "outputs": [
    {
     "name": "stdout",
     "output_type": "stream",
     "text": [
      "2345\n"
     ]
    }
   ],
   "source": [
    "print(35*67)"
   ]
  },
  {
   "cell_type": "markdown",
   "metadata": {
    "colab_type": "text",
    "id": "m1XLpRkT1ACS"
   },
   "source": [
    "When we run the code above, we can print out the result of multiplying 35 and 67. But what if we need to keep this answer for future calculations? We can save it as a variable and re-use it!"
   ]
  },
  {
   "cell_type": "code",
   "execution_count": 151,
   "metadata": {
    "colab": {},
    "colab_type": "code",
    "id": "WXQ-xXAJF6QT"
   },
   "outputs": [
    {
     "name": "stdout",
     "output_type": "stream",
     "text": [
      "8400\n"
     ]
    }
   ],
   "source": [
    "a = 35 * 60\n",
    "b = 4\n",
    "c = a * b\n",
    "print(c)"
   ]
  },
  {
   "cell_type": "markdown",
   "metadata": {
    "colab_type": "text",
    "id": "qImtIYnqGh74"
   },
   "source": [
    "### a) Math Operators\n",
    "\n",
    "So what mathematical operations can we do in Python, and how do we do them? Some examples below:"
   ]
  },
  {
   "cell_type": "code",
   "execution_count": 145,
   "metadata": {
    "colab": {},
    "colab_type": "code",
    "id": "pSMipR2J1b8H"
   },
   "outputs": [
    {
     "name": "stdout",
     "output_type": "stream",
     "text": [
      "8\n",
      "8\n",
      "36\n",
      "11.0\n",
      "9\n"
     ]
    }
   ],
   "source": [
    "addition = 3 + 5\n",
    "subtraction = 10 - 2\n",
    "multiplication = 4 * 9\n",
    "division = 121 / 11\n",
    "exponentiation = 3 ** 2\n",
    "\n",
    "# Notice that if we run this cell block, there is no output (so we can't check our results)\n",
    "# Add a print statements so you can check the calculations are as expected!\n",
    "\n",
    "# ~~START DELETE~~\n",
    "print(addition)\n",
    "print(subtraction)\n",
    "print(multiplication)\n",
    "print(division)\n",
    "print(exponentiation)\n",
    "# ~~END DELETE~~"
   ]
  },
  {
   "cell_type": "markdown",
   "metadata": {
    "colab_type": "text",
    "id": "ieXkjVSP18iY"
   },
   "source": [
    "Additionally, one math operation you might not have seen before is called **modulo** and is quite useful when programming. What modulo does is it returns the remainder after you divide.\n",
    "\n",
    "For example:"
   ]
  },
  {
   "cell_type": "code",
   "execution_count": 146,
   "metadata": {
    "colab": {
     "base_uri": "https://localhost:8080/",
     "height": 34
    },
    "colab_type": "code",
    "id": "3ndlIJZY2HzW",
    "outputId": "516c9402-799b-460c-fabb-63c759ee6668"
   },
   "outputs": [
    {
     "name": "stdout",
     "output_type": "stream",
     "text": [
      "1\n"
     ]
    }
   ],
   "source": [
    "modulo = 35 % 2\n",
    "print(modulo)\n",
    "\n",
    "# When you divide 35 by 2, you get 17 with a remainder of 1\n",
    "# The modulo (%) operator will return that 1"
   ]
  },
  {
   "cell_type": "code",
   "execution_count": null,
   "metadata": {
    "colab": {},
    "colab_type": "code",
    "id": "tCGj0nGC2YF4"
   },
   "outputs": [],
   "source": [
    "# What will the following return?\n",
    "mod = 44 % 10\n"
   ]
  },
  {
   "cell_type": "markdown",
   "metadata": {
    "colab_type": "text",
    "id": "CeJcYlEQ2zB6"
   },
   "source": [
    "### b) Order of Operations and Parentheses\n",
    "\n",
    "Order of operations are respected in Python, and you can use parentheses as expected."
   ]
  },
  {
   "cell_type": "code",
   "execution_count": 148,
   "metadata": {
    "colab": {
     "base_uri": "https://localhost:8080/",
     "height": 34
    },
    "colab_type": "code",
    "id": "JYzFKAQy266e",
    "outputId": "edfb8727-6051-4111-bbfc-b7c0d00357c8"
   },
   "outputs": [
    {
     "name": "stdout",
     "output_type": "stream",
     "text": [
      "10.0\n"
     ]
    }
   ],
   "source": [
    "some_number = (47 + 3) * 2 / 10\n",
    "print(some_number)"
   ]
  },
  {
   "cell_type": "markdown",
   "metadata": {
    "colab_type": "text",
    "id": "WIB9q_WU3FU8"
   },
   "source": [
    "You cannot, however, do implicit multiplication with parentheses. If you run the code below, it will return an error:"
   ]
  },
  {
   "cell_type": "code",
   "execution_count": 149,
   "metadata": {
    "colab": {
     "base_uri": "https://localhost:8080/",
     "height": 164
    },
    "colab_type": "code",
    "id": "1LbbzbKF3Klf",
    "outputId": "2523bd37-c6c0-4e84-c105-639f2069c6cc"
   },
   "outputs": [
    {
     "ename": "TypeError",
     "evalue": "'int' object is not callable",
     "output_type": "error",
     "traceback": [
      "\u001b[0;31m---------------------------------------------------------------------------\u001b[0m",
      "\u001b[0;31mTypeError\u001b[0m                                 Traceback (most recent call last)",
      "\u001b[0;32m<ipython-input-149-fcd17ba6befa>\u001b[0m in \u001b[0;36m<module>\u001b[0;34m\u001b[0m\n\u001b[0;32m----> 1\u001b[0;31m \u001b[0msome_number_2\u001b[0m \u001b[0;34m=\u001b[0m \u001b[0;36m2\u001b[0m \u001b[0;34m(\u001b[0m\u001b[0;36m5\u001b[0m \u001b[0;34m+\u001b[0m \u001b[0;36m5\u001b[0m\u001b[0;34m)\u001b[0m\u001b[0;34m\u001b[0m\u001b[0;34m\u001b[0m\u001b[0m\n\u001b[0m",
      "\u001b[0;31mTypeError\u001b[0m: 'int' object is not callable"
     ]
    }
   ],
   "source": [
    "some_number_2 = 2 (5 + 5)"
   ]
  },
  {
   "cell_type": "markdown",
   "metadata": {
    "colab_type": "text",
    "id": "yjv3mJ9Z3dWS"
   },
   "source": [
    "### c) In-place variable modification: An Arithmetic Shortcut\n",
    "\n",
    "So far, we've only been initializing new variables. Variables in Python, unlike in math, can be updated to hold new values. For example:"
   ]
  },
  {
   "cell_type": "code",
   "execution_count": 152,
   "metadata": {
    "colab": {},
    "colab_type": "code",
    "id": "34BCUaoC3r6N"
   },
   "outputs": [
    {
     "name": "stdout",
     "output_type": "stream",
     "text": [
      "10\n",
      "20\n"
     ]
    }
   ],
   "source": [
    "a = 10\n",
    "print(a)\n",
    "a = 20\n",
    "print(a)"
   ]
  },
  {
   "cell_type": "markdown",
   "metadata": {
    "colab_type": "text",
    "id": "2v7QdEfq3wSE"
   },
   "source": [
    "On the third line in the code block above, `a` is reassigned the value of 20.\n",
    "\n",
    "What if we wanted to add 10 to the value of `a`? There is an arithmetic shortcut we can use:"
   ]
  },
  {
   "cell_type": "code",
   "execution_count": null,
   "metadata": {
    "colab": {
     "base_uri": "https://localhost:8080/",
     "height": 34
    },
    "colab_type": "code",
    "id": "WZCsT3Xd37N2",
    "outputId": "3fa4c3a6-b596-44cc-ffae-bf6aa8ef2585"
   },
   "outputs": [
    {
     "name": "stdout",
     "output_type": "stream",
     "text": [
      "30\n"
     ]
    }
   ],
   "source": [
    "a = 20\n",
    "a += 10\n",
    "print(a)\n",
    "# What do you expect this to print?"
   ]
  },
  {
   "cell_type": "markdown",
   "metadata": {
    "colab_type": "text",
    "id": "z6wdIPsK4B4z"
   },
   "source": [
    "A longer example, with other operations. What do you think the final value should be? Try to calculate it yourself before adding a print command to test your answer:"
   ]
  },
  {
   "cell_type": "code",
   "execution_count": null,
   "metadata": {
    "colab": {},
    "colab_type": "code",
    "id": "6cTxAUwG4KBd"
   },
   "outputs": [],
   "source": [
    "unknown = 5\n",
    "unknown += 5\n",
    "unknown -= 2\n",
    "unknown *= 8\n",
    "unknown /= 4\n",
    "unknown %= 3\n"
   ]
  },
  {
   "cell_type": "markdown",
   "metadata": {
    "colab_type": "text",
    "id": "TFEzqNKE5a7s"
   },
   "source": [
    "## 4. User Input\n",
    "\n",
    "Up until now, we've worked on printing, creating variables, and doing some math. All of that is useful, but what makes many programs interesting and valuable are that they can take in user input and change how they run.\n",
    "\n",
    "To get user input, we do the following:"
   ]
  },
  {
   "cell_type": "code",
   "execution_count": 153,
   "metadata": {
    "colab": {
     "base_uri": "https://localhost:8080/",
     "height": 51
    },
    "colab_type": "code",
    "id": "H6dLOIUc5x0S",
    "outputId": "700ba8b6-8c39-4374-9d6c-a0172e100b5a"
   },
   "outputs": [
    {
     "name": "stdin",
     "output_type": "stream",
     "text": [
      "Type something and hit enter!  ok\n"
     ]
    },
    {
     "data": {
      "text/plain": [
       "'ok'"
      ]
     },
     "execution_count": 153,
     "metadata": {},
     "output_type": "execute_result"
    }
   ],
   "source": [
    "input(\"Type something and hit enter! \")"
   ]
  },
  {
   "cell_type": "markdown",
   "metadata": {
    "colab_type": "text",
    "id": "YbQWIK6t56L3"
   },
   "source": [
    "We've gotten user input, but how do we remember it and use it in the future?\n",
    "\n",
    "Let's store it as a variable."
   ]
  },
  {
   "cell_type": "code",
   "execution_count": 154,
   "metadata": {
    "colab": {
     "base_uri": "https://localhost:8080/",
     "height": 51
    },
    "colab_type": "code",
    "id": "XJXEMyDn6EFb",
    "outputId": "9be3c291-a152-4eed-bd04-876b1705dad9"
   },
   "outputs": [
    {
     "name": "stdin",
     "output_type": "stream",
     "text": [
      "Tell me something:  hmm\n"
     ]
    },
    {
     "name": "stdout",
     "output_type": "stream",
     "text": [
      "You said: hmm\n"
     ]
    }
   ],
   "source": [
    "answer = input(\"Tell me something: \")\n",
    "print(\"You said:\", answer)"
   ]
  },
  {
   "cell_type": "markdown",
   "metadata": {
    "colab_type": "text",
    "id": "zhpJRcuS6Q4F"
   },
   "source": [
    "In fact, a very early version of AI (that wasn't _really_ AI) called ELIZA mainly just took user input and returned it in a way that tried to mimic how a psychologist might communicate with you:"
   ]
  },
  {
   "cell_type": "code",
   "execution_count": null,
   "metadata": {
    "colab": {
     "base_uri": "https://localhost:8080/",
     "height": 51
    },
    "colab_type": "code",
    "id": "t7VRUaHi6h0y",
    "outputId": "a341cb77-08c9-4629-bd7f-dde77d903533"
   },
   "outputs": [
    {
     "name": "stdout",
     "output_type": "stream",
     "text": [
      "What topic is on your mind? ice cream\n",
      "And how does ice cream make you feel?\n"
     ]
    }
   ],
   "source": [
    "topic = input(\"What topic is on your mind? \")\n",
    "print(\"And how does\", topic, \"make you feel?\")"
   ]
  },
  {
   "cell_type": "markdown",
   "metadata": {},
   "source": [
    "Congratulations, assigning variables and writing basic statements with them, as well as accepting user input has you well on your way to programming python. \n",
    "\n",
    "In the next notebook, we will dive further into programming!"
   ]
  }
 ],
 "metadata": {
  "colab": {
   "collapsed_sections": [],
   "name": "P1: Introduction to Python (Variables, conditionals, lists, loops)",
   "provenance": []
  },
  "kernelspec": {
   "display_name": "Python 3",
   "language": "python",
   "name": "python3"
  },
  "language_info": {
   "codemirror_mode": {
    "name": "ipython",
    "version": 3
   },
   "file_extension": ".py",
   "mimetype": "text/x-python",
   "name": "python",
   "nbconvert_exporter": "python",
   "pygments_lexer": "ipython3",
   "version": "3.7.7"
  }
 },
 "nbformat": 4,
 "nbformat_minor": 4
}
