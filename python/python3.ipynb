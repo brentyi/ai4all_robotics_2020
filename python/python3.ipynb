{
 "cells": [
  {
   "cell_type": "markdown",
   "metadata": {},
   "source": [
    "<header style=\"padding: 4em 0 0em 0\">\n",
    "    <img src=\"http://brentyi.github.io/filestore/ai4all_logo.svg\" style=\"width: 30em; height: auto; margin: 0;\" />\n",
    "    <h3 style=\"margin: 1em 0 0 0;\">\n",
    "        <strong>Python III</strong>\n",
    "        <span style=\"color: #777\">\n",
    "        &nbsp;&blacksquare;&nbsp;\n",
    "        Robotics, Summer 2020</span>\n",
    "    </h3>\n",
    "</header>"
   ]
  },
  {
   "cell_type": "markdown",
   "metadata": {
    "colab_type": "text",
    "id": "516Ip-B7RQNL"
   },
   "source": [
    "<hr style=\"border-top: 0.4em solid #eee;\" />\n",
    "\n",
    "Welcome back to the world of Python!\n",
    "\n",
    "So far, we've seen topics including variables, printing, conditionals, lists, and loops. In this lesson, we'll expand on those topics by talking about 2D lists (also known as matrices) and nested loops (loops within loops), and we'll cover new topics such as importing libraries and using functions.\n",
    "\n",
    "Today, we'll cover:\n",
    "\n",
    "1. Warm-up\n",
    "2. Basic debugging\n",
    "3. Nested Loops & Matrices\n",
    "4. Functions\n",
    "5. Libraries\n",
    "\n",
    "<hr style=\"border-top: 0.4em solid #eee;\" />"
   ]
  },
  {
   "cell_type": "markdown",
   "metadata": {},
   "source": [
    "\n",
    "## 1. Warmup \n",
    "\n",
    "Let's jump right into coding with a quick review example!"
   ]
  },
  {
   "cell_type": "markdown",
   "metadata": {
    "colab_type": "text",
    "id": "DgN7uVbwXnHx"
   },
   "source": [
    "Write a program that takes an integer input and prints the factorial of that integer. You can assume the input will always be a positive integer.\n",
    "\n",
    "For those who have not seen factorials before, it is the product of an integer and every positive integer below it. We usually represent factorials by writing the number followed by an exclamation mark. \"Five factorial\" would be $ 5! $, which written out is:\n",
    "\n",
    "$$ 5! = 1 * 2 * 3 * 4 * 5 = 120 $$\n",
    "\n",
    "An example run of this program might look like:\n",
    "\n",
    "```\n",
    "Input an integer: 5\n",
    "The factorial is: 120\n",
    "```\n",
    "\n",
    "Be sure to use a loop (either `for` or `while`) to accomplish this task!"
   ]
  },
  {
   "cell_type": "markdown",
   "metadata": {
    "colab_type": "text",
    "id": "DgN7uVbwXnHx"
   },
   "source": [
    "<div style=\"color: #a00; font-weight: 800; padding: 1em 0; border-top: 0.4em solid #eee;\">Checkoff: Warmup</div>\n",
    "\n",
    "Write your factorial function, and explain how you wrote it!\n",
    "\n",
    "> *Your response here!*"
   ]
  },
  {
   "cell_type": "code",
   "execution_count": 3,
   "metadata": {
    "colab": {
     "base_uri": "https://localhost:8080/",
     "height": 34
    },
    "colab_type": "code",
    "id": "1CsuI7k7Wq0Z",
    "outputId": "2e9465b9-a281-4490-c88c-39533e941e68"
   },
   "outputs": [
    {
     "name": "stdout",
     "output_type": "stream",
     "text": [
      "Input an integer: 5\n",
      "120\n"
     ]
    }
   ],
   "source": [
    "# To get you started, the line to get input is provided below\n",
    "number = int(input(\"Input an integer: \"))\n",
    "\n",
    "# ~~START DELETE~~\n",
    "product = 1\n",
    "for n in range(number):\n",
    "    product *= n + 1\n",
    "print(product)\n",
    "import math\n",
    "math.\n",
    "# ~~END DELETE~~"
   ]
  },
  {
   "cell_type": "markdown",
   "metadata": {
    "colab_type": "text",
    "id": "It8igJ-LeiOB"
   },
   "source": [
    "## 2. Debugging\n",
    "\n",
    "In this lesson, we'll start to shift from reading code to writing more code. When writing code, we often run into errors or end up with programs that might not run exactly as we wanted. This is ok! In fact, all of the best programmers in the world still make errors and mistakes in their code.\n",
    "\n",
    "One of the tools in a programmer's toolbox is figuring out how to look for errors, or \"bugs\", in their code. The process of finding and removing bugs in your code is called **debugging**, and from computer science folklore, the origin of this word comes from legendary computer scientist Grace Hopper, who once found an actual moth in her computer (back when they were the size of rooms) that caused an error in its calculations.\n",
    "\n",
    "![alt text](http://www.pitt.edu/~super1/lecture/lec44911/img019.JPG)"
   ]
  },
  {
   "cell_type": "markdown",
   "metadata": {
    "colab_type": "text",
    "id": "ZnZ113AQfzUt"
   },
   "source": [
    "Let's look at the following code block. It's intended to print out the numbers from 1 to 5, but something's wrong. Can you debug it and figure out what needs to be changed?"
   ]
  },
  {
   "cell_type": "code",
   "execution_count": 4,
   "metadata": {
    "colab": {
     "base_uri": "https://localhost:8080/",
     "height": 85
    },
    "colab_type": "code",
    "id": "316euGkXf_NH",
    "outputId": "4c296658-d8d4-4cca-bf94-b77f04d0c6eb"
   },
   "outputs": [
    {
     "name": "stdout",
     "output_type": "stream",
     "text": [
      "1\n",
      "2\n",
      "3\n",
      "4\n"
     ]
    }
   ],
   "source": [
    "for num in range(1,5):\n",
    "    print(num)"
   ]
  },
  {
   "cell_type": "markdown",
   "metadata": {
    "colab_type": "text",
    "id": "-uvBwayhgFgx"
   },
   "source": [
    "Sometimes bugs are hard to find, and it's helpful to add print statements to see what the values of certain variables are at that point in time. Say we want to write a program that takes in an word input and checks if the characters `un` were found in that input:"
   ]
  },
  {
   "cell_type": "code",
   "execution_count": 5,
   "metadata": {
    "colab": {
     "base_uri": "https://localhost:8080/",
     "height": 34
    },
    "colab_type": "code",
    "id": "6ID5TtK_gldV",
    "outputId": "8f9216e5-45b3-44a6-9093-8aa607f307c6"
   },
   "outputs": [
    {
     "name": "stdout",
     "output_type": "stream",
     "text": [
      "Input a word: \n"
     ]
    }
   ],
   "source": [
    "# There's an error in this program -- can you spot it?\n",
    "check = \"um\"\n",
    "\n",
    "# Pretend that there were hundreds of lines of code here\n",
    "# So that the lines you see above\n",
    "# And the lines you see below\n",
    "# Aren't right next to each other\n",
    "# You might look to find an error in the code below\n",
    "# But it turns out the bug is somewhere else...\n",
    "\n",
    "word = input(\"Input a word: \")\n",
    "\n",
    "if check in word:\n",
    "    print(\"Found 'un'!\")"
   ]
  },
  {
   "cell_type": "markdown",
   "metadata": {
    "colab_type": "text",
    "id": "Us6wtWCMhqec"
   },
   "source": [
    "If we run the code and input the word `unimportant`, we should expect the output `Found 'un'!`.\n",
    "\n",
    "However, it doesn't work as expected, because there's a typo that makes the program do something else. \n",
    "\n",
    "When we think there's a bug with our program, we can add a print statement as a check for ourselves. Run the program below and input a word:\n"
   ]
  },
  {
   "cell_type": "code",
   "execution_count": null,
   "metadata": {
    "colab": {
     "base_uri": "https://localhost:8080/",
     "height": 51
    },
    "colab_type": "code",
    "id": "H1AMEuELjMlV",
    "outputId": "1fa29d1a-1798-4396-fa15-2a44e5c320a9"
   },
   "outputs": [
    {
     "name": "stdout",
     "output_type": "stream",
     "text": [
      "Input a word: un\n",
      "We're looking for um\n"
     ]
    }
   ],
   "source": [
    "# There's an error in this program -- can you spot it?\n",
    "check = \"um\"\n",
    "\n",
    "# Pretend that there were hundreds of lines of code here\n",
    "# So that the lines you see above\n",
    "# And the lines you see below\n",
    "# Aren't right next to each other\n",
    "# You might look to find an error in the code below\n",
    "# But it turns out the bug is somewhere else...\n",
    "\n",
    "word = input(\"Input a word: \")\n",
    "\n",
    "# Added this line to make sure that we're checking for 'un'\n",
    "print(\"We're actually looking for\", check)\n",
    "\n",
    "if check in word:\n",
    "    print(\"Found 'un'!\")"
   ]
  },
  {
   "cell_type": "markdown",
   "metadata": {
    "colab_type": "text",
    "id": "MBMX46wcjlkD"
   },
   "source": [
    "When we run the program this time, our print statement tells us that we're actually looking for the characters `um` and not `un`. This might help us realize we had made a typo much earlier in the program, so that we go look for it and fix the typo.\n",
    "\n",
    "In this example, it might have been easy to spot the typo since there's not a lot of code in the program. But when programs start to get to hundreds or even thousands of lines long, typos might be harder to catch. Printing what your variables are every now and then can be useful as a debugging tool!\n",
    "\n",
    "Just be sure to remove the debugging print statements you added once you're done, because they likely are not part of the output you want to show a user."
   ]
  },
  {
   "cell_type": "code",
   "execution_count": null,
   "metadata": {
    "colab": {},
    "colab_type": "code",
    "id": "rYCjkch0muyZ"
   },
   "outputs": [],
   "source": [
    "# The program, without the debug line, with the typo fixed\n",
    "check = \"un\"\n",
    "\n",
    "# Pretend that there were hundreds of lines of code here...\n",
    "\n",
    "word = input(\"Input a word:\")\n",
    "\n",
    "if check in word:\n",
    "    print(\"Found 'un'!\")"
   ]
  },
  {
   "cell_type": "markdown",
   "metadata": {
    "colab_type": "text",
    "id": "UlTCjJHenC2i"
   },
   "source": [
    "If all of this seems confusing at first, no worries! Debugging is a skill that takes practice, which you'll get lots of soon."
   ]
  },
  {
   "cell_type": "markdown",
   "metadata": {
    "colab_type": "text",
    "id": "wFMV78AAQnmu"
   },
   "source": [
    "## 3. Nested Loops\n",
    "\n",
    "### a) A loop in a loop\n",
    "\n",
    "In all examples from the first lesson, we only used a single loop at a time, like you see below:"
   ]
  },
  {
   "cell_type": "code",
   "execution_count": 2,
   "metadata": {
    "colab": {
     "base_uri": "https://localhost:8080/",
     "height": 102
    },
    "colab_type": "code",
    "id": "h5UdW2jBZcDa",
    "outputId": "8f4fdb1e-5ee2-46cc-faca-25d72a71924a"
   },
   "outputs": [
    {
     "name": "stdout",
     "output_type": "stream",
     "text": [
      "We're going to repeat this 5 times!\n",
      "We're going to repeat this 5 times!\n",
      "We're going to repeat this 5 times!\n",
      "We're going to repeat this 5 times!\n",
      "We're going to repeat this 5 times!\n"
     ]
    }
   ],
   "source": [
    "for num in range(5):\n",
    "    print(\"We're going to repeat this 5 times!\")"
   ]
  },
  {
   "cell_type": "markdown",
   "metadata": {
    "colab_type": "text",
    "id": "cGL7mxgVZn_W"
   },
   "source": [
    "Remember that the variable `num` is automatically updated each time the loop runs:"
   ]
  },
  {
   "cell_type": "code",
   "execution_count": 6,
   "metadata": {
    "colab": {
     "base_uri": "https://localhost:8080/",
     "height": 102
    },
    "colab_type": "code",
    "id": "ZvmifHK_Z66w",
    "outputId": "95bcf7e7-612b-4955-e404-8401de45de40"
   },
   "outputs": [
    {
     "name": "stdout",
     "output_type": "stream",
     "text": [
      "This is iteration # 1 of this loop\n",
      "This is iteration # 2 of this loop\n",
      "This is iteration # 3 of this loop\n",
      "This is iteration # 4 of this loop\n",
      "This is iteration # 5 of this loop\n"
     ]
    }
   ],
   "source": [
    "for num in range(1, 6):\n",
    "    print(\"This is iteration #\", num, \"of this loop\")"
   ]
  },
  {
   "cell_type": "markdown",
   "metadata": {
    "colab_type": "text",
    "id": "wuO8UPA7aFtx"
   },
   "source": [
    "Also remember that every line immediately after the `for` that we indent is looped, but once we un-indent, we're outside of the loop. What would the following example print?"
   ]
  },
  {
   "cell_type": "code",
   "execution_count": 7,
   "metadata": {
    "colab": {
     "base_uri": "https://localhost:8080/",
     "height": 136
    },
    "colab_type": "code",
    "id": "MOD9xeqhaYGq",
    "outputId": "b73e0a75-7972-4ca4-9d52-19954a0f9857"
   },
   "outputs": [
    {
     "name": "stdout",
     "output_type": "stream",
     "text": [
      "I like the following item:\n",
      "coffee\n",
      "I like the following item:\n",
      "tea\n",
      "I like the following item:\n",
      "boba\n",
      "That's the whole list!\n"
     ]
    }
   ],
   "source": [
    "lis = [\"coffee\", \"tea\", \"boba\"]\n",
    "\n",
    "for item in lis:\n",
    "    print(\"I like the following item:\")\n",
    "    print(item)\n",
    "print(\"That's the whole list!\")"
   ]
  },
  {
   "cell_type": "markdown",
   "metadata": {
    "colab_type": "text",
    "id": "xFxs3Uarauuw"
   },
   "source": [
    "Sometimes, it's useful for us to have a loop inside of a loop. For example, if we had a list of words and wanted to print each 5 times, how would we do this?"
   ]
  },
  {
   "cell_type": "code",
   "execution_count": 8,
   "metadata": {
    "colab": {
     "base_uri": "https://localhost:8080/",
     "height": 272
    },
    "colab_type": "code",
    "id": "vyCnwvhxa9m0",
    "outputId": "6adc6e37-9430-4976-a17f-4ee3fd00ea13"
   },
   "outputs": [
    {
     "name": "stdout",
     "output_type": "stream",
     "text": [
      "taro\n",
      "taro\n",
      "taro\n",
      "taro\n",
      "taro\n",
      "wintermelon\n",
      "wintermelon\n",
      "wintermelon\n",
      "wintermelon\n",
      "wintermelon\n",
      "passion fruit\n",
      "passion fruit\n",
      "passion fruit\n",
      "passion fruit\n",
      "passion fruit\n"
     ]
    }
   ],
   "source": [
    "lis = [\"taro\", \"wintermelon\", \"passion fruit\"]\n",
    "\n",
    "for item in lis:\n",
    "    for num in range(5):\n",
    "        print(item)"
   ]
  },
  {
   "cell_type": "markdown",
   "metadata": {
    "colab_type": "text",
    "id": "UVisQ70PbPpf"
   },
   "source": [
    "A quick note that there's a different way of doing this using multiplication, but the example above illustrates how we can use a loop inside of a loop, otherwise known as a **nested loop**.\n",
    "\n",
    "But what exactly is going on?\n",
    "\n",
    "Let's add some print statements to try to understand how the two loops work:"
   ]
  },
  {
   "cell_type": "code",
   "execution_count": 9,
   "metadata": {
    "colab": {
     "base_uri": "https://localhost:8080/",
     "height": 578
    },
    "colab_type": "code",
    "id": "EBDYWz9RbtUC",
    "outputId": "6ba4c94c-592b-48ca-9aae-00c0e836ad91"
   },
   "outputs": [
    {
     "name": "stdout",
     "output_type": "stream",
     "text": [
      "We're back outside to the top of the outer loop. The item we're looking at now is taro\n",
      "Inner loop, iteration # 0\n",
      "taro\n",
      "Inner loop, iteration # 1\n",
      "taro\n",
      "Inner loop, iteration # 2\n",
      "taro\n",
      "Inner loop, iteration # 3\n",
      "taro\n",
      "Inner loop, iteration # 4\n",
      "taro\n",
      "We're back outside to the top of the outer loop. The item we're looking at now is wintermelon\n",
      "Inner loop, iteration # 0\n",
      "wintermelon\n",
      "Inner loop, iteration # 1\n",
      "wintermelon\n",
      "Inner loop, iteration # 2\n",
      "wintermelon\n",
      "Inner loop, iteration # 3\n",
      "wintermelon\n",
      "Inner loop, iteration # 4\n",
      "wintermelon\n",
      "We're back outside to the top of the outer loop. The item we're looking at now is passion fruit\n",
      "Inner loop, iteration # 0\n",
      "passion fruit\n",
      "Inner loop, iteration # 1\n",
      "passion fruit\n",
      "Inner loop, iteration # 2\n",
      "passion fruit\n",
      "Inner loop, iteration # 3\n",
      "passion fruit\n",
      "Inner loop, iteration # 4\n",
      "passion fruit\n"
     ]
    }
   ],
   "source": [
    "lis = [\"taro\", \"wintermelon\", \"passion fruit\"]\n",
    "\n",
    "for item in lis:\n",
    "    print(\"We're back outside to the top of the outer loop. The item we're looking at now is\", item)\n",
    "    for num in range(5):\n",
    "        print(\"Inner loop, iteration #\", num)\n",
    "        print(item)"
   ]
  },
  {
   "cell_type": "markdown",
   "metadata": {
    "colab_type": "text",
    "id": "dL8wxXB8cG1A"
   },
   "source": [
    "This might look like a lot at first! But take a breath, and try to follow the code, line by line, to see which line prints which statement.\n",
    "\n",
    "The key thing to remember is that the inner loop will repeat 5 times before it's finished. Once it's finished, we'll get to the end of the outer loop, and the outer loop will repeat.\n",
    "\n",
    "Said differently, remember that the outer loop will not repeat until the inner loop is done repeating.\n",
    "\n",
    "Here's another example. Try to follow the code and the loops and **write down** what it would print before running it:"
   ]
  },
  {
   "cell_type": "code",
   "execution_count": 11,
   "metadata": {
    "colab": {
     "base_uri": "https://localhost:8080/",
     "height": 170
    },
    "colab_type": "code",
    "id": "KE07ngmRdX3_",
    "outputId": "0157fe0e-2c15-4084-8486-586ccba87eb8"
   },
   "outputs": [
    {
     "name": "stdout",
     "output_type": "stream",
     "text": [
      "1\n",
      "2\n",
      "3\n",
      "Finished the inner loop, repeating the outer loop\n",
      "2\n",
      "3\n",
      "4\n",
      "Finished the inner loop, repeating the outer loop\n",
      "Finished both loops\n"
     ]
    }
   ],
   "source": [
    "for a in range(1, 3):\n",
    "    print(a)\n",
    "    for b in range(1, 3):\n",
    "        num = a + b\n",
    "        print(num)\n",
    "    print(\"Finished the inner loop, repeating the outer loop\")\n",
    "print(\"Finished both loops\")"
   ]
  },
  {
   "cell_type": "markdown",
   "metadata": {
    "colab_type": "text",
    "id": "239GjVfpn0vm"
   },
   "source": [
    "### b) Exercise\n",
    "\n",
    "Nested loops are extremely useful, and we'll see them a lot when working with things like tables of information. It does take some time and practice to get used to nested loops, so don't worry if they don't come naturally right away.\n",
    "\n",
    "For practice, try to write a program that prints out a multiplication table up to 10 x 10. It should look like:\n",
    "\n",
    "```\n",
    "1 2 3 4 5 6 7 8 9 10 \n",
    "2 4 6 8 10 12 14 16 18 20 \n",
    "3 6 9 12 15 18 21 24 27 30 \n",
    "4 8 12 16 20 24 28 32 36 40 \n",
    "5 10 15 20 25 30 35 40 45 50 \n",
    "6 12 18 24 30 36 42 48 54 60 \n",
    "7 14 21 28 35 42 49 56 63 70 \n",
    "8 16 24 32 40 48 56 64 72 80 \n",
    "9 18 27 36 45 54 63 72 81 90 \n",
    "10 20 30 40 50 60 70 80 90 100 \n",
    "\n",
    "```\n",
    "\n",
    "For this exercise, you'll need to be able to print without a new line happening every time you write a print statement. Here's an example of that:"
   ]
  },
  {
   "cell_type": "code",
   "execution_count": 16,
   "metadata": {
    "colab": {
     "base_uri": "https://localhost:8080/",
     "height": 187
    },
    "colab_type": "code",
    "id": "iSORg3rfo3dt",
    "outputId": "f63503a0-1886-4974-b581-907e5ba7d366"
   },
   "outputs": [
    {
     "name": "stdout",
     "output_type": "stream",
     "text": [
      "When we print this\n",
      "this happens on a new line.\n",
      "\n",
      "\n",
      "If we want a blank line,\n",
      "\n",
      "We can just say print().\n",
      "\n",
      "\n",
      "But when we print and include the code that says end='', the next print statement won't happen on a new line!\n"
     ]
    }
   ],
   "source": [
    "print(\"When we print this\")\n",
    "print(\"this happens on a new line.\")\n",
    "\n",
    "print()\n",
    "print()\n",
    "\n",
    "print(\"If we want a blank line,\")\n",
    "print()\n",
    "print(\"We can just say print().\")\n",
    "\n",
    "print()\n",
    "print()\n",
    "\n",
    "print(\"But when we print and include the code that says end='', \", end=\"\")\n",
    "print(\"the next print statement won't happen on a new line!\")"
   ]
  },
  {
   "cell_type": "markdown",
   "metadata": {
    "colab_type": "text",
    "id": "D4sWdbPYpjEy"
   },
   "source": [
    "We need this, because it will help us print out a single line of the multiplication table. For example, let's see the difference between the following two blocks of code:"
   ]
  },
  {
   "cell_type": "code",
   "execution_count": 17,
   "metadata": {
    "colab": {
     "base_uri": "https://localhost:8080/",
     "height": 187
    },
    "colab_type": "code",
    "id": "aFxLC6xnpsgH",
    "outputId": "a6bee976-9e43-4f2a-dcee-4a3b8f4d2ed4"
   },
   "outputs": [
    {
     "name": "stdout",
     "output_type": "stream",
     "text": [
      "1\n",
      "2\n",
      "3\n",
      "4\n",
      "5\n",
      "6\n",
      "7\n",
      "8\n",
      "9\n",
      "10\n"
     ]
    }
   ],
   "source": [
    "for num in range(1, 11):\n",
    "    print(num)"
   ]
  },
  {
   "cell_type": "code",
   "execution_count": 18,
   "metadata": {
    "colab": {
     "base_uri": "https://localhost:8080/",
     "height": 34
    },
    "colab_type": "code",
    "id": "DXwbHppJpyfv",
    "outputId": "9ed50cb1-0262-48e4-bfc5-60ba12e0685d"
   },
   "outputs": [
    {
     "name": "stdout",
     "output_type": "stream",
     "text": [
      "12345678910"
     ]
    }
   ],
   "source": [
    "for num in range(1, 11):\n",
    "    print(num, end=\"\")"
   ]
  },
  {
   "cell_type": "markdown",
   "metadata": {
    "colab_type": "text",
    "id": "XRB0LYKRp3bL"
   },
   "source": [
    "We use `end=''` to tell the print statement that when we finish printing, we won't tell the computer to start the next print on a new line.\n",
    "\n",
    "Notice that after printing, we don't have any spaces between the characters as well. If we instead say `end=' '`, that means that we're telling the computer to add a space after each print."
   ]
  },
  {
   "cell_type": "code",
   "execution_count": 29,
   "metadata": {
    "colab": {
     "base_uri": "https://localhost:8080/",
     "height": 34
    },
    "colab_type": "code",
    "id": "A4Bbm6iaqREd",
    "outputId": "a0e8aa8e-ca7a-4995-e89e-32eb61b332fd"
   },
   "outputs": [
    {
     "name": "stdout",
     "output_type": "stream",
     "text": [
      "1 2 3 4 5 6 7 8 9 10 "
     ]
    }
   ],
   "source": [
    "for num in range(1, 11):\n",
    "    print(num, end=\" \")"
   ]
  },
  {
   "cell_type": "markdown",
   "metadata": {
    "colab_type": "text",
    "id": "CQDSdOJRqUi3"
   },
   "source": [
    "<div style=\"color: #a00; font-weight: 800; padding: 1em 0; border-top: 0.4em solid #eee;\">Checkoff: Multiplication Tables</div>\n",
    "\n",
    "\n",
    "How might we use this to print our multiplication table using nested loops?\n",
    "Think about it a bit, write an explanation, and then give it a try.\n",
    "\n",
    "> *Your response here!*\n",
    "\n",
    "This may also be an excellent opportunity to practice debugging! Feel free to work with others:"
   ]
  },
  {
   "cell_type": "code",
   "execution_count": 30,
   "metadata": {
    "colab": {},
    "colab_type": "code",
    "id": "bBcNJaLvq7LM"
   },
   "outputs": [
    {
     "name": "stdout",
     "output_type": "stream",
     "text": [
      "1 2 3 4 5 6 7 8 9 10 \n",
      "2 4 6 8 10 12 14 16 18 20 \n",
      "3 6 9 12 15 18 21 24 27 30 \n",
      "4 8 12 16 20 24 28 32 36 40 \n",
      "5 10 15 20 25 30 35 40 45 50 \n",
      "6 12 18 24 30 36 42 48 54 60 \n",
      "7 14 21 28 35 42 49 56 63 70 \n",
      "8 16 24 32 40 48 56 64 72 80 \n",
      "9 18 27 36 45 54 63 72 81 90 \n",
      "10 20 30 40 50 60 70 80 90 100 \n"
     ]
    }
   ],
   "source": [
    "# Write your code here for printing the multiplication table, up to 10 x 10\n",
    "# You should use a nested loop\n",
    "# ~~START DELETE~~\n",
    "for i in range(1, 11):\n",
    "    for j in range(1, 11):\n",
    "        print(i * j, end=\" \")\n",
    "    print()\n",
    "# ~~END DELETE~~"
   ]
  },
  {
   "cell_type": "markdown",
   "metadata": {
    "colab_type": "text",
    "id": "GLqF_tVGRZRn"
   },
   "source": [
    "## b) Matrices\n",
    "\n",
    "Recall lists from the previous lesson:"
   ]
  },
  {
   "cell_type": "code",
   "execution_count": 23,
   "metadata": {
    "colab": {
     "base_uri": "https://localhost:8080/",
     "height": 34
    },
    "colab_type": "code",
    "id": "dKu-qVuAsQnW",
    "outputId": "a2c91183-c77a-4dfa-ec67-6bb1be31cda6"
   },
   "outputs": [
    {
     "name": "stdout",
     "output_type": "stream",
     "text": [
      "Found element 1\n"
     ]
    }
   ],
   "source": [
    "lis = [\"element 0\", \"element 1\", \"element 2\"]\n",
    "\n",
    "for item in lis:\n",
    "    if item == \"element 1\":\n",
    "        print(\"Found element 1\")"
   ]
  },
  {
   "cell_type": "markdown",
   "metadata": {
    "colab_type": "text",
    "id": "M_2xLMvxshnk"
   },
   "source": [
    "We know that a list can contain strings, numbers, booleans, and all other sorts of data types. But can a list contain a list? Yes!"
   ]
  },
  {
   "cell_type": "code",
   "execution_count": 26,
   "metadata": {
    "colab": {
     "base_uri": "https://localhost:8080/",
     "height": 102
    },
    "colab_type": "code",
    "id": "2DmVU7oass6q",
    "outputId": "1460f43b-d798-4ded-bd31-1b3330f77ffc"
   },
   "outputs": [
    {
     "name": "stdout",
     "output_type": "stream",
     "text": [
      "element 0\n",
      "[0, 1, 2]\n",
      "element 2\n",
      "\n",
      "element 2\n"
     ]
    }
   ],
   "source": [
    "lis = [\"element 0\", [0, 1, 2], \"element 2\"]\n",
    "\n",
    "for item in lis:\n",
    "    print(item)\n",
    "print()\n",
    "\n",
    "# Remember indexing into a list?\n",
    "# What would the following print?\n",
    "print(lis[2])"
   ]
  },
  {
   "cell_type": "markdown",
   "metadata": {
    "colab_type": "text",
    "id": "ywoBvwT8s11N"
   },
   "source": [
    "We see that the list inside of the list is the element with index 1. If we wanted to access that list, we would do:"
   ]
  },
  {
   "cell_type": "code",
   "execution_count": 27,
   "metadata": {
    "colab": {
     "base_uri": "https://localhost:8080/",
     "height": 34
    },
    "colab_type": "code",
    "id": "3-sh-vBRtWHX",
    "outputId": "3aae8e3f-0f48-4769-8e94-a16c17e697e1"
   },
   "outputs": [
    {
     "name": "stdout",
     "output_type": "stream",
     "text": [
      "[0, 1, 2]\n"
     ]
    }
   ],
   "source": [
    "lis = [\"element 0\", [0, 1, 2], \"element 2\"]\n",
    "\n",
    "print(lis[1])"
   ]
  },
  {
   "cell_type": "markdown",
   "metadata": {
    "colab_type": "text",
    "id": "DpxS4P-DtZ9p"
   },
   "source": [
    "And if we wanted to loop through this list:"
   ]
  },
  {
   "cell_type": "code",
   "execution_count": 11,
   "metadata": {
    "colab": {
     "base_uri": "https://localhost:8080/",
     "height": 68
    },
    "colab_type": "code",
    "id": "OMjbvGcMtf_p",
    "outputId": "121df510-45a3-45de-eba0-19d8f0adeeae"
   },
   "outputs": [
    {
     "name": "stdout",
     "output_type": "stream",
     "text": [
      "0\n",
      "1\n",
      "2\n"
     ]
    }
   ],
   "source": [
    "lis = [\"element 0\", [0, 1, 2], \"element 2\"]\n",
    "\n",
    "# This works, because lis[1] is a list and we're looping over it\n",
    "for item in lis[1]:\n",
    "    print(item)"
   ]
  },
  {
   "cell_type": "markdown",
   "metadata": {
    "colab_type": "text",
    "id": "RBcuUvwvtwaZ"
   },
   "source": [
    "Very frequently, when we work with data for artificial intelligence, it's presented to us as a table. For example, we might have something like:\n",
    "\n",
    "```\n",
    "name     favorite color\n",
    "wells    yellow\n",
    "susanna  black\n",
    "```\n",
    "\n",
    "We can code this up as a \"**2-dimensional list**\", or 2D list, which is a fancy way of calling a list where every element in it is a list.\n"
   ]
  },
  {
   "cell_type": "code",
   "execution_count": 15,
   "metadata": {
    "colab": {},
    "colab_type": "code",
    "id": "QrKNCwYJuttL"
   },
   "outputs": [],
   "source": [
    "two_d_list = [[\"name\", \"favorite color\"],\n",
    "              [\"wells\", \"yellow\"],\n",
    "              [\"susanna\", \"black\"]]"
   ]
  },
  {
   "cell_type": "markdown",
   "metadata": {
    "colab_type": "text",
    "id": "iH3ZV1fTu9ZM"
   },
   "source": [
    "How can we print this list out? We can use a nested loop!"
   ]
  },
  {
   "cell_type": "code",
   "execution_count": 13,
   "metadata": {
    "colab": {
     "base_uri": "https://localhost:8080/",
     "height": 68
    },
    "colab_type": "code",
    "id": "iV-k4Jkfu_qY",
    "outputId": "a8dbf649-5b41-452e-b2eb-bbc565a0c88d"
   },
   "outputs": [
    {
     "name": "stdout",
     "output_type": "stream",
     "text": [
      "name favorite color \n",
      "wells yellow \n",
      "susanna black \n"
     ]
    }
   ],
   "source": [
    "two_d_list = [[\"name\", \"favorite color\"],\n",
    "              [\"wells\", \"yellow\"],\n",
    "              [\"susanna\", \"black\"]]\n",
    "\n",
    "for row in two_d_list:\n",
    "    for item in row:\n",
    "        print(item, end=' ')\n",
    "    print()"
   ]
  },
  {
   "cell_type": "markdown",
   "metadata": {
    "colab_type": "text",
    "id": "8JIYY8SevRVp"
   },
   "source": [
    "Notice that each inner list in the example above is of the same length (2 items). This doesn't always have to be the case, but when it is, we call it a **matrix**. (Plural form: Matrices)\n",
    "\n",
    "We'll see matrices just about everywhere when writing programs that deal with artificial intelligence."
   ]
  },
  {
   "cell_type": "markdown",
   "metadata": {
    "colab_type": "text",
    "id": "tsrJIQL0Qv2n"
   },
   "source": [
    "## 4. Functions\n",
    "\n",
    "Note that the origin of the term \"function\" in computer science is rooted in the concept of functions from math. If we think of a math function as something that takes in an input, does some work, and then returns an output, this is what a Python function does as well.\n",
    "\n",
    "In programming, we call the inputs to a function its **arguments**.\n",
    "\n",
    "Remember the structure for functions, we use the `def` keyword and then in the function we use the `return` keyword.\n",
    "```\n",
    "def functionname(arg1,arg2):\n",
    "    <some statements>\n",
    "    <some more statements...>\n",
    "    return <some expresion here>\n",
    "```\n",
    "\n",
    "### a) Calling functions\n",
    "\n",
    "For example, here's a function that adds two numbers:"
   ]
  },
  {
   "cell_type": "code",
   "execution_count": 45,
   "metadata": {},
   "outputs": [],
   "source": [
    "def add2(x, y):\n",
    "    return x + y"
   ]
  },
  {
   "cell_type": "markdown",
   "metadata": {},
   "source": [
    "After running that block, a function is defined and assigned to the variable `add2`.\n",
    "\n",
    "Remember, so far we have seen that variables can hold numbers, strings, booleans, lists, dictionaries, sets, tuples, the value `None`.... and now functions!"
   ]
  },
  {
   "cell_type": "markdown",
   "metadata": {},
   "source": [
    "<div style=\"color: #a00; font-weight: 800; padding: 1em 0; border-top: 0.4em solid #eee;\">Checkoff: Call add2()</div>\n",
    "    \n",
    "We `call` a function by writing its `<name>(<arguments>)`. Try calling the function `add2` below:"
   ]
  },
  {
   "cell_type": "code",
   "execution_count": 46,
   "metadata": {},
   "outputs": [
    {
     "data": {
      "text/plain": [
       "7"
      ]
     },
     "execution_count": 46,
     "metadata": {},
     "output_type": "execute_result"
    }
   ],
   "source": [
    "# ~~START DELETE~~\n",
    "add2(3, 4)\n",
    "# ~~END DELETE~~"
   ]
  },
  {
   "cell_type": "markdown",
   "metadata": {},
   "source": [
    "What happens if call add2 with strings? Since python is _dynamically_ typed, we have not explictly told Python what type we expect `x` and `y` to be.\n",
    "\n",
    "Of course, we know that we mean integers, but notice we have not written that anywhere.\n",
    "\n",
    "\n",
    "So someone comes along and tries it with strings:"
   ]
  },
  {
   "cell_type": "code",
   "execution_count": 48,
   "metadata": {},
   "outputs": [
    {
     "name": "stdin",
     "output_type": "stream",
     "text": [
      "Your name:  asdf\n"
     ]
    },
    {
     "data": {
      "text/plain": [
       "'hello asdf'"
      ]
     },
     "execution_count": 48,
     "metadata": {},
     "output_type": "execute_result"
    }
   ],
   "source": [
    "add2(\"hello \", input(\"Your name: \"))"
   ]
  },
  {
   "cell_type": "markdown",
   "metadata": {},
   "source": [
    "Cool, so Python also defines addition for strings! Even though this works, we will call it bad style.\n",
    "\n",
    "We want to know what types the function will accept; since we can't use state types in the language, we will either put comments or use conventions.\n",
    "\n",
    "For example, we might add a comment like this:"
   ]
  },
  {
   "cell_type": "code",
   "execution_count": 15,
   "metadata": {},
   "outputs": [],
   "source": [
    "# add2 takes two integers and returns the integer which is their sum"
   ]
  },
  {
   "cell_type": "markdown",
   "metadata": {},
   "source": [
    "In Python, we can also use triple quotes as multiline comments, because triple quotes is just the notation in python for a multiline string:"
   ]
  },
  {
   "cell_type": "code",
   "execution_count": 50,
   "metadata": {},
   "outputs": [
    {
     "data": {
      "text/plain": [
       "'\\nHere is a multi line string\\n\\nSee me here! A different line.\\n'"
      ]
     },
     "execution_count": 50,
     "metadata": {},
     "output_type": "execute_result"
    }
   ],
   "source": [
    "\"\"\"\n",
    "Here is a multi line string\n",
    "\n",
    "See me here! A different line.\n",
    "\"\"\""
   ]
  },
  {
   "cell_type": "markdown",
   "metadata": {},
   "source": [
    "The \"\\n\" is a way for python to say that there is a new line here in the string (which we insert with our keyboards using the \"return\" or \"enter\" key"
   ]
  },
  {
   "cell_type": "markdown",
   "metadata": {},
   "source": [
    "It's standard then to have a multi-line string take the form of a comment under a function definition:"
   ]
  },
  {
   "cell_type": "code",
   "execution_count": 51,
   "metadata": {},
   "outputs": [],
   "source": [
    "def add2(x, y):\n",
    "    \"\"\"Computes the sum of two numbers, represented as Python integers.\n",
    "\n",
    "    Args:\n",
    "        x (int): A number, represented as an integer\n",
    "        y (int): A number, represented as an integer\n",
    "\n",
    "    Returns:\n",
    "        int: the sum of `x` and `y`\n",
    "    \"\"\"\n",
    "    return x + y"
   ]
  },
  {
   "cell_type": "markdown",
   "metadata": {},
   "source": [
    "This may seem like a lot of comments for one simple function, but comments always help; they especially help when the function is complicated or when one person writes the code and another person needs to read or use it."
   ]
  },
  {
   "cell_type": "markdown",
   "metadata": {},
   "source": [
    "### a) Writing your own function to add three numbers"
   ]
  },
  {
   "cell_type": "markdown",
   "metadata": {},
   "source": [
    "<div style=\"color: #a00; font-weight: 800; padding: 1em 0; border-top: 0.4em solid #eee;\">Checkoff: Add Three Numbers</div>"
   ]
  },
  {
   "cell_type": "code",
   "execution_count": 16,
   "metadata": {},
   "outputs": [],
   "source": [
    "# Modify the code below to add the three numbers!\n",
    "# You should only need to change the line with the return statement!\n",
    "def add3(x, y, z):\n",
    "    \"\"\"Computes the sum of three numbers, represented as Python integers.\n",
    "\n",
    "    Args:\n",
    "        x int: A number, represented as an integer\n",
    "        y int: A number, represented as an integer\n",
    "        z int: A number, represented as an integer\n",
    "\n",
    "    Returns:\n",
    "        int: the sum of `x`, `y`, and 'z'\n",
    "    \"\"\"\n",
    "    return x + y"
   ]
  },
  {
   "cell_type": "markdown",
   "metadata": {},
   "source": [
    "Does it work?\n",
    "\n",
    "We can use `assert` statements to check.\n",
    "\n",
    "The syntax for assert statements is `assert <condition>,<errorstring>`.\n",
    "\n",
    "Here are some examples"
   ]
  },
  {
   "cell_type": "code",
   "execution_count": 17,
   "metadata": {},
   "outputs": [
    {
     "ename": "AssertionError",
     "evalue": "10 + 10 + 10 = 30, got 20",
     "output_type": "error",
     "traceback": [
      "\u001b[0;31m---------------------------------------------------------------------------\u001b[0m",
      "\u001b[0;31mAssertionError\u001b[0m                            Traceback (most recent call last)",
      "\u001b[0;32m<ipython-input-17-dccb5589828d>\u001b[0m in \u001b[0;36m<module>\u001b[0;34m\u001b[0m\n\u001b[0;32m----> 1\u001b[0;31m \u001b[0;32massert\u001b[0m \u001b[0madd3\u001b[0m\u001b[0;34m(\u001b[0m\u001b[0;36m10\u001b[0m\u001b[0;34m,\u001b[0m\u001b[0;36m10\u001b[0m\u001b[0;34m,\u001b[0m\u001b[0;36m10\u001b[0m\u001b[0;34m)\u001b[0m \u001b[0;34m==\u001b[0m \u001b[0;36m30\u001b[0m\u001b[0;34m,\u001b[0m \u001b[0;34mf\"10 + 10 + 10 = 30, got {add3(10,10,10)}\"\u001b[0m\u001b[0;34m\u001b[0m\u001b[0;34m\u001b[0m\u001b[0m\n\u001b[0m\u001b[1;32m      2\u001b[0m \u001b[0;32massert\u001b[0m \u001b[0madd3\u001b[0m\u001b[0;34m(\u001b[0m\u001b[0;36m100\u001b[0m\u001b[0;34m,\u001b[0m\u001b[0;36m10\u001b[0m\u001b[0;34m,\u001b[0m\u001b[0;36m10\u001b[0m\u001b[0;34m)\u001b[0m \u001b[0;34m==\u001b[0m \u001b[0;36m120\u001b[0m\u001b[0;34m,\u001b[0m \u001b[0;34mf\"100 + 10 + 10 = 12, got {add3(10,10,10)}\"\u001b[0m\u001b[0;34m\u001b[0m\u001b[0;34m\u001b[0m\u001b[0m\n\u001b[1;32m      3\u001b[0m \u001b[0;32massert\u001b[0m \u001b[0madd3\u001b[0m\u001b[0;34m(\u001b[0m\u001b[0;36m3.5\u001b[0m\u001b[0;34m,\u001b[0m\u001b[0;36m4.5\u001b[0m\u001b[0;34m,\u001b[0m\u001b[0;36m1\u001b[0m\u001b[0;34m)\u001b[0m \u001b[0;34m==\u001b[0m \u001b[0;36m9\u001b[0m\u001b[0;34m,\u001b[0m \u001b[0;34mf\"3.5 + 4.5 + 1 = 9, got {add3(3.5, 4.5, 1)}\"\u001b[0m\u001b[0;34m\u001b[0m\u001b[0;34m\u001b[0m\u001b[0m\n",
      "\u001b[0;31mAssertionError\u001b[0m: 10 + 10 + 10 = 30, got 20"
     ]
    }
   ],
   "source": [
    "assert add3(10,10,10) == 30, f\"10 + 10 + 10 = 30, got {add3(10,10,10)}\"\n",
    "assert add3(100,10,10) == 120, f\"100 + 10 + 10 = 12, got {add3(10,10,10)}\"\n",
    "assert add3(3.5,4.5,1) == 9, f\"3.5 + 4.5 + 1 = 9, got {add3(3.5, 4.5, 1)}\""
   ]
  },
  {
   "cell_type": "markdown",
   "metadata": {},
   "source": [
    "Asserts are more sophisticated than just printing to check your funcitons.\n",
    "\n",
    "We let Python do the checking for us.\n",
    "\n",
    "Make sure there are no assertion errors before moving on!"
   ]
  },
  {
   "cell_type": "markdown",
   "metadata": {},
   "source": [
    "### b) Writing your own function to square a number\n",
    "\n",
    "Remember we can square a number like this:"
   ]
  },
  {
   "cell_type": "code",
   "execution_count": 18,
   "metadata": {},
   "outputs": [
    {
     "data": {
      "text/plain": [
       "4"
      ]
     },
     "execution_count": 18,
     "metadata": {},
     "output_type": "execute_result"
    }
   ],
   "source": [
    "x = 2\n",
    "x * x"
   ]
  },
  {
   "cell_type": "markdown",
   "metadata": {},
   "source": [
    "or like this"
   ]
  },
  {
   "cell_type": "code",
   "execution_count": 19,
   "metadata": {},
   "outputs": [
    {
     "data": {
      "text/plain": [
       "4"
      ]
     },
     "execution_count": 19,
     "metadata": {},
     "output_type": "execute_result"
    }
   ],
   "source": [
    "x ** 2"
   ]
  },
  {
   "cell_type": "markdown",
   "metadata": {},
   "source": [
    "<div style=\"color: #a00; font-weight: 800; padding: 1em 0; border-top: 0.4em solid #eee;\">Checkoff: Square Function</div>\n",
    "\n",
    "Complete the following function. Remember that indentation matters! Also remember that the keyword `return` indicates that the function will return that value!"
   ]
  },
  {
   "cell_type": "code",
   "execution_count": 31,
   "metadata": {},
   "outputs": [],
   "source": [
    "def square(x):\n",
    "    \"\"\"Computes the square of a number.\n",
    "\n",
    "    Args:\n",
    "        x (int): A number, represented as an integer\n",
    "\n",
    "    Returns:\n",
    "        int: the square of `x`\n",
    "    \"\"\"\n",
    "    # ~~START DELETE~~\n",
    "    return x ** 2\n",
    "    # ~~END DELETE~~"
   ]
  },
  {
   "cell_type": "markdown",
   "metadata": {},
   "source": [
    "### c) Turning our factorial code into a factorial function"
   ]
  },
  {
   "cell_type": "markdown",
   "metadata": {},
   "source": [
    "Remember your factorial code from before, write a function named `factorial` that takes a number `x`.\n",
    "\n",
    "Remember you will need to use the `def` and `return` keywords!"
   ]
  },
  {
   "cell_type": "markdown",
   "metadata": {},
   "source": [
    "<div style=\"color: #a00; font-weight: 800; padding: 1em 0; border-top: 0.4em solid #eee;\">Checkoff: Factorial Function, Assertions</div>"
   ]
  },
  {
   "cell_type": "code",
   "execution_count": 27,
   "metadata": {},
   "outputs": [],
   "source": [
    "# ~~START DELETE~~\n",
    "def factorial(x):\n",
    "    product = 1\n",
    "    for i in range(x):\n",
    "        product *= i + 1\n",
    "    return product\n",
    "# ~~END DELETE~~"
   ]
  },
  {
   "cell_type": "markdown",
   "metadata": {},
   "source": [
    "Add some assert statements to check your function! We've added to get your started. It checks that 0! is 1"
   ]
  },
  {
   "cell_type": "code",
   "execution_count": 28,
   "metadata": {},
   "outputs": [],
   "source": [
    "assert factorial(0) == 1, \"0! = 1\"\n",
    "# ~~START DELETE~~\n",
    "assert factorial(5) == 120\n",
    "# ~~END DELETE~~"
   ]
  },
  {
   "cell_type": "markdown",
   "metadata": {},
   "source": [
    "Now that we've talked about functions, it's time to mention... we've actually been seeing functions in use from the very first code you've run!\n",
    "\n",
    "When we run the code `print()`, we are actually running a function that's built into Python. \n",
    "\n",
    "When we run `print(\"Hello world\")`, we are running the function with a single argument, which is a string that has the value `\"Hello world\"`."
   ]
  },
  {
   "cell_type": "markdown",
   "metadata": {
    "colab_type": "text",
    "id": "r82Uy65tQo1T"
   },
   "source": [
    "## 5. Libraries\n",
    "\n",
    "Now to switch gears and talk about another important concept in the Python language: libraries."
   ]
  },
  {
   "cell_type": "markdown",
   "metadata": {
    "colab_type": "text",
    "id": "j0E9KSaox8gV"
   },
   "source": [
    "As mentioned at the start of the first lesson, what makes Python a particularly popular language is the fact that you can use code that's already been written by other people, so you don't have to reinvent the wheel each time you need to do something.\n",
    "\n",
    "### a) The `random` library\n",
    "\n",
    "For example, let's say I want to write some code that outputs a random integer between 1 and 10. It might be hard to write code from scratch that tells a computer to simulate randomness, but luckily, others have written this code for us to use!\n",
    "\n",
    "How do we actually do this? In the following example, we're telling Python that we want to use a library called `random`:\n"
   ]
  },
  {
   "cell_type": "code",
   "execution_count": 70,
   "metadata": {
    "colab": {},
    "colab_type": "code",
    "id": "klTrMcYezCUJ"
   },
   "outputs": [],
   "source": [
    "import random"
   ]
  },
  {
   "cell_type": "markdown",
   "metadata": {
    "colab_type": "text",
    "id": "VtcQHqlvzEZS"
   },
   "source": [
    "`random` happens to be a library of code that comes with Python. The keyword `import` tells Python that we want to import all of the code in that library into our current program so we can use it."
   ]
  },
  {
   "cell_type": "code",
   "execution_count": 71,
   "metadata": {
    "colab": {
     "base_uri": "https://localhost:8080/",
     "height": 34
    },
    "colab_type": "code",
    "id": "dXzHSVwbzRE_",
    "outputId": "89c7a5ed-db9f-468c-a58b-98267174c9c4"
   },
   "outputs": [
    {
     "name": "stdout",
     "output_type": "stream",
     "text": [
      "8\n"
     ]
    }
   ],
   "source": [
    "import random\n",
    "\n",
    "rand_no = random.randint(1, 11)\n",
    "print(rand_no)"
   ]
  },
  {
   "cell_type": "markdown",
   "metadata": {
    "colab_type": "text",
    "id": "xO8SQSuBzaOW"
   },
   "source": [
    "Run the above code a few times to see that a random integer between 1 and 11 (inclusive) is printed out each time.\n",
    "\n",
    "This works because someone else in the world has written the `random` library, and we are making use of code that they have written. \n",
    "\n",
    "For the purposes of artificial intelligence, there are many libraries that other people have written (and are constantly being updated) that help turn the concepts we learn into code. Numpy is one of the libraries we will see a lot of."
   ]
  },
  {
   "cell_type": "code",
   "execution_count": 72,
   "metadata": {
    "colab": {},
    "colab_type": "code",
    "id": "NWtzf4Vi0Izn"
   },
   "outputs": [],
   "source": [
    "import numpy"
   ]
  },
  {
   "cell_type": "markdown",
   "metadata": {},
   "source": [
    "When we write programs, we typically put all of our import statements at the top of all of our code, so that we make sure the code is imported before using it. This is because we cannot call code from the `numpy` library before we say `import numpy`.\n",
    "\n",
    "We can refer to functions in numpy by `numpy.sqrt`. If we don't want to keep typing numpy as we can do an import as statement"
   ]
  },
  {
   "cell_type": "code",
   "execution_count": 73,
   "metadata": {},
   "outputs": [],
   "source": [
    "import numpy as np"
   ]
  },
  {
   "cell_type": "markdown",
   "metadata": {},
   "source": [
    "This style of import will let us call `np.sqrt`, a bit shorter, which helps when you type it a lot. We will not use numpy here but we will later on!"
   ]
  },
  {
   "cell_type": "code",
   "execution_count": 74,
   "metadata": {},
   "outputs": [
    {
     "data": {
      "text/plain": [
       "4.0"
      ]
     },
     "execution_count": 74,
     "metadata": {},
     "output_type": "execute_result"
    }
   ],
   "source": [
    "np.sqrt(16)"
   ]
  },
  {
   "cell_type": "markdown",
   "metadata": {
    "colab_type": "text",
    "id": "0zNW82qN0RMV"
   },
   "source": [
    "\n",
    "\n",
    "As a final note, other words you might hear when talking about libraries include **module**, **package**, and **framework**. These are all slightly different, but fundamentally, they're all pieces of code that are external to the code you're currently writing, that you need to import.\n",
    "\n",
    "To oversimplify, a module is usually a single file of Python code, a package is a set of modules (or other packages), a library is a collection of packages (though you can really say \"package\" and \"library\" interchangeably for Python), and a framework is a collection of libraries that are all intended to work together in a specific way."
   ]
  },
  {
   "cell_type": "markdown",
   "metadata": {
    "colab_type": "text",
    "id": "HmOUWIWY5Vrc"
   },
   "source": [
    "<div style=\"color: #a00; font-weight: 800; padding: 1em 0; border-top: 0.4em solid #eee;\">Checkoff: Random Selection from Lists</div>\n",
    "\n",
    "Let's go back to using the `randint()` function from the `random` library.\n",
    "\n",
    "Say I give you a list of elements. How could you use `random.randint()` and list indexing to print one of the elements out by random?\n",
    "\n",
    "Implement this in the `select_random()` function below!"
   ]
  },
  {
   "cell_type": "code",
   "execution_count": 7,
   "metadata": {
    "colab": {},
    "colab_type": "code",
    "id": "4z-ctKKo5nor"
   },
   "outputs": [
    {
     "name": "stdout",
     "output_type": "stream",
     "text": [
      "You can do it!\n",
      "Keep up the good work!\n",
      "You can do it!\n",
      "You can do it!\n",
      "Progress takes time!\n",
      "You can do it!\n",
      "Keep up the good work!\n",
      "Keep up the good work!\n",
      "Progress takes time!\n",
      "You can do it!\n"
     ]
    }
   ],
   "source": [
    "import random\n",
    "\n",
    "def select_random(input_list):\n",
    "    \"\"\"Select a random element from a list, and return it.\n",
    "\n",
    "    Args:\n",
    "        input_list (list): A list of elements to pick from.\n",
    "\n",
    "    Returns:\n",
    "        A random element from the input list.\n",
    "    \"\"\"\n",
    "    # ~~START DELETE~~\n",
    "    return input_list[random.randint(0, len(input_list) - 1)]\n",
    "    # ~~END DELETE~~\n",
    "\n",
    "# Test your function by printing 10 random sentences!\n",
    "sentences = [\"You can do it!\", \"Progress takes time!\", \"Keep up the good work!\"]\n",
    "for i in range(10):\n",
    "    print(select_random(sentences))"
   ]
  },
  {
   "cell_type": "markdown",
   "metadata": {
    "colab_type": "text",
    "id": "YsDowlr76HhI"
   },
   "source": [
    "### b) Calling functions on the result of another funtion\n",
    "\n",
    "We've actually seen this feature in the past as well, like when we do:\n",
    "\n",
    "```\n",
    "num = int(input(\"Enter an integer: \"))\n",
    "```\n",
    "\n",
    "There are two functions being used here: `input()` and `int()`.\n",
    "\n",
    "`input()` does what you would expect: it takes user input. The argument (which in this case is `\"Enter an integer: \"`) is a message that's shown to the user as you take input.\n",
    "\n",
    "But what about `int()`? \n",
    "\n",
    "Try the following code and see what happens:"
   ]
  },
  {
   "cell_type": "code",
   "execution_count": 76,
   "metadata": {
    "colab": {
     "base_uri": "https://localhost:8080/",
     "height": 232
    },
    "colab_type": "code",
    "id": "PT8ErSAl6wJm",
    "outputId": "3c9ccbda-2244-4b00-ce2f-95efd943a1bc"
   },
   "outputs": [
    {
     "name": "stdin",
     "output_type": "stream",
     "text": [
      "Enter an integer:  1\n"
     ]
    },
    {
     "ename": "TypeError",
     "evalue": "'>' not supported between instances of 'str' and 'int'",
     "output_type": "error",
     "traceback": [
      "\u001b[0;31m-------------------------------------------------------------------------\u001b[0m",
      "\u001b[0;31mTypeError\u001b[0m                               Traceback (most recent call last)",
      "\u001b[0;32m<ipython-input-76-7d540f0da6bf>\u001b[0m in \u001b[0;36m<module>\u001b[0;34m\u001b[0m\n\u001b[1;32m      1\u001b[0m \u001b[0mnum\u001b[0m \u001b[0;34m=\u001b[0m \u001b[0minput\u001b[0m\u001b[0;34m(\u001b[0m\u001b[0;34m\"Enter an integer: \"\u001b[0m\u001b[0;34m)\u001b[0m\u001b[0;34m\u001b[0m\u001b[0;34m\u001b[0m\u001b[0m\n\u001b[1;32m      2\u001b[0m \u001b[0;34m\u001b[0m\u001b[0m\n\u001b[0;32m----> 3\u001b[0;31m \u001b[0;32mif\u001b[0m \u001b[0mnum\u001b[0m \u001b[0;34m>\u001b[0m \u001b[0;36m5\u001b[0m\u001b[0;34m:\u001b[0m\u001b[0;34m\u001b[0m\u001b[0;34m\u001b[0m\u001b[0m\n\u001b[0m\u001b[1;32m      4\u001b[0m     \u001b[0mprint\u001b[0m\u001b[0;34m(\u001b[0m\u001b[0;34m\"Your number was greater than 5.\"\u001b[0m\u001b[0;34m)\u001b[0m\u001b[0;34m\u001b[0m\u001b[0;34m\u001b[0m\u001b[0m\n",
      "\u001b[0;31mTypeError\u001b[0m: '>' not supported between instances of 'str' and 'int'"
     ]
    }
   ],
   "source": [
    "num = input(\"Enter an integer: \")\n",
    "\n",
    "if num > 5:\n",
    "    print(\"Your number was greater than 5.\")"
   ]
  },
  {
   "cell_type": "markdown",
   "metadata": {
    "colab_type": "text",
    "id": "J4brYMMV65mA"
   },
   "source": [
    "Once you run this code, you'll notice that there's an error! What happened?\n",
    "\n",
    "The error message says:\n",
    "\n",
    "```\n",
    "TypeError: '>' not supported between instances of 'str' and 'int'\n",
    "```\n",
    "\n",
    "and points us at line 3, where we compare `num` to `5`.\n",
    "\n",
    "It turns out that the variable `num` is a string, whereas the number `5` is an integer, and we can't compare strings to integers using the `>` comparison operator.\n",
    "\n",
    "When we take input from the user using the function `input()`, we are actually returning a string. So when we write the following line:\n",
    "\n",
    "```\n",
    "num = input(\"Enter an integer: \")\n",
    "```\n",
    "\n",
    "`num` will actually be given whatever the user enters, but as a string. This is because it's valid for the user to type out phrases and sentences as input, and Python itself doesn't know that we expect an integer. It's as important to note that there's a difference between the following two variables:"
   ]
  },
  {
   "cell_type": "code",
   "execution_count": null,
   "metadata": {
    "colab": {},
    "colab_type": "code",
    "id": "R2eRI4Z272A4"
   },
   "outputs": [],
   "source": [
    "a = 3\n",
    "b = \"3\""
   ]
  },
  {
   "cell_type": "markdown",
   "metadata": {
    "colab_type": "text",
    "id": "x00oC6Fm74Lq"
   },
   "source": [
    "Whereas the variable `a` has been assigned the integer 3, the variable `b` has been assigned a string that happens to say \"3\". The two are different in Python!\n",
    "\n",
    "When we use the function `int()`, we are telling the computer to convert whatever parameter we pass into `int()` into an integer, as best as we can. For example:"
   ]
  },
  {
   "cell_type": "code",
   "execution_count": null,
   "metadata": {
    "colab": {
     "base_uri": "https://localhost:8080/",
     "height": 34
    },
    "colab_type": "code",
    "id": "S4yZdc988QUB",
    "outputId": "6c32efd1-88d4-4aca-eb6d-fd6083b37282"
   },
   "outputs": [
    {
     "name": "stdout",
     "output_type": "stream",
     "text": [
      "We can make this comparison now!\n"
     ]
    }
   ],
   "source": [
    "a = 4\n",
    "b = int(\"3\")\n",
    "\n",
    "if a > b:\n",
    "    print(\"We can make this comparison now!\")"
   ]
  },
  {
   "cell_type": "markdown",
   "metadata": {
    "colab_type": "text",
    "id": "9aqKLyYa8Z9C"
   },
   "source": [
    "So when we write\n",
    "\n",
    "```\n",
    "num = int(input(\"Enter an integer: \"))\n",
    "```\n",
    "\n",
    "what we're really doing is taking an input as a string, telling Python to convert it into an integer, and then assigning that integer value to `num`.\n",
    "\n",
    "What happens if what the user tried to input was not an integer? (Perhaps some of you have already tried this!)"
   ]
  },
  {
   "cell_type": "code",
   "execution_count": null,
   "metadata": {
    "colab": {
     "base_uri": "https://localhost:8080/",
     "height": 198
    },
    "colab_type": "code",
    "id": "hRExKzkl85Qc",
    "outputId": "5baca473-b36b-4bee-8af6-0e28fd6cb2f1"
   },
   "outputs": [
    {
     "name": "stdout",
     "output_type": "stream",
     "text": [
      "Enter an integer: abfsf\n"
     ]
    },
    {
     "ename": "ValueError",
     "evalue": "ignored",
     "output_type": "error",
     "traceback": [
      "\u001b[0;31m---------------------------------------------------------------------------\u001b[0m",
      "\u001b[0;31mValueError\u001b[0m                                Traceback (most recent call last)",
      "\u001b[0;32m<ipython-input-39-214fd4831510>\u001b[0m in \u001b[0;36m<module>\u001b[0;34m()\u001b[0m\n\u001b[0;32m----> 1\u001b[0;31m \u001b[0mnum\u001b[0m \u001b[0;34m=\u001b[0m \u001b[0mint\u001b[0m\u001b[0;34m(\u001b[0m\u001b[0minput\u001b[0m\u001b[0;34m(\u001b[0m\u001b[0;34m\"Enter an integer: \"\u001b[0m\u001b[0;34m)\u001b[0m\u001b[0;34m)\u001b[0m\u001b[0;34m\u001b[0m\u001b[0;34m\u001b[0m\u001b[0m\n\u001b[0m\u001b[1;32m      2\u001b[0m \u001b[0mprint\u001b[0m\u001b[0;34m(\u001b[0m\u001b[0mnum\u001b[0m\u001b[0;34m)\u001b[0m\u001b[0;34m\u001b[0m\u001b[0;34m\u001b[0m\u001b[0m\n",
      "\u001b[0;31mValueError\u001b[0m: invalid literal for int() with base 10: 'abfsf'"
     ]
    }
   ],
   "source": [
    "# Try to enter something that's not an integer\n",
    "num = int(input(\"Enter an integer: \"))\n",
    "print(num)"
   ]
  },
  {
   "cell_type": "markdown",
   "metadata": {
    "colab_type": "text",
    "id": "0PkmO2Pn9Buh"
   },
   "source": [
    "If you entered something that doesn't look like an integer, Python won't know how to convert it into an integer, and you'll get an error."
   ]
  },
  {
   "cell_type": "markdown",
   "metadata": {
    "colab_type": "text",
    "id": "IlCqoNRB9dYu"
   },
   "source": [
    "### c) Guessing Game Example\n",
    "\n",
    "Let's put our knowledge of libraries, functions, loops, and conditionals to the test.\n",
    "\n",
    "For this example, we'll write a guessing game, where a random integer from 1 to 10 is picked, and the user has 3 guesses to try to get it right.\n",
    "\n",
    "Here's some code to get started:"
   ]
  },
  {
   "cell_type": "code",
   "execution_count": null,
   "metadata": {
    "colab": {
     "base_uri": "https://localhost:8080/",
     "height": 51
    },
    "colab_type": "code",
    "id": "uCVbefUk90kA",
    "outputId": "c1c7f589-ad06-4203-a759-4cee6f81448a"
   },
   "outputs": [
    {
     "name": "stdout",
     "output_type": "stream",
     "text": [
      "Hello there! This is a random number guessing game. You have 3 tries to guess the right number from 1 to 10.\n",
      "Enter an integer guess: 5\n"
     ]
    }
   ],
   "source": [
    "# We need this to be able to pick a random integer\n",
    "import random\n",
    "\n",
    "# Pick a random integer from 1 to 10\n",
    "number = random.randint(1, 11)\n",
    "\n",
    "# Print a nice message for the user\n",
    "print(\"Hello there! This is a random number guessing game. You have 3 tries to guess the right number from 1 to 10.\")\n",
    "\n",
    "# Ask the user to enter an integer\n",
    "guess = int(input(\"Enter an integer guess: \"))\n",
    "\n",
    "# We'll add more code here in a bit"
   ]
  },
  {
   "cell_type": "markdown",
   "metadata": {
    "colab_type": "text",
    "id": "ml2L1O_Y-OpF"
   },
   "source": [
    "When writing longer programs, a good practice is to write pieces of it at once and test each piece as you go. This way, it's easier to identify bugs and debug as you add to your program.\n",
    "\n",
    "The program so far generates a random number and also asks the user for one guess. To finish the game, we need to give the user 3 guesses, and also tell the user if they've guessed correctly. Let's add to the code from above:"
   ]
  },
  {
   "cell_type": "code",
   "execution_count": null,
   "metadata": {
    "colab": {
     "base_uri": "https://localhost:8080/",
     "height": 68
    },
    "colab_type": "code",
    "id": "VjAjrxUw-97a",
    "outputId": "c5029633-a649-405b-97ef-bdb2d6b9990d"
   },
   "outputs": [
    {
     "name": "stdout",
     "output_type": "stream",
     "text": [
      "Hello there! This is a random number guessing game. You have 3 tries to guess the right number from 1 to 10.\n",
      "Enter an integer guess: 5\n",
      "You got it!\n"
     ]
    }
   ],
   "source": [
    "import random\n",
    "\n",
    "number = random.randint(1, 11)\n",
    "print(\"Hello there! This is a random number guessing game. You have 3 tries to guess the right number from 1 to 10.\")\n",
    "\n",
    "guess = int(input(\"Enter an integer guess: \"))\n",
    "\n",
    "# How can we check that guess is correct or not? Use a conditional!\n",
    "\n",
    "if guess == number:\n",
    "    print(\"You got it!\")\n",
    "else:\n",
    "    print(\"Wrong guess!\")"
   ]
  },
  {
   "cell_type": "markdown",
   "metadata": {
    "colab_type": "text",
    "id": "V5iuzK-J_Huy"
   },
   "source": [
    "The new code we've added now tells the user if the guess was correct. But how can we repeat this process for 3 guesses?\n",
    "\n",
    "When you come across a task that requires repeating, the answer might be to add a loop!"
   ]
  },
  {
   "cell_type": "code",
   "execution_count": null,
   "metadata": {
    "colab": {
     "base_uri": "https://localhost:8080/",
     "height": 187
    },
    "colab_type": "code",
    "id": "FjoAlH3u_Xox",
    "outputId": "6fe74958-3d07-4509-bff1-784eb631ccd3"
   },
   "outputs": [
    {
     "name": "stdout",
     "output_type": "stream",
     "text": [
      "Hello there! This is a random number guessing game. You have 3 tries to guess the right number from 1 to 10.\n",
      "Guess # 1\n",
      "Enter an integer guess: 1\n",
      "Wrong guess!\n",
      "Guess # 2\n",
      "Enter an integer guess: 2\n",
      "Wrong guess!\n",
      "Guess # 3\n",
      "Enter an integer guess: 3\n",
      "Wrong guess!\n"
     ]
    }
   ],
   "source": [
    "import random\n",
    "\n",
    "number = random.randint(1, 11)\n",
    "print(\"Hello there! This is a random number guessing game. You have 3 tries to guess the right number from 1 to 10.\")\n",
    "\n",
    "for no_guess in range(1, 4):\n",
    "    print(\"Guess #\", no_guess)\n",
    "    guess = int(input(\"Enter an integer guess: \"))\n",
    "    if guess == number:\n",
    "        print(\"You got it!\")\n",
    "    else:\n",
    "        print(\"Wrong guess!\")"
   ]
  },
  {
   "cell_type": "markdown",
   "metadata": {
    "colab_type": "text",
    "id": "uJSzZ0js_tyK"
   },
   "source": [
    "By using a loop, our code now allows the user to make 3 guesses. But what if the user is correct on the first or second guess? It might make sense to end the game there, before the remaining guesses. We can do this in Python by adding the keyword `break`, which will tell the computer to stop the loop where it is, even if we haven't finished repeating it 3 times."
   ]
  },
  {
   "cell_type": "code",
   "execution_count": null,
   "metadata": {
    "colab": {},
    "colab_type": "code",
    "id": "Avo5tdZYAMGO"
   },
   "outputs": [],
   "source": [
    "import random\n",
    "\n",
    "number = random.randint(1, 11)\n",
    "print(\"Hello there! This is a random number guessing game. You have 3 tries to guess the right number from 1 to 10.\")\n",
    "\n",
    "for no_guess in range(1, 4):\n",
    "    print(\"Guess #\", no_guess)\n",
    "    guess = int(input(\"Enter an integer guess: \"))\n",
    "    if guess == number:\n",
    "        print(\"You got it!\")\n",
    "        break\n",
    "    else:\n",
    "        print(\"Wrong guess!\")"
   ]
  },
  {
   "cell_type": "markdown",
   "metadata": {
    "colab_type": "text",
    "id": "f7KBbfooAfzV"
   },
   "source": [
    "And we're done!"
   ]
  },
  {
   "cell_type": "markdown",
   "metadata": {
    "colab_type": "text",
    "id": "kXkbKmoAA0T-"
   },
   "source": [
    "<div style=\"color: #a00; font-weight: 800; padding: 1em 0; border-top: 0.4em solid #eee;\">Checkoff: Modified Guessing Game</div>\n",
    "\n",
    "\n",
    "Modify the guessing game from before, so that your program will tell the user if their guess is too small or too large. Think about how you would modify the conditional within the loop to do this!"
   ]
  },
  {
   "cell_type": "code",
   "execution_count": 16,
   "metadata": {
    "colab": {},
    "colab_type": "code",
    "id": "jUNs-C21BEoc"
   },
   "outputs": [
    {
     "name": "stdout",
     "output_type": "stream",
     "text": [
      "Hello there! This is a random number guessing game. You have 3 tries to guess the right number from 1 to 10.\n",
      "Guess # 1\n",
      "Enter an integer guess: 5\n",
      "Too big!\n",
      "Guess # 2\n",
      "Enter an integer guess: 3\n",
      "Too small!\n",
      "Guess # 3\n",
      "Enter an integer guess: 2\n",
      "Too small!\n"
     ]
    }
   ],
   "source": [
    "# ~~START DELETE~~\n",
    "import random\n",
    "\n",
    "number = random.randint(1, 11)\n",
    "print(\"Hello there! This is a random number guessing game. You have 3 tries to guess the right number from 1 to 10.\")\n",
    "\n",
    "for no_guess in range(1, 4):\n",
    "    print(\"Guess #\", no_guess)\n",
    "    guess = int(input(\"Enter an integer guess: \"))\n",
    "    if guess == number:\n",
    "        print(\"You got it!\")\n",
    "        break\n",
    "    elif guess < number:\n",
    "        print(\"Too small!\")\n",
    "    else:\n",
    "        print(\"Too big!\")\n",
    "# ~~END DELETE~~"
   ]
  }
 ],
 "metadata": {
  "colab": {
   "collapsed_sections": [],
   "name": "P2: Python Pt. 2 (Nested Loops, Matrices, Importing, and Calling Functions)",
   "provenance": []
  },
  "kernelspec": {
   "display_name": "Python 3",
   "language": "python",
   "name": "python3"
  },
  "language_info": {
   "codemirror_mode": {
    "name": "ipython",
    "version": 3
   },
   "file_extension": ".py",
   "mimetype": "text/x-python",
   "name": "python",
   "nbconvert_exporter": "python",
   "pygments_lexer": "ipython3",
   "version": "3.7.6"
  }
 },
 "nbformat": 4,
 "nbformat_minor": 4
}
