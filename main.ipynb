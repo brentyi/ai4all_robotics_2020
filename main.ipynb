{
 "cells": [
  {
   "cell_type": "code",
   "execution_count": 198,
   "metadata": {},
   "outputs": [],
   "source": [
    "import numpy as np\n",
    "from sklearn.utils import shuffle\n",
    "import matplotlib.image as mpimg\n",
    "import matplotlib.pyplot as plt\n",
    "import csv\n",
    "import random\n",
    "import glob\n",
    "from tqdm.auto import tqdm\n",
    "from PIL import Image\n",
    "from skimage.color import rgb2hsv"
   ]
  },
  {
   "cell_type": "code",
   "execution_count": 199,
   "metadata": {},
   "outputs": [],
   "source": [
    "def resize_image(image, output_height, output_width):\n",
    "    input_height, input_width, channels = image.shape\n",
    "    output = np.zeros(\n",
    "        (output_height, output_width, channels), dtype=image.dtype\n",
    "    )\n",
    "\n",
    "    for i in range(output_height):\n",
    "        for j in range(output_width):\n",
    "            input_i = int(i / output_height * input_height)\n",
    "            input_j = int(j / output_width * input_width)\n",
    "            output[i, j] = image[input_i, input_j]\n",
    "\n",
    "    return output"
   ]
  },
  {
   "cell_type": "code",
   "execution_count": 245,
   "metadata": {},
   "outputs": [],
   "source": [
    "from enum import Enum\n",
    "\n",
    "\n",
    "class Labels(Enum):\n",
    "    CLEAR = 0\n",
    "    WATER = 1\n",
    "    CLOUDS = 2\n",
    "\n",
    "\n",
    "def load_dataset():\n",
    "    # Load labels\n",
    "    labels = []\n",
    "    with open(\"data/labels.csv\") as file:\n",
    "        for i, row in enumerate(csv.reader(file)):\n",
    "            tags = row[1]\n",
    "            # if \"water\" in tags:\n",
    "            #     labels.append(Labels.WATER)\n",
    "            if \"clear\" in tags or \"haze\" in tags:\n",
    "                labels.append(Labels.CLEAR)\n",
    "            else:\n",
    "                labels.append(Labels.CLOUDS)\n",
    "\n",
    "    # Load images (with a progress bar!)\n",
    "    data = []\n",
    "    for path in tqdm(sorted(glob.glob(\"data/*.jpg\"))):\n",
    "        data.append(mpimg.imread(path))\n",
    "\n",
    "    # Return\n",
    "    print(f\"Loaded {len(data)} images!\")\n",
    "    return data, labels\n",
    "\n",
    "\n",
    "def balance_dataset(dataset):\n",
    "    data, labels = dataset\n",
    "    data_by_label = {\n",
    "        Labels.CLEAR: [],\n",
    "        Labels.WATER: [],\n",
    "        Labels.CLOUDS: [],\n",
    "    }\n",
    "\n",
    "    for sample, label in zip(data, labels):\n",
    "        data_by_label[label].append(sample)\n",
    "\n",
    "    minimum_length = min(\n",
    "        [len(v) for v in data_by_label.values() if len(v) != 0]\n",
    "    )\n",
    "    new_data = []\n",
    "    new_labels = []\n",
    "    for label, data in data_by_label.items():\n",
    "        if len(data) > 0:\n",
    "            new_labels += [label] * minimum_length\n",
    "            new_data += data[:minimum_length]\n",
    "\n",
    "    # Shuffle\n",
    "    assert len(new_data) == len(new_labels)\n",
    "    new_data, new_labels = shuffle(new_data, new_labels)\n",
    "    return new_data, new_labels\n",
    "\n",
    "\n",
    "def preprocess_dataset(dataset, mode=\"downsize\"):\n",
    "    data, labels = dataset\n",
    "    print(len(data))\n",
    "    new_data = []\n",
    "    for image in tqdm(data):\n",
    "        image = rgb2hsv(image[:, :, :3] / 255.0)\n",
    "        if mode == \"downsize\":\n",
    "            # new_data.append(resize_image(image, 16, 16))\n",
    "            new_data.append(\n",
    "                np.asarray(\n",
    "                    Image.fromarray(image).resize(\n",
    "                        (16, 16), resample=Image.BILINEAR\n",
    "                    )\n",
    "                )\n",
    "            )\n",
    "        elif mode == \"average_color\":\n",
    "            new_data.append(np.mean(image.reshape((-1, 4)), axis=0))\n",
    "        elif mode == \"average_color2\":\n",
    "            feature = np.zeros(3)\n",
    "            feature[:3] = image.reshape((-1, 3)).mean(axis=0)[:3]\n",
    "            # feature[:3] = feature[:3] - np.mean(feature[:3])\n",
    "            new_data.append(feature)\n",
    "        else:\n",
    "            assert False, \"Invalid preprocessing mode!\"\n",
    "\n",
    "    return new_data, labels"
   ]
  },
  {
   "cell_type": "code",
   "execution_count": null,
   "metadata": {},
   "outputs": [],
   "source": []
  },
  {
   "cell_type": "code",
   "execution_count": null,
   "metadata": {},
   "outputs": [],
   "source": []
  },
  {
   "cell_type": "code",
   "execution_count": 246,
   "metadata": {},
   "outputs": [
    {
     "data": {
      "application/vnd.jupyter.widget-view+json": {
       "model_id": "6159fbb953364c0ba356f4934fb3c8ec",
       "version_major": 2,
       "version_minor": 0
      },
      "text/plain": [
       "HBox(children=(FloatProgress(value=0.0, max=2000.0), HTML(value='')))"
      ]
     },
     "metadata": {},
     "output_type": "display_data"
    },
    {
     "name": "stdout",
     "output_type": "stream",
     "text": [
      "\n",
      "Loaded 2000 images!\n"
     ]
    }
   ],
   "source": [
    "raw_dataset = load_dataset()\n",
    "balanced_dataset = balance_dataset(raw_dataset)"
   ]
  },
  {
   "cell_type": "code",
   "execution_count": 247,
   "metadata": {},
   "outputs": [
    {
     "name": "stdout",
     "output_type": "stream",
     "text": [
      "966\n"
     ]
    },
    {
     "data": {
      "application/vnd.jupyter.widget-view+json": {
       "model_id": "5ed91103d8f94a1e9a75bedb34f4bcb6",
       "version_major": 2,
       "version_minor": 0
      },
      "text/plain": [
       "HBox(children=(FloatProgress(value=0.0, max=966.0), HTML(value='')))"
      ]
     },
     "metadata": {},
     "output_type": "display_data"
    },
    {
     "name": "stdout",
     "output_type": "stream",
     "text": [
      "\n"
     ]
    }
   ],
   "source": [
    "# dataset = preprocess_dataset(balanced_dataset, mode=\"average_color\")\n",
    "dataset = preprocess_dataset(balanced_dataset, mode=\"average_color2\")\n",
    "data, labels = dataset"
   ]
  },
  {
   "cell_type": "code",
   "execution_count": 248,
   "metadata": {},
   "outputs": [
    {
     "name": "stdout",
     "output_type": "stream",
     "text": [
      "772 194\n"
     ]
    }
   ],
   "source": [
    "# Split data into train, validation\n",
    "train_count = int(len(data) * 0.8)\n",
    "\n",
    "# Get training data\n",
    "train_data = data[:train_count]\n",
    "train_labels = labels[:train_count]\n",
    "\n",
    "# Get validation data\n",
    "val_data = data[train_count:]\n",
    "val_labels = labels[train_count:]\n",
    "\n",
    "print(len(train_data), len(val_data))"
   ]
  },
  {
   "cell_type": "code",
   "execution_count": 249,
   "metadata": {},
   "outputs": [],
   "source": [
    "def knn_classify(sample, k):\n",
    "    distances = []\n",
    "    for train_sample in train_data:\n",
    "        distances.append(np.linalg.norm(sample - train_sample))\n",
    "\n",
    "    best_indices = np.argsort(distances)[:k]\n",
    "    votes = [0, 0, 0]\n",
    "    for i in best_indices:\n",
    "        votes[train_labels[i].value] += 1\n",
    "\n",
    "    return np.argmax(votes)"
   ]
  },
  {
   "cell_type": "code",
   "execution_count": 250,
   "metadata": {},
   "outputs": [
    {
     "data": {
      "text/plain": [
       "0"
      ]
     },
     "execution_count": 250,
     "metadata": {},
     "output_type": "execute_result"
    }
   ],
   "source": [
    "knn_classify(data[4], k=5)"
   ]
  },
  {
   "cell_type": "code",
   "execution_count": 251,
   "metadata": {},
   "outputs": [],
   "source": [
    "def eval_knn(data, labels, k=5):\n",
    "\n",
    "    confusion_matrix = np.zeros((3, 3))\n",
    "\n",
    "    for sample, true_label in zip(tqdm(data), labels):\n",
    "        pred_label = knn_classify(sample, k=k)\n",
    "        confusion_matrix[true_label.value, pred_label] += 1\n",
    "    print(confusion_matrix)"
   ]
  },
  {
   "cell_type": "code",
   "execution_count": 252,
   "metadata": {},
   "outputs": [
    {
     "data": {
      "application/vnd.jupyter.widget-view+json": {
       "model_id": "02555439fa4041feabbaaf298519c2d5",
       "version_major": 2,
       "version_minor": 0
      },
      "text/plain": [
       "HBox(children=(FloatProgress(value=0.0, max=772.0), HTML(value='')))"
      ]
     },
     "metadata": {},
     "output_type": "display_data"
    },
    {
     "name": "stdout",
     "output_type": "stream",
     "text": [
      "\n",
      "[[297.   0.  83.]\n",
      " [  0.   0.   0.]\n",
      " [ 83.   0. 309.]]\n"
     ]
    }
   ],
   "source": [
    "eval_knn(train_data, train_labels)"
   ]
  },
  {
   "cell_type": "code",
   "execution_count": 253,
   "metadata": {},
   "outputs": [
    {
     "data": {
      "application/vnd.jupyter.widget-view+json": {
       "model_id": "09cd5d104d4542bc823b06577226df00",
       "version_major": 2,
       "version_minor": 0
      },
      "text/plain": [
       "HBox(children=(FloatProgress(value=0.0, max=194.0), HTML(value='')))"
      ]
     },
     "metadata": {},
     "output_type": "display_data"
    },
    {
     "name": "stdout",
     "output_type": "stream",
     "text": [
      "\n",
      "[[70.  0. 33.]\n",
      " [ 0.  0.  0.]\n",
      " [31.  0. 60.]]\n"
     ]
    }
   ],
   "source": [
    "eval_knn(val_data, val_labels)"
   ]
  },
  {
   "cell_type": "code",
   "execution_count": 256,
   "metadata": {},
   "outputs": [
    {
     "data": {
      "text/plain": [
       "SVC()"
      ]
     },
     "execution_count": 256,
     "metadata": {},
     "output_type": "execute_result"
    }
   ],
   "source": [
    "from sklearn import svm\n",
    "clf = svm.SVC()\n",
    "clf.fit(train_data, [x == Labels.CLEAR for x in train_labels])"
   ]
  },
  {
   "cell_type": "code",
   "execution_count": 260,
   "metadata": {},
   "outputs": [
    {
     "name": "stdout",
     "output_type": "stream",
     "text": [
      "(772, 3)\n",
      "(772,)\n"
     ]
    }
   ],
   "source": [
    "print(np.array(train_data).shape)\n",
    "print(np.array(train_labels).shape)"
   ]
  },
  {
   "cell_type": "code",
   "execution_count": 257,
   "metadata": {},
   "outputs": [],
   "source": [
    "def eval_svm(data, labels):\n",
    "    confusion_matrix = np.zeros((3, 3))\n",
    "\n",
    "    for sample, true_label in zip(tqdm(data), labels):\n",
    "        pred_label = clf.predict(sample)\n",
    "        confusion_matrix[true_label.value, pred_label] += 1\n",
    "    print(confusion_matrix)\n"
   ]
  },
  {
   "cell_type": "code",
   "execution_count": 257,
   "metadata": {},
   "outputs": [
    {
     "data": {
      "text/plain": [
       "array([[0.45109308, 0.19205162, 0.20920207],\n",
       "       [0.26601585, 0.06118198, 0.8626542 ],\n",
       "       [0.37995706, 0.18411672, 0.28892433],\n",
       "       ...,\n",
       "       [0.13048157, 0.24544758, 0.59959693],\n",
       "       [0.29335675, 0.19419771, 0.31542825],\n",
       "       [0.29300782, 0.17987915, 0.25057864]])"
      ]
     },
     "execution_count": 257,
     "metadata": {},
     "output_type": "execute_result"
    }
   ],
   "source": []
  },
  {
   "cell_type": "code",
   "execution_count": 235,
   "metadata": {},
   "outputs": [
    {
     "data": {
      "image/png": "[encoded data removed]",
      "text/plain": [
       "<Figure size 432x288 with 1 Axes>"
      ]
     },
     "metadata": {
      "needs_background": "light"
     },
     "output_type": "display_data"
    }
   ],
   "source": [
    "index = 21\n",
    "plt.imshow(raw_dataset[0][index])\n",
    "plt.title(Labels(raw_dataset[1][index]))\n",
    "plt.show()"
   ]
  },
  {
   "cell_type": "code",
   "execution_count": 238,
   "metadata": {},
   "outputs": [
    {
     "name": "stdout",
     "output_type": "stream",
     "text": [
      "[0.29114345 0.29204735 0.29267559]\n"
     ]
    }
   ],
   "source": [
    "print(data[0])"
   ]
  },
  {
   "cell_type": "code",
   "execution_count": 244,
   "metadata": {},
   "outputs": [
    {
     "data": {
      "text/plain": [
       "array([[[0.42222222, 0.13392857, 0.43921569],\n",
       "        [0.40740741, 0.16071429, 0.43921569],\n",
       "        [0.39814815, 0.16071429, 0.43921569],\n",
       "        ...,\n",
       "        [0.4       , 0.13392857, 0.43921569],\n",
       "        [0.4047619 , 0.12612613, 0.43529412],\n",
       "        [0.42857143, 0.12844037, 0.42745098]],\n",
       "\n",
       "       [[0.42222222, 0.13761468, 0.42745098],\n",
       "        [0.41176471, 0.1559633 , 0.42745098],\n",
       "        [0.40740741, 0.16363636, 0.43137255],\n",
       "        ...,\n",
       "        [0.41111111, 0.13636364, 0.43137255],\n",
       "        [0.42857143, 0.12844037, 0.42745098],\n",
       "        [0.44047619, 0.12962963, 0.42352941]],\n",
       "\n",
       "       [[0.4375    , 0.1509434 , 0.41568627],\n",
       "        [0.43137255, 0.16037736, 0.41568627],\n",
       "        [0.41666667, 0.16666667, 0.42352941],\n",
       "        ...,\n",
       "        [0.42857143, 0.13084112, 0.41960784],\n",
       "        [0.44444444, 0.14018692, 0.41960784],\n",
       "        [0.44791667, 0.14953271, 0.41960784]],\n",
       "\n",
       "       ...,\n",
       "\n",
       "       [[0.47222222, 0.16216216, 0.43529412],\n",
       "        [0.46078431, 0.15315315, 0.43529412],\n",
       "        [0.4537037 , 0.16071429, 0.43921569],\n",
       "        ...,\n",
       "        [0.46666667, 0.18181818, 0.43137255],\n",
       "        [0.48412698, 0.19444444, 0.42352941],\n",
       "        [0.49206349, 0.2038835 , 0.40392157]],\n",
       "\n",
       "       [[0.47435897, 0.11926606, 0.42745098],\n",
       "        [0.46666667, 0.13636364, 0.43137255],\n",
       "        [0.45833333, 0.14545455, 0.43137255],\n",
       "        ...,\n",
       "        [0.44736842, 0.17117117, 0.43529412],\n",
       "        [0.47368421, 0.17592593, 0.42352941],\n",
       "        [0.48333333, 0.19417476, 0.40392157]],\n",
       "\n",
       "       [[0.46666667, 0.09259259, 0.42352941],\n",
       "        [0.45833333, 0.11111111, 0.42352941],\n",
       "        [0.46428571, 0.12962963, 0.42352941],\n",
       "        ...,\n",
       "        [0.4375    , 0.14545455, 0.43137255],\n",
       "        [0.4537037 , 0.16666667, 0.42352941],\n",
       "        [0.46491228, 0.18627451, 0.4       ]]])"
      ]
     },
     "execution_count": 244,
     "metadata": {},
     "output_type": "execute_result"
    }
   ],
   "source": [
    "rgb2hsv(raw_dataset[0][0][:, :, :3] / 255.0)"
   ]
  },
  {
   "cell_type": "code",
   "execution_count": null,
   "metadata": {},
   "outputs": [],
   "source": []
  }
 ],
 "metadata": {
  "kernelspec": {
   "display_name": "Python 3",
   "language": "python",
   "name": "python3"
  },
  "language_info": {
   "codemirror_mode": {
    "name": "ipython",
    "version": 3
   },
   "file_extension": ".py",
   "mimetype": "text/x-python",
   "name": "python",
   "nbconvert_exporter": "python",
   "pygments_lexer": "ipython3",
   "version": "3.7.6"
  }
 },
 "nbformat": 4,
 "nbformat_minor": 4
}
