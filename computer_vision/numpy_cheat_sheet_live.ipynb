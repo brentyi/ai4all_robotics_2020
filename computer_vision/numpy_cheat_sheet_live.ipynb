{
 "cells": [
  {
   "cell_type": "markdown",
   "metadata": {},
   "source": [
    "<header style=\"padding: 4em 0 0em 0\">\n",
    "    <img src=\"http://brentyi.github.io/filestore/ai4all_logo.svg\" style=\"width: 30em; height: auto; margin: 0;\" />\n",
    "    <h3 style=\"margin: 1em 0 0 0;\">\n",
    "        <strong>NumPy Syntax Cheat Sheet</strong>\n",
    "        <span style=\"color: #777\">\n",
    "        &nbsp;&blacksquare;&nbsp;\n",
    "        Robotics, Summer 2020</span>\n",
    "    </h3>\n",
    "</header>"
   ]
  },
  {
   "cell_type": "code",
   "execution_count": 2,
   "metadata": {},
   "outputs": [],
   "source": [
    "import numpy as np\n",
    "# from cv_helpers import visualize_single_channel, visualize_rgb"
   ]
  },
  {
   "cell_type": "markdown",
   "metadata": {},
   "source": [
    "#### (Prerequisite) List Slicing\n",
    "\n",
    "We've seen retrieving single elements within lists -- what if we want multiple?"
   ]
  },
  {
   "cell_type": "code",
   "execution_count": 9,
   "metadata": {},
   "outputs": [
    {
     "name": "stdout",
     "output_type": "stream",
     "text": [
      "3\n",
      "[1, 2]\n",
      "[1, 2]\n",
      "[3, 4]\n",
      "[3, 4]\n",
      "[1, 2, 3, 4]\n",
      "[1, 2, 3, 4]\n"
     ]
    }
   ],
   "source": [
    "# ***** Start of your code *****\n",
    "x = [1, 2, 3, 4]\n",
    "print(x[2])\n",
    "\n",
    "print(x[0:2])\n",
    "print(x[:2])\n",
    "\n",
    "print(x[2:4])\n",
    "print(x[2:])\n",
    "\n",
    "print(x[:])\n",
    "print(x[0:4])\n",
    "# ***** End of your code *****"
   ]
  },
  {
   "cell_type": "markdown",
   "metadata": {},
   "source": [
    "#### NumPy Arrays: 1D\n",
    "\n",
    "What do 1D NumPy arrays look like? How do we index into them?"
   ]
  },
  {
   "cell_type": "code",
   "execution_count": 12,
   "metadata": {},
   "outputs": [
    {
     "name": "stdout",
     "output_type": "stream",
     "text": [
      "1\n",
      "1\n",
      "[1, 2]\n",
      "[1 2]\n",
      "[1, 2, 3, 4]\n",
      "[1 2 3 4]\n"
     ]
    }
   ],
   "source": [
    "# ***** Start of your code *****\n",
    "x_list = [1, 2, 3, 4]\n",
    "x_array = np.array([1, 2, 3, 4]) # Fixed size\n",
    "\n",
    "print(x_list[0])\n",
    "print(x_array[0])\n",
    "\n",
    "print(x_list[0:2])\n",
    "print(x_array[0:2])\n",
    "\n",
    "print(x_list)\n",
    "print(x_array)\n",
    "\n",
    "# ***** End of your code *****"
   ]
  },
  {
   "cell_type": "markdown",
   "metadata": {},
   "source": [
    "#### Scalar Addition\n",
    "\n",
    "Given an array of numbers, how do we increase all of them by a scalar amount?"
   ]
  },
  {
   "cell_type": "code",
   "execution_count": 16,
   "metadata": {},
   "outputs": [
    {
     "name": "stdout",
     "output_type": "stream",
     "text": [
      "[6, 7, 8, 9]\n",
      "[6 7 8 9]\n",
      "[36 49 64 81]\n"
     ]
    }
   ],
   "source": [
    "# ***** Start of your code *****\n",
    "# Add 5 to all elements within this list\n",
    "x_list = [1, 2, 3, 4]\n",
    "for i in range(len(x_list)):\n",
    "    x_list[i] += 5\n",
    "print(x_list)\n",
    "\n",
    "# Add 5 to all elements within this array\n",
    "x_array = np.array([1, 2, 3, 4])\n",
    "x_array = x_array + 5\n",
    "print(x_array)\n",
    "\n",
    "# This will be useful in the notebook today!\n",
    "print(x_array ** 2) \n",
    "\n",
    "## TERMINOLOGY NOTE:\n",
    "## > We usually use the terms \"list\", \"vector\", and \"1D array\"\n",
    "## > interchangeably\n",
    "# ***** End of your code *****"
   ]
  },
  {
   "cell_type": "markdown",
   "metadata": {},
   "source": [
    "#### Element-wise Addition\n",
    "\n",
    "How do we add `[1, 2, 3, 4]` and `[0, 0, 2, 1]` element-wise, to produce `[1, 2, 5, 5]`?"
   ]
  },
  {
   "cell_type": "code",
   "execution_count": 23,
   "metadata": {},
   "outputs": [
    {
     "name": "stdout",
     "output_type": "stream",
     "text": [
      "[1, 2, 5, 5]\n",
      "[1 2 5 5]\n",
      "[1 2 1 3]\n",
      "[0 0 6 4]\n",
      "[inf inf 1.5 4. ]\n"
     ]
    },
    {
     "name": "stderr",
     "output_type": "stream",
     "text": [
      "C:\\Users\\yibre\\anaconda3\\lib\\site-packages\\ipykernel_launcher.py:22: RuntimeWarning: divide by zero encountered in true_divide\n"
     ]
    }
   ],
   "source": [
    "# ***** Start of your code *****\n",
    "import numpy as np\n",
    "## With lists!\n",
    "x = [1, 2, 3, 4]\n",
    "y = [0, 0, 2, 1]\n",
    "# We want to produce z = x + y element-wise\n",
    "z = []\n",
    "for i in range(len(x)):\n",
    "    z.append(x[i] + y[i])\n",
    "print(z)\n",
    "\n",
    "## With arrays!\n",
    "x_array = np.array([1, 2, 3, 4])\n",
    "y_array = np.array([0, 0, 2, 1])\n",
    "\n",
    "z_array = x_array + y_array\n",
    "print(z_array)\n",
    "\n",
    "# This will be useful in your notebook\n",
    "print(x_array - y_array)\n",
    "print(x_array * y_array)\n",
    "print(x_array / y_array)\n",
    "\n",
    "# ***** End of your code *****"
   ]
  },
  {
   "cell_type": "markdown",
   "metadata": {},
   "source": [
    "#### Common Operations\n",
    "\n",
    "Given `[1, 2, 3, 4]`, how do we add all elements together?\n",
    "\n",
    "How do we square each value, to get `[1, 4, 9, 16]`?\n",
    "\n",
    "How do we negate each value, to get `[-1, -2, -3, -4]`?"
   ]
  },
  {
   "cell_type": "code",
   "execution_count": 31,
   "metadata": {},
   "outputs": [
    {
     "name": "stdout",
     "output_type": "stream",
     "text": [
      "10\n",
      "10\n",
      "10\n",
      "[ 1  4  9 16]\n",
      "[-1 -2 -3 -4]\n",
      "[-1 -2 -3 -4]\n",
      "[-1 -2 -3 -4]\n",
      "[1.         1.41421356 1.73205081 2.        ]\n",
      "6.0\n"
     ]
    }
   ],
   "source": [
    "# ***** Start of your code *****\n",
    "\n",
    "## Python lists\n",
    "# > With sum() built-in\n",
    "x_list = [1, 2, 3, 4]\n",
    "print(sum(x_list))\n",
    "\n",
    "# > With for loop\n",
    "total = 0\n",
    "for x in x_list:\n",
    "    total += x\n",
    "print(total)\n",
    "\n",
    "## Numpy array\n",
    "x_array = np.array([1, 2, 3, 4])\n",
    "print(np.sum(x_array))\n",
    "\n",
    "print(x_array ** 2)\n",
    "print(x_array * -1)\n",
    "print(0 - x_array)\n",
    "\n",
    "# How else can we negate a number?\n",
    "print(-x_array)\n",
    "\n",
    "# This will also be useful in the notebook today!\n",
    "print(np.sqrt(x_array))\n",
    "print(np.sqrt(36.0))\n",
    "# ***** End of your code *****"
   ]
  },
  {
   "cell_type": "markdown",
   "metadata": {},
   "source": [
    "#### NumPy Arrays: 2D\n",
    "\n",
    "What do 2D NumPy arrays look like? How do we index into them?"
   ]
  },
  {
   "cell_type": "code",
   "execution_count": 41,
   "metadata": {},
   "outputs": [
    {
     "name": "stdout",
     "output_type": "stream",
     "text": [
      "[[0.0, 0.0, 0.0, 0.0, 0.0], [0.0, 0.0, 0.0, 0.0, 0.0], [0.0, 0.0, 0.0, 0.0, 0.0], [0.0, 0.0, 0.0, 0.0, 0.0], [0.0, 0.0, 0.0, 0.0, 0.0]]\n"
     ]
    },
    {
     "data": {
      "image/png": "[encoded data removed]",
      "text/plain": [
       "<Figure size 432x288 with 1 Axes>"
      ]
     },
     "metadata": {
      "needs_background": "light"
     },
     "output_type": "display_data"
    },
    {
     "data": {
      "image/png": "[encoded data removed]",
      "text/plain": [
       "<Figure size 432x288 with 1 Axes>"
      ]
     },
     "metadata": {
      "needs_background": "light"
     },
     "output_type": "display_data"
    }
   ],
   "source": [
    "# ***** Start of your code *****\n",
    "x_list = [\n",
    "    [0.0, 0.0, 0.0, 0.0, 0.0],\n",
    "    [0.0, 0.0, 0.0, 0.0, 0.0],\n",
    "    [0.0, 0.0, 0.0, 0.0, 0.0],\n",
    "    [0.0, 0.0, 0.0, 0.0, 0.0],\n",
    "    [0.0, 0.0, 0.0, 0.0, 0.0],\n",
    "]\n",
    "print(x_list)\n",
    "\n",
    "# Creating a 2D array\n",
    "x_array = np.array([\n",
    "    [0.0, 0.0, 0.0, 0.0, 0.0],\n",
    "    [0.0, 0.0, 0.0, 0.0, 0.0],\n",
    "    [0.0, 0.0, 0.5, 0.0, 0.0],\n",
    "    [0.0, 0.0, 0.0, 0.0, 0.0],\n",
    "    [0.0, 0.0, 0.0, 0.0, 0.0],\n",
    "])\n",
    "from cv_helpers import visualize_single_channel\n",
    "visualize_single_channel(\"Image\", x_array)\n",
    "\n",
    "# Same thing!\n",
    "x_array = np.zeros((5, 5)) + 0.3\n",
    "# x_array[2][2] = 0.5\n",
    "x_array[2, 2] = 0.5 # <- can't do with Python lists\n",
    "visualize_single_channel(\"Image 2\", x_array[0:3, 0:3])\n",
    "# ***** End of your code *****\n"
   ]
  },
  {
   "cell_type": "markdown",
   "metadata": {},
   "source": [
    "#### NumPy Arrays: 3D\n",
    "\n",
    "What do 3D NumPy arrays look like? How do we index into them?"
   ]
  },
  {
   "cell_type": "code",
   "execution_count": 47,
   "metadata": {},
   "outputs": [
    {
     "name": "stdout",
     "output_type": "stream",
     "text": [
      "[[0.62881569 0.22015217 0.66593634 0.81520366 0.53295902]\n",
      " [0.59907851 0.14631969 0.67568894 0.80012884 0.11029535]\n",
      " [0.4568306  0.47478064 0.36757224 0.5119581  0.98103586]\n",
      " [0.56879924 0.45074464 0.00319013 0.92573071 0.62062956]\n",
      " [0.66460817 0.3313542  0.70758185 0.62926004 0.24947499]]\n",
      "[[0.62881569 0.22015217 0.66593634]\n",
      " [0.59907851 0.14631969 0.67568894]\n",
      " [0.4568306  0.47478064 0.36757224]]\n"
     ]
    },
    {
     "data": {
      "image/png": "[encoded data removed]",
      "text/plain": [
       "<Figure size 432x288 with 1 Axes>"
      ]
     },
     "metadata": {
      "needs_background": "light"
     },
     "output_type": "display_data"
    }
   ],
   "source": [
    "# ***** Start of your code *****\n",
    "\n",
    "# Create a 5x5x3 array with values between 0.0 and 1.0\n",
    "rgb_image = np.random.uniform(0.0, 1.0, size=(5, 5, 3))\n",
    "\n",
    "# Get first channel\n",
    "print(rgb_image[:, :, 0])\n",
    "\n",
    "# Get top left of image; first channel\n",
    "print(rgb_image[0:3, 0:3, 0])\n",
    "\n",
    "from cv_helpers import visualize_rgb\n",
    "visualize_rgb(\"Random RGB image\", rgb_image)\n",
    "\n",
    "# ***** End of your code *****"
   ]
  },
  {
   "cell_type": "code",
   "execution_count": null,
   "metadata": {},
   "outputs": [],
   "source": []
  }
 ],
 "metadata": {
  "kernelspec": {
   "display_name": "Python 3",
   "language": "python",
   "name": "python3"
  },
  "language_info": {
   "codemirror_mode": {
    "name": "ipython",
    "version": 3
   },
   "file_extension": ".py",
   "mimetype": "text/x-python",
   "name": "python",
   "nbconvert_exporter": "python",
   "pygments_lexer": "ipython3",
   "version": "3.7.6"
  }
 },
 "nbformat": 4,
 "nbformat_minor": 4
}
