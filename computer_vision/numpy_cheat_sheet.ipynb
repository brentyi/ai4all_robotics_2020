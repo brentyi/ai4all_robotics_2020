{
 "cells": [
  {
   "cell_type": "markdown",
   "metadata": {},
   "source": [
    "<header style=\"padding: 4em 0 0em 0\">\n",
    "    <img src=\"http://brentyi.github.io/filestore/ai4all_logo.svg\" style=\"width: 30em; height: auto; margin: 0;\" />\n",
    "    <h3 style=\"margin: 1em 0 0 0;\">\n",
    "        <strong>NumPy Syntax Cheat Sheet</strong>\n",
    "        <span style=\"color: #777\">\n",
    "        &nbsp;&blacksquare;&nbsp;\n",
    "        Robotics, Summer 2020</span>\n",
    "    </h3>\n",
    "</header>"
   ]
  },
  {
   "cell_type": "code",
   "execution_count": 1,
   "metadata": {},
   "outputs": [],
   "source": [
    "import numpy as np\n",
    "from cv_helpers import visualize_single_channel, visualize_rgb"
   ]
  },
  {
   "cell_type": "markdown",
   "metadata": {},
   "source": [
    "#### (Prerequisite) List Slicing\n",
    "\n",
    "We've seen retrieving single elements within lists -- what if we want multiple?"
   ]
  },
  {
   "cell_type": "code",
   "execution_count": 2,
   "metadata": {},
   "outputs": [
    {
     "name": "stdout",
     "output_type": "stream",
     "text": [
      "2\n",
      "[2, 3, 4]\n",
      "[1]\n",
      "[1, 2, 3, 4]\n",
      "[1, 2, 3, 4] [1, 2, 3, 4, 5]\n"
     ]
    }
   ],
   "source": [
    "# ~~START DELETE~~\n",
    "x = [1, 2, 3, 4]\n",
    "\n",
    "print(x[1]) # Get element at index 1\n",
    "print(x[1:]) # Get elements from index 1 to the end\n",
    "print(x[:1]) # Get elements up until index 1\n",
    "print(x[:]) # Get elements from beginning to end (returns a new list)\n",
    "\n",
    "\n",
    "y = x[:] # makes a copy!\n",
    "x.append(5)\n",
    "print(y, x)\n",
    "# ~~END DELETE~~"
   ]
  },
  {
   "cell_type": "markdown",
   "metadata": {},
   "source": [
    "#### NumPy Arrays: 1D\n",
    "\n",
    "What do 1D NumPy arrays look like? How do we index into them?"
   ]
  },
  {
   "cell_type": "code",
   "execution_count": 3,
   "metadata": {},
   "outputs": [
    {
     "name": "stdout",
     "output_type": "stream",
     "text": [
      "[1, 2, 3, 4]\n",
      "[1 2 3 4]\n",
      "1\n",
      "1\n",
      "[3, 4]\n",
      "[3 4]\n"
     ]
    }
   ],
   "source": [
    "# ~~START DELETE~~\n",
    "x = [1, 2, 3, 4]\n",
    "x_array = np.array([1, 2, 3, 4]) # Size is fixed!\n",
    "\n",
    "print(x)\n",
    "print(x_array)\n",
    "\n",
    "print(x[0])\n",
    "print(x_array[0])\n",
    "\n",
    "print(x[2:])\n",
    "print(x_array[2:])\n",
    "# ~~END DELETE~~"
   ]
  },
  {
   "cell_type": "markdown",
   "metadata": {},
   "source": [
    "#### Scalar Addition\n",
    "\n",
    "Given an array of numbers, how do we increase all of them by a scalar amount?"
   ]
  },
  {
   "cell_type": "code",
   "execution_count": 4,
   "metadata": {},
   "outputs": [
    {
     "name": "stdout",
     "output_type": "stream",
     "text": [
      "[5, 10, 15, 20]\n",
      "[ 5 10 15 20]\n"
     ]
    }
   ],
   "source": [
    "# ~~START DELETE~~\n",
    "x = [1, 2, 3, 4]\n",
    "for i in range(len(x)):\n",
    "    x[i] *= 5\n",
    "\n",
    "print(x)\n",
    "\n",
    "x = np.array([1, 2, 3, 4])\n",
    "x = x * 5\n",
    "print(x)\n",
    "# ~~END DELETE~~"
   ]
  },
  {
   "cell_type": "markdown",
   "metadata": {},
   "source": [
    "#### Element-wise Addition\n",
    "\n",
    "How do we add `[1, 2, 3, 4]` and `[0, 0, 2, 1]` element-wise, to produce `[1, 2, 5, 5]`?"
   ]
  },
  {
   "cell_type": "code",
   "execution_count": 5,
   "metadata": {},
   "outputs": [
    {
     "name": "stdout",
     "output_type": "stream",
     "text": [
      "[2, 2, 4, 4]\n",
      "[2 2 4 4]\n"
     ]
    }
   ],
   "source": [
    "# ~~START DELETE~~\n",
    "x = [1, 2, 3, 4]\n",
    "y = [1, 0, 1, 0]\n",
    "\n",
    "# x = [1 + 1, 2 + 0, 3 + 1, 4 + 0]\n",
    "for i in range(len(x)):\n",
    "    x[i] += y[i]\n",
    "\n",
    "print(x)\n",
    "\n",
    "x = np.array([1, 2, 3, 4])\n",
    "y = np.array([1, 0, 1, 0])\n",
    "x += y\n",
    "print(x)\n",
    "# ~~END DELETE~~"
   ]
  },
  {
   "cell_type": "markdown",
   "metadata": {},
   "source": [
    "#### Common Operations\n",
    "\n",
    "Given `[1, 2, 3, 4]`, how do we add all elements together?\n",
    "\n",
    "How do we square each value, to get `[1, 4, 9, 16]`?\n",
    "\n",
    "How do we negate each value, to get `[-1, -2, -3, -4]`?"
   ]
  },
  {
   "cell_type": "code",
   "execution_count": 6,
   "metadata": {},
   "outputs": [
    {
     "name": "stdout",
     "output_type": "stream",
     "text": [
      "10\n",
      "[ 1  4  9 16]\n",
      "2.5\n",
      "[-1 -2 -3 -4]\n"
     ]
    }
   ],
   "source": [
    "# ~~START DELETE~~\n",
    "\n",
    "x = np.array([1, 2, 3, 4])\n",
    "print(np.sum(x))\n",
    "print(x ** 2)\n",
    "print(np.mean(x))\n",
    "print(-x)\n",
    "\n",
    "# ~~END DELETE~~"
   ]
  },
  {
   "cell_type": "markdown",
   "metadata": {},
   "source": [
    "#### NumPy Arrays: 2D\n",
    "\n",
    "What do 2D NumPy arrays look like? How do we index into them?"
   ]
  },
  {
   "cell_type": "code",
   "execution_count": 7,
   "metadata": {},
   "outputs": [
    {
     "name": "stdout",
     "output_type": "stream",
     "text": [
      "[[0.0, 0.0, 0.0, 0.0, 0.0], [0.0, 0.0, 0.0, 0.0, 0.0], [0.0, 0.0, 0.0, 0.0, 0.0], [0.0, 0.0, 0.0, 0.0, 0.0], [0.0, 0.0, 0.0, 0.0, 0.0]]\n",
      "[[0. 0. 0. 0. 0.]\n",
      " [0. 0. 0. 0. 0.]\n",
      " [0. 0. 0. 0. 0.]\n",
      " [0. 0. 0. 0. 0.]\n",
      " [0. 0. 0. 0. 0.]]\n",
      "[[0. 0. 0. 0. 0.]\n",
      " [0. 0. 0. 0. 0.]\n",
      " [0. 0. 0. 0. 0.]\n",
      " [0. 0. 0. 0. 0.]\n",
      " [0. 0. 0. 0. 0.]]\n",
      "0.0\n",
      "[0. 0. 0. 0. 0.]\n",
      "[0. 0. 0. 0. 0.]\n",
      "[0. 0. 0. 0. 0.]\n"
     ]
    },
    {
     "data": {
      "image/png": "[encoded data removed]",
      "text/plain": [
       "<Figure size 432x288 with 1 Axes>"
      ]
     },
     "metadata": {
      "needs_background": "light"
     },
     "output_type": "display_data"
    }
   ],
   "source": [
    "# ~~START DELETE~~\n",
    "x = [\n",
    "    [0., 0., 0., 0., 0.],\n",
    "    [0., 0., 0., 0., 0.],\n",
    "    [0., 0., 0., 0., 0.],\n",
    "    [0., 0., 0., 0., 0.],\n",
    "    [0., 0., 0., 0., 0.],\n",
    "]\n",
    "x_array = np.array([\n",
    "    [0., 0., 0., 0., 0.],\n",
    "    [0., 0., 0., 0., 0.],\n",
    "    [0., 0., 0., 0., 0.],\n",
    "    [0., 0., 0., 0., 0.],\n",
    "    [0., 0., 0., 0., 0.],\n",
    "])\n",
    "x_array_alt = np.zeros(shape=(5, 5))\n",
    "\n",
    "# Printing\n",
    "print(x)\n",
    "print(x_array)\n",
    "print(x_array_alt)\n",
    "\n",
    "# Print an element\n",
    "print(x_array[2, 2])\n",
    "\n",
    "# Print a row\n",
    "print(x_array[2, :])\n",
    "print(x_array[2])\n",
    "\n",
    "# Print a row\n",
    "print(x_array[:, 2])\n",
    "\n",
    "visualize_single_channel(\"Grayscale Image\", x_array)\n",
    "# ~~END DELETE~~"
   ]
  },
  {
   "cell_type": "markdown",
   "metadata": {},
   "source": [
    "#### NumPy Arrays: 3D\n",
    "\n",
    "What do 3D NumPy arrays look like? How do we index into them?"
   ]
  },
  {
   "cell_type": "code",
   "execution_count": 11,
   "metadata": {},
   "outputs": [
    {
     "name": "stdout",
     "output_type": "stream",
     "text": [
      "[0.84086027 0.38782852 0.68074238]\n"
     ]
    },
    {
     "data": {
      "image/png": "[encoded data removed]",
      "text/plain": [
       "<Figure size 432x288 with 1 Axes>"
      ]
     },
     "metadata": {
      "needs_background": "light"
     },
     "output_type": "display_data"
    },
    {
     "data": {
      "image/png": "[encoded data removed]",
      "text/plain": [
       "<Figure size 432x288 with 1 Axes>"
      ]
     },
     "metadata": {
      "needs_background": "light"
     },
     "output_type": "display_data"
    }
   ],
   "source": [
    "# ~~START DELETE~~\n",
    "x_array = np.random.uniform(0.0, 1.0, size=(10, 10, 3))\n",
    "print(x_array[0, 0, :])\n",
    "visualize_rgb(\"Random Image\", x_array)\n",
    "visualize_single_channel(\"Red channel\", x_array[:, :, 0])\n",
    "# ~~END DELETE~~"
   ]
  }
 ],
 "metadata": {
  "kernelspec": {
   "display_name": "Python 3",
   "language": "python",
   "name": "python3"
  },
  "language_info": {
   "codemirror_mode": {
    "name": "ipython",
    "version": 3
   },
   "file_extension": ".py",
   "mimetype": "text/x-python",
   "name": "python",
   "nbconvert_exporter": "python",
   "pygments_lexer": "ipython3",
   "version": "3.7.6"
  }
 },
 "nbformat": 4,
 "nbformat_minor": 4
}
